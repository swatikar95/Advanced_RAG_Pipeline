{
 "cells": [
  {
   "cell_type": "code",
   "execution_count": 1,
   "metadata": {},
   "outputs": [],
   "source": [
    "import warnings\n",
    "warnings.filterwarnings('ignore')"
   ]
  },
  {
   "cell_type": "code",
   "execution_count": 2,
   "metadata": {},
   "outputs": [
    {
     "name": "stdout",
     "output_type": "stream",
     "text": [
      "hello\n"
     ]
    }
   ],
   "source": [
    "import os\n",
    "# import utils\n",
    "import openai\n",
    "from dotenv import load_dotenv\n",
    "\n",
    "load_dotenv()\n",
    "print(\"hello\")"
   ]
  },
  {
   "cell_type": "code",
   "execution_count": 3,
   "metadata": {},
   "outputs": [
    {
     "name": "stdout",
     "output_type": "stream",
     "text": [
      "🦑 Tru initialized with db url sqlite:///default.sqlite .\n",
      "🛑 Secret keys may be written to the database. See the `database_redact_keys` option of Tru` to prevent this.\n"
     ]
    }
   ],
   "source": [
    "from trulens_eval import Tru\n",
    "\n",
    "tru = Tru()\n",
    "tru.reset_database()"
   ]
  },
  {
   "cell_type": "code",
   "execution_count": 4,
   "metadata": {},
   "outputs": [],
   "source": [
    "from llama_index.core import SimpleDirectoryReader\n",
    "from llama_index.core import Document\n",
    "\n",
    "documents = SimpleDirectoryReader(\n",
    "    input_files=[\"./eBook-How-to-Build-a-Career-in-AI.pdf\"]\n",
    ").load_data()"
   ]
  },
  {
   "cell_type": "code",
   "execution_count": 5,
   "metadata": {},
   "outputs": [
    {
     "name": "stdout",
     "output_type": "stream",
     "text": [
      "<class 'list'> \n",
      "\n",
      "41 \n",
      "\n",
      "<class 'llama_index.core.schema.Document'>\n",
      "Doc ID: 1362f3f5-f526-441d-bf38-ee093155f956\n",
      "Text: PAGE 1Founder, DeepLearning.AICollected Insights from Andrew Ng\n",
      "How to  Build Your Career in AIA Simple Guide\n"
     ]
    }
   ],
   "source": [
    "print(type(documents), \"\\n\")\n",
    "print(len(documents), \"\\n\")\n",
    "print(type(documents[0]))\n",
    "print(documents[0])"
   ]
  },
  {
   "cell_type": "markdown",
   "metadata": {},
   "source": [
    "### Auto-merging Retrieval Setup"
   ]
  },
  {
   "cell_type": "code",
   "execution_count": 6,
   "metadata": {},
   "outputs": [],
   "source": [
    "from llama_index.core import Document\n",
    "document = Document(text=\"\\n\\n\".join([doc.text for doc in documents]))"
   ]
  },
  {
   "cell_type": "code",
   "execution_count": 8,
   "metadata": {},
   "outputs": [],
   "source": [
    "from llama_index.core.node_parser import HierarchicalNodeParser\n",
    "\n",
    "#any decreasing order of chunk size\n",
    "node_parser = HierarchicalNodeParser.from_defaults(\n",
    "    chunk_sizes=[2048,512,128]\n",
    ")"
   ]
  },
  {
   "cell_type": "code",
   "execution_count": 16,
   "metadata": {},
   "outputs": [
    {
     "data": {
      "text/plain": [
       "[TextNode(id_='11a601b9-bc15-4e70-998b-d681a815dfb6', embedding=None, metadata={}, excluded_embed_metadata_keys=[], excluded_llm_metadata_keys=[], relationships={<NodeRelationship.SOURCE: '1'>: RelatedNodeInfo(node_id='bea66d11-0adb-4b7f-91af-d817b33e6ea4', node_type=<ObjectType.DOCUMENT: '4'>, metadata={}, hash='fdc7ce9a017ce62d4e0b30cc419051a9bb56618a8569f51a2b64f8535fe6244e'), <NodeRelationship.NEXT: '3'>: RelatedNodeInfo(node_id='198ef407-22c3-417c-9689-4ba87bceb1cf', node_type=<ObjectType.TEXT: '1'>, metadata={}, hash='601594bb882270ad63b4547797595e35b471287cec74dcc07134629cbb7d71f5'), <NodeRelationship.CHILD: '5'>: [RelatedNodeInfo(node_id='fdc32283-d4b7-4a93-82a4-616f1aef29ee', node_type=<ObjectType.TEXT: '1'>, metadata={}, hash='2b4de016a7c855ab9278e03c30a440bb34e81a1ea68fd3225250abf084e52330'), RelatedNodeInfo(node_id='7c093177-af0f-42e4-840c-afa702938296', node_type=<ObjectType.TEXT: '1'>, metadata={}, hash='0c8c4015b5079720c9a99a811c9a8888c9f8ee3b9265eec5507fee681025f69c'), RelatedNodeInfo(node_id='adc48bfa-ab85-4c35-8f33-b13fd923e2ec', node_type=<ObjectType.TEXT: '1'>, metadata={}, hash='64dd0fc90631c2e2b2fd38c5c9689c7b600fa830ede71f794c5d9bcf23dce860'), RelatedNodeInfo(node_id='6c0bee27-a938-4031-b450-f2bbe5f137cd', node_type=<ObjectType.TEXT: '1'>, metadata={}, hash='55bc135e5090691b219b2ac617e8e31549c7f346bac85fe72557c3c5fa640d90'), RelatedNodeInfo(node_id='a0419fef-eed1-4802-bb74-1d3973383f41', node_type=<ObjectType.TEXT: '1'>, metadata={}, hash='14640178e88615cf1e8457f6a6940d64b07c00ad61553b765e85b8207417c7d5')]}, text='PAGE 1Founder, DeepLearning.AICollected Insights\\nfrom Andrew Ng\\nHow to \\nBuild\\nYour\\nCareer\\nin AIA Simple Guide\\n\\n\\nPAGE 2\"AI is the new \\nelectricity. It will \\ntransform and improve \\nall areas of human life.\"\\nAndrew Ng\\n\\nPAGE 3Table of \\nContentsIntroduction: Coding AI is the New Literacy.\\nChapter 1: Three Steps to Career Growth.\\nChapter 2: Learning Technical Skills for a \\nPromising AI Career.\\nChapter 3: Should You Learn Math to Get a Job \\nin AI?\\nChapter 4: Scoping Successful AI Projects.\\nChapter 5: Finding Projects that Complement \\nYour Career Goals.\\nChapter 6: Building a Portfolio of Projects that \\nShows Skill Progression.\\nChapter 7: A Simple Framework for Starting Your AI \\nJob Search.\\nChapter 8: Using Informational Interviews to Find \\nthe Right Job.\\nChapter 9: Finding the Right AI Job for You.\\nChapter 10: Keys to Building a Career in AI.\\nChapter 11: Overcoming Imposter Syndrome.\\nFinal Thoughts: Make Every Day Count.LEARNING\\nPROJECTS\\nJOB\\n\\nPAGE 4Coding AI Is the New Literacy\\nToday we take it for granted that many people know how to read and write. Someday, I hope, \\nit will be just as common that people know how to write code, specifically for AI.\\nSeveral hundred years ago, society didn’t view language literacy as a necessary skill. A small \\nnumber of people learned to read and write, and everyone else let them do the reading and \\nwriting. It took centuries for literacy to spread, and now society is far richer for it.\\nWords enable deep human-to-human communication. Code is the deepest form of human-to-\\nmachine communication. As machines become more central to daily life, that communication \\nbecomes ever more important.\\nTraditional software engineering — writing programs that explicitly tell a computer sequences \\nof steps to execute — has been the main path to code literacy. Many introductory programming \\nclasses use creating a video game or building a website as examples. But AI, machine learning, \\nand data science offer a new paradigm in which computers extract knowledge from data. This \\ntechnology offers an even better pathway to coding.\\nMany Sundays, I buy a slice of pizza from my neighborhood pizza parlor. The gentleman \\nbehind the counter has little reason to learn how to build a video game or write his own \\nwebsite software (beyond personal growth and the pleasure of gaining a new skill).\\nBut AI and data science have great value even for a pizza maker. A linear regression model might \\nenable him to better estimate demand so he can optimize the restaurant’s staffing and supply \\nchain. He could better predict sales of Hawaiian pizza — my favorite! — so he could make more \\nHawaiian pies in advance and reduce the amount of time customers had to wait for them.\\nUses of AI and data science can be found in almost any situation that produces data.  Thus, \\na wide variety of professions will find more uses for custom AI applications and data-derived \\ninsights than for traditional software engineering. This makes literacy in AI-oriented coding \\neven more valuable than traditional coding. It could enable countless individuals to harness \\ndata to make their lives richer.\\nI hope the promise of building basic AI applications, even more than that of building basic \\ntraditional software, encourages more people to learn how to code. If society embraces this \\nnew form of literacy as it has the ability to read and write, we will all benefit.Introduction\\n\\nPAGE 5Three Steps to \\nCareer GrowthCHAPTER 1\\n\\nPAGE 6The rapid rise of AI has led to a rapid rise in AI jobs, and many people are building exciting \\ncareers in this field. A career is a decades-long journey, and the path is not straightforward. \\nOver many years, I’ve been privileged to see thousands of students, as well as engineers in \\ncompanies large and small, navigate careers in AI.\\n \\nHere’s a framework for charting your own course.\\nLater, you will work \\non finding a job. \\nThroughout this \\nprocess, you’ll continue \\nto learn and work on \\nmeaningful projects. \\nChapters with the\\nfocus on a job search.Three key steps of career growth are learning foundational skills, working on projects (to \\ndeepen your skills, build a portfolio, and create impact), and finding a job. These steps stack \\non top of each other:Three Steps to Career Growth\\nLEARNING PROJECTS JOBCHAPTER 1\\nInitially, you \\nfocus on learning \\nfoundational skills. \\nChapters with the \\ncover topics about \\nlearning foundational \\ntechnical skills. After having gained \\nfoundational technical \\nskills, you will begin \\nworking on projects. \\nDuring this period, you’ll \\nalso keep learning. \\nChapters with the     \\nfocus on projects. \\n\\nPAGE 7These phases apply in a wide \\nrange of professions, but AI \\ninvolves unique elements.\\nFor example:Three Steps to Career Growth\\nAI is nascent, and many technologies are still evolving. While the \\nfoundations of machine learning and deep learning are maturing — \\nand coursework is an efficient way to master them — beyond these \\nfoundations, keeping up-to-date with changing technology is more \\nimportant in AI than fields that are more mature.Learning foundational skills is a career-long process:\\nThis can make it challenging to find a suitable project, estimate the project’s \\ntimeline and return on investment, and set expectations. In addition, the \\nhighly iterative nature of AI projects leads to special challenges in project \\nmanagement: How can you come up with a plan for building a system \\nwhen you don’t know in advance how long it will take to achieve the target \\naccuracy? Even after the system has hit the target, further iteration may \\nbe necessary to address post-deployment drift.Working on projects often means collaborating with \\nstakeholders who lack expertise in AI:\\nWhile searching for a job in AI can be similar to searching for a job in \\nother sectors, there are also important differences. Many companies are \\nstill trying to figure out which AI skills they need, and how to hire people \\nwho have them. Things you’ve worked on may be significantly different \\nthan anything your interviewer has seen, and you’re more likely to have to \\neducate potential employers about some elements of your work.Inconsistent opinions on AI skills and jobs roles: CHAPTER 1\\nAs you go through each step, you should also build a supportive community. Having friends and \\nallies who can help you — and who you strive to help — makes the path easier. This is true whether \\nyou’re taking your first steps or you’ve been on the journey for years.LEARNING\\nPROJECTS\\nJOB\\n\\nPAGE 8Learning Technical \\nSkills for a Promising \\nAI CareerCHAPTER 2\\nLEARNING\\n\\nPAGE 9In the previous chapter, I introduced three key steps for building a career in AI: learning \\nfoundational technical skills, working on projects, and finding a job, all of which is supported \\nby being part of a community. In this chapter, I’d like to dive more deeply into the first step: \\nlearning foundational skills.\\nMore research papers have been published on AI than anyone can read in a lifetime. So, when \\nlearning, it’s critical to prioritize topic selection. I believe the most important topics for a technical \\ncareer in machine learning are:\\nFoundational machine learning skills: For example, it’s important to understand models such \\nas linear regression, logistic regression, neural networks, decision trees, clustering, and anomaly \\ndetection. Beyond specific models, it’s even more important to understand the core concepts \\nbehind how and why machine learning works, such as bias/variance, cost functions, regularization, \\noptimization algorithms, and error analysis.\\nDeep learning: This has become such a large fraction of machine learning that it’s hard to excel \\nin the field without some understanding of it! It’s valuable to know the basics of neural networks, \\npractical skills for making them work (such as hyperparameter tuning), convolutional networks, \\nsequence models, and transformers.\\nSoftware development: While you can get a job and make huge contributions with only machine \\nlearning modeling skills, your job opportunities will increase if you can also write good software \\nto implement complex AI systems. These skills include programming fundamentals, data \\nstructures (especially those that relate to machine learning, such as data frames), algorithms \\n(including those related to databases and data manipulation), software design, familiarity with \\nPython, and familiarity with key libraries such as TensorFlow or PyTorch, and scikit-learn.Math relevant to machine learning:  Key areas include linear algebra (vectors, matrices, and various \\nmanipulations of them) as well as probability and statistics (including discrete and continuous \\nprobability, standard probability distributions, basic rules such as independence and Bayes’ rule, \\nand hypothesis testing). In addition, exploratory data analysis (EDA) — using visualizations and other \\nmethods to systematically explore a dataset — is an underrated skill. I’ve found EDA particularly \\nuseful in data-centric AI development, where analyzing errors and gaining insights can really help \\ndrive progress! Finally, a basic intuitive understanding of calculus will also help. The math needed \\nto do machine learning well has been changing. For instance, although some tasks require calculus, \\nimproved automatic differentiation software makes it possible to invent and implement new neural \\nnetwork architectures without doing any calculus. This was almost impossible a decade ago.Learning Technical Skills For a Promising AI Career CHAPTER 2\\n\\nPAGE 10This is a lot to learn!\\nEven after you master everything on this list, I hope you’ll keep learning and continue to deepen \\nyour technical knowledge.', start_char_idx=0, end_char_idx=9642, text_template='{metadata_str}\\n\\n{content}', metadata_template='{key}: {value}', metadata_seperator='\\n'),\n",
       " TextNode(id_='198ef407-22c3-417c-9689-4ba87bceb1cf', embedding=None, metadata={}, excluded_embed_metadata_keys=[], excluded_llm_metadata_keys=[], relationships={<NodeRelationship.SOURCE: '1'>: RelatedNodeInfo(node_id='bea66d11-0adb-4b7f-91af-d817b33e6ea4', node_type=<ObjectType.DOCUMENT: '4'>, metadata={}, hash='fdc7ce9a017ce62d4e0b30cc419051a9bb56618a8569f51a2b64f8535fe6244e'), <NodeRelationship.PREVIOUS: '2'>: RelatedNodeInfo(node_id='11a601b9-bc15-4e70-998b-d681a815dfb6', node_type=<ObjectType.TEXT: '1'>, metadata={}, hash='ca808147637aacdcde984c2d939688b195fa1f524f12de397070b0376c3e11e1'), <NodeRelationship.NEXT: '3'>: RelatedNodeInfo(node_id='730443c9-d17f-4100-8197-f9a8d4cc56d5', node_type=<ObjectType.TEXT: '1'>, metadata={}, hash='6525a8bf3daffcab2f741474233c2b987fdc366b65852e3989732546ef9f0662'), <NodeRelationship.CHILD: '5'>: [RelatedNodeInfo(node_id='f0d0108f-1992-4fa2-b797-fffda5f6fbdc', node_type=<ObjectType.TEXT: '1'>, metadata={}, hash='cb4c216fded5d5258bf4fb352121443eb896ff2732c38e0e8dedeada953d7a10'), RelatedNodeInfo(node_id='e939254d-311d-4c6e-9a6b-be90eeee84e5', node_type=<ObjectType.TEXT: '1'>, metadata={}, hash='ebd4557da69dee37065183d67e81e977b302f5ab630b89052471cd5ff56ba048'), RelatedNodeInfo(node_id='ba28ee1a-39a4-4d2b-817b-740edfce76f5', node_type=<ObjectType.TEXT: '1'>, metadata={}, hash='98314ce0f3a5c32ecb1dc140537a07f2bc149091078deea709f34e1812e5e67d'), RelatedNodeInfo(node_id='309b29e4-8ee0-4954-8117-b9646f05f795', node_type=<ObjectType.TEXT: '1'>, metadata={}, hash='4b0045e4377b0ee06a6fdef8b0eb0d04a975b57dc4e61130b24c4e7fc272a35d'), RelatedNodeInfo(node_id='5fa264d3-2a7f-4911-8d0f-70e519220f6e', node_type=<ObjectType.TEXT: '1'>, metadata={}, hash='d6790adaae5a7c3e5228dbf1b49fbecd08df8686dfa0e5430d0c62081d68d605')]}, text='I’ve known many machine learning engineers who benefitted from \\ndeeper skills in an application area such as natural language processing or computer vision, or in \\na technology area such as probabilistic graphical models or building scalable software systems.\\nHow do you gain these skills? There’s a lot of good content on the internet, and in theory, \\nreading dozens of web pages could work. But when the goal is deep understanding, reading \\ndisjointed web pages is inefficient because they tend to repeat each other, use inconsistent \\nterminology (which slows you down), vary in quality, and leave gaps. That’s why a good course \\n— in which a body of material has been organized into a coherent and logical form — is often the \\nmost time-efficient way to master a meaningful body of knowledge. When you’ve absorbed the \\nknowledge available in courses, you can switch over to research papers and other resources.\\nFinally, no one can cram everything they need to know over a weekend or even a month. Everyone I \\nknow who’s great at machine learning is a lifelong learner. Given how quickly our field is changing, \\nthere’s little choice but to keep learning if you want to keep up.\\nHow can you maintain a steady pace of learning for years? If you can cultivate the habit of \\nlearning a little bit every week, you can make significant progress with what feels like less effort.Learning Technical Skills For a Promising AI Career CHAPTER 2\\n\\n\\nPAGE 11\\nThe Best Way to Build \\na New Habit\\nOne of my favorite books is BJ Fogg’s, Tiny Habits: The Small Changes That Change \\nEverything. Fogg explains that the best way to build a new habit is to start small \\nand succeed, rather than start  too big and fail. For example, rather than trying to \\nexercise for 30 minutes a day, he recommends aspiring to do just one push-up, and \\ndoing it consistently.\\nThis approach may be helpful to those of you who want to spend more time studying. \\nIf you start by holding yourself accountable for watching, say, 10 seconds of an \\neducational video every day — and you do so consistently — the habit of studying daily \\nwill grow naturally. Even if you learn nothing in that 10 seconds, you’re establishing the \\nhabit of studying a little every day. On some days, maybe you’ll end up studying for an \\nhour or longer.\\n\\nPAGE 12Should You \\nLearn Math to \\nGet a Job in AI? CHAPTER 3\\nLEARNING\\n\\nPAGE 13Should you Learn Math to Get a Job in AI? CHAPTER 3\\nIs math a foundational skill for AI? It’s always nice to know more math! But there’s so much to \\nlearn that, realistically, it’s necessary to prioritize. Here’s how you might go about strengthening \\nyour math background.\\nTo figure out what’s important to know, I find it useful to ask what you need to know to make \\nthe decisions required for the work you want to do. At DeepLearning.AI, we frequently ask, \\n“What does someone need to know to accomplish their goals?” The goal might be building a \\nmachine learning model, architecting a system, or passing a job interview.\\nUnderstanding the math behind algorithms you use is often helpful, since it enables you to \\ndebug them. But the depth of knowledge that’s useful changes over time. As machine learning \\ntechniques mature and become more reliable and turnkey, they require less debugging, and a \\nshallower understanding of the math involved may be sufficient to make them work.\\nFor instance, in an earlier era of machine learning, linear algebra libraries for solving linear \\nsystems of equations (for linear regression) were immature. I had to understand how these \\nlibraries worked so I could choose among different libraries and avoid numerical roundoff \\npitfalls. But this became less important as numerical linear algebra libraries matured.\\nDeep learning is still an emerging technology, so when you train a neural network and the \\noptimization algorithm struggles to converge, understanding the math behind gradient \\ndescent, momentum, and the Adam  optimization algorithm will help you make better decisions. \\nSimilarly, if your neural network does something funny — say, it makes bad predictions on \\nimages of a certain resolution, but not others — understanding the math behind neural network \\narchitectures puts you in a better position to figure out what to do.\\nOf course, I also encourage learning driven by curiosity. If something interests you, go ahead \\nand learn it regardless of how useful it might turn out to be!  Maybe this will lead to a creative \\nspark or technical breakthrough.How much math do you need to know to be a machine learning engineer?\\n\\nPAGE 14Scoping Successful \\nAI ProjectsCHAPTER 4\\nPROJECTS\\n\\nPAGE 15One of the most important skills of an AI architect is the ability to identify ideas that are worth \\nworking on. These next few chapters will discuss finding and working on projects so you can gain \\nexperience and build your portfolio. \\nOver the years, I’ve had fun applying machine learning to manufacturing, healthcare, climate \\nchange, agriculture, ecommerce, advertising, and other industries. How can someone who’s not \\nan expert in all these sectors find meaningful projects within them? Here are five steps to help \\nyou scope projects.\\nIdentify a business problem (not an AI problem). I like to find \\na domain expert and ask, “What are the top three things \\nthat you wish worked better? Why aren’t they working yet?” \\nFor example, if you want to apply AI to climate change, you \\nmight discover that power-grid operators can’t accurately \\npredict how much power intermittent sources like wind \\nand solar might generate in the future.\\nBrainstorm AI solutions. When I was younger, I used to \\nexecute on the first idea I was excited about. Sometimes \\nthis worked out okay, but sometimes I ended up missing \\nan even better idea that might not have taken any more \\neffort to build. Once you understand a problem, you can \\nbrainstorm potential solutions more efficiently. For instance, \\nto predict power generation from intermittent sources, we \\nmight consider using satellite imagery to map the locations \\nof wind turbines more accurately, using satellite imagery \\nto estimate the height and generation capacity of wind \\nturbines, or using weather data to better predict cloud cover \\nand thus solar irradiance. Sometimes there isn’t a good AI \\nsolution, and that’s okay too.Scoping Successful AI Projects CHAPTER 4\\nStep 1\\nStep 2\\n\\n\\nPAGE 16Determine milestones. Once you’ve deemed a project sufficiently \\nvaluable, the next step is to determine the metrics to aim for. This \\nincludes both machine learning metrics (such as accuracy) and \\nbusiness metrics (such as revenue). Machine learning teams are often \\nmost comfortable with metrics that a learning algorithm can optimize. \\nBut we may need to stretch outside our comfort zone to come up \\nwith business metrics, such as those related to user engagement, \\nrevenue, and so on. Unfortunately, not every business problem can be \\nreduced to optimizing test set accuracy! If you aren’t able to determine \\nreasonable milestones, it may be a sign that you need to learn more \\nabout the problem. A quick proof of concept can help supply the \\nmissing perspective.Assess the feasibility and value of potential solutions. You can determine \\nwhether an approach is technically feasible by looking at published work, \\nwhat competitors have done, or perhaps building a quick proof of concept \\nimplementation. You can determine its value by consulting with domain \\nexperts (say, power-grid operators, who can advise on the utility of the \\npotential solutions mentioned above).\\nBudget for resources. Think through everything you’ll need to get the \\nproject done including data, personnel, time, and any integrations or \\nsupport you may need from other teams. For example, if you need funds \\nto purchase satellite imagery, make sure that’s in the budget.\\nWorking on projects is an iterative process. If, at any step, you find that the current direction is \\ninfeasible, return to an earlier step and proceed with your new understanding. Is there a domain \\nthat excites you where AI might make a difference? I hope these steps will guide you in exploring it \\nthrough project work — even if you don’t yet have deep expertise in that field. AI won’t solve every \\nproblem, but as a community, let’s look for ways to make a positive impact wherever we can.Scoping Successful AI Projects CHAPTER 4\\nStep 3\\nStep 4\\nStep 5\\n\\nPAGE 17Finding Projects that \\nComplement Your \\nCareer GoalsCHAPTER 5\\nPROJECTS\\n\\nPAGE 18It goes without saying that we should only work on projects that are responsible, ethical, and \\nbeneficial to people. But those limits leave a large variety to choose from. In the previous chapter, \\nI wrote about how to identify and scope AI projects. This chapter and the next have a slightly \\ndifferent emphasis: picking and executing projects with an eye toward career development.\\nA fruitful career will include many projects, hopefully growing in scope, complexity, and impact \\nover time. Thus, it is fine to start small. Use early projects to learn and gradually step up to \\nbigger projects as your skills grow.\\nWhen you’re starting out, don’t expect others to hand great ideas or resources to you on a platter. \\nMany people start by working on small projects in their spare time. With initial successes — even \\nsmall ones — under your belt, your growing skills increase your ability to come up with better \\nideas, and it becomes easier to persuade others to help you step up to bigger projects.Finding Projects that Compliment Your Career Goals CHAPTER 5\\nJoin existing projects. If you find someone else with an idea, ask to join their project.', start_char_idx=9643, end_char_idx=19241, text_template='{metadata_str}\\n\\n{content}', metadata_template='{key}: {value}', metadata_seperator='\\n'),\n",
       " TextNode(id_='730443c9-d17f-4100-8197-f9a8d4cc56d5', embedding=None, metadata={}, excluded_embed_metadata_keys=[], excluded_llm_metadata_keys=[], relationships={<NodeRelationship.SOURCE: '1'>: RelatedNodeInfo(node_id='bea66d11-0adb-4b7f-91af-d817b33e6ea4', node_type=<ObjectType.DOCUMENT: '4'>, metadata={}, hash='fdc7ce9a017ce62d4e0b30cc419051a9bb56618a8569f51a2b64f8535fe6244e'), <NodeRelationship.PREVIOUS: '2'>: RelatedNodeInfo(node_id='198ef407-22c3-417c-9689-4ba87bceb1cf', node_type=<ObjectType.TEXT: '1'>, metadata={}, hash='601594bb882270ad63b4547797595e35b471287cec74dcc07134629cbb7d71f5'), <NodeRelationship.NEXT: '3'>: RelatedNodeInfo(node_id='7bc0ccab-9fe7-45f9-9141-5a20545fbf65', node_type=<ObjectType.TEXT: '1'>, metadata={}, hash='0000e7f97d6f41ec2cda7edf4064ec596ee44ba60cf37a7a3f93ddfdb49ed220'), <NodeRelationship.CHILD: '5'>: [RelatedNodeInfo(node_id='cf7b7040-37e8-434a-bea5-131dc5ee1c66', node_type=<ObjectType.TEXT: '1'>, metadata={}, hash='4b58698edfde4b6bf1c900cc32c13fd7cf68fae23a3551179b78c7b51707e1bf'), RelatedNodeInfo(node_id='3649d508-4680-417c-9e94-dab8c0421232', node_type=<ObjectType.TEXT: '1'>, metadata={}, hash='34a2a7b0b563696b606b0bfbdd64588c08d29bb43794a74f473337dee137e700'), RelatedNodeInfo(node_id='b2dd99be-4023-4aad-ab06-57ff07dbe323', node_type=<ObjectType.TEXT: '1'>, metadata={}, hash='cde815b5e9553cbd74df690c4396a98b85b2856a9015df3284a735ffae25f533'), RelatedNodeInfo(node_id='90dc8133-b25e-45f2-8da8-df47de75ab95', node_type=<ObjectType.TEXT: '1'>, metadata={}, hash='000667d782fb549a3fe0446b30f5510de245f0f4926fe090956c576176eceb8d'), RelatedNodeInfo(node_id='e7970447-69c3-4bd1-b562-8f3b47de633e', node_type=<ObjectType.TEXT: '1'>, metadata={}, hash='5f1120cd9bf6a6d9596183d6c16f4cc893e31e95b4b3b57b9ce407f5afa8d76a')]}, text=\"If you find someone else with an idea, ask to join their project.\\nKeep reading and talking to people. I come up with new ideas whenever I spend a lot of \\ntime reading, taking courses, or talking with domain experts. I’m confident that you will, too.\\nFocus on an application area. Many researchers are trying to advance basic AI technology \\n— say, by inventing the next generation of transformers or further scaling up language \\nmodels — so, while this is an exciting direction, it is also very hard. But the variety of \\napplications to which machine learning has not yet been applied is vast! I’m fortunate to \\nhave been able to apply neural networks to everything from autonomous helicopter flight to \\nonline advertising, partly because I jumped in when relatively few people were working on \\nthose applications. If your company or school cares about a particular application, explore \\nthe possibilities for machine learning. That can give you a first look at a potentially creative \\napplication — one where you can do unique work — that no one else has done yet.✓\\n✓\\n✓What if you don’t have any project ideas?\\nHere are a few ways to generate them:\\n\\nPAGE 19Develop a side hustle. Even if you have a full-time job, a fun project that may or may not \\ndevelop into something bigger can stir the creative juices and strengthen bonds with \\ncollaborators. When I was a full-time professor, working on online education wasn’t part of \\nmy “job” (which was doing research and teaching classes). It was a fun hobby that I often \\nworked on out of passion for education. My early experiences in recording videos at home \\nhelped me later in working on online education in a more substantive way. Silicon Valley \\nabounds with stories of startups that started as side projects. As long as it doesn’t create a \\nconflict with your employer, these projects can be a stepping stone to something significant.\\nWill the project help you grow technically? Ideally, it should be challenging enough to \\nstretch your skills but not so hard that you have little chance of success. This will put you \\non a path toward mastering ever-greater technical complexity.\\nDo you have good teammates to work with? If not, are there people you can discuss things \\nwith? We learn a lot from the people around us, and good collaborators will have a huge \\nimpact on your growth.\\nCan it be a stepping stone?  If the project is successful, will its technical complexity and/\\nor business impact make it a meaningful stepping stone to larger projects? If the project \\nis bigger than those you’ve worked on before, there’s a good chance it could be such a \\nstepping stone.✓\\n✓\\n✓\\n✓Given a few project ideas, which one should you jump into? \\nHere’s a quick checklist of factors to consider:\\nFinally, avoid analysis paralysis. It doesn’t make sense to spend a month deciding whether to \\nwork on a project that would take a week to complete. You'll work on multiple projects over \\nthe course of your career, so you’ll have ample opportunity to refine your thinking on what’s \\nworthwhile. Given the huge number of possible AI projects, rather than the conventional “ready, \\naim, fire” approach, you can accelerate your progress with “ready, fire, aim.”Finding Projects that Compliment Your Career Goals CHAPTER 5\\n\\nPAGE 20Working on projects requires making tough choices about what to build and how to go \\nabout it. Here are two distinct styles:\\nSay you’ve built a customer-service chatbot for retailers, and you think it could help restaurants, \\ntoo. Should you take time to study the restaurant market before starting development, moving \\nslowly but cutting the risk of wasting time and resources? Or jump in right away, moving \\nquickly and accepting a higher risk of pivoting or failing?\\nBoth approaches have their advocates, and the best choice depends on the situation.\\nReady, Aim, Fire tends to be superior when the cost of execution is high and a study can shed \\nlight on how useful or valuable a project could be. For example, if you can brainstorm a few \\nother use cases (restaurants, airlines, telcos, and so on) and evaluate these cases to identify \\nthe most promising one, it may be worth taking the extra time before committing to a direction.\\nReady, Fire, Aim tends to be better if you can execute at low cost and, in doing so, determine \\nwhether the direction is feasible and discover tweaks that will make it work. For example, if \\nyou can build a prototype quickly to figure out if users want the product, and if canceling or \\npivoting after a small amount of work is acceptable, then it makes sense to consider jumping \\nin quickly. When taking a shot is inexpensive, it also makes sense to take many shots. In this \\ncase, the process is actually Ready, Fire, Aim, Fire, Aim, Fire, Aim, Fire. \\nAfter agreeing upon a project direction, when it comes to building a machine learning model \\nthat’s part of the product, I have a bias toward Ready, Fire, Aim. Building models is an iterative \\nprocess. For many applications, the cost of training and conducting error analysis is not \\nprohibitive. Furthermore, it is very difficult to carry out a study that will shed light on the \\nappropriate model, data, and hyperparameters. So it makes sense to build an end-to-end \\nsystem quickly and revise it until it works well.\\nBut when committing to a direction means making a costly investment or entering a one-\\nway door  (meaning a decision that’s hard to reverse), it’s often worth spending more time in \\nadvance to make sure it really is a good idea.Ready, Fire, Aim\\nReady, Aim, Fire: Plan carefully and carry out careful validation. Commit and \\nexecute only when you have a high degree of confidence in a direction.\\nReady, Fire, Aim: Jump into development and start executing. This allows you to \\ndiscover problems quickly and pivot along the way if necessary.✓\\n✓\\n\\nPAGE 21Building a Portfolio of \\nProjects that Shows \\nSkill Progression CHAPTER 6\\nPROJECTS\\n\\nPAGE 22Over the course of a career, you’re likely to work on projects in succession, each growing in \\nscope and complexity. For example:\\nThe first few projects might be narrowly scoped \\nhomework assignments with predetermined right \\nanswers. These are often great learning experiences!\\nEventually, you will gain enough skill to build projects in \\nwhich others see more tangible value. This opens the door \\nto more resources. For example, rather than developing \\nmachine learning systems in your spare time, it might \\nbecome part of your job, and you might gain access to more \\nequipment, compute time, labeling budget, or head count.You might go on to work on small-scale projects either alone or with friends. \\nFor instance, you might re-implement a known algorithm, apply machine \\nlearning to a hobby (such as predicting whether your favorite sports team \\nwill win), or build a small but useful system at work in your spare time (such \\nas a machine learning-based script that helps a colleague automate some of \\ntheir work). Participating in competitions such as those organized by Kaggle \\nis also one way to gain experience.\\nSuccesses build on each other, opening the door to \\nmore technical growth, more resources, and increasingly \\nsignificant project opportunities.1. Class projects:\\n3. Creating value2. Personal projects\\n4. Rising scope and complexityBuilding a Portfolio of Projects That Shows Skill Progression CHAPTER 6\\n\\nPAGE 23Each project is only one step on a longer journey, hopefully one that has a positive impact. In addition:\\nDon’t worry about starting too small. One of my first machine learning research projects involved \\ntraining a neural network to see how well it could mimic the sin(x) function. It wasn’t very useful, but \\nwas a great learning experience that enabled me to move on to bigger projects.\\nBuilding a portfolio of projects, especially one \\nthat shows progress over time from simple to \\ncomplex undertakings, will be a big help when \\nit comes to looking for a job.Communication is key.  You need to be able to explain your thinking if you want others to see \\nthe value in your work and trust you with resources that you can invest in larger projects. To get \\na project started, communicating the value of what you hope to build will help bring colleagues, \\nmentors, and managers onboard — and help them point out flaws in your reasoning. After you’ve \\nfinished, the ability to explain clearly what you accomplished will help convince others to open the \\ndoor to larger projects.\\nLeadership isn’t just for managers.  When you reach the point of working on larger AI projects that \\nrequire teamwork, your ability to lead projects will become more important, whether or not you are \\nin a formal position of leadership. Many of my friends have successfully pursued a technical rather \\nthan managerial career, and their ability to help steer a project by applying deep technical insights \\n— for example, when to invest in a new technical architecture or collect more data of a certain type \\n— allowed them to grow as leaders and also helped significantly improve the project.Building a Portfolio of Projects That Shows Skill Progression CHAPTER 6\\n\\nPAGE 24A Simple Framework \\nfor Starting Your AI \\nJob SearchCHAPTER 7\\nJOBS\\n\\nPAGE 25Finding a job has a few predictable steps that include selecting the companies to which you \\nwant to apply, preparing for interviews, and finally picking a role and negotiating a salary and \\nbenefits.\", start_char_idx=19176, end_char_idx=28550, text_template='{metadata_str}\\n\\n{content}', metadata_template='{key}: {value}', metadata_seperator='\\n'),\n",
       " TextNode(id_='7bc0ccab-9fe7-45f9-9141-5a20545fbf65', embedding=None, metadata={}, excluded_embed_metadata_keys=[], excluded_llm_metadata_keys=[], relationships={<NodeRelationship.SOURCE: '1'>: RelatedNodeInfo(node_id='bea66d11-0adb-4b7f-91af-d817b33e6ea4', node_type=<ObjectType.DOCUMENT: '4'>, metadata={}, hash='fdc7ce9a017ce62d4e0b30cc419051a9bb56618a8569f51a2b64f8535fe6244e'), <NodeRelationship.PREVIOUS: '2'>: RelatedNodeInfo(node_id='730443c9-d17f-4100-8197-f9a8d4cc56d5', node_type=<ObjectType.TEXT: '1'>, metadata={}, hash='6525a8bf3daffcab2f741474233c2b987fdc366b65852e3989732546ef9f0662'), <NodeRelationship.NEXT: '3'>: RelatedNodeInfo(node_id='7c3861a8-57e9-46b7-b6f0-df3f6cdf0d85', node_type=<ObjectType.TEXT: '1'>, metadata={}, hash='4339a64c0279bb690aa8c7530bf5710795e832847516b01f9b24acbd61d16624'), <NodeRelationship.CHILD: '5'>: [RelatedNodeInfo(node_id='543cd05e-973a-4fdc-8525-c5d933e913f2', node_type=<ObjectType.TEXT: '1'>, metadata={}, hash='ed772637fefd249eafed43e295b791c231d408c1311bba4ee3ddcda8e25406eb'), RelatedNodeInfo(node_id='e022fd1a-6ae3-4f9f-8031-8496e7edb669', node_type=<ObjectType.TEXT: '1'>, metadata={}, hash='1b1666b1135f61eafb8b02f4a04c933640da12484d22e05aff7b0c0548f0cca3'), RelatedNodeInfo(node_id='73a1f997-9649-45bb-afa1-6e2c604c6c1c', node_type=<ObjectType.TEXT: '1'>, metadata={}, hash='e4d9d24444efb46ce9b083a72cf4d0b078b7f8f3edc29cf5917f1f296301057f'), RelatedNodeInfo(node_id='f700b318-a6dc-43af-818e-cf4dc5e54e3b', node_type=<ObjectType.TEXT: '1'>, metadata={}, hash='1e851f1be1eb1fc10790b3466f365a8d46d2316e8fcfe667bc01ece7c652e8fc')]}, text='In this chapter, I’d like to focus on a framework that’s useful for many job seekers in \\nAI, especially those who are entering AI from a different field.\\nA product manager at a tech startup who becomes a data scientist at the same company (or a \\ndifferent one) has switched roles. A marketer at a manufacturing firm who becomes a marketer \\nin a tech company has switched industries. An analyst in a financial services company who \\nbecomes a machine learning engineer in a tech company has switched both roles and industries.\\nIf you’re looking for your first job in AI, you’ll probably find switching either roles or industries \\neasier than doing both at the same time. Let’s say you’re the analyst working in financial services:If you’re considering your next job, ask yourself:\\nJob \\nSearchAre you switching roles? For example, if you’re a software engineer, \\nuniversity student, or physicist who’s looking to become a machine learning \\nengineer, that’s a role switch.\\nAre you switching industries? For example, if you work for a healthcare \\ncompany, financial services company, or a government agency and want \\nto work for a software company, that’s a switch in industries.✓\\n✓\\nIf you find a data science or machine learning job in financial services, you can continue \\nto use your domain-specific knowledge while gaining knowledge and expertise in AI. After \\nworking in this role for a while, you’ll be better positioned to switch to a tech company (if \\nthat’s still your goal).\\nAlternatively, if you become an analyst in a tech company, you can continue to use your \\nskills as an analyst but apply them to a different industry. Being part of a tech company also \\nmakes it much easier to learn from colleagues about practical challenges of AI, key skills to \\nbe successful in AI, and so on.✓\\n✓A Simple Framework for Starting You AI Job Search CHAPTER 7\\nTECHFINANCIAL \\nSERVICESRole & Industry SwitchRole Switch\\nIndustry SwitchANALYSTMACHINE LEARNING \\nENGINEER\\n\\nPAGE 26If you’re considering a role switch, a startup can be an easier place to do it than a big company. \\nWhile there are exceptions, startups usually don’t have enough people to do all the desired \\nwork. If you’re able to help with AI tasks — even if it’s not your official job — your work is likely \\nto be appreciated. This lays the groundwork for a possible role switch without needing to leave \\nthe company. In contrast, in a big company, a rigid reward system is more likely to reward you \\nfor doing your job well (and your manager for supporting you in doing the job for which you were \\nhired), but it’s not as likely to reward contributions outside your job’s scope.\\nAfter working for a while in your desired role and industry (for example, a machine learning \\nengineer in a tech company), you’ll have a good sense of the requirements for that role in that \\nindustry at a more senior level. You’ll also have a network within that industry to help you along. \\nSo future job searches — if you choose to stick with the role and industry — likely will be easier.\\nWhen changing jobs, you’re taking a step into the unknown, particularly if you’re switching either \\nroles or industries. One of the most underused tools for becoming more familiar with a new role \\nand/or industry is the informational interview. I’ll share more about that in the next chapter.\\nI’m grateful to Salwa Nur Muhammad, CEO of FourthBrain (a DeepLearning.AI affiliate), for providing \\nsome of the ideas presented in this chapter.\\n\\n\\nPAGE 27There’s a lot we don’t know about the future: When will we cure Alzheimer’s disease? Who will \\nwin the next election? Or, in a business context, how many customers will we have next year?\\nWith so many changes going on in the world, many people are feeling stressed about the \\nfuture, especially when it comes to finding a job. I have a practice that helps me regain a sense \\nof control. Faced with uncertainty, I try to:\\nFor example, during the Covid-19 pandemic back in March 2020, I did this scenario planning \\nexercise. I imagined quick (three months), medium (one year), and slow (two years) recoveries \\nfrom Covid-19 and made plans for managing each case. These plans have helped me prioritize \\nwhere I can.\\nThe same method can apply to personal life, too. If you’re not sure you’ll pass an exam, get a \\njob offer, or be granted a visa — all of which can be stressful — you can write out what you’d \\ndo in each of the likely scenarios. Thinking through the possibilities and following through on \\nplans can help you navigate the future effectively no matter what it brings.\\nBonus: With training in AI and statistics, you can calculate a probability for each scenario. \\nI’m a fan of the Superforecasting methodology, in which the judgments of many experts are \\nsynthesized into a probability estimate. Overcoming Uncertainty\\nMake a list of plausible scenarios, \\nacknowledging that I don’t know \\nwhich will come to pass.Create a plan of action \\nfor each scenario.\\nStart executing actions \\nthat seem reasonable.Review scenarios and plans \\nperiodically as the future \\ncomes into focus.1 2\\n3 4\\n\\nPAGE 28Using Informational \\nInterviews to Find \\nthe Right JobCHAPTER 8\\nJOBS\\n\\nPAGE 29If you’re preparing to switch roles (say, taking a job as a machine learning engineer for the first \\ntime) or industries (say, working in an AI tech company for the first time), there’s a lot about \\nyour target job that you probably don’t know. A technique known as informational interviewing \\nis a great way to learn.\\nAn informational interview involves finding someone in a company or role you’d like to know \\nmore about and informally interviewing them about their work. Such conversations are separate \\nfrom searching for a job. In fact, it’s helpful to interview people who hold positions that align \\nwith your interests well before you’re ready to kick off a job search.\\nPrepare for informational interviews by researching the interviewee and company in advance, \\nso you can arrive with thoughtful questions. You might ask:Informational interviews are particularly relevant to AI. Because the field is evolving, many \\ncompanies use job titles in inconsistent ways. In one company, data scientists might be \\nexpected mainly to analyze business data and present conclusions on a slide deck. In \\nanother, they might write and maintain production code. An informational interview can help \\nyou sort out what the AI people in a particular company actually do.\\nWith the rapid expansion of opportunities in AI, many people will be taking on an AI job for \\nthe first time. In this case, an informational interview can be invaluable for learning what \\nhappens and what skills are needed to do the job well. For example, you can learn what \\nalgorithms, deployment processes, and software stacks a particular company uses. You \\nmay be surprised — if you’re not already familiar with the data-centric AI movement — to \\nlearn how much time most machine learning engineers spend iteratively cleaning datasets.✓\\n✓\\nWhat do you do in a typical week or day?\\nWhat are the most important tasks in this role?\\nWhat skills are most important for success?\\nHow does your team work together to accomplish its goals?\\nWhat is the hiring process?\\nConsidering candidates who stood out in the past, what enabled them to shine?✓\\n✓\\n✓\\n✓\\n✓\\n✓Using Informational Interviews to Find the Right Job CHAPTER 8\\n\\nPAGE 30Finding someone to interview isn’t always easy, but many people who are in senior positions today \\nreceived help when they were new from those who had entered the field ahead of them, and many \\nare eager to pay it forward. If you can reach out to someone who’s already in your network — \\nperhaps a friend who made the transition ahead of you or someone who attended the same school \\nas you — that’s great! Meetups such as Pie & AI can also help you build your network.\\nFinally, be polite and professional, and thank the people you’ve interviewed. And when you get \\na chance, please pay it forward as well and help someone coming up after you. If you receive \\na request for an informational interview from someone in the DeepLearning.AI community, \\nI hope you’ll lean in to help them take a step up! If you’re interested in learning more about \\ninformational interviews, I recommend this article from the UC Berkeley Career Center.\\nI’ve mentioned a few times the importance of your network and community. People you’ve \\nmet, beyond providing valuable information, can also play an invaluable role by referring you to \\npotential employers. Using Informational Interviews to Find the Right Job CHAPTER 8', start_char_idx=28551, end_char_idx=37089, text_template='{metadata_str}\\n\\n{content}', metadata_template='{key}: {value}', metadata_seperator='\\n'),\n",
       " TextNode(id_='7c3861a8-57e9-46b7-b6f0-df3f6cdf0d85', embedding=None, metadata={}, excluded_embed_metadata_keys=[], excluded_llm_metadata_keys=[], relationships={<NodeRelationship.SOURCE: '1'>: RelatedNodeInfo(node_id='bea66d11-0adb-4b7f-91af-d817b33e6ea4', node_type=<ObjectType.DOCUMENT: '4'>, metadata={}, hash='fdc7ce9a017ce62d4e0b30cc419051a9bb56618a8569f51a2b64f8535fe6244e'), <NodeRelationship.PREVIOUS: '2'>: RelatedNodeInfo(node_id='7bc0ccab-9fe7-45f9-9141-5a20545fbf65', node_type=<ObjectType.TEXT: '1'>, metadata={}, hash='0000e7f97d6f41ec2cda7edf4064ec596ee44ba60cf37a7a3f93ddfdb49ed220'), <NodeRelationship.NEXT: '3'>: RelatedNodeInfo(node_id='2db23d39-3a49-4d3f-8c14-44dd95e09c6e', node_type=<ObjectType.TEXT: '1'>, metadata={}, hash='ecc59f2243975343f9724f9707be820b816049cea8cab8eb04a184a6fff08fa1'), <NodeRelationship.CHILD: '5'>: [RelatedNodeInfo(node_id='2a300a90-d5dd-4958-b866-41317ef4b581', node_type=<ObjectType.TEXT: '1'>, metadata={}, hash='28e3c60b4db3717d4b2700e0d233800d610b4fc2c4d9fa7280ed57c0ca64c94b'), RelatedNodeInfo(node_id='4bc40d6c-dac1-4c6b-ba3d-6f30b5639023', node_type=<ObjectType.TEXT: '1'>, metadata={}, hash='6ac7c5d43dcc08c7643c5ff2584576dcca8194fd70bde7be35b15f3581e5c6de'), RelatedNodeInfo(node_id='d57e18cd-1c72-477a-8a3e-ec98881d2c58', node_type=<ObjectType.TEXT: '1'>, metadata={}, hash='49a2304e59a4b1c1670ad7e0fd2052307bb762708c99a88ec1875a00882941a1'), RelatedNodeInfo(node_id='c4b95135-8336-4f63-909c-65858c462936', node_type=<ObjectType.TEXT: '1'>, metadata={}, hash='2db3c2c25dfba280151503c32cbe488705ca8f5545d99ff03bb035b122b668a6')]}, text='PAGE 31Finding the Right \\nAI Job for YouCHAPTER 9\\nJOBS\\n\\nPAGE 32In this chapter, I’d like to \\ndiscuss some fine points \\nof finding a job.\\nThe typical job search follows a fairly predictable path.\\nAlthough the process may be familiar, every job search is different. Here are some tips to increase \\nthe odds you’ll find a position that supports your thriving career and enables you to keep growing.Research roles and companies online or by talking to friends.\\nOptionally, arrange informal informational interviews with people in companies that appeal to you.\\nEither apply directly or, if you can, get a referral from someone on the inside.\\nInterview with companies that give you an invitation.\\nReceive one or more offers and pick one. Or, if you don’t receive an offer, ask for feedback \\nfrom the interviewers, human resources staff, online discussion boards, or anyone in your \\nnetwork who can help you plot your next move.✓\\n✓\\n✓\\n✓\\n✓\\nPay attention to the fundamentals.  A compelling resume, portfolio of technical projects, and \\na strong interview performance will unlock doors. Even if you have a referral from someone in a \\ncompany, a resume and portfolio will be your first contact with many people who don’t already \\nknow about you. Update your resume and make sure it clearly presents your education and \\nexperience relevant to the role you want. Customize your communications with each company \\nto explain why you’re a good fit. Before an interview, ask the recruiter what to expect. Take time \\nto review and practice answers to common interview questions, brush up key skills, and study \\ntechnical materials to make sure they are fresh in your mind. Afterward, take notes to help you \\nremember what was said.\\nProceed respectfully and responsibly. Approach interviews and offer negotiations with a win-\\nwin mindset. Outrage spreads faster than reasonableness on social media, so a story about \\nhow an employer underpaid someone gets amplified, whereas stories about how an employer \\ntreated someone fairly do not. The vast majority of employers are ethical and fair, so don’t let \\nstories about the small fraction of mistreated individuals sway your approach. If you’re leaving \\na job, exit gracefully. Give your employer ample notice, give your full effort through your last \\nhour on the job, transition unfinished business as best you can, and leave in a way that honors \\nthe responsibilities you were entrusted with.Finding the Right AI Job For You CHAPTER 9\\n\\nPAGE 33Choose who to work with. It’s tempting to take a position because of the projects you’ll work \\non. But the teammates you’ll work with are at least equally important. We’re influenced by \\npeople around us, so your colleagues will make a big difference. For example, if your friends \\nsmoke, the odds increase that you, too, will smoke. I don’t know of a study that shows this, \\nbut I’m pretty sure that if most of your colleagues work hard, learn continuously, and build AI \\nto benefit all people, you’re likely to do the same. (By the way, some large companies won’t \\ntell you who your teammates will be until you’ve accepted an offer. In this case, be persistent \\nand keep pushing to identify and speak with potential teammates. Strict policies may make it \\nimpossible to accommodate you, but in my mind, that increases the risk of accepting the offer, \\nas it increases the odds you’ll end up with a manager or teammates who aren’t a good fit.)\\nGet help from your community. Most of us go job hunting only a small number of times in our \\ncareers, so few of us get much practice at doing it well. Collectively, though, people in your \\nimmediate community probably have a lot of experience. Don’t be shy about calling on them. \\nFriends and associates can provide advice, share inside knowledge, and refer you to others \\nwho may help. I got a lot of help from supportive friends and mentors when I applied for my \\nfirst faculty position, and many of the tips they gave me were very helpful.\\nI know that the job-search process can be intimidating. Instead of viewing it as a great leap, \\nconsider an incremental approach. Start by identifying possible roles and conducting a handful \\nof informational interviews. If these conversations tell you that you have more learning to do \\nbefore you’re ready to apply, that’s great! At least you have a clear path forward. The most \\nimportant part of any journey is to take the first step, and that step can be a small one.Finding the Right AI Job For You CHAPTER 9\\n\\nPAGE 34Keys to Building a \\nCareer in AICHAPTER 10\\nJOBS\\n\\nPAGE 35Keys to Building a Career in AI CHAPTER 10\\nThe path to career success in AI is more complex than what I can  cover in one short eBook. \\nHopefully the previous chapters will give you momentum to move forward. \\nHere are additional things to think about as you plot your path to success: \\nWhen we tackle large projects, we succeed better by \\nworking in teams than individually. The ability to collaborate \\nwith, influence, and be influenced by others is critical. \\nThus, interpersonal and communication skills really matter. \\n(I used to be a pretty bad communicator, by the way.)1. Teamwork:\\nI hate networking! As an introvert, having to go to a party \\nto smile and shake as many hands as possible is an activity \\nthat borders on horrific. I’d much rather stay home and read \\na book. Nonetheless, I’m fortunate to have found many \\ngenuine friends in AI; people I would gladly go to bat for \\nand who I count on as well. No person is an island, and \\nhaving a strong professional network can help propel you \\nforward in the moments when you need help or advice. In \\nlieu of networking, I’ve found it more helpful to think about \\nbuilding up a community. So instead of trying to build up \\nmy personal network, I focus instead on building up the \\ncommunities that I’m part of. This has the side effect of \\nhelping me meet more people and make friends as well. 2. Networking:\\n\\n\\nPAGE 36Keys to Building a Career in AI CHAPTER 10\\nOf all the steps in building a career, this \\none tends to receive the most attention. \\nUnfortunately, there is a lot of bad advice \\nabout this on the internet. (For example, many \\narticles urge taking an adversarial attitude \\ntoward potential employers, which I don’t think \\nis helpful.) Although it may seem like finding a \\njob is the ultimate goal, it’s just one small step \\nin the long journey of a career.3. Job search\\nFew people will know whether you spend \\nyour weekends learning, or binge watching \\nTV — but they will notice the difference over \\ntime. Many successful people develop good \\nhabits in eating, exercise, sleep, personal \\nrelationships, work, learning, and self-care. \\nSuch habits help them move forward while \\nstaying healthy.4. Personal discipline\\nI find that people  who aim to lift others during \\nevery step of their own journey often achieve \\nbetter outcomes for themselves. How can we \\nhelp others even as we build an exciting career \\nfor ourselves?5. Altruism', start_char_idx=37092, end_char_idx=44036, text_template='{metadata_str}\\n\\n{content}', metadata_template='{key}: {value}', metadata_seperator='\\n'),\n",
       " TextNode(id_='2db23d39-3a49-4d3f-8c14-44dd95e09c6e', embedding=None, metadata={}, excluded_embed_metadata_keys=[], excluded_llm_metadata_keys=[], relationships={<NodeRelationship.SOURCE: '1'>: RelatedNodeInfo(node_id='bea66d11-0adb-4b7f-91af-d817b33e6ea4', node_type=<ObjectType.DOCUMENT: '4'>, metadata={}, hash='fdc7ce9a017ce62d4e0b30cc419051a9bb56618a8569f51a2b64f8535fe6244e'), <NodeRelationship.PREVIOUS: '2'>: RelatedNodeInfo(node_id='7c3861a8-57e9-46b7-b6f0-df3f6cdf0d85', node_type=<ObjectType.TEXT: '1'>, metadata={}, hash='4339a64c0279bb690aa8c7530bf5710795e832847516b01f9b24acbd61d16624'), <NodeRelationship.CHILD: '5'>: [RelatedNodeInfo(node_id='0fc2e03b-129b-4c80-80e6-10695965bff0', node_type=<ObjectType.TEXT: '1'>, metadata={}, hash='f356f6eaae4d935a1e35f233bac4c0a015d8a6a332041f6f3efc68133951fec4'), RelatedNodeInfo(node_id='16ee196b-3585-445a-a00e-57b5fc19ab7c', node_type=<ObjectType.TEXT: '1'>, metadata={}, hash='89ee510c7ef38fd13086b7d1cb90067b1ceeff07832cf24a130f4586097142f7'), RelatedNodeInfo(node_id='a8aa7133-04b1-44be-8c07-ac409520538c', node_type=<ObjectType.TEXT: '1'>, metadata={}, hash='fce09aed174242d81af409d6b1ce334a5c5deedfeae4d9895292729324cbeb89')]}, text='PAGE 37Overcoming Imposter \\nSyndromeCHAPTER 11\\n\\nPAGE 38Before we dive into the final chapter of this book, I’d like to address the serious matter of \\nnewcomers to AI sometimes experiencing imposter syndrome, where someone — regardless \\nof their success in the field — wonders if they’re a fraud and really belong in the AI community. \\nI want to make sure this doesn’t discourage you or anyone else from growing in AI.\\nAn estimated 70 percent of people experience some form of imposter syndrome at some point. \\nMany talented people have spoken publicly about this experience, including former Facebook \\nCOO Sheryl Sandberg, U.S. first lady Michelle Obama, actor Tom Hanks, and Atlassian co-CEO \\nMike Cannon-Brookes. It happens in our community even among accomplished people. If you’ve \\nnever experienced this yourself, that’s great! I hope you’ll join me in encouraging and welcoming \\neveryone who wants to join our community.\\nAI is technically complex, and it has its fair share of smart and highly capable people. But it is \\neasy to forget that to become good at anything, the first step is to suck at it. If you’ve succeeded \\nat sucking at AI — congratulations, you’re on your way!\\nI once struggled to understand the math behind linear regression. I was mystified when \\nlogistic regression performed strangely on my data, and it took me days to find a bug in my \\nimplementation of a basic neural network. Today, I still find many research papers challenging \\nto read, and I recently made an obvious mistake while tuning a neural network hyperparameter \\n(that fortunately a fellow engineer caught and fixed).\\nSo if you, too, find parts of AI challenging, it’s okay. We’ve all been there. I guarantee that everyone \\nwho has published a seminal AI paper struggled with similar technical challenges at some point.Let me be clear: If you want to be part of the AI \\ncommunity, then I welcome you with open arms. \\nIf you want to join us, you fully belong with us!Overcoming Imposter Syndrome\\n\\nPAGE 39My three-year-old daughter (who can barely count to 12) regularly tries to teach things to my \\none-year-old son. No matter how far along you are — if you’re at least as knowledgeable as a \\nthree-year-old — you can encourage and lift up others behind you. Doing so will help you, too, \\nas others behind you will recognize your expertise and also encourage you to keep developing. \\nWhen you invite others to join the AI community, which I hope you will do, it also reduces any \\ndoubts that you are already one of us.\\nAI is such an important part of our world that I would like everyone who wants to be part of it \\nto feel at home as a member of our community. Let’s work together to make it happen.Here are some things that can help.\\nDo you have supportive mentors or peers? If you don’t yet, attend Pie & AI or other events, \\nuse discussion boards, and work on finding some. If your mentors or manager don’t support \\nyour growth, find ones who do. I’m also working on how to grow a supportive AI community \\nand hope to make finding and giving support easier for everyone.\\nNo one is an expert at everything. Recognize what you do well. If what you do well is \\nunderstand and explain to your friends one-tenth of the articles in The Batch,  then you’re \\non your way! Let’s work on getting you to understand two-tenths of the articles.✓\\n✓\\nOvercoming Imposter Syndrome\\n\\nPAGE 40Make Every Day CountFinal Thoughts\\nEvery year on my birthday, I get to thinking about the days behind and those \\nthat may lie ahead.\\nWhen I ask friends, many choose a number in the hundreds of \\nthousands. (Many others can’t resist calculating the answer, \\nto my annoyance!)\\nWhen I was a grad student, I remember plugging my statistics \\ninto a mortality calculator to figure out my life expectancy. \\nThe calculator said I could expect to live a total of 27,649 \\ndays. It struck me how small this number is. I printed it in a \\nlarge font and pasted it on my office wall as a daily reminder.\\nThat’s all the days we have to spend with loved ones, learn, \\nbuild for the future, and help others. Whatever you’re doing \\ntoday, is it worth 1/30,000 of your life?How many days is a \\ntypical human lifespan?Maybe you’re good at math; I’m sure you’ll be able to answer the following question \\nvia a quick calculation. But let me ask you a question, and please answer from \\nyour gut, without calculating.\\n20,000 days 100,000 days\\n1 million days 5 million days\\n\\nPAGE 41', start_char_idx=44039, end_char_idx=48463, text_template='{metadata_str}\\n\\n{content}', metadata_template='{key}: {value}', metadata_seperator='\\n'),\n",
       " TextNode(id_='fdc32283-d4b7-4a93-82a4-616f1aef29ee', embedding=None, metadata={}, excluded_embed_metadata_keys=[], excluded_llm_metadata_keys=[], relationships={<NodeRelationship.SOURCE: '1'>: RelatedNodeInfo(node_id='11a601b9-bc15-4e70-998b-d681a815dfb6', node_type=<ObjectType.TEXT: '1'>, metadata={}, hash='ca808147637aacdcde984c2d939688b195fa1f524f12de397070b0376c3e11e1'), <NodeRelationship.NEXT: '3'>: RelatedNodeInfo(node_id='7c093177-af0f-42e4-840c-afa702938296', node_type=<ObjectType.TEXT: '1'>, metadata={}, hash='0c8c4015b5079720c9a99a811c9a8888c9f8ee3b9265eec5507fee681025f69c'), <NodeRelationship.PARENT: '4'>: RelatedNodeInfo(node_id='11a601b9-bc15-4e70-998b-d681a815dfb6', node_type=<ObjectType.TEXT: '1'>, metadata={}, hash='ca808147637aacdcde984c2d939688b195fa1f524f12de397070b0376c3e11e1'), <NodeRelationship.CHILD: '5'>: [RelatedNodeInfo(node_id='3ab84578-d9bb-4d4c-9e35-5448e4672709', node_type=<ObjectType.TEXT: '1'>, metadata={}, hash='3765c3234a3cdce529e8ea73a2d1e8d2fa9340b32c6f4d3a8138d71df635afcb'), RelatedNodeInfo(node_id='59345d12-42b7-4d71-ac63-59f2dad10b03', node_type=<ObjectType.TEXT: '1'>, metadata={}, hash='a0f5809e0882d869c187ebb354172805ff22ffafa3fc93329487ebb14a124b10'), RelatedNodeInfo(node_id='34a5ef84-7e43-4f7f-9e44-3f62edcd2575', node_type=<ObjectType.TEXT: '1'>, metadata={}, hash='cf01a87aed1c06d800c8f852c31f48a4d9ba94ea27b452e7d51e87081ea871f5'), RelatedNodeInfo(node_id='c3bee1c6-74c2-4681-9bb8-4a75044d070d', node_type=<ObjectType.TEXT: '1'>, metadata={}, hash='464f9cd1ccd3deb51962c757a351bff63f5a2a50cb4585d08f8e10666e7c5810'), RelatedNodeInfo(node_id='453e74a6-047f-4afe-9bdf-6935c8aa9a9e', node_type=<ObjectType.TEXT: '1'>, metadata={}, hash='3248267c204f269f688330dc8cc1f13178d9c3f40a422dec5699957967d115ca')]}, text='PAGE 1Founder, DeepLearning.AICollected Insights\\nfrom Andrew Ng\\nHow to \\nBuild\\nYour\\nCareer\\nin AIA Simple Guide\\n\\n\\nPAGE 2\"AI is the new \\nelectricity. It will \\ntransform and improve \\nall areas of human life.\"\\nAndrew Ng\\n\\nPAGE 3Table of \\nContentsIntroduction: Coding AI is the New Literacy.\\nChapter 1: Three Steps to Career Growth.\\nChapter 2: Learning Technical Skills for a \\nPromising AI Career.\\nChapter 3: Should You Learn Math to Get a Job \\nin AI?\\nChapter 4: Scoping Successful AI Projects.\\nChapter 5: Finding Projects that Complement \\nYour Career Goals.\\nChapter 6: Building a Portfolio of Projects that \\nShows Skill Progression.\\nChapter 7: A Simple Framework for Starting Your AI \\nJob Search.\\nChapter 8: Using Informational Interviews to Find \\nthe Right Job.\\nChapter 9: Finding the Right AI Job for You.\\nChapter 10: Keys to Building a Career in AI.\\nChapter 11: Overcoming Imposter Syndrome.\\nFinal Thoughts: Make Every Day Count.LEARNING\\nPROJECTS\\nJOB\\n\\nPAGE 4Coding AI Is the New Literacy\\nToday we take it for granted that many people know how to read and write. Someday, I hope, \\nit will be just as common that people know how to write code, specifically for AI.\\nSeveral hundred years ago, society didn’t view language literacy as a necessary skill. A small \\nnumber of people learned to read and write, and everyone else let them do the reading and \\nwriting. It took centuries for literacy to spread, and now society is far richer for it.\\nWords enable deep human-to-human communication. Code is the deepest form of human-to-\\nmachine communication. As machines become more central to daily life, that communication \\nbecomes ever more important.\\nTraditional software engineering — writing programs that explicitly tell a computer sequences \\nof steps to execute — has been the main path to code literacy. Many introductory programming \\nclasses use creating a video game or building a website as examples. But AI, machine learning, \\nand data science offer a new paradigm in which computers extract knowledge from data. This \\ntechnology offers an even better pathway to coding.\\nMany Sundays, I buy a slice of pizza from my neighborhood pizza parlor.', start_char_idx=0, end_char_idx=2141, text_template='{metadata_str}\\n\\n{content}', metadata_template='{key}: {value}', metadata_seperator='\\n'),\n",
       " TextNode(id_='7c093177-af0f-42e4-840c-afa702938296', embedding=None, metadata={}, excluded_embed_metadata_keys=[], excluded_llm_metadata_keys=[], relationships={<NodeRelationship.SOURCE: '1'>: RelatedNodeInfo(node_id='11a601b9-bc15-4e70-998b-d681a815dfb6', node_type=<ObjectType.TEXT: '1'>, metadata={}, hash='ca808147637aacdcde984c2d939688b195fa1f524f12de397070b0376c3e11e1'), <NodeRelationship.PREVIOUS: '2'>: RelatedNodeInfo(node_id='fdc32283-d4b7-4a93-82a4-616f1aef29ee', node_type=<ObjectType.TEXT: '1'>, metadata={}, hash='2b4de016a7c855ab9278e03c30a440bb34e81a1ea68fd3225250abf084e52330'), <NodeRelationship.NEXT: '3'>: RelatedNodeInfo(node_id='adc48bfa-ab85-4c35-8f33-b13fd923e2ec', node_type=<ObjectType.TEXT: '1'>, metadata={}, hash='64dd0fc90631c2e2b2fd38c5c9689c7b600fa830ede71f794c5d9bcf23dce860'), <NodeRelationship.PARENT: '4'>: RelatedNodeInfo(node_id='11a601b9-bc15-4e70-998b-d681a815dfb6', node_type=<ObjectType.TEXT: '1'>, metadata={}, hash='ca808147637aacdcde984c2d939688b195fa1f524f12de397070b0376c3e11e1'), <NodeRelationship.CHILD: '5'>: [RelatedNodeInfo(node_id='012245cf-b31f-4ca5-b672-8f28097f6e09', node_type=<ObjectType.TEXT: '1'>, metadata={}, hash='6715a52b53d6a1dfd8bbf430c1db16f21c17faa5c26e7f7780aaf3ac1e3e7ae1'), RelatedNodeInfo(node_id='0f91f902-5839-48b5-91d9-3f88c8c87322', node_type=<ObjectType.TEXT: '1'>, metadata={}, hash='21c7a8cb0786fb98de40ef7de853064d038262906f318fa6e9b25a3cd503e2a9'), RelatedNodeInfo(node_id='c69b4729-e1a7-4005-846a-87f69bed7080', node_type=<ObjectType.TEXT: '1'>, metadata={}, hash='79323a88f4410bbeb9bc6ecc7b3525f1ed0235e93e6a20a288b8b238aa84e50b'), RelatedNodeInfo(node_id='34598feb-dbd1-4367-832d-fd2489abeed0', node_type=<ObjectType.TEXT: '1'>, metadata={}, hash='3e029f9d4ea83f05d1b60ae02d551009e801aec79f78964f359be168955c1189'), RelatedNodeInfo(node_id='9d25f9d5-986e-4772-baa6-38982a1231d9', node_type=<ObjectType.TEXT: '1'>, metadata={}, hash='9a781d3d64410d4b7dc1bf88d5cb5613dc39cf0fad51998f48815acd4c718441')]}, text='Many Sundays, I buy a slice of pizza from my neighborhood pizza parlor. The gentleman \\nbehind the counter has little reason to learn how to build a video game or write his own \\nwebsite software (beyond personal growth and the pleasure of gaining a new skill).\\nBut AI and data science have great value even for a pizza maker. A linear regression model might \\nenable him to better estimate demand so he can optimize the restaurant’s staffing and supply \\nchain. He could better predict sales of Hawaiian pizza — my favorite! — so he could make more \\nHawaiian pies in advance and reduce the amount of time customers had to wait for them.\\nUses of AI and data science can be found in almost any situation that produces data.  Thus, \\na wide variety of professions will find more uses for custom AI applications and data-derived \\ninsights than for traditional software engineering. This makes literacy in AI-oriented coding \\neven more valuable than traditional coding. It could enable countless individuals to harness \\ndata to make their lives richer.\\nI hope the promise of building basic AI applications, even more than that of building basic \\ntraditional software, encourages more people to learn how to code. If society embraces this \\nnew form of literacy as it has the ability to read and write, we will all benefit.Introduction\\n\\nPAGE 5Three Steps to \\nCareer GrowthCHAPTER 1\\n\\nPAGE 6The rapid rise of AI has led to a rapid rise in AI jobs, and many people are building exciting \\ncareers in this field. A career is a decades-long journey, and the path is not straightforward. \\nOver many years, I’ve been privileged to see thousands of students, as well as engineers in \\ncompanies large and small, navigate careers in AI.\\n \\nHere’s a framework for charting your own course.\\nLater, you will work \\non finding a job. \\nThroughout this \\nprocess, you’ll continue \\nto learn and work on \\nmeaningful projects. \\nChapters with the\\nfocus on a job search.Three key steps of career growth are learning foundational skills, working on projects (to \\ndeepen your skills, build a portfolio, and create impact), and finding a job. These steps stack \\non top of each other:Three Steps to Career Growth\\nLEARNING PROJECTS JOBCHAPTER 1\\nInitially, you \\nfocus on learning \\nfoundational skills. \\nChapters with the \\ncover topics about \\nlearning foundational \\ntechnical skills.', start_char_idx=2070, end_char_idx=4410, text_template='{metadata_str}\\n\\n{content}', metadata_template='{key}: {value}', metadata_seperator='\\n'),\n",
       " TextNode(id_='adc48bfa-ab85-4c35-8f33-b13fd923e2ec', embedding=None, metadata={}, excluded_embed_metadata_keys=[], excluded_llm_metadata_keys=[], relationships={<NodeRelationship.SOURCE: '1'>: RelatedNodeInfo(node_id='11a601b9-bc15-4e70-998b-d681a815dfb6', node_type=<ObjectType.TEXT: '1'>, metadata={}, hash='ca808147637aacdcde984c2d939688b195fa1f524f12de397070b0376c3e11e1'), <NodeRelationship.PREVIOUS: '2'>: RelatedNodeInfo(node_id='7c093177-af0f-42e4-840c-afa702938296', node_type=<ObjectType.TEXT: '1'>, metadata={}, hash='0c8c4015b5079720c9a99a811c9a8888c9f8ee3b9265eec5507fee681025f69c'), <NodeRelationship.NEXT: '3'>: RelatedNodeInfo(node_id='6c0bee27-a938-4031-b450-f2bbe5f137cd', node_type=<ObjectType.TEXT: '1'>, metadata={}, hash='55bc135e5090691b219b2ac617e8e31549c7f346bac85fe72557c3c5fa640d90'), <NodeRelationship.PARENT: '4'>: RelatedNodeInfo(node_id='11a601b9-bc15-4e70-998b-d681a815dfb6', node_type=<ObjectType.TEXT: '1'>, metadata={}, hash='ca808147637aacdcde984c2d939688b195fa1f524f12de397070b0376c3e11e1'), <NodeRelationship.CHILD: '5'>: [RelatedNodeInfo(node_id='0d6d90aa-023c-41fc-a563-a6ede722e1f8', node_type=<ObjectType.TEXT: '1'>, metadata={}, hash='db3a6463210dc775217ad46442b3843169651df172695097c58213ef4a333dc8'), RelatedNodeInfo(node_id='97034af0-b786-4ed3-b21e-801f2d121ddd', node_type=<ObjectType.TEXT: '1'>, metadata={}, hash='d68d39965a42938154f619a0cca8c7a68e2b08b706e92a9f0c692620aa931e8c'), RelatedNodeInfo(node_id='7fb18c09-1cf9-44ad-8e22-a12bc7664c0c', node_type=<ObjectType.TEXT: '1'>, metadata={}, hash='89e9f4046575da75ab7d51a5c88831b6c0674f1a377744e8f6d30a82631dfc46'), RelatedNodeInfo(node_id='672967d6-9ca2-4b99-b37e-4065671d15b0', node_type=<ObjectType.TEXT: '1'>, metadata={}, hash='f14dd5ec163e87a2597bca5d6412d98d1915aa4d10ab49331e1a4102acf89d07')]}, text='Chapters with the \\ncover topics about \\nlearning foundational \\ntechnical skills. After having gained \\nfoundational technical \\nskills, you will begin \\nworking on projects. \\nDuring this period, you’ll \\nalso keep learning. \\nChapters with the     \\nfocus on projects. \\n\\nPAGE 7These phases apply in a wide \\nrange of professions, but AI \\ninvolves unique elements.\\nFor example:Three Steps to Career Growth\\nAI is nascent, and many technologies are still evolving. While the \\nfoundations of machine learning and deep learning are maturing — \\nand coursework is an efficient way to master them — beyond these \\nfoundations, keeping up-to-date with changing technology is more \\nimportant in AI than fields that are more mature.Learning foundational skills is a career-long process:\\nThis can make it challenging to find a suitable project, estimate the project’s \\ntimeline and return on investment, and set expectations. In addition, the \\nhighly iterative nature of AI projects leads to special challenges in project \\nmanagement: How can you come up with a plan for building a system \\nwhen you don’t know in advance how long it will take to achieve the target \\naccuracy? Even after the system has hit the target, further iteration may \\nbe necessary to address post-deployment drift.Working on projects often means collaborating with \\nstakeholders who lack expertise in AI:\\nWhile searching for a job in AI can be similar to searching for a job in \\nother sectors, there are also important differences. Many companies are \\nstill trying to figure out which AI skills they need, and how to hire people \\nwho have them. Things you’ve worked on may be significantly different \\nthan anything your interviewer has seen, and you’re more likely to have to \\neducate potential employers about some elements of your work.Inconsistent opinions on AI skills and jobs roles: CHAPTER 1\\nAs you go through each step, you should also build a supportive community. Having friends and \\nallies who can help you — and who you strive to help — makes the path easier.', start_char_idx=4331, end_char_idx=6354, text_template='{metadata_str}\\n\\n{content}', metadata_template='{key}: {value}', metadata_seperator='\\n'),\n",
       " TextNode(id_='6c0bee27-a938-4031-b450-f2bbe5f137cd', embedding=None, metadata={}, excluded_embed_metadata_keys=[], excluded_llm_metadata_keys=[], relationships={<NodeRelationship.SOURCE: '1'>: RelatedNodeInfo(node_id='11a601b9-bc15-4e70-998b-d681a815dfb6', node_type=<ObjectType.TEXT: '1'>, metadata={}, hash='ca808147637aacdcde984c2d939688b195fa1f524f12de397070b0376c3e11e1'), <NodeRelationship.PREVIOUS: '2'>: RelatedNodeInfo(node_id='adc48bfa-ab85-4c35-8f33-b13fd923e2ec', node_type=<ObjectType.TEXT: '1'>, metadata={}, hash='64dd0fc90631c2e2b2fd38c5c9689c7b600fa830ede71f794c5d9bcf23dce860'), <NodeRelationship.NEXT: '3'>: RelatedNodeInfo(node_id='a0419fef-eed1-4802-bb74-1d3973383f41', node_type=<ObjectType.TEXT: '1'>, metadata={}, hash='14640178e88615cf1e8457f6a6940d64b07c00ad61553b765e85b8207417c7d5'), <NodeRelationship.PARENT: '4'>: RelatedNodeInfo(node_id='11a601b9-bc15-4e70-998b-d681a815dfb6', node_type=<ObjectType.TEXT: '1'>, metadata={}, hash='ca808147637aacdcde984c2d939688b195fa1f524f12de397070b0376c3e11e1'), <NodeRelationship.CHILD: '5'>: [RelatedNodeInfo(node_id='d0e9e6a0-c26d-47b1-9344-5d6c374b1416', node_type=<ObjectType.TEXT: '1'>, metadata={}, hash='0cbcf2ee3dd1a3c2ecfc61f02e7810c82de301109de87533a6323129b9ab8eb8'), RelatedNodeInfo(node_id='fa3313e4-efc3-46c4-9354-f21ce1dfe3ef', node_type=<ObjectType.TEXT: '1'>, metadata={}, hash='46aa1017a60aab9b0be973f0a31c6d61a81981646968900574a3feb021119d14'), RelatedNodeInfo(node_id='051d6bd7-7c8e-4e8e-b89d-2af774a95277', node_type=<ObjectType.TEXT: '1'>, metadata={}, hash='8ecfd7e96d7dc153a3c6f8b64e98ff5683fe3d568769b01339fe0c344a6b4ff2'), RelatedNodeInfo(node_id='c48dc6c0-5757-4e70-93d1-9e7de7ed8dff', node_type=<ObjectType.TEXT: '1'>, metadata={}, hash='b2044ddc300d7051774032da15a8f50599527cfb3809e02c1d820338593a9852'), RelatedNodeInfo(node_id='c529040d-3c98-4e82-b557-9fd8c05432db', node_type=<ObjectType.TEXT: '1'>, metadata={}, hash='13e424d7dc1628b15f3058789c8468b2eace1b8fa68563ce938ba9ccb4f96396'), RelatedNodeInfo(node_id='c888fbfc-f032-4c62-9b3c-8c4e861c8658', node_type=<ObjectType.TEXT: '1'>, metadata={}, hash='668a0c56d7367f073644c6f438e3942ea824ca28d2e22119473a562d18b20f45')]}, text='This is true whether \\nyou’re taking your first steps or you’ve been on the journey for years.LEARNING\\nPROJECTS\\nJOB\\n\\nPAGE 8Learning Technical \\nSkills for a Promising \\nAI CareerCHAPTER 2\\nLEARNING\\n\\nPAGE 9In the previous chapter, I introduced three key steps for building a career in AI: learning \\nfoundational technical skills, working on projects, and finding a job, all of which is supported \\nby being part of a community. In this chapter, I’d like to dive more deeply into the first step: \\nlearning foundational skills.\\nMore research papers have been published on AI than anyone can read in a lifetime. So, when \\nlearning, it’s critical to prioritize topic selection. I believe the most important topics for a technical \\ncareer in machine learning are:\\nFoundational machine learning skills: For example, it’s important to understand models such \\nas linear regression, logistic regression, neural networks, decision trees, clustering, and anomaly \\ndetection. Beyond specific models, it’s even more important to understand the core concepts \\nbehind how and why machine learning works, such as bias/variance, cost functions, regularization, \\noptimization algorithms, and error analysis.\\nDeep learning: This has become such a large fraction of machine learning that it’s hard to excel \\nin the field without some understanding of it! It’s valuable to know the basics of neural networks, \\npractical skills for making them work (such as hyperparameter tuning), convolutional networks, \\nsequence models, and transformers.\\nSoftware development: While you can get a job and make huge contributions with only machine \\nlearning modeling skills, your job opportunities will increase if you can also write good software \\nto implement complex AI systems. These skills include programming fundamentals, data \\nstructures (especially those that relate to machine learning, such as data frames), algorithms \\n(including those related to databases and data manipulation), software design, familiarity with \\nPython, and familiarity with key libraries such as TensorFlow or PyTorch, and scikit-learn.Math relevant to machine learning:  Key areas include linear algebra (vectors, matrices, and various \\nmanipulations of them) as well as probability and statistics (including discrete and continuous \\nprobability, standard probability distributions, basic rules such as independence and Bayes’ rule, \\nand hypothesis testing). In addition, exploratory data analysis (EDA) — using visualizations and other \\nmethods to systematically explore a dataset — is an underrated skill.', start_char_idx=6355, end_char_idx=8904, text_template='{metadata_str}\\n\\n{content}', metadata_template='{key}: {value}', metadata_seperator='\\n'),\n",
       " TextNode(id_='a0419fef-eed1-4802-bb74-1d3973383f41', embedding=None, metadata={}, excluded_embed_metadata_keys=[], excluded_llm_metadata_keys=[], relationships={<NodeRelationship.SOURCE: '1'>: RelatedNodeInfo(node_id='11a601b9-bc15-4e70-998b-d681a815dfb6', node_type=<ObjectType.TEXT: '1'>, metadata={}, hash='ca808147637aacdcde984c2d939688b195fa1f524f12de397070b0376c3e11e1'), <NodeRelationship.PREVIOUS: '2'>: RelatedNodeInfo(node_id='6c0bee27-a938-4031-b450-f2bbe5f137cd', node_type=<ObjectType.TEXT: '1'>, metadata={}, hash='55bc135e5090691b219b2ac617e8e31549c7f346bac85fe72557c3c5fa640d90'), <NodeRelationship.PARENT: '4'>: RelatedNodeInfo(node_id='11a601b9-bc15-4e70-998b-d681a815dfb6', node_type=<ObjectType.TEXT: '1'>, metadata={}, hash='ca808147637aacdcde984c2d939688b195fa1f524f12de397070b0376c3e11e1'), <NodeRelationship.CHILD: '5'>: [RelatedNodeInfo(node_id='9548a59d-9b39-4424-9d77-ce49be3299c4', node_type=<ObjectType.TEXT: '1'>, metadata={}, hash='d8e27c93d86991f48abb0bdc6b82c0dac4dc9db1bc488a201739162dbeaea2f1'), RelatedNodeInfo(node_id='41bd3c8e-8d06-496b-9854-f472852c3668', node_type=<ObjectType.TEXT: '1'>, metadata={}, hash='c72948b26c9b6fa2e9b3a4c5c196590ca0f0d704c260cfbd2f4a39da1270006b')]}, text='I’ve found EDA particularly \\nuseful in data-centric AI development, where analyzing errors and gaining insights can really help \\ndrive progress! Finally, a basic intuitive understanding of calculus will also help. The math needed \\nto do machine learning well has been changing. For instance, although some tasks require calculus, \\nimproved automatic differentiation software makes it possible to invent and implement new neural \\nnetwork architectures without doing any calculus. This was almost impossible a decade ago.Learning Technical Skills For a Promising AI Career CHAPTER 2\\n\\nPAGE 10This is a lot to learn!\\nEven after you master everything on this list, I hope you’ll keep learning and continue to deepen \\nyour technical knowledge.', start_char_idx=8905, end_char_idx=9642, text_template='{metadata_str}\\n\\n{content}', metadata_template='{key}: {value}', metadata_seperator='\\n'),\n",
       " TextNode(id_='f0d0108f-1992-4fa2-b797-fffda5f6fbdc', embedding=None, metadata={}, excluded_embed_metadata_keys=[], excluded_llm_metadata_keys=[], relationships={<NodeRelationship.SOURCE: '1'>: RelatedNodeInfo(node_id='198ef407-22c3-417c-9689-4ba87bceb1cf', node_type=<ObjectType.TEXT: '1'>, metadata={}, hash='601594bb882270ad63b4547797595e35b471287cec74dcc07134629cbb7d71f5'), <NodeRelationship.NEXT: '3'>: RelatedNodeInfo(node_id='e939254d-311d-4c6e-9a6b-be90eeee84e5', node_type=<ObjectType.TEXT: '1'>, metadata={}, hash='ebd4557da69dee37065183d67e81e977b302f5ab630b89052471cd5ff56ba048'), <NodeRelationship.PARENT: '4'>: RelatedNodeInfo(node_id='198ef407-22c3-417c-9689-4ba87bceb1cf', node_type=<ObjectType.TEXT: '1'>, metadata={}, hash='601594bb882270ad63b4547797595e35b471287cec74dcc07134629cbb7d71f5'), <NodeRelationship.CHILD: '5'>: [RelatedNodeInfo(node_id='5317f5b3-6a91-42ea-a051-603a310a01cf', node_type=<ObjectType.TEXT: '1'>, metadata={}, hash='bcc08966eff56668b0972a027bf0082ef6a97659a094e4e3b2a69359ed7c1476'), RelatedNodeInfo(node_id='eca04ad2-0407-43f1-af73-d51c021df335', node_type=<ObjectType.TEXT: '1'>, metadata={}, hash='43fa9057a60659897404985b545ed8085346046cee1763df21376687ad512b77'), RelatedNodeInfo(node_id='9a1ddc08-0262-4df6-a7e4-84a319f66b13', node_type=<ObjectType.TEXT: '1'>, metadata={}, hash='bfe95f8c54e283c4d9636b4f37ee1b2d9ed9b092829f337dd9212d7efecc6e74'), RelatedNodeInfo(node_id='9da048b7-12d1-4273-9d19-23ff49bb3389', node_type=<ObjectType.TEXT: '1'>, metadata={}, hash='31c7575ed4a3cdb246f6693e68be26acf0ef7b443e23cee7c0c28c81178fce3d'), RelatedNodeInfo(node_id='0498925c-cc59-455e-b009-ed2aaab04350', node_type=<ObjectType.TEXT: '1'>, metadata={}, hash='2df30e8a854610fffc2bd7b0d2399af751d8fc4cfd1c027ee838013c1cc27d9e')]}, text='I’ve known many machine learning engineers who benefitted from \\ndeeper skills in an application area such as natural language processing or computer vision, or in \\na technology area such as probabilistic graphical models or building scalable software systems.\\nHow do you gain these skills? There’s a lot of good content on the internet, and in theory, \\nreading dozens of web pages could work. But when the goal is deep understanding, reading \\ndisjointed web pages is inefficient because they tend to repeat each other, use inconsistent \\nterminology (which slows you down), vary in quality, and leave gaps. That’s why a good course \\n— in which a body of material has been organized into a coherent and logical form — is often the \\nmost time-efficient way to master a meaningful body of knowledge. When you’ve absorbed the \\nknowledge available in courses, you can switch over to research papers and other resources.\\nFinally, no one can cram everything they need to know over a weekend or even a month. Everyone I \\nknow who’s great at machine learning is a lifelong learner. Given how quickly our field is changing, \\nthere’s little choice but to keep learning if you want to keep up.\\nHow can you maintain a steady pace of learning for years? If you can cultivate the habit of \\nlearning a little bit every week, you can make significant progress with what feels like less effort.Learning Technical Skills For a Promising AI Career CHAPTER 2\\n\\n\\nPAGE 11\\nThe Best Way to Build \\na New Habit\\nOne of my favorite books is BJ Fogg’s, Tiny Habits: The Small Changes That Change \\nEverything. Fogg explains that the best way to build a new habit is to start small \\nand succeed, rather than start  too big and fail. For example, rather than trying to \\nexercise for 30 minutes a day, he recommends aspiring to do just one push-up, and \\ndoing it consistently.\\nThis approach may be helpful to those of you who want to spend more time studying. \\nIf you start by holding yourself accountable for watching, say, 10 seconds of an \\neducational video every day — and you do so consistently — the habit of studying daily \\nwill grow naturally. Even if you learn nothing in that 10 seconds, you’re establishing the \\nhabit of studying a little every day. On some days, maybe you’ll end up studying for an \\nhour or longer.\\n\\nPAGE 12Should You \\nLearn Math to \\nGet a Job in AI?', start_char_idx=0, end_char_idx=2343, text_template='{metadata_str}\\n\\n{content}', metadata_template='{key}: {value}', metadata_seperator='\\n'),\n",
       " TextNode(id_='e939254d-311d-4c6e-9a6b-be90eeee84e5', embedding=None, metadata={}, excluded_embed_metadata_keys=[], excluded_llm_metadata_keys=[], relationships={<NodeRelationship.SOURCE: '1'>: RelatedNodeInfo(node_id='198ef407-22c3-417c-9689-4ba87bceb1cf', node_type=<ObjectType.TEXT: '1'>, metadata={}, hash='601594bb882270ad63b4547797595e35b471287cec74dcc07134629cbb7d71f5'), <NodeRelationship.PREVIOUS: '2'>: RelatedNodeInfo(node_id='f0d0108f-1992-4fa2-b797-fffda5f6fbdc', node_type=<ObjectType.TEXT: '1'>, metadata={}, hash='cb4c216fded5d5258bf4fb352121443eb896ff2732c38e0e8dedeada953d7a10'), <NodeRelationship.NEXT: '3'>: RelatedNodeInfo(node_id='ba28ee1a-39a4-4d2b-817b-740edfce76f5', node_type=<ObjectType.TEXT: '1'>, metadata={}, hash='98314ce0f3a5c32ecb1dc140537a07f2bc149091078deea709f34e1812e5e67d'), <NodeRelationship.PARENT: '4'>: RelatedNodeInfo(node_id='198ef407-22c3-417c-9689-4ba87bceb1cf', node_type=<ObjectType.TEXT: '1'>, metadata={}, hash='601594bb882270ad63b4547797595e35b471287cec74dcc07134629cbb7d71f5'), <NodeRelationship.CHILD: '5'>: [RelatedNodeInfo(node_id='a4feace7-60f9-481e-aaa2-4106c43ac2c3', node_type=<ObjectType.TEXT: '1'>, metadata={}, hash='0b055b41cd232263958cb198e3e546c1cd576221d83ac18f918f053a9763fc4e'), RelatedNodeInfo(node_id='c35c6903-1143-4daa-84f4-cef81bcc70ec', node_type=<ObjectType.TEXT: '1'>, metadata={}, hash='43f12cfb773774246e3b4cb4763280b0eadf866dc0be37c4f6ccf42b0dbc0632'), RelatedNodeInfo(node_id='6bb6272c-6789-420a-9e54-8a32f797b966', node_type=<ObjectType.TEXT: '1'>, metadata={}, hash='1c0d8b1af9f2cf385841b8732d6f33b8002f3b33a9f30fa08392d58e0f59b3b8'), RelatedNodeInfo(node_id='84425af1-6d27-416e-b533-ee937d320f97', node_type=<ObjectType.TEXT: '1'>, metadata={}, hash='c8fbfe10a099b84f259c3f554384b093c527edd01d1057c3048324db73adf8bd'), RelatedNodeInfo(node_id='114f545b-f24c-4a95-b24b-a47817f36e4c', node_type=<ObjectType.TEXT: '1'>, metadata={}, hash='9d48d41905bd495d1bbf0d5367c9020e14e8ff4aa4f7f91a701468e78706c961')]}, text='PAGE 12Should You \\nLearn Math to \\nGet a Job in AI? CHAPTER 3\\nLEARNING\\n\\nPAGE 13Should you Learn Math to Get a Job in AI? CHAPTER 3\\nIs math a foundational skill for AI? It’s always nice to know more math! But there’s so much to \\nlearn that, realistically, it’s necessary to prioritize. Here’s how you might go about strengthening \\nyour math background.\\nTo figure out what’s important to know, I find it useful to ask what you need to know to make \\nthe decisions required for the work you want to do. At DeepLearning.AI, we frequently ask, \\n“What does someone need to know to accomplish their goals?” The goal might be building a \\nmachine learning model, architecting a system, or passing a job interview.\\nUnderstanding the math behind algorithms you use is often helpful, since it enables you to \\ndebug them. But the depth of knowledge that’s useful changes over time. As machine learning \\ntechniques mature and become more reliable and turnkey, they require less debugging, and a \\nshallower understanding of the math involved may be sufficient to make them work.\\nFor instance, in an earlier era of machine learning, linear algebra libraries for solving linear \\nsystems of equations (for linear regression) were immature. I had to understand how these \\nlibraries worked so I could choose among different libraries and avoid numerical roundoff \\npitfalls. But this became less important as numerical linear algebra libraries matured.\\nDeep learning is still an emerging technology, so when you train a neural network and the \\noptimization algorithm struggles to converge, understanding the math behind gradient \\ndescent, momentum, and the Adam  optimization algorithm will help you make better decisions. \\nSimilarly, if your neural network does something funny — say, it makes bad predictions on \\nimages of a certain resolution, but not others — understanding the math behind neural network \\narchitectures puts you in a better position to figure out what to do.\\nOf course, I also encourage learning driven by curiosity. If something interests you, go ahead \\nand learn it regardless of how useful it might turn out to be!  Maybe this will lead to a creative \\nspark or technical breakthrough.How much math do you need to know to be a machine learning engineer?', start_char_idx=2293, end_char_idx=4546, text_template='{metadata_str}\\n\\n{content}', metadata_template='{key}: {value}', metadata_seperator='\\n'),\n",
       " TextNode(id_='ba28ee1a-39a4-4d2b-817b-740edfce76f5', embedding=None, metadata={}, excluded_embed_metadata_keys=[], excluded_llm_metadata_keys=[], relationships={<NodeRelationship.SOURCE: '1'>: RelatedNodeInfo(node_id='198ef407-22c3-417c-9689-4ba87bceb1cf', node_type=<ObjectType.TEXT: '1'>, metadata={}, hash='601594bb882270ad63b4547797595e35b471287cec74dcc07134629cbb7d71f5'), <NodeRelationship.PREVIOUS: '2'>: RelatedNodeInfo(node_id='e939254d-311d-4c6e-9a6b-be90eeee84e5', node_type=<ObjectType.TEXT: '1'>, metadata={}, hash='ebd4557da69dee37065183d67e81e977b302f5ab630b89052471cd5ff56ba048'), <NodeRelationship.NEXT: '3'>: RelatedNodeInfo(node_id='309b29e4-8ee0-4954-8117-b9646f05f795', node_type=<ObjectType.TEXT: '1'>, metadata={}, hash='4b0045e4377b0ee06a6fdef8b0eb0d04a975b57dc4e61130b24c4e7fc272a35d'), <NodeRelationship.PARENT: '4'>: RelatedNodeInfo(node_id='198ef407-22c3-417c-9689-4ba87bceb1cf', node_type=<ObjectType.TEXT: '1'>, metadata={}, hash='601594bb882270ad63b4547797595e35b471287cec74dcc07134629cbb7d71f5'), <NodeRelationship.CHILD: '5'>: [RelatedNodeInfo(node_id='fe30ed70-1782-4ad4-983b-536e5ff31175', node_type=<ObjectType.TEXT: '1'>, metadata={}, hash='a3288d7a46de72b7f506fe88529d90725ec01c26f6e3ba87fc78a32f46f55956'), RelatedNodeInfo(node_id='78d085a1-dd0e-41ba-8d38-eb233cbf406a', node_type=<ObjectType.TEXT: '1'>, metadata={}, hash='3fd85f55d0015339e99040fedb480d79c48f0a1acbc2301b7782e2bfcaa3658c'), RelatedNodeInfo(node_id='13812221-f865-4515-ae98-6d9eb39e5de5', node_type=<ObjectType.TEXT: '1'>, metadata={}, hash='fe4a247e97ae6d9570a91f61ed62de58dc2999fc8a146289e6b8b264f64cd09d'), RelatedNodeInfo(node_id='31ab897b-b50d-4701-94ec-cf4c189205eb', node_type=<ObjectType.TEXT: '1'>, metadata={}, hash='96c9636a8b52db9ef9c0bc43b90e48728591159fabf7a910a378c3ce9c2c1d64'), RelatedNodeInfo(node_id='d9a2f893-1641-4571-99ae-3478f53558fb', node_type=<ObjectType.TEXT: '1'>, metadata={}, hash='51eeef780099846cdb021fed66f3038dd44d6aea474bd87b249e2599a9a90240')]}, text='PAGE 14Scoping Successful \\nAI ProjectsCHAPTER 4\\nPROJECTS\\n\\nPAGE 15One of the most important skills of an AI architect is the ability to identify ideas that are worth \\nworking on. These next few chapters will discuss finding and working on projects so you can gain \\nexperience and build your portfolio. \\nOver the years, I’ve had fun applying machine learning to manufacturing, healthcare, climate \\nchange, agriculture, ecommerce, advertising, and other industries. How can someone who’s not \\nan expert in all these sectors find meaningful projects within them? Here are five steps to help \\nyou scope projects.\\nIdentify a business problem (not an AI problem). I like to find \\na domain expert and ask, “What are the top three things \\nthat you wish worked better? Why aren’t they working yet?” \\nFor example, if you want to apply AI to climate change, you \\nmight discover that power-grid operators can’t accurately \\npredict how much power intermittent sources like wind \\nand solar might generate in the future.\\nBrainstorm AI solutions. When I was younger, I used to \\nexecute on the first idea I was excited about. Sometimes \\nthis worked out okay, but sometimes I ended up missing \\nan even better idea that might not have taken any more \\neffort to build. Once you understand a problem, you can \\nbrainstorm potential solutions more efficiently. For instance, \\nto predict power generation from intermittent sources, we \\nmight consider using satellite imagery to map the locations \\nof wind turbines more accurately, using satellite imagery \\nto estimate the height and generation capacity of wind \\nturbines, or using weather data to better predict cloud cover \\nand thus solar irradiance. Sometimes there isn’t a good AI \\nsolution, and that’s okay too.Scoping Successful AI Projects CHAPTER 4\\nStep 1\\nStep 2\\n\\n\\nPAGE 16Determine milestones. Once you’ve deemed a project sufficiently \\nvaluable, the next step is to determine the metrics to aim for. This \\nincludes both machine learning metrics (such as accuracy) and \\nbusiness metrics (such as revenue). Machine learning teams are often \\nmost comfortable with metrics that a learning algorithm can optimize. \\nBut we may need to stretch outside our comfort zone to come up \\nwith business metrics, such as those related to user engagement, \\nrevenue, and so on.', start_char_idx=4548, end_char_idx=6840, text_template='{metadata_str}\\n\\n{content}', metadata_template='{key}: {value}', metadata_seperator='\\n'),\n",
       " TextNode(id_='309b29e4-8ee0-4954-8117-b9646f05f795', embedding=None, metadata={}, excluded_embed_metadata_keys=[], excluded_llm_metadata_keys=[], relationships={<NodeRelationship.SOURCE: '1'>: RelatedNodeInfo(node_id='198ef407-22c3-417c-9689-4ba87bceb1cf', node_type=<ObjectType.TEXT: '1'>, metadata={}, hash='601594bb882270ad63b4547797595e35b471287cec74dcc07134629cbb7d71f5'), <NodeRelationship.PREVIOUS: '2'>: RelatedNodeInfo(node_id='ba28ee1a-39a4-4d2b-817b-740edfce76f5', node_type=<ObjectType.TEXT: '1'>, metadata={}, hash='98314ce0f3a5c32ecb1dc140537a07f2bc149091078deea709f34e1812e5e67d'), <NodeRelationship.NEXT: '3'>: RelatedNodeInfo(node_id='5fa264d3-2a7f-4911-8d0f-70e519220f6e', node_type=<ObjectType.TEXT: '1'>, metadata={}, hash='d6790adaae5a7c3e5228dbf1b49fbecd08df8686dfa0e5430d0c62081d68d605'), <NodeRelationship.PARENT: '4'>: RelatedNodeInfo(node_id='198ef407-22c3-417c-9689-4ba87bceb1cf', node_type=<ObjectType.TEXT: '1'>, metadata={}, hash='601594bb882270ad63b4547797595e35b471287cec74dcc07134629cbb7d71f5'), <NodeRelationship.CHILD: '5'>: [RelatedNodeInfo(node_id='07cc5c05-9e0e-43cf-a8cd-87bce8795236', node_type=<ObjectType.TEXT: '1'>, metadata={}, hash='667194cbe757148765f188f5b254fe8ff58912a88813ea1f246e229ca9d2c115'), RelatedNodeInfo(node_id='b69bdd59-e82f-4590-99ba-e8f4d7033c80', node_type=<ObjectType.TEXT: '1'>, metadata={}, hash='9635300351cc5e2220303f9ea3023927c65d38dd18212412dc023408f6836dd2'), RelatedNodeInfo(node_id='5f2cf8ad-8ba4-4d91-83e1-e4355fbbb180', node_type=<ObjectType.TEXT: '1'>, metadata={}, hash='4a2c5cd35977023fbd7fc9a5866b62903bbd4bfc380bfdb7982b8b833752cb5d'), RelatedNodeInfo(node_id='4694f602-735b-4275-9e43-33afbfd68a0f', node_type=<ObjectType.TEXT: '1'>, metadata={}, hash='c20cd8d2c8db4348f33db22827a3d57dc4ad9cc1685df0549715df365ee29e98'), RelatedNodeInfo(node_id='45b71f50-e8d0-447f-9f99-80ebe7e9d20b', node_type=<ObjectType.TEXT: '1'>, metadata={}, hash='2a7fb12ff3c2996636e0ec5f3b7770ffd100909e892ea73e98ca7efddb55b0a0')]}, text='Unfortunately, not every business problem can be \\nreduced to optimizing test set accuracy! If you aren’t able to determine \\nreasonable milestones, it may be a sign that you need to learn more \\nabout the problem. A quick proof of concept can help supply the \\nmissing perspective.Assess the feasibility and value of potential solutions. You can determine \\nwhether an approach is technically feasible by looking at published work, \\nwhat competitors have done, or perhaps building a quick proof of concept \\nimplementation. You can determine its value by consulting with domain \\nexperts (say, power-grid operators, who can advise on the utility of the \\npotential solutions mentioned above).\\nBudget for resources. Think through everything you’ll need to get the \\nproject done including data, personnel, time, and any integrations or \\nsupport you may need from other teams. For example, if you need funds \\nto purchase satellite imagery, make sure that’s in the budget.\\nWorking on projects is an iterative process. If, at any step, you find that the current direction is \\ninfeasible, return to an earlier step and proceed with your new understanding. Is there a domain \\nthat excites you where AI might make a difference? I hope these steps will guide you in exploring it \\nthrough project work — even if you don’t yet have deep expertise in that field. AI won’t solve every \\nproblem, but as a community, let’s look for ways to make a positive impact wherever we can.Scoping Successful AI Projects CHAPTER 4\\nStep 3\\nStep 4\\nStep 5\\n\\nPAGE 17Finding Projects that \\nComplement Your \\nCareer GoalsCHAPTER 5\\nPROJECTS\\n\\nPAGE 18It goes without saying that we should only work on projects that are responsible, ethical, and \\nbeneficial to people. But those limits leave a large variety to choose from. In the previous chapter, \\nI wrote about how to identify and scope AI projects. This chapter and the next have a slightly \\ndifferent emphasis: picking and executing projects with an eye toward career development.\\nA fruitful career will include many projects, hopefully growing in scope, complexity, and impact \\nover time. Thus, it is fine to start small. Use early projects to learn and gradually step up to \\nbigger projects as your skills grow.\\nWhen you’re starting out, don’t expect others to hand great ideas or resources to you on a platter.', start_char_idx=6841, end_char_idx=9164, text_template='{metadata_str}\\n\\n{content}', metadata_template='{key}: {value}', metadata_seperator='\\n'),\n",
       " TextNode(id_='5fa264d3-2a7f-4911-8d0f-70e519220f6e', embedding=None, metadata={}, excluded_embed_metadata_keys=[], excluded_llm_metadata_keys=[], relationships={<NodeRelationship.SOURCE: '1'>: RelatedNodeInfo(node_id='198ef407-22c3-417c-9689-4ba87bceb1cf', node_type=<ObjectType.TEXT: '1'>, metadata={}, hash='601594bb882270ad63b4547797595e35b471287cec74dcc07134629cbb7d71f5'), <NodeRelationship.PREVIOUS: '2'>: RelatedNodeInfo(node_id='309b29e4-8ee0-4954-8117-b9646f05f795', node_type=<ObjectType.TEXT: '1'>, metadata={}, hash='4b0045e4377b0ee06a6fdef8b0eb0d04a975b57dc4e61130b24c4e7fc272a35d'), <NodeRelationship.PARENT: '4'>: RelatedNodeInfo(node_id='198ef407-22c3-417c-9689-4ba87bceb1cf', node_type=<ObjectType.TEXT: '1'>, metadata={}, hash='601594bb882270ad63b4547797595e35b471287cec74dcc07134629cbb7d71f5'), <NodeRelationship.CHILD: '5'>: [RelatedNodeInfo(node_id='74ac4111-5a03-4d19-8457-9c16c3783876', node_type=<ObjectType.TEXT: '1'>, metadata={}, hash='d6790adaae5a7c3e5228dbf1b49fbecd08df8686dfa0e5430d0c62081d68d605')]}, text='Many people start by working on small projects in their spare time. With initial successes — even \\nsmall ones — under your belt, your growing skills increase your ability to come up with better \\nideas, and it becomes easier to persuade others to help you step up to bigger projects.Finding Projects that Compliment Your Career Goals CHAPTER 5\\nJoin existing projects. If you find someone else with an idea, ask to join their project.', start_char_idx=9166, end_char_idx=9598, text_template='{metadata_str}\\n\\n{content}', metadata_template='{key}: {value}', metadata_seperator='\\n'),\n",
       " TextNode(id_='cf7b7040-37e8-434a-bea5-131dc5ee1c66', embedding=None, metadata={}, excluded_embed_metadata_keys=[], excluded_llm_metadata_keys=[], relationships={<NodeRelationship.SOURCE: '1'>: RelatedNodeInfo(node_id='730443c9-d17f-4100-8197-f9a8d4cc56d5', node_type=<ObjectType.TEXT: '1'>, metadata={}, hash='6525a8bf3daffcab2f741474233c2b987fdc366b65852e3989732546ef9f0662'), <NodeRelationship.NEXT: '3'>: RelatedNodeInfo(node_id='3649d508-4680-417c-9e94-dab8c0421232', node_type=<ObjectType.TEXT: '1'>, metadata={}, hash='34a2a7b0b563696b606b0bfbdd64588c08d29bb43794a74f473337dee137e700'), <NodeRelationship.PARENT: '4'>: RelatedNodeInfo(node_id='730443c9-d17f-4100-8197-f9a8d4cc56d5', node_type=<ObjectType.TEXT: '1'>, metadata={}, hash='6525a8bf3daffcab2f741474233c2b987fdc366b65852e3989732546ef9f0662'), <NodeRelationship.CHILD: '5'>: [RelatedNodeInfo(node_id='a3f96e57-f0ab-4ad6-a2b1-2810932d960a', node_type=<ObjectType.TEXT: '1'>, metadata={}, hash='8fa07ac6cc9328921d103275ebe02e102762cb388950d1f492854c4622505ed3'), RelatedNodeInfo(node_id='20374496-d43e-41aa-8b81-3f45b6f28c0c', node_type=<ObjectType.TEXT: '1'>, metadata={}, hash='83aff59e24bf440ade0a3339e1f36de1c215f0568165e14b08cc965541fdb0d3'), RelatedNodeInfo(node_id='368abbc0-c9ec-4dac-b639-76b5c57dd1bf', node_type=<ObjectType.TEXT: '1'>, metadata={}, hash='bbec256e33fb5bf053c86cf3af885d66bd596a2ae484abfffb86b54afc3814d0'), RelatedNodeInfo(node_id='85159cd6-ec33-4f7d-b2c9-16bbb7de58d0', node_type=<ObjectType.TEXT: '1'>, metadata={}, hash='29b0551f279b8818d3d5f97239d3998fc0061dbbe7fbf91e3f079b23362d9751'), RelatedNodeInfo(node_id='bc82378e-1f8a-4485-a717-6ce02d41f7a5', node_type=<ObjectType.TEXT: '1'>, metadata={}, hash='dc26c31c7c5639d900c0547721051fd8211ec29bb5ad2028dac07a0a007fb60c')]}, text='If you find someone else with an idea, ask to join their project.\\nKeep reading and talking to people. I come up with new ideas whenever I spend a lot of \\ntime reading, taking courses, or talking with domain experts. I’m confident that you will, too.\\nFocus on an application area. Many researchers are trying to advance basic AI technology \\n— say, by inventing the next generation of transformers or further scaling up language \\nmodels — so, while this is an exciting direction, it is also very hard. But the variety of \\napplications to which machine learning has not yet been applied is vast! I’m fortunate to \\nhave been able to apply neural networks to everything from autonomous helicopter flight to \\nonline advertising, partly because I jumped in when relatively few people were working on \\nthose applications. If your company or school cares about a particular application, explore \\nthe possibilities for machine learning. That can give you a first look at a potentially creative \\napplication — one where you can do unique work — that no one else has done yet.✓\\n✓\\n✓What if you don’t have any project ideas?\\nHere are a few ways to generate them:\\n\\nPAGE 19Develop a side hustle. Even if you have a full-time job, a fun project that may or may not \\ndevelop into something bigger can stir the creative juices and strengthen bonds with \\ncollaborators. When I was a full-time professor, working on online education wasn’t part of \\nmy “job” (which was doing research and teaching classes). It was a fun hobby that I often \\nworked on out of passion for education. My early experiences in recording videos at home \\nhelped me later in working on online education in a more substantive way. Silicon Valley \\nabounds with stories of startups that started as side projects. As long as it doesn’t create a \\nconflict with your employer, these projects can be a stepping stone to something significant.\\nWill the project help you grow technically? Ideally, it should be challenging enough to \\nstretch your skills but not so hard that you have little chance of success. This will put you \\non a path toward mastering ever-greater technical complexity.\\nDo you have good teammates to work with? If not, are there people you can discuss things \\nwith? We learn a lot from the people around us, and good collaborators will have a huge \\nimpact on your growth.', start_char_idx=0, end_char_idx=2336, text_template='{metadata_str}\\n\\n{content}', metadata_template='{key}: {value}', metadata_seperator='\\n'),\n",
       " TextNode(id_='3649d508-4680-417c-9e94-dab8c0421232', embedding=None, metadata={}, excluded_embed_metadata_keys=[], excluded_llm_metadata_keys=[], relationships={<NodeRelationship.SOURCE: '1'>: RelatedNodeInfo(node_id='730443c9-d17f-4100-8197-f9a8d4cc56d5', node_type=<ObjectType.TEXT: '1'>, metadata={}, hash='6525a8bf3daffcab2f741474233c2b987fdc366b65852e3989732546ef9f0662'), <NodeRelationship.PREVIOUS: '2'>: RelatedNodeInfo(node_id='cf7b7040-37e8-434a-bea5-131dc5ee1c66', node_type=<ObjectType.TEXT: '1'>, metadata={}, hash='4b58698edfde4b6bf1c900cc32c13fd7cf68fae23a3551179b78c7b51707e1bf'), <NodeRelationship.NEXT: '3'>: RelatedNodeInfo(node_id='b2dd99be-4023-4aad-ab06-57ff07dbe323', node_type=<ObjectType.TEXT: '1'>, metadata={}, hash='cde815b5e9553cbd74df690c4396a98b85b2856a9015df3284a735ffae25f533'), <NodeRelationship.PARENT: '4'>: RelatedNodeInfo(node_id='730443c9-d17f-4100-8197-f9a8d4cc56d5', node_type=<ObjectType.TEXT: '1'>, metadata={}, hash='6525a8bf3daffcab2f741474233c2b987fdc366b65852e3989732546ef9f0662'), <NodeRelationship.CHILD: '5'>: [RelatedNodeInfo(node_id='210b6193-296d-4d17-b0a5-69dbb88bffa9', node_type=<ObjectType.TEXT: '1'>, metadata={}, hash='439cd15cff35a063a8f4e13307c177f72dd818bdb6e67ea1f40a6d9cef2eea54'), RelatedNodeInfo(node_id='15df1f1e-d0aa-4450-bcac-58d4be76fdd5', node_type=<ObjectType.TEXT: '1'>, metadata={}, hash='a492a9d948027738cc1f1c38771d2f6d6d1844c51d5e971581d1cd4c3233459a'), RelatedNodeInfo(node_id='b925ce7e-3d9d-45a2-a442-101e42df6e09', node_type=<ObjectType.TEXT: '1'>, metadata={}, hash='c8d8005ec4ac9a57f7192566e19c4ef54f167e6994adf89721f6d9e6c348c09f'), RelatedNodeInfo(node_id='71245152-02df-468b-ac0e-434197e4aefc', node_type=<ObjectType.TEXT: '1'>, metadata={}, hash='c7b3eb04f10823eec8736ccf3ea50df62d62434863de4694e7134ea4452d829b'), RelatedNodeInfo(node_id='c3e12c0f-b7c1-47e5-8899-1e9bdc611d93', node_type=<ObjectType.TEXT: '1'>, metadata={}, hash='4e1592268886d6f275be1def616d6ed6d54f1a97175b1f0cc9728a528aed1046'), RelatedNodeInfo(node_id='749ba0d8-d960-4ba3-990c-eca7b6a9f63d', node_type=<ObjectType.TEXT: '1'>, metadata={}, hash='895869474f1bc32b5df5927967e7f5be626884342ddcded9f345ac1d6d3bf873')]}, text=\"Can it be a stepping stone?  If the project is successful, will its technical complexity and/\\nor business impact make it a meaningful stepping stone to larger projects? If the project \\nis bigger than those you’ve worked on before, there’s a good chance it could be such a \\nstepping stone.✓\\n✓\\n✓\\n✓Given a few project ideas, which one should you jump into? \\nHere’s a quick checklist of factors to consider:\\nFinally, avoid analysis paralysis. It doesn’t make sense to spend a month deciding whether to \\nwork on a project that would take a week to complete. You'll work on multiple projects over \\nthe course of your career, so you’ll have ample opportunity to refine your thinking on what’s \\nworthwhile. Given the huge number of possible AI projects, rather than the conventional “ready, \\naim, fire” approach, you can accelerate your progress with “ready, fire, aim.”Finding Projects that Compliment Your Career Goals CHAPTER 5\\n\\nPAGE 20Working on projects requires making tough choices about what to build and how to go \\nabout it. Here are two distinct styles:\\nSay you’ve built a customer-service chatbot for retailers, and you think it could help restaurants, \\ntoo. Should you take time to study the restaurant market before starting development, moving \\nslowly but cutting the risk of wasting time and resources? Or jump in right away, moving \\nquickly and accepting a higher risk of pivoting or failing?\\nBoth approaches have their advocates, and the best choice depends on the situation.\\nReady, Aim, Fire tends to be superior when the cost of execution is high and a study can shed \\nlight on how useful or valuable a project could be. For example, if you can brainstorm a few \\nother use cases (restaurants, airlines, telcos, and so on) and evaluate these cases to identify \\nthe most promising one, it may be worth taking the extra time before committing to a direction.\\nReady, Fire, Aim tends to be better if you can execute at low cost and, in doing so, determine \\nwhether the direction is feasible and discover tweaks that will make it work. For example, if \\nyou can build a prototype quickly to figure out if users want the product, and if canceling or \\npivoting after a small amount of work is acceptable, then it makes sense to consider jumping \\nin quickly.\", start_char_idx=2337, end_char_idx=4596, text_template='{metadata_str}\\n\\n{content}', metadata_template='{key}: {value}', metadata_seperator='\\n'),\n",
       " TextNode(id_='b2dd99be-4023-4aad-ab06-57ff07dbe323', embedding=None, metadata={}, excluded_embed_metadata_keys=[], excluded_llm_metadata_keys=[], relationships={<NodeRelationship.SOURCE: '1'>: RelatedNodeInfo(node_id='730443c9-d17f-4100-8197-f9a8d4cc56d5', node_type=<ObjectType.TEXT: '1'>, metadata={}, hash='6525a8bf3daffcab2f741474233c2b987fdc366b65852e3989732546ef9f0662'), <NodeRelationship.PREVIOUS: '2'>: RelatedNodeInfo(node_id='3649d508-4680-417c-9e94-dab8c0421232', node_type=<ObjectType.TEXT: '1'>, metadata={}, hash='34a2a7b0b563696b606b0bfbdd64588c08d29bb43794a74f473337dee137e700'), <NodeRelationship.NEXT: '3'>: RelatedNodeInfo(node_id='90dc8133-b25e-45f2-8da8-df47de75ab95', node_type=<ObjectType.TEXT: '1'>, metadata={}, hash='000667d782fb549a3fe0446b30f5510de245f0f4926fe090956c576176eceb8d'), <NodeRelationship.PARENT: '4'>: RelatedNodeInfo(node_id='730443c9-d17f-4100-8197-f9a8d4cc56d5', node_type=<ObjectType.TEXT: '1'>, metadata={}, hash='6525a8bf3daffcab2f741474233c2b987fdc366b65852e3989732546ef9f0662'), <NodeRelationship.CHILD: '5'>: [RelatedNodeInfo(node_id='ad282afa-1554-405f-a3e9-dd5875c9322f', node_type=<ObjectType.TEXT: '1'>, metadata={}, hash='6dd30659c792d523d5da60b706af9b4f9eaaac466219267254d27481391f594a'), RelatedNodeInfo(node_id='489e877b-4825-41bd-bccf-e4a4525696ef', node_type=<ObjectType.TEXT: '1'>, metadata={}, hash='aa7b7e1565579ea39be1eaa0ba39e6c830d33321be8b700942b74d0c0782f132'), RelatedNodeInfo(node_id='388b0657-2dd3-4c64-8cab-455f9ff589dc', node_type=<ObjectType.TEXT: '1'>, metadata={}, hash='088edb1ecda26fbc3ae464b221a25bbc5cbb8bf3b4b6aa3e15edf2bf68f4deb3'), RelatedNodeInfo(node_id='78190080-d673-495c-81ac-57f85c0281dd', node_type=<ObjectType.TEXT: '1'>, metadata={}, hash='75569463e1f55fbfd7c6a1573e028b702d320d041129bfac7621f99270320dc9'), RelatedNodeInfo(node_id='ef6b5b5b-c653-462a-a083-50f03f7c1b79', node_type=<ObjectType.TEXT: '1'>, metadata={}, hash='de0c34e32ea2b9b26424e3cdadfd2fdc4ca2ab23653901537e58a1c6625b48d7')]}, text='When taking a shot is inexpensive, it also makes sense to take many shots. In this \\ncase, the process is actually Ready, Fire, Aim, Fire, Aim, Fire, Aim, Fire. \\nAfter agreeing upon a project direction, when it comes to building a machine learning model \\nthat’s part of the product, I have a bias toward Ready, Fire, Aim. Building models is an iterative \\nprocess. For many applications, the cost of training and conducting error analysis is not \\nprohibitive. Furthermore, it is very difficult to carry out a study that will shed light on the \\nappropriate model, data, and hyperparameters. So it makes sense to build an end-to-end \\nsystem quickly and revise it until it works well.\\nBut when committing to a direction means making a costly investment or entering a one-\\nway door  (meaning a decision that’s hard to reverse), it’s often worth spending more time in \\nadvance to make sure it really is a good idea.Ready, Fire, Aim\\nReady, Aim, Fire: Plan carefully and carry out careful validation. Commit and \\nexecute only when you have a high degree of confidence in a direction.\\nReady, Fire, Aim: Jump into development and start executing. This allows you to \\ndiscover problems quickly and pivot along the way if necessary.✓\\n✓\\n\\nPAGE 21Building a Portfolio of \\nProjects that Shows \\nSkill Progression CHAPTER 6\\nPROJECTS\\n\\nPAGE 22Over the course of a career, you’re likely to work on projects in succession, each growing in \\nscope and complexity. For example:\\nThe first few projects might be narrowly scoped \\nhomework assignments with predetermined right \\nanswers. These are often great learning experiences!\\nEventually, you will gain enough skill to build projects in \\nwhich others see more tangible value. This opens the door \\nto more resources. For example, rather than developing \\nmachine learning systems in your spare time, it might \\nbecome part of your job, and you might gain access to more \\nequipment, compute time, labeling budget, or head count.You might go on to work on small-scale projects either alone or with friends.', start_char_idx=4597, end_char_idx=6622, text_template='{metadata_str}\\n\\n{content}', metadata_template='{key}: {value}', metadata_seperator='\\n'),\n",
       " TextNode(id_='90dc8133-b25e-45f2-8da8-df47de75ab95', embedding=None, metadata={}, excluded_embed_metadata_keys=[], excluded_llm_metadata_keys=[], relationships={<NodeRelationship.SOURCE: '1'>: RelatedNodeInfo(node_id='730443c9-d17f-4100-8197-f9a8d4cc56d5', node_type=<ObjectType.TEXT: '1'>, metadata={}, hash='6525a8bf3daffcab2f741474233c2b987fdc366b65852e3989732546ef9f0662'), <NodeRelationship.PREVIOUS: '2'>: RelatedNodeInfo(node_id='b2dd99be-4023-4aad-ab06-57ff07dbe323', node_type=<ObjectType.TEXT: '1'>, metadata={}, hash='cde815b5e9553cbd74df690c4396a98b85b2856a9015df3284a735ffae25f533'), <NodeRelationship.NEXT: '3'>: RelatedNodeInfo(node_id='e7970447-69c3-4bd1-b562-8f3b47de633e', node_type=<ObjectType.TEXT: '1'>, metadata={}, hash='5f1120cd9bf6a6d9596183d6c16f4cc893e31e95b4b3b57b9ce407f5afa8d76a'), <NodeRelationship.PARENT: '4'>: RelatedNodeInfo(node_id='730443c9-d17f-4100-8197-f9a8d4cc56d5', node_type=<ObjectType.TEXT: '1'>, metadata={}, hash='6525a8bf3daffcab2f741474233c2b987fdc366b65852e3989732546ef9f0662'), <NodeRelationship.CHILD: '5'>: [RelatedNodeInfo(node_id='e942f7c0-2add-4047-a034-144cca5fc964', node_type=<ObjectType.TEXT: '1'>, metadata={}, hash='66d15f7fc1e4d18a71dcb181af697cb6a95af38e49bf6dcd8e53e610c15135c1'), RelatedNodeInfo(node_id='af36d6ca-b9b6-4c6b-92f2-1578e34ad51e', node_type=<ObjectType.TEXT: '1'>, metadata={}, hash='75d7159d19b77eda2a5b5f03a70f9c07d8d7e14d5b87ded15f99f749781cd1d0'), RelatedNodeInfo(node_id='a1b5c53a-b851-4b29-9188-d647ac81ee80', node_type=<ObjectType.TEXT: '1'>, metadata={}, hash='92de0c3f7263df0cb4c4a5c957ee1a63c0c2341e6b5b81515a4158d7f1743ea2'), RelatedNodeInfo(node_id='472adfd6-aa48-4f75-bb10-8934e1cfb96a', node_type=<ObjectType.TEXT: '1'>, metadata={}, hash='9e917086936fa2834feab416cac8604ed1aa24b996563450f7ef762dc44fd519')]}, text='For instance, you might re-implement a known algorithm, apply machine \\nlearning to a hobby (such as predicting whether your favorite sports team \\nwill win), or build a small but useful system at work in your spare time (such \\nas a machine learning-based script that helps a colleague automate some of \\ntheir work). Participating in competitions such as those organized by Kaggle \\nis also one way to gain experience.\\nSuccesses build on each other, opening the door to \\nmore technical growth, more resources, and increasingly \\nsignificant project opportunities.1. Class projects:\\n3. Creating value2. Personal projects\\n4. Rising scope and complexityBuilding a Portfolio of Projects That Shows Skill Progression CHAPTER 6\\n\\nPAGE 23Each project is only one step on a longer journey, hopefully one that has a positive impact. In addition:\\nDon’t worry about starting too small. One of my first machine learning research projects involved \\ntraining a neural network to see how well it could mimic the sin(x) function. It wasn’t very useful, but \\nwas a great learning experience that enabled me to move on to bigger projects.\\nBuilding a portfolio of projects, especially one \\nthat shows progress over time from simple to \\ncomplex undertakings, will be a big help when \\nit comes to looking for a job.Communication is key.  You need to be able to explain your thinking if you want others to see \\nthe value in your work and trust you with resources that you can invest in larger projects. To get \\na project started, communicating the value of what you hope to build will help bring colleagues, \\nmentors, and managers onboard — and help them point out flaws in your reasoning. After you’ve \\nfinished, the ability to explain clearly what you accomplished will help convince others to open the \\ndoor to larger projects.\\nLeadership isn’t just for managers.  When you reach the point of working on larger AI projects that \\nrequire teamwork, your ability to lead projects will become more important, whether or not you are \\nin a formal position of leadership.', start_char_idx=6624, end_char_idx=8664, text_template='{metadata_str}\\n\\n{content}', metadata_template='{key}: {value}', metadata_seperator='\\n'),\n",
       " TextNode(id_='e7970447-69c3-4bd1-b562-8f3b47de633e', embedding=None, metadata={}, excluded_embed_metadata_keys=[], excluded_llm_metadata_keys=[], relationships={<NodeRelationship.SOURCE: '1'>: RelatedNodeInfo(node_id='730443c9-d17f-4100-8197-f9a8d4cc56d5', node_type=<ObjectType.TEXT: '1'>, metadata={}, hash='6525a8bf3daffcab2f741474233c2b987fdc366b65852e3989732546ef9f0662'), <NodeRelationship.PREVIOUS: '2'>: RelatedNodeInfo(node_id='90dc8133-b25e-45f2-8da8-df47de75ab95', node_type=<ObjectType.TEXT: '1'>, metadata={}, hash='000667d782fb549a3fe0446b30f5510de245f0f4926fe090956c576176eceb8d'), <NodeRelationship.PARENT: '4'>: RelatedNodeInfo(node_id='730443c9-d17f-4100-8197-f9a8d4cc56d5', node_type=<ObjectType.TEXT: '1'>, metadata={}, hash='6525a8bf3daffcab2f741474233c2b987fdc366b65852e3989732546ef9f0662'), <NodeRelationship.CHILD: '5'>: [RelatedNodeInfo(node_id='8f58eccf-7de4-412f-947c-bc8d018dbc02', node_type=<ObjectType.TEXT: '1'>, metadata={}, hash='87a4e166687d3ae0028c285757a1cabaf80ab79dd9000f4ff07201056a663704'), RelatedNodeInfo(node_id='c90b26a2-ffc5-43b7-ada3-7ef15eb6a7a4', node_type=<ObjectType.TEXT: '1'>, metadata={}, hash='2737bd0ae48fe1a20a22e52aa1af82dbccf7785dcc61ae944f2125e9c25c5e5b')]}, text='Many of my friends have successfully pursued a technical rather \\nthan managerial career, and their ability to help steer a project by applying deep technical insights \\n— for example, when to invest in a new technical architecture or collect more data of a certain type \\n— allowed them to grow as leaders and also helped significantly improve the project.Building a Portfolio of Projects That Shows Skill Progression CHAPTER 6\\n\\nPAGE 24A Simple Framework \\nfor Starting Your AI \\nJob SearchCHAPTER 7\\nJOBS\\n\\nPAGE 25Finding a job has a few predictable steps that include selecting the companies to which you \\nwant to apply, preparing for interviews, and finally picking a role and negotiating a salary and \\nbenefits.', start_char_idx=8665, end_char_idx=9374, text_template='{metadata_str}\\n\\n{content}', metadata_template='{key}: {value}', metadata_seperator='\\n'),\n",
       " TextNode(id_='543cd05e-973a-4fdc-8525-c5d933e913f2', embedding=None, metadata={}, excluded_embed_metadata_keys=[], excluded_llm_metadata_keys=[], relationships={<NodeRelationship.SOURCE: '1'>: RelatedNodeInfo(node_id='7bc0ccab-9fe7-45f9-9141-5a20545fbf65', node_type=<ObjectType.TEXT: '1'>, metadata={}, hash='0000e7f97d6f41ec2cda7edf4064ec596ee44ba60cf37a7a3f93ddfdb49ed220'), <NodeRelationship.NEXT: '3'>: RelatedNodeInfo(node_id='e022fd1a-6ae3-4f9f-8031-8496e7edb669', node_type=<ObjectType.TEXT: '1'>, metadata={}, hash='1b1666b1135f61eafb8b02f4a04c933640da12484d22e05aff7b0c0548f0cca3'), <NodeRelationship.PARENT: '4'>: RelatedNodeInfo(node_id='7bc0ccab-9fe7-45f9-9141-5a20545fbf65', node_type=<ObjectType.TEXT: '1'>, metadata={}, hash='0000e7f97d6f41ec2cda7edf4064ec596ee44ba60cf37a7a3f93ddfdb49ed220'), <NodeRelationship.CHILD: '5'>: [RelatedNodeInfo(node_id='125abf1c-a442-46b6-8086-8fa3cdc0d58f', node_type=<ObjectType.TEXT: '1'>, metadata={}, hash='51a4284b6ffb94d1d3ee6e3697048ea69ae7f8ced90aab42b07890ad5574de38'), RelatedNodeInfo(node_id='f7f53e2e-1eee-4553-a0e4-c156787b7298', node_type=<ObjectType.TEXT: '1'>, metadata={}, hash='0a666baa47ade18f9c7a74970a92916f1db08c60c496e7878c5b5a8aa4fc6e8d'), RelatedNodeInfo(node_id='738b4a64-23be-49cf-ae34-ab954161d7c8', node_type=<ObjectType.TEXT: '1'>, metadata={}, hash='c7203ef4f798f399b67c1309322aca15d472e79f3b0d9f863b1758d72f70746c'), RelatedNodeInfo(node_id='fd41f554-2d47-4d71-abd2-9f339a08e130', node_type=<ObjectType.TEXT: '1'>, metadata={}, hash='9bbdb98f9b4eb1ab77bcb30f16d3132f8bfed81ed7d32f8a1f60b0d27956111e'), RelatedNodeInfo(node_id='48d5d8c5-6d61-475a-8307-23e09af9b875', node_type=<ObjectType.TEXT: '1'>, metadata={}, hash='f6ea2e120a0c9149178c5590e8d286eeac91849220e5b09a3168d7f233b7633d'), RelatedNodeInfo(node_id='dd620adc-f4d6-42f4-a177-9e31c2b72e47', node_type=<ObjectType.TEXT: '1'>, metadata={}, hash='1c388a6560b10c948a477a93fe0d8f8732c287204bb8b58d25b72a79aebfc404')]}, text='In this chapter, I’d like to focus on a framework that’s useful for many job seekers in \\nAI, especially those who are entering AI from a different field.\\nA product manager at a tech startup who becomes a data scientist at the same company (or a \\ndifferent one) has switched roles. A marketer at a manufacturing firm who becomes a marketer \\nin a tech company has switched industries. An analyst in a financial services company who \\nbecomes a machine learning engineer in a tech company has switched both roles and industries.\\nIf you’re looking for your first job in AI, you’ll probably find switching either roles or industries \\neasier than doing both at the same time. Let’s say you’re the analyst working in financial services:If you’re considering your next job, ask yourself:\\nJob \\nSearchAre you switching roles? For example, if you’re a software engineer, \\nuniversity student, or physicist who’s looking to become a machine learning \\nengineer, that’s a role switch.\\nAre you switching industries? For example, if you work for a healthcare \\ncompany, financial services company, or a government agency and want \\nto work for a software company, that’s a switch in industries.✓\\n✓\\nIf you find a data science or machine learning job in financial services, you can continue \\nto use your domain-specific knowledge while gaining knowledge and expertise in AI. After \\nworking in this role for a while, you’ll be better positioned to switch to a tech company (if \\nthat’s still your goal).\\nAlternatively, if you become an analyst in a tech company, you can continue to use your \\nskills as an analyst but apply them to a different industry. Being part of a tech company also \\nmakes it much easier to learn from colleagues about practical challenges of AI, key skills to \\nbe successful in AI, and so on.✓\\n✓A Simple Framework for Starting You AI Job Search CHAPTER 7\\nTECHFINANCIAL \\nSERVICESRole & Industry SwitchRole Switch\\nIndustry SwitchANALYSTMACHINE LEARNING \\nENGINEER\\n\\nPAGE 26If you’re considering a role switch, a startup can be an easier place to do it than a big company. \\nWhile there are exceptions, startups usually don’t have enough people to do all the desired \\nwork. If you’re able to help with AI tasks — even if it’s not your official job — your work is likely \\nto be appreciated.', start_char_idx=0, end_char_idx=2282, text_template='{metadata_str}\\n\\n{content}', metadata_template='{key}: {value}', metadata_seperator='\\n'),\n",
       " TextNode(id_='e022fd1a-6ae3-4f9f-8031-8496e7edb669', embedding=None, metadata={}, excluded_embed_metadata_keys=[], excluded_llm_metadata_keys=[], relationships={<NodeRelationship.SOURCE: '1'>: RelatedNodeInfo(node_id='7bc0ccab-9fe7-45f9-9141-5a20545fbf65', node_type=<ObjectType.TEXT: '1'>, metadata={}, hash='0000e7f97d6f41ec2cda7edf4064ec596ee44ba60cf37a7a3f93ddfdb49ed220'), <NodeRelationship.PREVIOUS: '2'>: RelatedNodeInfo(node_id='543cd05e-973a-4fdc-8525-c5d933e913f2', node_type=<ObjectType.TEXT: '1'>, metadata={}, hash='ed772637fefd249eafed43e295b791c231d408c1311bba4ee3ddcda8e25406eb'), <NodeRelationship.NEXT: '3'>: RelatedNodeInfo(node_id='73a1f997-9649-45bb-afa1-6e2c604c6c1c', node_type=<ObjectType.TEXT: '1'>, metadata={}, hash='e4d9d24444efb46ce9b083a72cf4d0b078b7f8f3edc29cf5917f1f296301057f'), <NodeRelationship.PARENT: '4'>: RelatedNodeInfo(node_id='7bc0ccab-9fe7-45f9-9141-5a20545fbf65', node_type=<ObjectType.TEXT: '1'>, metadata={}, hash='0000e7f97d6f41ec2cda7edf4064ec596ee44ba60cf37a7a3f93ddfdb49ed220'), <NodeRelationship.CHILD: '5'>: [RelatedNodeInfo(node_id='a042944f-072f-46ec-a915-9c331ed117f0', node_type=<ObjectType.TEXT: '1'>, metadata={}, hash='223c2ebe291098765cc4fd8bd604ad4bfae6b806adbb1572ae52ebb907bd3290'), RelatedNodeInfo(node_id='efce50d2-9764-4ae4-8e08-1eaa8de2844e', node_type=<ObjectType.TEXT: '1'>, metadata={}, hash='697d44b374bbbae7a6345095a8b1d5d0a9bb8c46d524bac374139d6919f25d51'), RelatedNodeInfo(node_id='d08df748-bb47-4aae-93d2-169688114167', node_type=<ObjectType.TEXT: '1'>, metadata={}, hash='88ed21a610c7a06412768bdf419f989ef16d0e1649d454f96656349be45b7508'), RelatedNodeInfo(node_id='1bdc4282-b509-4850-a94e-c3a8e3793bd3', node_type=<ObjectType.TEXT: '1'>, metadata={}, hash='dbc7c74fe7536d29e6cc4ef6ff722022fe332b4417f9327316ce6f87e6ee5551'), RelatedNodeInfo(node_id='92d8db79-f6af-4201-b1f4-b2b7b000a7f9', node_type=<ObjectType.TEXT: '1'>, metadata={}, hash='cd7c67b4d64d8ec0939108120d1bac03404f14891d9a624db1002d2e2cb5280d')]}, text='This lays the groundwork for a possible role switch without needing to leave \\nthe company. In contrast, in a big company, a rigid reward system is more likely to reward you \\nfor doing your job well (and your manager for supporting you in doing the job for which you were \\nhired), but it’s not as likely to reward contributions outside your job’s scope.\\nAfter working for a while in your desired role and industry (for example, a machine learning \\nengineer in a tech company), you’ll have a good sense of the requirements for that role in that \\nindustry at a more senior level. You’ll also have a network within that industry to help you along. \\nSo future job searches — if you choose to stick with the role and industry — likely will be easier.\\nWhen changing jobs, you’re taking a step into the unknown, particularly if you’re switching either \\nroles or industries. One of the most underused tools for becoming more familiar with a new role \\nand/or industry is the informational interview. I’ll share more about that in the next chapter.\\nI’m grateful to Salwa Nur Muhammad, CEO of FourthBrain (a DeepLearning.AI affiliate), for providing \\nsome of the ideas presented in this chapter.\\n\\n\\nPAGE 27There’s a lot we don’t know about the future: When will we cure Alzheimer’s disease? Who will \\nwin the next election? Or, in a business context, how many customers will we have next year?\\nWith so many changes going on in the world, many people are feeling stressed about the \\nfuture, especially when it comes to finding a job. I have a practice that helps me regain a sense \\nof control. Faced with uncertainty, I try to:\\nFor example, during the Covid-19 pandemic back in March 2020, I did this scenario planning \\nexercise. I imagined quick (three months), medium (one year), and slow (two years) recoveries \\nfrom Covid-19 and made plans for managing each case. These plans have helped me prioritize \\nwhere I can.\\nThe same method can apply to personal life, too. If you’re not sure you’ll pass an exam, get a \\njob offer, or be granted a visa — all of which can be stressful — you can write out what you’d \\ndo in each of the likely scenarios. Thinking through the possibilities and following through on \\nplans can help you navigate the future effectively no matter what it brings.', start_char_idx=2283, end_char_idx=4554, text_template='{metadata_str}\\n\\n{content}', metadata_template='{key}: {value}', metadata_seperator='\\n'),\n",
       " TextNode(id_='73a1f997-9649-45bb-afa1-6e2c604c6c1c', embedding=None, metadata={}, excluded_embed_metadata_keys=[], excluded_llm_metadata_keys=[], relationships={<NodeRelationship.SOURCE: '1'>: RelatedNodeInfo(node_id='7bc0ccab-9fe7-45f9-9141-5a20545fbf65', node_type=<ObjectType.TEXT: '1'>, metadata={}, hash='0000e7f97d6f41ec2cda7edf4064ec596ee44ba60cf37a7a3f93ddfdb49ed220'), <NodeRelationship.PREVIOUS: '2'>: RelatedNodeInfo(node_id='e022fd1a-6ae3-4f9f-8031-8496e7edb669', node_type=<ObjectType.TEXT: '1'>, metadata={}, hash='1b1666b1135f61eafb8b02f4a04c933640da12484d22e05aff7b0c0548f0cca3'), <NodeRelationship.NEXT: '3'>: RelatedNodeInfo(node_id='f700b318-a6dc-43af-818e-cf4dc5e54e3b', node_type=<ObjectType.TEXT: '1'>, metadata={}, hash='1e851f1be1eb1fc10790b3466f365a8d46d2316e8fcfe667bc01ece7c652e8fc'), <NodeRelationship.PARENT: '4'>: RelatedNodeInfo(node_id='7bc0ccab-9fe7-45f9-9141-5a20545fbf65', node_type=<ObjectType.TEXT: '1'>, metadata={}, hash='0000e7f97d6f41ec2cda7edf4064ec596ee44ba60cf37a7a3f93ddfdb49ed220'), <NodeRelationship.CHILD: '5'>: [RelatedNodeInfo(node_id='ef7b4369-e439-4326-9875-dc666ae373a0', node_type=<ObjectType.TEXT: '1'>, metadata={}, hash='9189be46d89fde283b9515ed9c60f3405a72f05dd9ecc3b139d726dea776987b'), RelatedNodeInfo(node_id='a9dc5d17-fe3b-41a4-b717-5384fd2446c5', node_type=<ObjectType.TEXT: '1'>, metadata={}, hash='a4f9ffc28a88ba463e5433fb51ae62961a782ae99bb49b14bb936c5b0330aab9'), RelatedNodeInfo(node_id='0c6b3530-f23f-43a5-bc2a-135a1e5a822b', node_type=<ObjectType.TEXT: '1'>, metadata={}, hash='c6957264f56d75a2c2f541b2231281bb0557d7c1888b95363b031f04944df520'), RelatedNodeInfo(node_id='4c2fd68a-c22f-4cfa-95aa-34d5aebfb67a', node_type=<ObjectType.TEXT: '1'>, metadata={}, hash='35bd005404df7493e74f4538c40ecee4b13468b089f407bfaa103921488ca7fb'), RelatedNodeInfo(node_id='ad3eccf0-4657-4f1c-8ba4-b68313848fd8', node_type=<ObjectType.TEXT: '1'>, metadata={}, hash='0b69eb1e83d4e77238c672fe7d50ead18f0936850e4ff3b4f6e85b95f5139ff5')]}, text='Bonus: With training in AI and statistics, you can calculate a probability for each scenario. \\nI’m a fan of the Superforecasting methodology, in which the judgments of many experts are \\nsynthesized into a probability estimate. Overcoming Uncertainty\\nMake a list of plausible scenarios, \\nacknowledging that I don’t know \\nwhich will come to pass.Create a plan of action \\nfor each scenario.\\nStart executing actions \\nthat seem reasonable.Review scenarios and plans \\nperiodically as the future \\ncomes into focus.1 2\\n3 4\\n\\nPAGE 28Using Informational \\nInterviews to Find \\nthe Right JobCHAPTER 8\\nJOBS\\n\\nPAGE 29If you’re preparing to switch roles (say, taking a job as a machine learning engineer for the first \\ntime) or industries (say, working in an AI tech company for the first time), there’s a lot about \\nyour target job that you probably don’t know. A technique known as informational interviewing \\nis a great way to learn.\\nAn informational interview involves finding someone in a company or role you’d like to know \\nmore about and informally interviewing them about their work. Such conversations are separate \\nfrom searching for a job. In fact, it’s helpful to interview people who hold positions that align \\nwith your interests well before you’re ready to kick off a job search.\\nPrepare for informational interviews by researching the interviewee and company in advance, \\nso you can arrive with thoughtful questions. You might ask:Informational interviews are particularly relevant to AI. Because the field is evolving, many \\ncompanies use job titles in inconsistent ways. In one company, data scientists might be \\nexpected mainly to analyze business data and present conclusions on a slide deck. In \\nanother, they might write and maintain production code. An informational interview can help \\nyou sort out what the AI people in a particular company actually do.\\nWith the rapid expansion of opportunities in AI, many people will be taking on an AI job for \\nthe first time. In this case, an informational interview can be invaluable for learning what \\nhappens and what skills are needed to do the job well. For example, you can learn what \\nalgorithms, deployment processes, and software stacks a particular company uses.', start_char_idx=4555, end_char_idx=6772, text_template='{metadata_str}\\n\\n{content}', metadata_template='{key}: {value}', metadata_seperator='\\n'),\n",
       " TextNode(id_='f700b318-a6dc-43af-818e-cf4dc5e54e3b', embedding=None, metadata={}, excluded_embed_metadata_keys=[], excluded_llm_metadata_keys=[], relationships={<NodeRelationship.SOURCE: '1'>: RelatedNodeInfo(node_id='7bc0ccab-9fe7-45f9-9141-5a20545fbf65', node_type=<ObjectType.TEXT: '1'>, metadata={}, hash='0000e7f97d6f41ec2cda7edf4064ec596ee44ba60cf37a7a3f93ddfdb49ed220'), <NodeRelationship.PREVIOUS: '2'>: RelatedNodeInfo(node_id='73a1f997-9649-45bb-afa1-6e2c604c6c1c', node_type=<ObjectType.TEXT: '1'>, metadata={}, hash='e4d9d24444efb46ce9b083a72cf4d0b078b7f8f3edc29cf5917f1f296301057f'), <NodeRelationship.PARENT: '4'>: RelatedNodeInfo(node_id='7bc0ccab-9fe7-45f9-9141-5a20545fbf65', node_type=<ObjectType.TEXT: '1'>, metadata={}, hash='0000e7f97d6f41ec2cda7edf4064ec596ee44ba60cf37a7a3f93ddfdb49ed220'), <NodeRelationship.CHILD: '5'>: [RelatedNodeInfo(node_id='cc24d386-b234-4870-9805-3a8e971e8771', node_type=<ObjectType.TEXT: '1'>, metadata={}, hash='1c4b5d3a7f4b0e75d8eabd60b8fae525d2be5eca1bbb12abf4a3cf7826200fea'), RelatedNodeInfo(node_id='4283e17a-7aae-44c1-9dac-8bb4ce0c2898', node_type=<ObjectType.TEXT: '1'>, metadata={}, hash='82a43644b190a4b3f77e458188a30a8387f74885eefb024d829f4e079f66f01d'), RelatedNodeInfo(node_id='d5dcc112-0d5d-45eb-b0d1-e3525ced947d', node_type=<ObjectType.TEXT: '1'>, metadata={}, hash='27fdeaebc4e86e9e541925cabb2fc20cb20bc4df04656b808e2da804f9c3c79d'), RelatedNodeInfo(node_id='b083e94d-4ebf-4a81-b1aa-3988fd2c75cc', node_type=<ObjectType.TEXT: '1'>, metadata={}, hash='15bb3b3494e916f8ebb22a2ac000a79c7d3d1b954b48206d0238b2051a04678e')]}, text='You \\nmay be surprised — if you’re not already familiar with the data-centric AI movement — to \\nlearn how much time most machine learning engineers spend iteratively cleaning datasets.✓\\n✓\\nWhat do you do in a typical week or day?\\nWhat are the most important tasks in this role?\\nWhat skills are most important for success?\\nHow does your team work together to accomplish its goals?\\nWhat is the hiring process?\\nConsidering candidates who stood out in the past, what enabled them to shine?✓\\n✓\\n✓\\n✓\\n✓\\n✓Using Informational Interviews to Find the Right Job CHAPTER 8\\n\\nPAGE 30Finding someone to interview isn’t always easy, but many people who are in senior positions today \\nreceived help when they were new from those who had entered the field ahead of them, and many \\nare eager to pay it forward. If you can reach out to someone who’s already in your network — \\nperhaps a friend who made the transition ahead of you or someone who attended the same school \\nas you — that’s great! Meetups such as Pie & AI can also help you build your network.\\nFinally, be polite and professional, and thank the people you’ve interviewed. And when you get \\na chance, please pay it forward as well and help someone coming up after you. If you receive \\na request for an informational interview from someone in the DeepLearning.AI community, \\nI hope you’ll lean in to help them take a step up! If you’re interested in learning more about \\ninformational interviews, I recommend this article from the UC Berkeley Career Center.\\nI’ve mentioned a few times the importance of your network and community. People you’ve \\nmet, beyond providing valuable information, can also play an invaluable role by referring you to \\npotential employers. Using Informational Interviews to Find the Right Job CHAPTER 8', start_char_idx=6773, end_char_idx=8538, text_template='{metadata_str}\\n\\n{content}', metadata_template='{key}: {value}', metadata_seperator='\\n'),\n",
       " TextNode(id_='2a300a90-d5dd-4958-b866-41317ef4b581', embedding=None, metadata={}, excluded_embed_metadata_keys=[], excluded_llm_metadata_keys=[], relationships={<NodeRelationship.SOURCE: '1'>: RelatedNodeInfo(node_id='7c3861a8-57e9-46b7-b6f0-df3f6cdf0d85', node_type=<ObjectType.TEXT: '1'>, metadata={}, hash='4339a64c0279bb690aa8c7530bf5710795e832847516b01f9b24acbd61d16624'), <NodeRelationship.NEXT: '3'>: RelatedNodeInfo(node_id='4bc40d6c-dac1-4c6b-ba3d-6f30b5639023', node_type=<ObjectType.TEXT: '1'>, metadata={}, hash='6ac7c5d43dcc08c7643c5ff2584576dcca8194fd70bde7be35b15f3581e5c6de'), <NodeRelationship.PARENT: '4'>: RelatedNodeInfo(node_id='7c3861a8-57e9-46b7-b6f0-df3f6cdf0d85', node_type=<ObjectType.TEXT: '1'>, metadata={}, hash='4339a64c0279bb690aa8c7530bf5710795e832847516b01f9b24acbd61d16624'), <NodeRelationship.CHILD: '5'>: [RelatedNodeInfo(node_id='1fbcb7ac-781e-408d-b2b3-443da2979fb1', node_type=<ObjectType.TEXT: '1'>, metadata={}, hash='406eea923b1348693b4f8cee0168cb3adbb3cab596a3e0d6395b90be2c41c172'), RelatedNodeInfo(node_id='879b2a7f-c9a0-4d8f-b4c7-2157ad52943c', node_type=<ObjectType.TEXT: '1'>, metadata={}, hash='a90a3585adbd44d987f1060e702fe98a7b211af495b17fa6972bc98551c18674'), RelatedNodeInfo(node_id='5c23adf8-7f9b-42f3-bffe-1ff85daa7fc4', node_type=<ObjectType.TEXT: '1'>, metadata={}, hash='fa450d00ab6832cc571695e11bf246d6bc4b5abb20ec7537cb4512ccef77acfe'), RelatedNodeInfo(node_id='184f7786-3a24-4ceb-8b84-7be9e9a586fc', node_type=<ObjectType.TEXT: '1'>, metadata={}, hash='4e8c28b026ee26d8f4132567234f6d21f393d3abf548a79ab499c4a640a49eb4'), RelatedNodeInfo(node_id='525730ec-3356-4913-aae4-aebc0f86d722', node_type=<ObjectType.TEXT: '1'>, metadata={}, hash='d0ca2241401a6521b05ab9d0f1b95ff43d40f4c046aeeba7e9afaac8ed35cfe1')]}, text='PAGE 31Finding the Right \\nAI Job for YouCHAPTER 9\\nJOBS\\n\\nPAGE 32In this chapter, I’d like to \\ndiscuss some fine points \\nof finding a job.\\nThe typical job search follows a fairly predictable path.\\nAlthough the process may be familiar, every job search is different. Here are some tips to increase \\nthe odds you’ll find a position that supports your thriving career and enables you to keep growing.Research roles and companies online or by talking to friends.\\nOptionally, arrange informal informational interviews with people in companies that appeal to you.\\nEither apply directly or, if you can, get a referral from someone on the inside.\\nInterview with companies that give you an invitation.\\nReceive one or more offers and pick one. Or, if you don’t receive an offer, ask for feedback \\nfrom the interviewers, human resources staff, online discussion boards, or anyone in your \\nnetwork who can help you plot your next move.✓\\n✓\\n✓\\n✓\\n✓\\nPay attention to the fundamentals.  A compelling resume, portfolio of technical projects, and \\na strong interview performance will unlock doors. Even if you have a referral from someone in a \\ncompany, a resume and portfolio will be your first contact with many people who don’t already \\nknow about you. Update your resume and make sure it clearly presents your education and \\nexperience relevant to the role you want. Customize your communications with each company \\nto explain why you’re a good fit. Before an interview, ask the recruiter what to expect. Take time \\nto review and practice answers to common interview questions, brush up key skills, and study \\ntechnical materials to make sure they are fresh in your mind. Afterward, take notes to help you \\nremember what was said.\\nProceed respectfully and responsibly. Approach interviews and offer negotiations with a win-\\nwin mindset. Outrage spreads faster than reasonableness on social media, so a story about \\nhow an employer underpaid someone gets amplified, whereas stories about how an employer \\ntreated someone fairly do not. The vast majority of employers are ethical and fair, so don’t let \\nstories about the small fraction of mistreated individuals sway your approach. If you’re leaving \\na job, exit gracefully.', start_char_idx=0, end_char_idx=2205, text_template='{metadata_str}\\n\\n{content}', metadata_template='{key}: {value}', metadata_seperator='\\n'),\n",
       " TextNode(id_='4bc40d6c-dac1-4c6b-ba3d-6f30b5639023', embedding=None, metadata={}, excluded_embed_metadata_keys=[], excluded_llm_metadata_keys=[], relationships={<NodeRelationship.SOURCE: '1'>: RelatedNodeInfo(node_id='7c3861a8-57e9-46b7-b6f0-df3f6cdf0d85', node_type=<ObjectType.TEXT: '1'>, metadata={}, hash='4339a64c0279bb690aa8c7530bf5710795e832847516b01f9b24acbd61d16624'), <NodeRelationship.PREVIOUS: '2'>: RelatedNodeInfo(node_id='2a300a90-d5dd-4958-b866-41317ef4b581', node_type=<ObjectType.TEXT: '1'>, metadata={}, hash='28e3c60b4db3717d4b2700e0d233800d610b4fc2c4d9fa7280ed57c0ca64c94b'), <NodeRelationship.NEXT: '3'>: RelatedNodeInfo(node_id='d57e18cd-1c72-477a-8a3e-ec98881d2c58', node_type=<ObjectType.TEXT: '1'>, metadata={}, hash='49a2304e59a4b1c1670ad7e0fd2052307bb762708c99a88ec1875a00882941a1'), <NodeRelationship.PARENT: '4'>: RelatedNodeInfo(node_id='7c3861a8-57e9-46b7-b6f0-df3f6cdf0d85', node_type=<ObjectType.TEXT: '1'>, metadata={}, hash='4339a64c0279bb690aa8c7530bf5710795e832847516b01f9b24acbd61d16624'), <NodeRelationship.CHILD: '5'>: [RelatedNodeInfo(node_id='e8b6ee7f-eb75-4032-a7a2-d93c97b58406', node_type=<ObjectType.TEXT: '1'>, metadata={}, hash='e526d096f9bf10f7af3210ca00ad4c8308094fc4668d1d20dcea7950b221d227'), RelatedNodeInfo(node_id='679accf5-405e-4367-991b-b8e9214cba7e', node_type=<ObjectType.TEXT: '1'>, metadata={}, hash='f838d35f941f64ffd151dd913801f95e092f6a0b74f647ce720d1bed2c88b178'), RelatedNodeInfo(node_id='a34c6e48-e307-452f-bbbb-b67819886b7c', node_type=<ObjectType.TEXT: '1'>, metadata={}, hash='b7d6d330bf663a0bc378a5dcc8feef01be7c265e1450ded4693b873ade16137c'), RelatedNodeInfo(node_id='d8e2910c-c759-44b0-b014-78c32c8b6512', node_type=<ObjectType.TEXT: '1'>, metadata={}, hash='85db7a98306d053359b38628e9c1734f0a42c3bca19a5e0f736f15b066b0950e'), RelatedNodeInfo(node_id='b1e4edc7-51fc-4189-8473-0c22387dedc5', node_type=<ObjectType.TEXT: '1'>, metadata={}, hash='68181ce386264d5b36b65f3fa13e9c685a3329164136c37cf4c7c62ba3d524e3')]}, text='If you’re leaving \\na job, exit gracefully. Give your employer ample notice, give your full effort through your last \\nhour on the job, transition unfinished business as best you can, and leave in a way that honors \\nthe responsibilities you were entrusted with.Finding the Right AI Job For You CHAPTER 9\\n\\nPAGE 33Choose who to work with. It’s tempting to take a position because of the projects you’ll work \\non. But the teammates you’ll work with are at least equally important. We’re influenced by \\npeople around us, so your colleagues will make a big difference. For example, if your friends \\nsmoke, the odds increase that you, too, will smoke. I don’t know of a study that shows this, \\nbut I’m pretty sure that if most of your colleagues work hard, learn continuously, and build AI \\nto benefit all people, you’re likely to do the same. (By the way, some large companies won’t \\ntell you who your teammates will be until you’ve accepted an offer. In this case, be persistent \\nand keep pushing to identify and speak with potential teammates. Strict policies may make it \\nimpossible to accommodate you, but in my mind, that increases the risk of accepting the offer, \\nas it increases the odds you’ll end up with a manager or teammates who aren’t a good fit.)\\nGet help from your community. Most of us go job hunting only a small number of times in our \\ncareers, so few of us get much practice at doing it well. Collectively, though, people in your \\nimmediate community probably have a lot of experience. Don’t be shy about calling on them. \\nFriends and associates can provide advice, share inside knowledge, and refer you to others \\nwho may help. I got a lot of help from supportive friends and mentors when I applied for my \\nfirst faculty position, and many of the tips they gave me were very helpful.\\nI know that the job-search process can be intimidating. Instead of viewing it as a great leap, \\nconsider an incremental approach. Start by identifying possible roles and conducting a handful \\nof informational interviews. If these conversations tell you that you have more learning to do \\nbefore you’re ready to apply, that’s great! At least you have a clear path forward.', start_char_idx=2163, end_char_idx=4332, text_template='{metadata_str}\\n\\n{content}', metadata_template='{key}: {value}', metadata_seperator='\\n'),\n",
       " TextNode(id_='d57e18cd-1c72-477a-8a3e-ec98881d2c58', embedding=None, metadata={}, excluded_embed_metadata_keys=[], excluded_llm_metadata_keys=[], relationships={<NodeRelationship.SOURCE: '1'>: RelatedNodeInfo(node_id='7c3861a8-57e9-46b7-b6f0-df3f6cdf0d85', node_type=<ObjectType.TEXT: '1'>, metadata={}, hash='4339a64c0279bb690aa8c7530bf5710795e832847516b01f9b24acbd61d16624'), <NodeRelationship.PREVIOUS: '2'>: RelatedNodeInfo(node_id='4bc40d6c-dac1-4c6b-ba3d-6f30b5639023', node_type=<ObjectType.TEXT: '1'>, metadata={}, hash='6ac7c5d43dcc08c7643c5ff2584576dcca8194fd70bde7be35b15f3581e5c6de'), <NodeRelationship.NEXT: '3'>: RelatedNodeInfo(node_id='c4b95135-8336-4f63-909c-65858c462936', node_type=<ObjectType.TEXT: '1'>, metadata={}, hash='2db3c2c25dfba280151503c32cbe488705ca8f5545d99ff03bb035b122b668a6'), <NodeRelationship.PARENT: '4'>: RelatedNodeInfo(node_id='7c3861a8-57e9-46b7-b6f0-df3f6cdf0d85', node_type=<ObjectType.TEXT: '1'>, metadata={}, hash='4339a64c0279bb690aa8c7530bf5710795e832847516b01f9b24acbd61d16624'), <NodeRelationship.CHILD: '5'>: [RelatedNodeInfo(node_id='2e6d118d-8570-44ea-99bf-73c5fa90fdad', node_type=<ObjectType.TEXT: '1'>, metadata={}, hash='78b762125454ad95dd3d1f42fe5822ac3f6990365b242c984841d349d5337849'), RelatedNodeInfo(node_id='ac27a7fc-1518-4b9c-883f-5542d3051dfe', node_type=<ObjectType.TEXT: '1'>, metadata={}, hash='7c9d727d08e666b95fff22b2b34ce0f618d5edf703c3fe42c62baee43ac922de'), RelatedNodeInfo(node_id='5fce1fea-5ea9-4f33-9418-fb0abc927a31', node_type=<ObjectType.TEXT: '1'>, metadata={}, hash='5c6381298fd9768deb3b78514d2cb1c789f8bb6df390ce488e9855b50a96506b'), RelatedNodeInfo(node_id='0525534f-7c4c-4cff-a095-f9af60b8b2da', node_type=<ObjectType.TEXT: '1'>, metadata={}, hash='ccd64a2f7aa3997cf549b90d8b31ed0a388bf68370f9685438c00c1df8c85cd3')]}, text='At least you have a clear path forward. The most \\nimportant part of any journey is to take the first step, and that step can be a small one.Finding the Right AI Job For You CHAPTER 9\\n\\nPAGE 34Keys to Building a \\nCareer in AICHAPTER 10\\nJOBS\\n\\nPAGE 35Keys to Building a Career in AI CHAPTER 10\\nThe path to career success in AI is more complex than what I can  cover in one short eBook. \\nHopefully the previous chapters will give you momentum to move forward. \\nHere are additional things to think about as you plot your path to success: \\nWhen we tackle large projects, we succeed better by \\nworking in teams than individually. The ability to collaborate \\nwith, influence, and be influenced by others is critical. \\nThus, interpersonal and communication skills really matter. \\n(I used to be a pretty bad communicator, by the way.)1. Teamwork:\\nI hate networking! As an introvert, having to go to a party \\nto smile and shake as many hands as possible is an activity \\nthat borders on horrific. I’d much rather stay home and read \\na book. Nonetheless, I’m fortunate to have found many \\ngenuine friends in AI; people I would gladly go to bat for \\nand who I count on as well. No person is an island, and \\nhaving a strong professional network can help propel you \\nforward in the moments when you need help or advice. In \\nlieu of networking, I’ve found it more helpful to think about \\nbuilding up a community. So instead of trying to build up \\nmy personal network, I focus instead on building up the \\ncommunities that I’m part of. This has the side effect of \\nhelping me meet more people and make friends as well. 2. Networking:', start_char_idx=4293, end_char_idx=5906, text_template='{metadata_str}\\n\\n{content}', metadata_template='{key}: {value}', metadata_seperator='\\n'),\n",
       " TextNode(id_='c4b95135-8336-4f63-909c-65858c462936', embedding=None, metadata={}, excluded_embed_metadata_keys=[], excluded_llm_metadata_keys=[], relationships={<NodeRelationship.SOURCE: '1'>: RelatedNodeInfo(node_id='7c3861a8-57e9-46b7-b6f0-df3f6cdf0d85', node_type=<ObjectType.TEXT: '1'>, metadata={}, hash='4339a64c0279bb690aa8c7530bf5710795e832847516b01f9b24acbd61d16624'), <NodeRelationship.PREVIOUS: '2'>: RelatedNodeInfo(node_id='d57e18cd-1c72-477a-8a3e-ec98881d2c58', node_type=<ObjectType.TEXT: '1'>, metadata={}, hash='49a2304e59a4b1c1670ad7e0fd2052307bb762708c99a88ec1875a00882941a1'), <NodeRelationship.PARENT: '4'>: RelatedNodeInfo(node_id='7c3861a8-57e9-46b7-b6f0-df3f6cdf0d85', node_type=<ObjectType.TEXT: '1'>, metadata={}, hash='4339a64c0279bb690aa8c7530bf5710795e832847516b01f9b24acbd61d16624'), <NodeRelationship.CHILD: '5'>: [RelatedNodeInfo(node_id='d37ee012-8913-4d73-96c0-c18693ffe38d', node_type=<ObjectType.TEXT: '1'>, metadata={}, hash='6c6a706675766886928e4f38f646a27e301c61dd7d1a27b068474c89718598c2'), RelatedNodeInfo(node_id='c5e4ad44-f677-44ae-8b56-1e95f4a2321c', node_type=<ObjectType.TEXT: '1'>, metadata={}, hash='9af763423ceeb943315f17a997daf5b41c7f9be32079bf322a61d6dd7cb082fe')]}, text='2. Networking:\\n\\n\\nPAGE 36Keys to Building a Career in AI CHAPTER 10\\nOf all the steps in building a career, this \\none tends to receive the most attention. \\nUnfortunately, there is a lot of bad advice \\nabout this on the internet. (For example, many \\narticles urge taking an adversarial attitude \\ntoward potential employers, which I don’t think \\nis helpful.) Although it may seem like finding a \\njob is the ultimate goal, it’s just one small step \\nin the long journey of a career.3. Job search\\nFew people will know whether you spend \\nyour weekends learning, or binge watching \\nTV — but they will notice the difference over \\ntime. Many successful people develop good \\nhabits in eating, exercise, sleep, personal \\nrelationships, work, learning, and self-care. \\nSuch habits help them move forward while \\nstaying healthy.4. Personal discipline\\nI find that people  who aim to lift others during \\nevery step of their own journey often achieve \\nbetter outcomes for themselves. How can we \\nhelp others even as we build an exciting career \\nfor ourselves?5. Altruism', start_char_idx=5892, end_char_idx=6944, text_template='{metadata_str}\\n\\n{content}', metadata_template='{key}: {value}', metadata_seperator='\\n'),\n",
       " TextNode(id_='0fc2e03b-129b-4c80-80e6-10695965bff0', embedding=None, metadata={}, excluded_embed_metadata_keys=[], excluded_llm_metadata_keys=[], relationships={<NodeRelationship.SOURCE: '1'>: RelatedNodeInfo(node_id='2db23d39-3a49-4d3f-8c14-44dd95e09c6e', node_type=<ObjectType.TEXT: '1'>, metadata={}, hash='ecc59f2243975343f9724f9707be820b816049cea8cab8eb04a184a6fff08fa1'), <NodeRelationship.NEXT: '3'>: RelatedNodeInfo(node_id='16ee196b-3585-445a-a00e-57b5fc19ab7c', node_type=<ObjectType.TEXT: '1'>, metadata={}, hash='89ee510c7ef38fd13086b7d1cb90067b1ceeff07832cf24a130f4586097142f7'), <NodeRelationship.PARENT: '4'>: RelatedNodeInfo(node_id='2db23d39-3a49-4d3f-8c14-44dd95e09c6e', node_type=<ObjectType.TEXT: '1'>, metadata={}, hash='ecc59f2243975343f9724f9707be820b816049cea8cab8eb04a184a6fff08fa1'), <NodeRelationship.CHILD: '5'>: [RelatedNodeInfo(node_id='3fefbc9a-63d4-4c04-bfcd-e5ab059c687b', node_type=<ObjectType.TEXT: '1'>, metadata={}, hash='d70f74b9266bbed35b1a9cf468ea093bdf120ebfab980ab18ef9fa397b1df78a'), RelatedNodeInfo(node_id='97ac89ca-16d4-4c34-8a9d-1296ce0f3e45', node_type=<ObjectType.TEXT: '1'>, metadata={}, hash='fca444b39c88f8f287edbe069e18fc04fe1921f802eca342ab7db4c550531931'), RelatedNodeInfo(node_id='cb075bd6-07db-4d8f-b98c-1b84b87f42d1', node_type=<ObjectType.TEXT: '1'>, metadata={}, hash='2c39d8d720758403726a55963d8e5db37fcaeb42aced7a5ff4e67b2158741785'), RelatedNodeInfo(node_id='2bdb2a9f-ac0f-474b-9fae-e171163c654d', node_type=<ObjectType.TEXT: '1'>, metadata={}, hash='c7d04f3d02c8dcd054d7d582c09645e75995c590112e6349d24774fef36cd381'), RelatedNodeInfo(node_id='e39c6928-4d5c-44b0-8b92-7de3ae7158a5', node_type=<ObjectType.TEXT: '1'>, metadata={}, hash='86f85ac14cee5dc527023cb77d4a8481d59558fc95b3b68d181a39812648caa7')]}, text='PAGE 37Overcoming Imposter \\nSyndromeCHAPTER 11\\n\\nPAGE 38Before we dive into the final chapter of this book, I’d like to address the serious matter of \\nnewcomers to AI sometimes experiencing imposter syndrome, where someone — regardless \\nof their success in the field — wonders if they’re a fraud and really belong in the AI community. \\nI want to make sure this doesn’t discourage you or anyone else from growing in AI.\\nAn estimated 70 percent of people experience some form of imposter syndrome at some point. \\nMany talented people have spoken publicly about this experience, including former Facebook \\nCOO Sheryl Sandberg, U.S. first lady Michelle Obama, actor Tom Hanks, and Atlassian co-CEO \\nMike Cannon-Brookes. It happens in our community even among accomplished people. If you’ve \\nnever experienced this yourself, that’s great! I hope you’ll join me in encouraging and welcoming \\neveryone who wants to join our community.\\nAI is technically complex, and it has its fair share of smart and highly capable people. But it is \\neasy to forget that to become good at anything, the first step is to suck at it. If you’ve succeeded \\nat sucking at AI — congratulations, you’re on your way!\\nI once struggled to understand the math behind linear regression. I was mystified when \\nlogistic regression performed strangely on my data, and it took me days to find a bug in my \\nimplementation of a basic neural network. Today, I still find many research papers challenging \\nto read, and I recently made an obvious mistake while tuning a neural network hyperparameter \\n(that fortunately a fellow engineer caught and fixed).\\nSo if you, too, find parts of AI challenging, it’s okay. We’ve all been there. I guarantee that everyone \\nwho has published a seminal AI paper struggled with similar technical challenges at some point.Let me be clear: If you want to be part of the AI \\ncommunity, then I welcome you with open arms. \\nIf you want to join us, you fully belong with us!Overcoming Imposter Syndrome\\n\\nPAGE 39My three-year-old daughter (who can barely count to 12) regularly tries to teach things to my \\none-year-old son. No matter how far along you are — if you’re at least as knowledgeable as a \\nthree-year-old — you can encourage and lift up others behind you.', start_char_idx=0, end_char_idx=2250, text_template='{metadata_str}\\n\\n{content}', metadata_template='{key}: {value}', metadata_seperator='\\n'),\n",
       " TextNode(id_='16ee196b-3585-445a-a00e-57b5fc19ab7c', embedding=None, metadata={}, excluded_embed_metadata_keys=[], excluded_llm_metadata_keys=[], relationships={<NodeRelationship.SOURCE: '1'>: RelatedNodeInfo(node_id='2db23d39-3a49-4d3f-8c14-44dd95e09c6e', node_type=<ObjectType.TEXT: '1'>, metadata={}, hash='ecc59f2243975343f9724f9707be820b816049cea8cab8eb04a184a6fff08fa1'), <NodeRelationship.PREVIOUS: '2'>: RelatedNodeInfo(node_id='0fc2e03b-129b-4c80-80e6-10695965bff0', node_type=<ObjectType.TEXT: '1'>, metadata={}, hash='f356f6eaae4d935a1e35f233bac4c0a015d8a6a332041f6f3efc68133951fec4'), <NodeRelationship.NEXT: '3'>: RelatedNodeInfo(node_id='a8aa7133-04b1-44be-8c07-ac409520538c', node_type=<ObjectType.TEXT: '1'>, metadata={}, hash='fce09aed174242d81af409d6b1ce334a5c5deedfeae4d9895292729324cbeb89'), <NodeRelationship.PARENT: '4'>: RelatedNodeInfo(node_id='2db23d39-3a49-4d3f-8c14-44dd95e09c6e', node_type=<ObjectType.TEXT: '1'>, metadata={}, hash='ecc59f2243975343f9724f9707be820b816049cea8cab8eb04a184a6fff08fa1'), <NodeRelationship.CHILD: '5'>: [RelatedNodeInfo(node_id='8103384c-b799-462d-85b6-5403841f7709', node_type=<ObjectType.TEXT: '1'>, metadata={}, hash='3e1fbbc2bfa747336bfcf28a7b47553a7d65bac8461324b6ec26d568365898de'), RelatedNodeInfo(node_id='b723ee2d-17c8-4878-8b31-371fc6f71413', node_type=<ObjectType.TEXT: '1'>, metadata={}, hash='f81babc0bc9ed70867a7d37c407ac2077400a65388d3744688ccbd7a23a5872e'), RelatedNodeInfo(node_id='6c51ba75-18b3-4390-8489-75a786d973bc', node_type=<ObjectType.TEXT: '1'>, metadata={}, hash='a02dfd5c0ceee97b3c3b44a6c8fc5c66e1dfb6991f9dcaa229c0791c112ba594'), RelatedNodeInfo(node_id='cf78b2f0-06b1-4255-a3fe-05f336bcad37', node_type=<ObjectType.TEXT: '1'>, metadata={}, hash='44c1cfb27b8a65d3beff1ef592b3d7a7f89e879203383d7c0ef1fa035e70e7f0'), RelatedNodeInfo(node_id='54b04642-efa8-4427-94e8-2c1c046f52ee', node_type=<ObjectType.TEXT: '1'>, metadata={}, hash='a06c10e8374795632953eb1a6c6ddc37c9cb6284420a3c3249307bca1d28b41e')]}, text='Doing so will help you, too, \\nas others behind you will recognize your expertise and also encourage you to keep developing. \\nWhen you invite others to join the AI community, which I hope you will do, it also reduces any \\ndoubts that you are already one of us.\\nAI is such an important part of our world that I would like everyone who wants to be part of it \\nto feel at home as a member of our community. Let’s work together to make it happen.Here are some things that can help.\\nDo you have supportive mentors or peers? If you don’t yet, attend Pie & AI or other events, \\nuse discussion boards, and work on finding some. If your mentors or manager don’t support \\nyour growth, find ones who do. I’m also working on how to grow a supportive AI community \\nand hope to make finding and giving support easier for everyone.\\nNo one is an expert at everything. Recognize what you do well. If what you do well is \\nunderstand and explain to your friends one-tenth of the articles in The Batch,  then you’re \\non your way! Let’s work on getting you to understand two-tenths of the articles.✓\\n✓\\nOvercoming Imposter Syndrome\\n\\nPAGE 40Make Every Day CountFinal Thoughts\\nEvery year on my birthday, I get to thinking about the days behind and those \\nthat may lie ahead.\\nWhen I ask friends, many choose a number in the hundreds of \\nthousands. (Many others can’t resist calculating the answer, \\nto my annoyance!)\\nWhen I was a grad student, I remember plugging my statistics \\ninto a mortality calculator to figure out my life expectancy. \\nThe calculator said I could expect to live a total of 27,649 \\ndays. It struck me how small this number is. I printed it in a \\nlarge font and pasted it on my office wall as a daily reminder.\\nThat’s all the days we have to spend with loved ones, learn, \\nbuild for the future, and help others. Whatever you’re doing \\ntoday, is it worth 1/30,000 of your life?How many days is a \\ntypical human lifespan?Maybe you’re good at math; I’m sure you’ll be able to answer the following question \\nvia a quick calculation. But let me ask you a question, and please answer from \\nyour gut, without calculating.', start_char_idx=2251, end_char_idx=4360, text_template='{metadata_str}\\n\\n{content}', metadata_template='{key}: {value}', metadata_seperator='\\n'),\n",
       " TextNode(id_='a8aa7133-04b1-44be-8c07-ac409520538c', embedding=None, metadata={}, excluded_embed_metadata_keys=[], excluded_llm_metadata_keys=[], relationships={<NodeRelationship.SOURCE: '1'>: RelatedNodeInfo(node_id='2db23d39-3a49-4d3f-8c14-44dd95e09c6e', node_type=<ObjectType.TEXT: '1'>, metadata={}, hash='ecc59f2243975343f9724f9707be820b816049cea8cab8eb04a184a6fff08fa1'), <NodeRelationship.PREVIOUS: '2'>: RelatedNodeInfo(node_id='16ee196b-3585-445a-a00e-57b5fc19ab7c', node_type=<ObjectType.TEXT: '1'>, metadata={}, hash='89ee510c7ef38fd13086b7d1cb90067b1ceeff07832cf24a130f4586097142f7'), <NodeRelationship.PARENT: '4'>: RelatedNodeInfo(node_id='2db23d39-3a49-4d3f-8c14-44dd95e09c6e', node_type=<ObjectType.TEXT: '1'>, metadata={}, hash='ecc59f2243975343f9724f9707be820b816049cea8cab8eb04a184a6fff08fa1'), <NodeRelationship.CHILD: '5'>: [RelatedNodeInfo(node_id='9ad42bd8-57fa-40fa-9bb7-6b33958bfcd7', node_type=<ObjectType.TEXT: '1'>, metadata={}, hash='fce09aed174242d81af409d6b1ce334a5c5deedfeae4d9895292729324cbeb89')]}, text='But let me ask you a question, and please answer from \\nyour gut, without calculating.\\n20,000 days 100,000 days\\n1 million days 5 million days\\n\\nPAGE 41', start_char_idx=4275, end_char_idx=4424, text_template='{metadata_str}\\n\\n{content}', metadata_template='{key}: {value}', metadata_seperator='\\n'),\n",
       " TextNode(id_='3ab84578-d9bb-4d4c-9e35-5448e4672709', embedding=None, metadata={}, excluded_embed_metadata_keys=[], excluded_llm_metadata_keys=[], relationships={<NodeRelationship.SOURCE: '1'>: RelatedNodeInfo(node_id='fdc32283-d4b7-4a93-82a4-616f1aef29ee', node_type=<ObjectType.TEXT: '1'>, metadata={}, hash='2b4de016a7c855ab9278e03c30a440bb34e81a1ea68fd3225250abf084e52330'), <NodeRelationship.NEXT: '3'>: RelatedNodeInfo(node_id='59345d12-42b7-4d71-ac63-59f2dad10b03', node_type=<ObjectType.TEXT: '1'>, metadata={}, hash='a0f5809e0882d869c187ebb354172805ff22ffafa3fc93329487ebb14a124b10'), <NodeRelationship.PARENT: '4'>: RelatedNodeInfo(node_id='fdc32283-d4b7-4a93-82a4-616f1aef29ee', node_type=<ObjectType.TEXT: '1'>, metadata={}, hash='2b4de016a7c855ab9278e03c30a440bb34e81a1ea68fd3225250abf084e52330')}, text='PAGE 1Founder, DeepLearning.AICollected Insights\\nfrom Andrew Ng\\nHow to \\nBuild\\nYour\\nCareer\\nin AIA Simple Guide\\n\\n\\nPAGE 2\"AI is the new \\nelectricity. It will \\ntransform and improve \\nall areas of human life.\"\\nAndrew Ng\\n\\nPAGE 3Table of \\nContentsIntroduction: Coding AI is the New Literacy.\\nChapter 1: Three Steps to Career Growth.\\nChapter 2: Learning Technical Skills for a \\nPromising AI Career.\\nChapter 3: Should You Learn Math to Get a Job \\nin AI?', start_char_idx=0, end_char_idx=444, text_template='{metadata_str}\\n\\n{content}', metadata_template='{key}: {value}', metadata_seperator='\\n'),\n",
       " TextNode(id_='59345d12-42b7-4d71-ac63-59f2dad10b03', embedding=None, metadata={}, excluded_embed_metadata_keys=[], excluded_llm_metadata_keys=[], relationships={<NodeRelationship.SOURCE: '1'>: RelatedNodeInfo(node_id='fdc32283-d4b7-4a93-82a4-616f1aef29ee', node_type=<ObjectType.TEXT: '1'>, metadata={}, hash='2b4de016a7c855ab9278e03c30a440bb34e81a1ea68fd3225250abf084e52330'), <NodeRelationship.PREVIOUS: '2'>: RelatedNodeInfo(node_id='3ab84578-d9bb-4d4c-9e35-5448e4672709', node_type=<ObjectType.TEXT: '1'>, metadata={}, hash='3765c3234a3cdce529e8ea73a2d1e8d2fa9340b32c6f4d3a8138d71df635afcb'), <NodeRelationship.NEXT: '3'>: RelatedNodeInfo(node_id='34a5ef84-7e43-4f7f-9e44-3f62edcd2575', node_type=<ObjectType.TEXT: '1'>, metadata={}, hash='cf01a87aed1c06d800c8f852c31f48a4d9ba94ea27b452e7d51e87081ea871f5'), <NodeRelationship.PARENT: '4'>: RelatedNodeInfo(node_id='fdc32283-d4b7-4a93-82a4-616f1aef29ee', node_type=<ObjectType.TEXT: '1'>, metadata={}, hash='2b4de016a7c855ab9278e03c30a440bb34e81a1ea68fd3225250abf084e52330')}, text='Chapter 3: Should You Learn Math to Get a Job \\nin AI?\\nChapter 4: Scoping Successful AI Projects.\\nChapter 5: Finding Projects that Complement \\nYour Career Goals.\\nChapter 6: Building a Portfolio of Projects that \\nShows Skill Progression.\\nChapter 7: A Simple Framework for Starting Your AI \\nJob Search.\\nChapter 8: Using Informational Interviews to Find \\nthe Right Job.\\nChapter 9: Finding the Right AI Job for You.\\nChapter 10: Keys to Building a Career in AI.\\nChapter 11: Overcoming Imposter Syndrome.', start_char_idx=391, end_char_idx=888, text_template='{metadata_str}\\n\\n{content}', metadata_template='{key}: {value}', metadata_seperator='\\n'),\n",
       " TextNode(id_='34a5ef84-7e43-4f7f-9e44-3f62edcd2575', embedding=None, metadata={}, excluded_embed_metadata_keys=[], excluded_llm_metadata_keys=[], relationships={<NodeRelationship.SOURCE: '1'>: RelatedNodeInfo(node_id='fdc32283-d4b7-4a93-82a4-616f1aef29ee', node_type=<ObjectType.TEXT: '1'>, metadata={}, hash='2b4de016a7c855ab9278e03c30a440bb34e81a1ea68fd3225250abf084e52330'), <NodeRelationship.PREVIOUS: '2'>: RelatedNodeInfo(node_id='59345d12-42b7-4d71-ac63-59f2dad10b03', node_type=<ObjectType.TEXT: '1'>, metadata={}, hash='a0f5809e0882d869c187ebb354172805ff22ffafa3fc93329487ebb14a124b10'), <NodeRelationship.NEXT: '3'>: RelatedNodeInfo(node_id='c3bee1c6-74c2-4681-9bb8-4a75044d070d', node_type=<ObjectType.TEXT: '1'>, metadata={}, hash='464f9cd1ccd3deb51962c757a351bff63f5a2a50cb4585d08f8e10666e7c5810'), <NodeRelationship.PARENT: '4'>: RelatedNodeInfo(node_id='fdc32283-d4b7-4a93-82a4-616f1aef29ee', node_type=<ObjectType.TEXT: '1'>, metadata={}, hash='2b4de016a7c855ab9278e03c30a440bb34e81a1ea68fd3225250abf084e52330')}, text='Chapter 11: Overcoming Imposter Syndrome.\\nFinal Thoughts: Make Every Day Count.LEARNING\\nPROJECTS\\nJOB\\n\\nPAGE 4Coding AI Is the New Literacy\\nToday we take it for granted that many people know how to read and write. Someday, I hope, \\nit will be just as common that people know how to write code, specifically for AI.\\nSeveral hundred years ago, society didn’t view language literacy as a necessary skill. A small \\nnumber of people learned to read and write, and everyone else let them do the reading and \\nwriting.', start_char_idx=847, end_char_idx=1355, text_template='{metadata_str}\\n\\n{content}', metadata_template='{key}: {value}', metadata_seperator='\\n'),\n",
       " TextNode(id_='c3bee1c6-74c2-4681-9bb8-4a75044d070d', embedding=None, metadata={}, excluded_embed_metadata_keys=[], excluded_llm_metadata_keys=[], relationships={<NodeRelationship.SOURCE: '1'>: RelatedNodeInfo(node_id='fdc32283-d4b7-4a93-82a4-616f1aef29ee', node_type=<ObjectType.TEXT: '1'>, metadata={}, hash='2b4de016a7c855ab9278e03c30a440bb34e81a1ea68fd3225250abf084e52330'), <NodeRelationship.PREVIOUS: '2'>: RelatedNodeInfo(node_id='34a5ef84-7e43-4f7f-9e44-3f62edcd2575', node_type=<ObjectType.TEXT: '1'>, metadata={}, hash='cf01a87aed1c06d800c8f852c31f48a4d9ba94ea27b452e7d51e87081ea871f5'), <NodeRelationship.NEXT: '3'>: RelatedNodeInfo(node_id='453e74a6-047f-4afe-9bdf-6935c8aa9a9e', node_type=<ObjectType.TEXT: '1'>, metadata={}, hash='3248267c204f269f688330dc8cc1f13178d9c3f40a422dec5699957967d115ca'), <NodeRelationship.PARENT: '4'>: RelatedNodeInfo(node_id='fdc32283-d4b7-4a93-82a4-616f1aef29ee', node_type=<ObjectType.TEXT: '1'>, metadata={}, hash='2b4de016a7c855ab9278e03c30a440bb34e81a1ea68fd3225250abf084e52330')}, text='It took centuries for literacy to spread, and now society is far richer for it.\\nWords enable deep human-to-human communication. Code is the deepest form of human-to-\\nmachine communication. As machines become more central to daily life, that communication \\nbecomes ever more important.\\nTraditional software engineering — writing programs that explicitly tell a computer sequences \\nof steps to execute — has been the main path to code literacy. Many introductory programming \\nclasses use creating a video game or building a website as examples. But AI, machine learning, \\nand data science offer a new paradigm in which computers extract knowledge from data.', start_char_idx=1356, end_char_idx=2011, text_template='{metadata_str}\\n\\n{content}', metadata_template='{key}: {value}', metadata_seperator='\\n'),\n",
       " TextNode(id_='453e74a6-047f-4afe-9bdf-6935c8aa9a9e', embedding=None, metadata={}, excluded_embed_metadata_keys=[], excluded_llm_metadata_keys=[], relationships={<NodeRelationship.SOURCE: '1'>: RelatedNodeInfo(node_id='fdc32283-d4b7-4a93-82a4-616f1aef29ee', node_type=<ObjectType.TEXT: '1'>, metadata={}, hash='2b4de016a7c855ab9278e03c30a440bb34e81a1ea68fd3225250abf084e52330'), <NodeRelationship.PREVIOUS: '2'>: RelatedNodeInfo(node_id='c3bee1c6-74c2-4681-9bb8-4a75044d070d', node_type=<ObjectType.TEXT: '1'>, metadata={}, hash='464f9cd1ccd3deb51962c757a351bff63f5a2a50cb4585d08f8e10666e7c5810'), <NodeRelationship.PARENT: '4'>: RelatedNodeInfo(node_id='fdc32283-d4b7-4a93-82a4-616f1aef29ee', node_type=<ObjectType.TEXT: '1'>, metadata={}, hash='2b4de016a7c855ab9278e03c30a440bb34e81a1ea68fd3225250abf084e52330')}, text='This \\ntechnology offers an even better pathway to coding.\\nMany Sundays, I buy a slice of pizza from my neighborhood pizza parlor.', start_char_idx=2012, end_char_idx=2141, text_template='{metadata_str}\\n\\n{content}', metadata_template='{key}: {value}', metadata_seperator='\\n'),\n",
       " TextNode(id_='012245cf-b31f-4ca5-b672-8f28097f6e09', embedding=None, metadata={}, excluded_embed_metadata_keys=[], excluded_llm_metadata_keys=[], relationships={<NodeRelationship.SOURCE: '1'>: RelatedNodeInfo(node_id='7c093177-af0f-42e4-840c-afa702938296', node_type=<ObjectType.TEXT: '1'>, metadata={}, hash='0c8c4015b5079720c9a99a811c9a8888c9f8ee3b9265eec5507fee681025f69c'), <NodeRelationship.NEXT: '3'>: RelatedNodeInfo(node_id='0f91f902-5839-48b5-91d9-3f88c8c87322', node_type=<ObjectType.TEXT: '1'>, metadata={}, hash='21c7a8cb0786fb98de40ef7de853064d038262906f318fa6e9b25a3cd503e2a9'), <NodeRelationship.PARENT: '4'>: RelatedNodeInfo(node_id='7c093177-af0f-42e4-840c-afa702938296', node_type=<ObjectType.TEXT: '1'>, metadata={}, hash='0c8c4015b5079720c9a99a811c9a8888c9f8ee3b9265eec5507fee681025f69c')}, text='Many Sundays, I buy a slice of pizza from my neighborhood pizza parlor. The gentleman \\nbehind the counter has little reason to learn how to build a video game or write his own \\nwebsite software (beyond personal growth and the pleasure of gaining a new skill).\\nBut AI and data science have great value even for a pizza maker. A linear regression model might \\nenable him to better estimate demand so he can optimize the restaurant’s staffing and supply \\nchain. He could better predict sales of Hawaiian pizza — my favorite!', start_char_idx=0, end_char_idx=521, text_template='{metadata_str}\\n\\n{content}', metadata_template='{key}: {value}', metadata_seperator='\\n'),\n",
       " TextNode(id_='0f91f902-5839-48b5-91d9-3f88c8c87322', embedding=None, metadata={}, excluded_embed_metadata_keys=[], excluded_llm_metadata_keys=[], relationships={<NodeRelationship.SOURCE: '1'>: RelatedNodeInfo(node_id='7c093177-af0f-42e4-840c-afa702938296', node_type=<ObjectType.TEXT: '1'>, metadata={}, hash='0c8c4015b5079720c9a99a811c9a8888c9f8ee3b9265eec5507fee681025f69c'), <NodeRelationship.PREVIOUS: '2'>: RelatedNodeInfo(node_id='012245cf-b31f-4ca5-b672-8f28097f6e09', node_type=<ObjectType.TEXT: '1'>, metadata={}, hash='6715a52b53d6a1dfd8bbf430c1db16f21c17faa5c26e7f7780aaf3ac1e3e7ae1'), <NodeRelationship.NEXT: '3'>: RelatedNodeInfo(node_id='c69b4729-e1a7-4005-846a-87f69bed7080', node_type=<ObjectType.TEXT: '1'>, metadata={}, hash='79323a88f4410bbeb9bc6ecc7b3525f1ed0235e93e6a20a288b8b238aa84e50b'), <NodeRelationship.PARENT: '4'>: RelatedNodeInfo(node_id='7c093177-af0f-42e4-840c-afa702938296', node_type=<ObjectType.TEXT: '1'>, metadata={}, hash='0c8c4015b5079720c9a99a811c9a8888c9f8ee3b9265eec5507fee681025f69c')}, text='He could better predict sales of Hawaiian pizza — my favorite! — so he could make more \\nHawaiian pies in advance and reduce the amount of time customers had to wait for them.\\nUses of AI and data science can be found in almost any situation that produces data.  Thus, \\na wide variety of professions will find more uses for custom AI applications and data-derived \\ninsights than for traditional software engineering. This makes literacy in AI-oriented coding \\neven more valuable than traditional coding. It could enable countless individuals to harness \\ndata to make their lives richer.', start_char_idx=459, end_char_idx=1043, text_template='{metadata_str}\\n\\n{content}', metadata_template='{key}: {value}', metadata_seperator='\\n'),\n",
       " TextNode(id_='c69b4729-e1a7-4005-846a-87f69bed7080', embedding=None, metadata={}, excluded_embed_metadata_keys=[], excluded_llm_metadata_keys=[], relationships={<NodeRelationship.SOURCE: '1'>: RelatedNodeInfo(node_id='7c093177-af0f-42e4-840c-afa702938296', node_type=<ObjectType.TEXT: '1'>, metadata={}, hash='0c8c4015b5079720c9a99a811c9a8888c9f8ee3b9265eec5507fee681025f69c'), <NodeRelationship.PREVIOUS: '2'>: RelatedNodeInfo(node_id='0f91f902-5839-48b5-91d9-3f88c8c87322', node_type=<ObjectType.TEXT: '1'>, metadata={}, hash='21c7a8cb0786fb98de40ef7de853064d038262906f318fa6e9b25a3cd503e2a9'), <NodeRelationship.NEXT: '3'>: RelatedNodeInfo(node_id='34598feb-dbd1-4367-832d-fd2489abeed0', node_type=<ObjectType.TEXT: '1'>, metadata={}, hash='3e029f9d4ea83f05d1b60ae02d551009e801aec79f78964f359be168955c1189'), <NodeRelationship.PARENT: '4'>: RelatedNodeInfo(node_id='7c093177-af0f-42e4-840c-afa702938296', node_type=<ObjectType.TEXT: '1'>, metadata={}, hash='0c8c4015b5079720c9a99a811c9a8888c9f8ee3b9265eec5507fee681025f69c')}, text='It could enable countless individuals to harness \\ndata to make their lives richer.\\nI hope the promise of building basic AI applications, even more than that of building basic \\ntraditional software, encourages more people to learn how to code. If society embraces this \\nnew form of literacy as it has the ability to read and write, we will all benefit.Introduction\\n\\nPAGE 5Three Steps to \\nCareer GrowthCHAPTER 1\\n\\nPAGE 6The rapid rise of AI has led to a rapid rise in AI jobs, and many people are building exciting \\ncareers in this field.', start_char_idx=961, end_char_idx=1496, text_template='{metadata_str}\\n\\n{content}', metadata_template='{key}: {value}', metadata_seperator='\\n'),\n",
       " TextNode(id_='34598feb-dbd1-4367-832d-fd2489abeed0', embedding=None, metadata={}, excluded_embed_metadata_keys=[], excluded_llm_metadata_keys=[], relationships={<NodeRelationship.SOURCE: '1'>: RelatedNodeInfo(node_id='7c093177-af0f-42e4-840c-afa702938296', node_type=<ObjectType.TEXT: '1'>, metadata={}, hash='0c8c4015b5079720c9a99a811c9a8888c9f8ee3b9265eec5507fee681025f69c'), <NodeRelationship.PREVIOUS: '2'>: RelatedNodeInfo(node_id='c69b4729-e1a7-4005-846a-87f69bed7080', node_type=<ObjectType.TEXT: '1'>, metadata={}, hash='79323a88f4410bbeb9bc6ecc7b3525f1ed0235e93e6a20a288b8b238aa84e50b'), <NodeRelationship.NEXT: '3'>: RelatedNodeInfo(node_id='9d25f9d5-986e-4772-baa6-38982a1231d9', node_type=<ObjectType.TEXT: '1'>, metadata={}, hash='9a781d3d64410d4b7dc1bf88d5cb5613dc39cf0fad51998f48815acd4c718441'), <NodeRelationship.PARENT: '4'>: RelatedNodeInfo(node_id='7c093177-af0f-42e4-840c-afa702938296', node_type=<ObjectType.TEXT: '1'>, metadata={}, hash='0c8c4015b5079720c9a99a811c9a8888c9f8ee3b9265eec5507fee681025f69c')}, text='A career is a decades-long journey, and the path is not straightforward. \\nOver many years, I’ve been privileged to see thousands of students, as well as engineers in \\ncompanies large and small, navigate careers in AI.\\n \\nHere’s a framework for charting your own course.\\nLater, you will work \\non finding a job. \\nThroughout this \\nprocess, you’ll continue \\nto learn and work on \\nmeaningful projects.', start_char_idx=1497, end_char_idx=1892, text_template='{metadata_str}\\n\\n{content}', metadata_template='{key}: {value}', metadata_seperator='\\n'),\n",
       " TextNode(id_='9d25f9d5-986e-4772-baa6-38982a1231d9', embedding=None, metadata={}, excluded_embed_metadata_keys=[], excluded_llm_metadata_keys=[], relationships={<NodeRelationship.SOURCE: '1'>: RelatedNodeInfo(node_id='7c093177-af0f-42e4-840c-afa702938296', node_type=<ObjectType.TEXT: '1'>, metadata={}, hash='0c8c4015b5079720c9a99a811c9a8888c9f8ee3b9265eec5507fee681025f69c'), <NodeRelationship.PREVIOUS: '2'>: RelatedNodeInfo(node_id='34598feb-dbd1-4367-832d-fd2489abeed0', node_type=<ObjectType.TEXT: '1'>, metadata={}, hash='3e029f9d4ea83f05d1b60ae02d551009e801aec79f78964f359be168955c1189'), <NodeRelationship.PARENT: '4'>: RelatedNodeInfo(node_id='7c093177-af0f-42e4-840c-afa702938296', node_type=<ObjectType.TEXT: '1'>, metadata={}, hash='0c8c4015b5079720c9a99a811c9a8888c9f8ee3b9265eec5507fee681025f69c')}, text='Throughout this \\nprocess, you’ll continue \\nto learn and work on \\nmeaningful projects. \\nChapters with the\\nfocus on a job search.Three key steps of career growth are learning foundational skills, working on projects (to \\ndeepen your skills, build a portfolio, and create impact), and finding a job. These steps stack \\non top of each other:Three Steps to Career Growth\\nLEARNING PROJECTS JOBCHAPTER 1\\nInitially, you \\nfocus on learning \\nfoundational skills. \\nChapters with the \\ncover topics about \\nlearning foundational \\ntechnical skills.', start_char_idx=1807, end_char_idx=2340, text_template='{metadata_str}\\n\\n{content}', metadata_template='{key}: {value}', metadata_seperator='\\n'),\n",
       " TextNode(id_='0d6d90aa-023c-41fc-a563-a6ede722e1f8', embedding=None, metadata={}, excluded_embed_metadata_keys=[], excluded_llm_metadata_keys=[], relationships={<NodeRelationship.SOURCE: '1'>: RelatedNodeInfo(node_id='adc48bfa-ab85-4c35-8f33-b13fd923e2ec', node_type=<ObjectType.TEXT: '1'>, metadata={}, hash='64dd0fc90631c2e2b2fd38c5c9689c7b600fa830ede71f794c5d9bcf23dce860'), <NodeRelationship.NEXT: '3'>: RelatedNodeInfo(node_id='97034af0-b786-4ed3-b21e-801f2d121ddd', node_type=<ObjectType.TEXT: '1'>, metadata={}, hash='d68d39965a42938154f619a0cca8c7a68e2b08b706e92a9f0c692620aa931e8c'), <NodeRelationship.PARENT: '4'>: RelatedNodeInfo(node_id='adc48bfa-ab85-4c35-8f33-b13fd923e2ec', node_type=<ObjectType.TEXT: '1'>, metadata={}, hash='64dd0fc90631c2e2b2fd38c5c9689c7b600fa830ede71f794c5d9bcf23dce860')}, text='Chapters with the \\ncover topics about \\nlearning foundational \\ntechnical skills. After having gained \\nfoundational technical \\nskills, you will begin \\nworking on projects. \\nDuring this period, you’ll \\nalso keep learning. \\nChapters with the     \\nfocus on projects. \\n\\nPAGE 7These phases apply in a wide \\nrange of professions, but AI \\ninvolves unique elements.\\nFor example:Three Steps to Career Growth\\nAI is nascent, and many technologies are still evolving.', start_char_idx=0, end_char_idx=453, text_template='{metadata_str}\\n\\n{content}', metadata_template='{key}: {value}', metadata_seperator='\\n'),\n",
       " TextNode(id_='97034af0-b786-4ed3-b21e-801f2d121ddd', embedding=None, metadata={}, excluded_embed_metadata_keys=[], excluded_llm_metadata_keys=[], relationships={<NodeRelationship.SOURCE: '1'>: RelatedNodeInfo(node_id='adc48bfa-ab85-4c35-8f33-b13fd923e2ec', node_type=<ObjectType.TEXT: '1'>, metadata={}, hash='64dd0fc90631c2e2b2fd38c5c9689c7b600fa830ede71f794c5d9bcf23dce860'), <NodeRelationship.PREVIOUS: '2'>: RelatedNodeInfo(node_id='0d6d90aa-023c-41fc-a563-a6ede722e1f8', node_type=<ObjectType.TEXT: '1'>, metadata={}, hash='db3a6463210dc775217ad46442b3843169651df172695097c58213ef4a333dc8'), <NodeRelationship.NEXT: '3'>: RelatedNodeInfo(node_id='7fb18c09-1cf9-44ad-8e22-a12bc7664c0c', node_type=<ObjectType.TEXT: '1'>, metadata={}, hash='89e9f4046575da75ab7d51a5c88831b6c0674f1a377744e8f6d30a82631dfc46'), <NodeRelationship.PARENT: '4'>: RelatedNodeInfo(node_id='adc48bfa-ab85-4c35-8f33-b13fd923e2ec', node_type=<ObjectType.TEXT: '1'>, metadata={}, hash='64dd0fc90631c2e2b2fd38c5c9689c7b600fa830ede71f794c5d9bcf23dce860')}, text='While the \\nfoundations of machine learning and deep learning are maturing — \\nand coursework is an efficient way to master them — beyond these \\nfoundations, keeping up-to-date with changing technology is more \\nimportant in AI than fields that are more mature.Learning foundational skills is a career-long process:\\nThis can make it challenging to find a suitable project, estimate the project’s \\ntimeline and return on investment, and set expectations.', start_char_idx=454, end_char_idx=904, text_template='{metadata_str}\\n\\n{content}', metadata_template='{key}: {value}', metadata_seperator='\\n'),\n",
       " TextNode(id_='7fb18c09-1cf9-44ad-8e22-a12bc7664c0c', embedding=None, metadata={}, excluded_embed_metadata_keys=[], excluded_llm_metadata_keys=[], relationships={<NodeRelationship.SOURCE: '1'>: RelatedNodeInfo(node_id='adc48bfa-ab85-4c35-8f33-b13fd923e2ec', node_type=<ObjectType.TEXT: '1'>, metadata={}, hash='64dd0fc90631c2e2b2fd38c5c9689c7b600fa830ede71f794c5d9bcf23dce860'), <NodeRelationship.PREVIOUS: '2'>: RelatedNodeInfo(node_id='97034af0-b786-4ed3-b21e-801f2d121ddd', node_type=<ObjectType.TEXT: '1'>, metadata={}, hash='d68d39965a42938154f619a0cca8c7a68e2b08b706e92a9f0c692620aa931e8c'), <NodeRelationship.NEXT: '3'>: RelatedNodeInfo(node_id='672967d6-9ca2-4b99-b37e-4065671d15b0', node_type=<ObjectType.TEXT: '1'>, metadata={}, hash='f14dd5ec163e87a2597bca5d6412d98d1915aa4d10ab49331e1a4102acf89d07'), <NodeRelationship.PARENT: '4'>: RelatedNodeInfo(node_id='adc48bfa-ab85-4c35-8f33-b13fd923e2ec', node_type=<ObjectType.TEXT: '1'>, metadata={}, hash='64dd0fc90631c2e2b2fd38c5c9689c7b600fa830ede71f794c5d9bcf23dce860')}, text='In addition, the \\nhighly iterative nature of AI projects leads to special challenges in project \\nmanagement: How can you come up with a plan for building a system \\nwhen you don’t know in advance how long it will take to achieve the target \\naccuracy? Even after the system has hit the target, further iteration may \\nbe necessary to address post-deployment drift.Working on projects often means collaborating with \\nstakeholders who lack expertise in AI:\\nWhile searching for a job in AI can be similar to searching for a job in \\nother sectors, there are also important differences.', start_char_idx=905, end_char_idx=1483, text_template='{metadata_str}\\n\\n{content}', metadata_template='{key}: {value}', metadata_seperator='\\n'),\n",
       " TextNode(id_='672967d6-9ca2-4b99-b37e-4065671d15b0', embedding=None, metadata={}, excluded_embed_metadata_keys=[], excluded_llm_metadata_keys=[], relationships={<NodeRelationship.SOURCE: '1'>: RelatedNodeInfo(node_id='adc48bfa-ab85-4c35-8f33-b13fd923e2ec', node_type=<ObjectType.TEXT: '1'>, metadata={}, hash='64dd0fc90631c2e2b2fd38c5c9689c7b600fa830ede71f794c5d9bcf23dce860'), <NodeRelationship.PREVIOUS: '2'>: RelatedNodeInfo(node_id='7fb18c09-1cf9-44ad-8e22-a12bc7664c0c', node_type=<ObjectType.TEXT: '1'>, metadata={}, hash='89e9f4046575da75ab7d51a5c88831b6c0674f1a377744e8f6d30a82631dfc46'), <NodeRelationship.PARENT: '4'>: RelatedNodeInfo(node_id='adc48bfa-ab85-4c35-8f33-b13fd923e2ec', node_type=<ObjectType.TEXT: '1'>, metadata={}, hash='64dd0fc90631c2e2b2fd38c5c9689c7b600fa830ede71f794c5d9bcf23dce860')}, text='Many companies are \\nstill trying to figure out which AI skills they need, and how to hire people \\nwho have them. Things you’ve worked on may be significantly different \\nthan anything your interviewer has seen, and you’re more likely to have to \\neducate potential employers about some elements of your work.Inconsistent opinions on AI skills and jobs roles: CHAPTER 1\\nAs you go through each step, you should also build a supportive community. Having friends and \\nallies who can help you — and who you strive to help — makes the path easier.', start_char_idx=1484, end_char_idx=2023, text_template='{metadata_str}\\n\\n{content}', metadata_template='{key}: {value}', metadata_seperator='\\n'),\n",
       " TextNode(id_='d0e9e6a0-c26d-47b1-9344-5d6c374b1416', embedding=None, metadata={}, excluded_embed_metadata_keys=[], excluded_llm_metadata_keys=[], relationships={<NodeRelationship.SOURCE: '1'>: RelatedNodeInfo(node_id='6c0bee27-a938-4031-b450-f2bbe5f137cd', node_type=<ObjectType.TEXT: '1'>, metadata={}, hash='55bc135e5090691b219b2ac617e8e31549c7f346bac85fe72557c3c5fa640d90'), <NodeRelationship.NEXT: '3'>: RelatedNodeInfo(node_id='fa3313e4-efc3-46c4-9354-f21ce1dfe3ef', node_type=<ObjectType.TEXT: '1'>, metadata={}, hash='46aa1017a60aab9b0be973f0a31c6d61a81981646968900574a3feb021119d14'), <NodeRelationship.PARENT: '4'>: RelatedNodeInfo(node_id='6c0bee27-a938-4031-b450-f2bbe5f137cd', node_type=<ObjectType.TEXT: '1'>, metadata={}, hash='55bc135e5090691b219b2ac617e8e31549c7f346bac85fe72557c3c5fa640d90')}, text='This is true whether \\nyou’re taking your first steps or you’ve been on the journey for years.LEARNING\\nPROJECTS\\nJOB\\n\\nPAGE 8Learning Technical \\nSkills for a Promising \\nAI CareerCHAPTER 2\\nLEARNING\\n\\nPAGE 9In the previous chapter, I introduced three key steps for building a career in AI: learning \\nfoundational technical skills, working on projects, and finding a job, all of which is supported \\nby being part of a community. In this chapter, I’d like to dive more deeply into the first step: \\nlearning foundational skills.', start_char_idx=0, end_char_idx=519, text_template='{metadata_str}\\n\\n{content}', metadata_template='{key}: {value}', metadata_seperator='\\n'),\n",
       " TextNode(id_='fa3313e4-efc3-46c4-9354-f21ce1dfe3ef', embedding=None, metadata={}, excluded_embed_metadata_keys=[], excluded_llm_metadata_keys=[], relationships={<NodeRelationship.SOURCE: '1'>: RelatedNodeInfo(node_id='6c0bee27-a938-4031-b450-f2bbe5f137cd', node_type=<ObjectType.TEXT: '1'>, metadata={}, hash='55bc135e5090691b219b2ac617e8e31549c7f346bac85fe72557c3c5fa640d90'), <NodeRelationship.PREVIOUS: '2'>: RelatedNodeInfo(node_id='d0e9e6a0-c26d-47b1-9344-5d6c374b1416', node_type=<ObjectType.TEXT: '1'>, metadata={}, hash='0cbcf2ee3dd1a3c2ecfc61f02e7810c82de301109de87533a6323129b9ab8eb8'), <NodeRelationship.NEXT: '3'>: RelatedNodeInfo(node_id='051d6bd7-7c8e-4e8e-b89d-2af774a95277', node_type=<ObjectType.TEXT: '1'>, metadata={}, hash='8ecfd7e96d7dc153a3c6f8b64e98ff5683fe3d568769b01339fe0c344a6b4ff2'), <NodeRelationship.PARENT: '4'>: RelatedNodeInfo(node_id='6c0bee27-a938-4031-b450-f2bbe5f137cd', node_type=<ObjectType.TEXT: '1'>, metadata={}, hash='55bc135e5090691b219b2ac617e8e31549c7f346bac85fe72557c3c5fa640d90')}, text='More research papers have been published on AI than anyone can read in a lifetime. So, when \\nlearning, it’s critical to prioritize topic selection. I believe the most important topics for a technical \\ncareer in machine learning are:\\nFoundational machine learning skills: For example, it’s important to understand models such \\nas linear regression, logistic regression, neural networks, decision trees, clustering, and anomaly \\ndetection.', start_char_idx=520, end_char_idx=957, text_template='{metadata_str}\\n\\n{content}', metadata_template='{key}: {value}', metadata_seperator='\\n'),\n",
       " TextNode(id_='051d6bd7-7c8e-4e8e-b89d-2af774a95277', embedding=None, metadata={}, excluded_embed_metadata_keys=[], excluded_llm_metadata_keys=[], relationships={<NodeRelationship.SOURCE: '1'>: RelatedNodeInfo(node_id='6c0bee27-a938-4031-b450-f2bbe5f137cd', node_type=<ObjectType.TEXT: '1'>, metadata={}, hash='55bc135e5090691b219b2ac617e8e31549c7f346bac85fe72557c3c5fa640d90'), <NodeRelationship.PREVIOUS: '2'>: RelatedNodeInfo(node_id='fa3313e4-efc3-46c4-9354-f21ce1dfe3ef', node_type=<ObjectType.TEXT: '1'>, metadata={}, hash='46aa1017a60aab9b0be973f0a31c6d61a81981646968900574a3feb021119d14'), <NodeRelationship.NEXT: '3'>: RelatedNodeInfo(node_id='c48dc6c0-5757-4e70-93d1-9e7de7ed8dff', node_type=<ObjectType.TEXT: '1'>, metadata={}, hash='b2044ddc300d7051774032da15a8f50599527cfb3809e02c1d820338593a9852'), <NodeRelationship.PARENT: '4'>: RelatedNodeInfo(node_id='6c0bee27-a938-4031-b450-f2bbe5f137cd', node_type=<ObjectType.TEXT: '1'>, metadata={}, hash='55bc135e5090691b219b2ac617e8e31549c7f346bac85fe72557c3c5fa640d90')}, text='Beyond specific models, it’s even more important to understand the core concepts \\nbehind how and why machine learning works, such as bias/variance, cost functions, regularization, \\noptimization algorithms, and error analysis.\\nDeep learning: This has become such a large fraction of machine learning that it’s hard to excel \\nin the field without some understanding of it! It’s valuable to know the basics of neural networks, \\npractical skills for making them work (such as hyperparameter tuning), convolutional networks, \\nsequence models, and transformers.', start_char_idx=958, end_char_idx=1513, text_template='{metadata_str}\\n\\n{content}', metadata_template='{key}: {value}', metadata_seperator='\\n'),\n",
       " TextNode(id_='c48dc6c0-5757-4e70-93d1-9e7de7ed8dff', embedding=None, metadata={}, excluded_embed_metadata_keys=[], excluded_llm_metadata_keys=[], relationships={<NodeRelationship.SOURCE: '1'>: RelatedNodeInfo(node_id='6c0bee27-a938-4031-b450-f2bbe5f137cd', node_type=<ObjectType.TEXT: '1'>, metadata={}, hash='55bc135e5090691b219b2ac617e8e31549c7f346bac85fe72557c3c5fa640d90'), <NodeRelationship.PREVIOUS: '2'>: RelatedNodeInfo(node_id='051d6bd7-7c8e-4e8e-b89d-2af774a95277', node_type=<ObjectType.TEXT: '1'>, metadata={}, hash='8ecfd7e96d7dc153a3c6f8b64e98ff5683fe3d568769b01339fe0c344a6b4ff2'), <NodeRelationship.NEXT: '3'>: RelatedNodeInfo(node_id='c529040d-3c98-4e82-b557-9fd8c05432db', node_type=<ObjectType.TEXT: '1'>, metadata={}, hash='13e424d7dc1628b15f3058789c8468b2eace1b8fa68563ce938ba9ccb4f96396'), <NodeRelationship.PARENT: '4'>: RelatedNodeInfo(node_id='6c0bee27-a938-4031-b450-f2bbe5f137cd', node_type=<ObjectType.TEXT: '1'>, metadata={}, hash='55bc135e5090691b219b2ac617e8e31549c7f346bac85fe72557c3c5fa640d90')}, text='Software development: While you can get a job and make huge contributions with only machine \\nlearning modeling skills, your job opportunities will increase if you can also write good software \\nto implement complex AI systems.', start_char_idx=1514, end_char_idx=1739, text_template='{metadata_str}\\n\\n{content}', metadata_template='{key}: {value}', metadata_seperator='\\n'),\n",
       " TextNode(id_='c529040d-3c98-4e82-b557-9fd8c05432db', embedding=None, metadata={}, excluded_embed_metadata_keys=[], excluded_llm_metadata_keys=[], relationships={<NodeRelationship.SOURCE: '1'>: RelatedNodeInfo(node_id='6c0bee27-a938-4031-b450-f2bbe5f137cd', node_type=<ObjectType.TEXT: '1'>, metadata={}, hash='55bc135e5090691b219b2ac617e8e31549c7f346bac85fe72557c3c5fa640d90'), <NodeRelationship.PREVIOUS: '2'>: RelatedNodeInfo(node_id='c48dc6c0-5757-4e70-93d1-9e7de7ed8dff', node_type=<ObjectType.TEXT: '1'>, metadata={}, hash='b2044ddc300d7051774032da15a8f50599527cfb3809e02c1d820338593a9852'), <NodeRelationship.NEXT: '3'>: RelatedNodeInfo(node_id='c888fbfc-f032-4c62-9b3c-8c4e861c8658', node_type=<ObjectType.TEXT: '1'>, metadata={}, hash='668a0c56d7367f073644c6f438e3942ea824ca28d2e22119473a562d18b20f45'), <NodeRelationship.PARENT: '4'>: RelatedNodeInfo(node_id='6c0bee27-a938-4031-b450-f2bbe5f137cd', node_type=<ObjectType.TEXT: '1'>, metadata={}, hash='55bc135e5090691b219b2ac617e8e31549c7f346bac85fe72557c3c5fa640d90')}, text='These skills include programming fundamentals, data \\nstructures (especially those that relate to machine learning, such as data frames), algorithms \\n(including those related to databases and data manipulation), software design, familiarity with \\nPython, and familiarity with key libraries such as TensorFlow or PyTorch, and scikit-learn.Math relevant to machine learning:  Key areas include linear algebra (vectors, matrices, and various \\nmanipulations of them) as well as probability and statistics (including discrete and continuous \\nprobability, standard probability distributions, basic rules such as independence and Bayes’ rule, \\nand hypothesis testing).', start_char_idx=1740, end_char_idx=2400, text_template='{metadata_str}\\n\\n{content}', metadata_template='{key}: {value}', metadata_seperator='\\n'),\n",
       " TextNode(id_='c888fbfc-f032-4c62-9b3c-8c4e861c8658', embedding=None, metadata={}, excluded_embed_metadata_keys=[], excluded_llm_metadata_keys=[], relationships={<NodeRelationship.SOURCE: '1'>: RelatedNodeInfo(node_id='6c0bee27-a938-4031-b450-f2bbe5f137cd', node_type=<ObjectType.TEXT: '1'>, metadata={}, hash='55bc135e5090691b219b2ac617e8e31549c7f346bac85fe72557c3c5fa640d90'), <NodeRelationship.PREVIOUS: '2'>: RelatedNodeInfo(node_id='c529040d-3c98-4e82-b557-9fd8c05432db', node_type=<ObjectType.TEXT: '1'>, metadata={}, hash='13e424d7dc1628b15f3058789c8468b2eace1b8fa68563ce938ba9ccb4f96396'), <NodeRelationship.PARENT: '4'>: RelatedNodeInfo(node_id='6c0bee27-a938-4031-b450-f2bbe5f137cd', node_type=<ObjectType.TEXT: '1'>, metadata={}, hash='55bc135e5090691b219b2ac617e8e31549c7f346bac85fe72557c3c5fa640d90')}, text='In addition, exploratory data analysis (EDA) — using visualizations and other \\nmethods to systematically explore a dataset — is an underrated skill.', start_char_idx=2401, end_char_idx=2549, text_template='{metadata_str}\\n\\n{content}', metadata_template='{key}: {value}', metadata_seperator='\\n'),\n",
       " TextNode(id_='9548a59d-9b39-4424-9d77-ce49be3299c4', embedding=None, metadata={}, excluded_embed_metadata_keys=[], excluded_llm_metadata_keys=[], relationships={<NodeRelationship.SOURCE: '1'>: RelatedNodeInfo(node_id='a0419fef-eed1-4802-bb74-1d3973383f41', node_type=<ObjectType.TEXT: '1'>, metadata={}, hash='14640178e88615cf1e8457f6a6940d64b07c00ad61553b765e85b8207417c7d5'), <NodeRelationship.NEXT: '3'>: RelatedNodeInfo(node_id='41bd3c8e-8d06-496b-9854-f472852c3668', node_type=<ObjectType.TEXT: '1'>, metadata={}, hash='c72948b26c9b6fa2e9b3a4c5c196590ca0f0d704c260cfbd2f4a39da1270006b'), <NodeRelationship.PARENT: '4'>: RelatedNodeInfo(node_id='a0419fef-eed1-4802-bb74-1d3973383f41', node_type=<ObjectType.TEXT: '1'>, metadata={}, hash='14640178e88615cf1e8457f6a6940d64b07c00ad61553b765e85b8207417c7d5')}, text='I’ve found EDA particularly \\nuseful in data-centric AI development, where analyzing errors and gaining insights can really help \\ndrive progress! Finally, a basic intuitive understanding of calculus will also help. The math needed \\nto do machine learning well has been changing. For instance, although some tasks require calculus, \\nimproved automatic differentiation software makes it possible to invent and implement new neural \\nnetwork architectures without doing any calculus. This was almost impossible a decade ago.Learning Technical Skills For a Promising AI Career CHAPTER 2\\n\\nPAGE 10This is a lot to learn!', start_char_idx=0, end_char_idx=612, text_template='{metadata_str}\\n\\n{content}', metadata_template='{key}: {value}', metadata_seperator='\\n'),\n",
       " TextNode(id_='41bd3c8e-8d06-496b-9854-f472852c3668', embedding=None, metadata={}, excluded_embed_metadata_keys=[], excluded_llm_metadata_keys=[], relationships={<NodeRelationship.SOURCE: '1'>: RelatedNodeInfo(node_id='a0419fef-eed1-4802-bb74-1d3973383f41', node_type=<ObjectType.TEXT: '1'>, metadata={}, hash='14640178e88615cf1e8457f6a6940d64b07c00ad61553b765e85b8207417c7d5'), <NodeRelationship.PREVIOUS: '2'>: RelatedNodeInfo(node_id='9548a59d-9b39-4424-9d77-ce49be3299c4', node_type=<ObjectType.TEXT: '1'>, metadata={}, hash='d8e27c93d86991f48abb0bdc6b82c0dac4dc9db1bc488a201739162dbeaea2f1'), <NodeRelationship.PARENT: '4'>: RelatedNodeInfo(node_id='a0419fef-eed1-4802-bb74-1d3973383f41', node_type=<ObjectType.TEXT: '1'>, metadata={}, hash='14640178e88615cf1e8457f6a6940d64b07c00ad61553b765e85b8207417c7d5')}, text='Even after you master everything on this list, I hope you’ll keep learning and continue to deepen \\nyour technical knowledge.', start_char_idx=613, end_char_idx=737, text_template='{metadata_str}\\n\\n{content}', metadata_template='{key}: {value}', metadata_seperator='\\n'),\n",
       " TextNode(id_='5317f5b3-6a91-42ea-a051-603a310a01cf', embedding=None, metadata={}, excluded_embed_metadata_keys=[], excluded_llm_metadata_keys=[], relationships={<NodeRelationship.SOURCE: '1'>: RelatedNodeInfo(node_id='f0d0108f-1992-4fa2-b797-fffda5f6fbdc', node_type=<ObjectType.TEXT: '1'>, metadata={}, hash='cb4c216fded5d5258bf4fb352121443eb896ff2732c38e0e8dedeada953d7a10'), <NodeRelationship.NEXT: '3'>: RelatedNodeInfo(node_id='eca04ad2-0407-43f1-af73-d51c021df335', node_type=<ObjectType.TEXT: '1'>, metadata={}, hash='43fa9057a60659897404985b545ed8085346046cee1763df21376687ad512b77'), <NodeRelationship.PARENT: '4'>: RelatedNodeInfo(node_id='f0d0108f-1992-4fa2-b797-fffda5f6fbdc', node_type=<ObjectType.TEXT: '1'>, metadata={}, hash='cb4c216fded5d5258bf4fb352121443eb896ff2732c38e0e8dedeada953d7a10')}, text='I’ve known many machine learning engineers who benefitted from \\ndeeper skills in an application area such as natural language processing or computer vision, or in \\na technology area such as probabilistic graphical models or building scalable software systems.\\nHow do you gain these skills? There’s a lot of good content on the internet, and in theory, \\nreading dozens of web pages could work. But when the goal is deep understanding, reading \\ndisjointed web pages is inefficient because they tend to repeat each other, use inconsistent \\nterminology (which slows you down), vary in quality, and leave gaps.', start_char_idx=0, end_char_idx=605, text_template='{metadata_str}\\n\\n{content}', metadata_template='{key}: {value}', metadata_seperator='\\n'),\n",
       " TextNode(id_='eca04ad2-0407-43f1-af73-d51c021df335', embedding=None, metadata={}, excluded_embed_metadata_keys=[], excluded_llm_metadata_keys=[], relationships={<NodeRelationship.SOURCE: '1'>: RelatedNodeInfo(node_id='f0d0108f-1992-4fa2-b797-fffda5f6fbdc', node_type=<ObjectType.TEXT: '1'>, metadata={}, hash='cb4c216fded5d5258bf4fb352121443eb896ff2732c38e0e8dedeada953d7a10'), <NodeRelationship.PREVIOUS: '2'>: RelatedNodeInfo(node_id='5317f5b3-6a91-42ea-a051-603a310a01cf', node_type=<ObjectType.TEXT: '1'>, metadata={}, hash='bcc08966eff56668b0972a027bf0082ef6a97659a094e4e3b2a69359ed7c1476'), <NodeRelationship.NEXT: '3'>: RelatedNodeInfo(node_id='9a1ddc08-0262-4df6-a7e4-84a319f66b13', node_type=<ObjectType.TEXT: '1'>, metadata={}, hash='bfe95f8c54e283c4d9636b4f37ee1b2d9ed9b092829f337dd9212d7efecc6e74'), <NodeRelationship.PARENT: '4'>: RelatedNodeInfo(node_id='f0d0108f-1992-4fa2-b797-fffda5f6fbdc', node_type=<ObjectType.TEXT: '1'>, metadata={}, hash='cb4c216fded5d5258bf4fb352121443eb896ff2732c38e0e8dedeada953d7a10')}, text='That’s why a good course \\n— in which a body of material has been organized into a coherent and logical form — is often the \\nmost time-efficient way to master a meaningful body of knowledge. When you’ve absorbed the \\nknowledge available in courses, you can switch over to research papers and other resources.\\nFinally, no one can cram everything they need to know over a weekend or even a month. Everyone I \\nknow who’s great at machine learning is a lifelong learner. Given how quickly our field is changing, \\nthere’s little choice but to keep learning if you want to keep up.', start_char_idx=606, end_char_idx=1180, text_template='{metadata_str}\\n\\n{content}', metadata_template='{key}: {value}', metadata_seperator='\\n'),\n",
       " TextNode(id_='9a1ddc08-0262-4df6-a7e4-84a319f66b13', embedding=None, metadata={}, excluded_embed_metadata_keys=[], excluded_llm_metadata_keys=[], relationships={<NodeRelationship.SOURCE: '1'>: RelatedNodeInfo(node_id='f0d0108f-1992-4fa2-b797-fffda5f6fbdc', node_type=<ObjectType.TEXT: '1'>, metadata={}, hash='cb4c216fded5d5258bf4fb352121443eb896ff2732c38e0e8dedeada953d7a10'), <NodeRelationship.PREVIOUS: '2'>: RelatedNodeInfo(node_id='eca04ad2-0407-43f1-af73-d51c021df335', node_type=<ObjectType.TEXT: '1'>, metadata={}, hash='43fa9057a60659897404985b545ed8085346046cee1763df21376687ad512b77'), <NodeRelationship.NEXT: '3'>: RelatedNodeInfo(node_id='9da048b7-12d1-4273-9d19-23ff49bb3389', node_type=<ObjectType.TEXT: '1'>, metadata={}, hash='31c7575ed4a3cdb246f6693e68be26acf0ef7b443e23cee7c0c28c81178fce3d'), <NodeRelationship.PARENT: '4'>: RelatedNodeInfo(node_id='f0d0108f-1992-4fa2-b797-fffda5f6fbdc', node_type=<ObjectType.TEXT: '1'>, metadata={}, hash='cb4c216fded5d5258bf4fb352121443eb896ff2732c38e0e8dedeada953d7a10')}, text='How can you maintain a steady pace of learning for years? If you can cultivate the habit of \\nlearning a little bit every week, you can make significant progress with what feels like less effort.Learning Technical Skills For a Promising AI Career CHAPTER 2\\n\\n\\nPAGE 11\\nThe Best Way to Build \\na New Habit\\nOne of my favorite books is BJ Fogg’s, Tiny Habits: The Small Changes That Change \\nEverything. Fogg explains that the best way to build a new habit is to start small \\nand succeed, rather than start  too big and fail.', start_char_idx=1181, end_char_idx=1698, text_template='{metadata_str}\\n\\n{content}', metadata_template='{key}: {value}', metadata_seperator='\\n'),\n",
       " TextNode(id_='9da048b7-12d1-4273-9d19-23ff49bb3389', embedding=None, metadata={}, excluded_embed_metadata_keys=[], excluded_llm_metadata_keys=[], relationships={<NodeRelationship.SOURCE: '1'>: RelatedNodeInfo(node_id='f0d0108f-1992-4fa2-b797-fffda5f6fbdc', node_type=<ObjectType.TEXT: '1'>, metadata={}, hash='cb4c216fded5d5258bf4fb352121443eb896ff2732c38e0e8dedeada953d7a10'), <NodeRelationship.PREVIOUS: '2'>: RelatedNodeInfo(node_id='9a1ddc08-0262-4df6-a7e4-84a319f66b13', node_type=<ObjectType.TEXT: '1'>, metadata={}, hash='bfe95f8c54e283c4d9636b4f37ee1b2d9ed9b092829f337dd9212d7efecc6e74'), <NodeRelationship.NEXT: '3'>: RelatedNodeInfo(node_id='0498925c-cc59-455e-b009-ed2aaab04350', node_type=<ObjectType.TEXT: '1'>, metadata={}, hash='2df30e8a854610fffc2bd7b0d2399af751d8fc4cfd1c027ee838013c1cc27d9e'), <NodeRelationship.PARENT: '4'>: RelatedNodeInfo(node_id='f0d0108f-1992-4fa2-b797-fffda5f6fbdc', node_type=<ObjectType.TEXT: '1'>, metadata={}, hash='cb4c216fded5d5258bf4fb352121443eb896ff2732c38e0e8dedeada953d7a10')}, text='For example, rather than trying to \\nexercise for 30 minutes a day, he recommends aspiring to do just one push-up, and \\ndoing it consistently.\\nThis approach may be helpful to those of you who want to spend more time studying. \\nIf you start by holding yourself accountable for watching, say, 10 seconds of an \\neducational video every day — and you do so consistently — the habit of studying daily \\nwill grow naturally. Even if you learn nothing in that 10 seconds, you’re establishing the \\nhabit of studying a little every day.', start_char_idx=1699, end_char_idx=2224, text_template='{metadata_str}\\n\\n{content}', metadata_template='{key}: {value}', metadata_seperator='\\n'),\n",
       " TextNode(id_='0498925c-cc59-455e-b009-ed2aaab04350', embedding=None, metadata={}, excluded_embed_metadata_keys=[], excluded_llm_metadata_keys=[], relationships={<NodeRelationship.SOURCE: '1'>: RelatedNodeInfo(node_id='f0d0108f-1992-4fa2-b797-fffda5f6fbdc', node_type=<ObjectType.TEXT: '1'>, metadata={}, hash='cb4c216fded5d5258bf4fb352121443eb896ff2732c38e0e8dedeada953d7a10'), <NodeRelationship.PREVIOUS: '2'>: RelatedNodeInfo(node_id='9da048b7-12d1-4273-9d19-23ff49bb3389', node_type=<ObjectType.TEXT: '1'>, metadata={}, hash='31c7575ed4a3cdb246f6693e68be26acf0ef7b443e23cee7c0c28c81178fce3d'), <NodeRelationship.PARENT: '4'>: RelatedNodeInfo(node_id='f0d0108f-1992-4fa2-b797-fffda5f6fbdc', node_type=<ObjectType.TEXT: '1'>, metadata={}, hash='cb4c216fded5d5258bf4fb352121443eb896ff2732c38e0e8dedeada953d7a10')}, text='On some days, maybe you’ll end up studying for an \\nhour or longer.\\n\\nPAGE 12Should You \\nLearn Math to \\nGet a Job in AI?', start_char_idx=2225, end_char_idx=2343, text_template='{metadata_str}\\n\\n{content}', metadata_template='{key}: {value}', metadata_seperator='\\n'),\n",
       " TextNode(id_='a4feace7-60f9-481e-aaa2-4106c43ac2c3', embedding=None, metadata={}, excluded_embed_metadata_keys=[], excluded_llm_metadata_keys=[], relationships={<NodeRelationship.SOURCE: '1'>: RelatedNodeInfo(node_id='e939254d-311d-4c6e-9a6b-be90eeee84e5', node_type=<ObjectType.TEXT: '1'>, metadata={}, hash='ebd4557da69dee37065183d67e81e977b302f5ab630b89052471cd5ff56ba048'), <NodeRelationship.NEXT: '3'>: RelatedNodeInfo(node_id='c35c6903-1143-4daa-84f4-cef81bcc70ec', node_type=<ObjectType.TEXT: '1'>, metadata={}, hash='43f12cfb773774246e3b4cb4763280b0eadf866dc0be37c4f6ccf42b0dbc0632'), <NodeRelationship.PARENT: '4'>: RelatedNodeInfo(node_id='e939254d-311d-4c6e-9a6b-be90eeee84e5', node_type=<ObjectType.TEXT: '1'>, metadata={}, hash='ebd4557da69dee37065183d67e81e977b302f5ab630b89052471cd5ff56ba048')}, text='PAGE 12Should You \\nLearn Math to \\nGet a Job in AI? CHAPTER 3\\nLEARNING\\n\\nPAGE 13Should you Learn Math to Get a Job in AI? CHAPTER 3\\nIs math a foundational skill for AI? It’s always nice to know more math! But there’s so much to \\nlearn that, realistically, it’s necessary to prioritize. Here’s how you might go about strengthening \\nyour math background.', start_char_idx=0, end_char_idx=350, text_template='{metadata_str}\\n\\n{content}', metadata_template='{key}: {value}', metadata_seperator='\\n'),\n",
       " TextNode(id_='c35c6903-1143-4daa-84f4-cef81bcc70ec', embedding=None, metadata={}, excluded_embed_metadata_keys=[], excluded_llm_metadata_keys=[], relationships={<NodeRelationship.SOURCE: '1'>: RelatedNodeInfo(node_id='e939254d-311d-4c6e-9a6b-be90eeee84e5', node_type=<ObjectType.TEXT: '1'>, metadata={}, hash='ebd4557da69dee37065183d67e81e977b302f5ab630b89052471cd5ff56ba048'), <NodeRelationship.PREVIOUS: '2'>: RelatedNodeInfo(node_id='a4feace7-60f9-481e-aaa2-4106c43ac2c3', node_type=<ObjectType.TEXT: '1'>, metadata={}, hash='0b055b41cd232263958cb198e3e546c1cd576221d83ac18f918f053a9763fc4e'), <NodeRelationship.NEXT: '3'>: RelatedNodeInfo(node_id='6bb6272c-6789-420a-9e54-8a32f797b966', node_type=<ObjectType.TEXT: '1'>, metadata={}, hash='1c0d8b1af9f2cf385841b8732d6f33b8002f3b33a9f30fa08392d58e0f59b3b8'), <NodeRelationship.PARENT: '4'>: RelatedNodeInfo(node_id='e939254d-311d-4c6e-9a6b-be90eeee84e5', node_type=<ObjectType.TEXT: '1'>, metadata={}, hash='ebd4557da69dee37065183d67e81e977b302f5ab630b89052471cd5ff56ba048')}, text='Here’s how you might go about strengthening \\nyour math background.\\nTo figure out what’s important to know, I find it useful to ask what you need to know to make \\nthe decisions required for the work you want to do. At DeepLearning.AI, we frequently ask, \\n“What does someone need to know to accomplish their goals?” The goal might be building a \\nmachine learning model, architecting a system, or passing a job interview.\\nUnderstanding the math behind algorithms you use is often helpful, since it enables you to \\ndebug them. But the depth of knowledge that’s useful changes over time.', start_char_idx=284, end_char_idx=866, text_template='{metadata_str}\\n\\n{content}', metadata_template='{key}: {value}', metadata_seperator='\\n'),\n",
       " TextNode(id_='6bb6272c-6789-420a-9e54-8a32f797b966', embedding=None, metadata={}, excluded_embed_metadata_keys=[], excluded_llm_metadata_keys=[], relationships={<NodeRelationship.SOURCE: '1'>: RelatedNodeInfo(node_id='e939254d-311d-4c6e-9a6b-be90eeee84e5', node_type=<ObjectType.TEXT: '1'>, metadata={}, hash='ebd4557da69dee37065183d67e81e977b302f5ab630b89052471cd5ff56ba048'), <NodeRelationship.PREVIOUS: '2'>: RelatedNodeInfo(node_id='c35c6903-1143-4daa-84f4-cef81bcc70ec', node_type=<ObjectType.TEXT: '1'>, metadata={}, hash='43f12cfb773774246e3b4cb4763280b0eadf866dc0be37c4f6ccf42b0dbc0632'), <NodeRelationship.NEXT: '3'>: RelatedNodeInfo(node_id='84425af1-6d27-416e-b533-ee937d320f97', node_type=<ObjectType.TEXT: '1'>, metadata={}, hash='c8fbfe10a099b84f259c3f554384b093c527edd01d1057c3048324db73adf8bd'), <NodeRelationship.PARENT: '4'>: RelatedNodeInfo(node_id='e939254d-311d-4c6e-9a6b-be90eeee84e5', node_type=<ObjectType.TEXT: '1'>, metadata={}, hash='ebd4557da69dee37065183d67e81e977b302f5ab630b89052471cd5ff56ba048')}, text='But the depth of knowledge that’s useful changes over time. As machine learning \\ntechniques mature and become more reliable and turnkey, they require less debugging, and a \\nshallower understanding of the math involved may be sufficient to make them work.\\nFor instance, in an earlier era of machine learning, linear algebra libraries for solving linear \\nsystems of equations (for linear regression) were immature. I had to understand how these \\nlibraries worked so I could choose among different libraries and avoid numerical roundoff \\npitfalls. But this became less important as numerical linear algebra libraries matured.', start_char_idx=807, end_char_idx=1429, text_template='{metadata_str}\\n\\n{content}', metadata_template='{key}: {value}', metadata_seperator='\\n'),\n",
       " TextNode(id_='84425af1-6d27-416e-b533-ee937d320f97', embedding=None, metadata={}, excluded_embed_metadata_keys=[], excluded_llm_metadata_keys=[], relationships={<NodeRelationship.SOURCE: '1'>: RelatedNodeInfo(node_id='e939254d-311d-4c6e-9a6b-be90eeee84e5', node_type=<ObjectType.TEXT: '1'>, metadata={}, hash='ebd4557da69dee37065183d67e81e977b302f5ab630b89052471cd5ff56ba048'), <NodeRelationship.PREVIOUS: '2'>: RelatedNodeInfo(node_id='6bb6272c-6789-420a-9e54-8a32f797b966', node_type=<ObjectType.TEXT: '1'>, metadata={}, hash='1c0d8b1af9f2cf385841b8732d6f33b8002f3b33a9f30fa08392d58e0f59b3b8'), <NodeRelationship.NEXT: '3'>: RelatedNodeInfo(node_id='114f545b-f24c-4a95-b24b-a47817f36e4c', node_type=<ObjectType.TEXT: '1'>, metadata={}, hash='9d48d41905bd495d1bbf0d5367c9020e14e8ff4aa4f7f91a701468e78706c961'), <NodeRelationship.PARENT: '4'>: RelatedNodeInfo(node_id='e939254d-311d-4c6e-9a6b-be90eeee84e5', node_type=<ObjectType.TEXT: '1'>, metadata={}, hash='ebd4557da69dee37065183d67e81e977b302f5ab630b89052471cd5ff56ba048')}, text='But this became less important as numerical linear algebra libraries matured.\\nDeep learning is still an emerging technology, so when you train a neural network and the \\noptimization algorithm struggles to converge, understanding the math behind gradient \\ndescent, momentum, and the Adam  optimization algorithm will help you make better decisions. \\nSimilarly, if your neural network does something funny — say, it makes bad predictions on \\nimages of a certain resolution, but not others — understanding the math behind neural network \\narchitectures puts you in a better position to figure out what to do.\\nOf course, I also encourage learning driven by curiosity.', start_char_idx=1352, end_char_idx=2014, text_template='{metadata_str}\\n\\n{content}', metadata_template='{key}: {value}', metadata_seperator='\\n'),\n",
       " TextNode(id_='114f545b-f24c-4a95-b24b-a47817f36e4c', embedding=None, metadata={}, excluded_embed_metadata_keys=[], excluded_llm_metadata_keys=[], relationships={<NodeRelationship.SOURCE: '1'>: RelatedNodeInfo(node_id='e939254d-311d-4c6e-9a6b-be90eeee84e5', node_type=<ObjectType.TEXT: '1'>, metadata={}, hash='ebd4557da69dee37065183d67e81e977b302f5ab630b89052471cd5ff56ba048'), <NodeRelationship.PREVIOUS: '2'>: RelatedNodeInfo(node_id='84425af1-6d27-416e-b533-ee937d320f97', node_type=<ObjectType.TEXT: '1'>, metadata={}, hash='c8fbfe10a099b84f259c3f554384b093c527edd01d1057c3048324db73adf8bd'), <NodeRelationship.PARENT: '4'>: RelatedNodeInfo(node_id='e939254d-311d-4c6e-9a6b-be90eeee84e5', node_type=<ObjectType.TEXT: '1'>, metadata={}, hash='ebd4557da69dee37065183d67e81e977b302f5ab630b89052471cd5ff56ba048')}, text='Of course, I also encourage learning driven by curiosity. If something interests you, go ahead \\nand learn it regardless of how useful it might turn out to be!  Maybe this will lead to a creative \\nspark or technical breakthrough.How much math do you need to know to be a machine learning engineer?', start_char_idx=1957, end_char_idx=2253, text_template='{metadata_str}\\n\\n{content}', metadata_template='{key}: {value}', metadata_seperator='\\n'),\n",
       " TextNode(id_='fe30ed70-1782-4ad4-983b-536e5ff31175', embedding=None, metadata={}, excluded_embed_metadata_keys=[], excluded_llm_metadata_keys=[], relationships={<NodeRelationship.SOURCE: '1'>: RelatedNodeInfo(node_id='ba28ee1a-39a4-4d2b-817b-740edfce76f5', node_type=<ObjectType.TEXT: '1'>, metadata={}, hash='98314ce0f3a5c32ecb1dc140537a07f2bc149091078deea709f34e1812e5e67d'), <NodeRelationship.NEXT: '3'>: RelatedNodeInfo(node_id='78d085a1-dd0e-41ba-8d38-eb233cbf406a', node_type=<ObjectType.TEXT: '1'>, metadata={}, hash='3fd85f55d0015339e99040fedb480d79c48f0a1acbc2301b7782e2bfcaa3658c'), <NodeRelationship.PARENT: '4'>: RelatedNodeInfo(node_id='ba28ee1a-39a4-4d2b-817b-740edfce76f5', node_type=<ObjectType.TEXT: '1'>, metadata={}, hash='98314ce0f3a5c32ecb1dc140537a07f2bc149091078deea709f34e1812e5e67d')}, text='PAGE 14Scoping Successful \\nAI ProjectsCHAPTER 4\\nPROJECTS\\n\\nPAGE 15One of the most important skills of an AI architect is the ability to identify ideas that are worth \\nworking on. These next few chapters will discuss finding and working on projects so you can gain \\nexperience and build your portfolio. \\nOver the years, I’ve had fun applying machine learning to manufacturing, healthcare, climate \\nchange, agriculture, ecommerce, advertising, and other industries. How can someone who’s not \\nan expert in all these sectors find meaningful projects within them? Here are five steps to help \\nyou scope projects.', start_char_idx=0, end_char_idx=607, text_template='{metadata_str}\\n\\n{content}', metadata_template='{key}: {value}', metadata_seperator='\\n'),\n",
       " TextNode(id_='78d085a1-dd0e-41ba-8d38-eb233cbf406a', embedding=None, metadata={}, excluded_embed_metadata_keys=[], excluded_llm_metadata_keys=[], relationships={<NodeRelationship.SOURCE: '1'>: RelatedNodeInfo(node_id='ba28ee1a-39a4-4d2b-817b-740edfce76f5', node_type=<ObjectType.TEXT: '1'>, metadata={}, hash='98314ce0f3a5c32ecb1dc140537a07f2bc149091078deea709f34e1812e5e67d'), <NodeRelationship.PREVIOUS: '2'>: RelatedNodeInfo(node_id='fe30ed70-1782-4ad4-983b-536e5ff31175', node_type=<ObjectType.TEXT: '1'>, metadata={}, hash='a3288d7a46de72b7f506fe88529d90725ec01c26f6e3ba87fc78a32f46f55956'), <NodeRelationship.NEXT: '3'>: RelatedNodeInfo(node_id='13812221-f865-4515-ae98-6d9eb39e5de5', node_type=<ObjectType.TEXT: '1'>, metadata={}, hash='fe4a247e97ae6d9570a91f61ed62de58dc2999fc8a146289e6b8b264f64cd09d'), <NodeRelationship.PARENT: '4'>: RelatedNodeInfo(node_id='ba28ee1a-39a4-4d2b-817b-740edfce76f5', node_type=<ObjectType.TEXT: '1'>, metadata={}, hash='98314ce0f3a5c32ecb1dc140537a07f2bc149091078deea709f34e1812e5e67d')}, text='Here are five steps to help \\nyou scope projects.\\nIdentify a business problem (not an AI problem). I like to find \\na domain expert and ask, “What are the top three things \\nthat you wish worked better? Why aren’t they working yet?” \\nFor example, if you want to apply AI to climate change, you \\nmight discover that power-grid operators can’t accurately \\npredict how much power intermittent sources like wind \\nand solar might generate in the future.\\nBrainstorm AI solutions. When I was younger, I used to \\nexecute on the first idea I was excited about.', start_char_idx=559, end_char_idx=1107, text_template='{metadata_str}\\n\\n{content}', metadata_template='{key}: {value}', metadata_seperator='\\n'),\n",
       " TextNode(id_='13812221-f865-4515-ae98-6d9eb39e5de5', embedding=None, metadata={}, excluded_embed_metadata_keys=[], excluded_llm_metadata_keys=[], relationships={<NodeRelationship.SOURCE: '1'>: RelatedNodeInfo(node_id='ba28ee1a-39a4-4d2b-817b-740edfce76f5', node_type=<ObjectType.TEXT: '1'>, metadata={}, hash='98314ce0f3a5c32ecb1dc140537a07f2bc149091078deea709f34e1812e5e67d'), <NodeRelationship.PREVIOUS: '2'>: RelatedNodeInfo(node_id='78d085a1-dd0e-41ba-8d38-eb233cbf406a', node_type=<ObjectType.TEXT: '1'>, metadata={}, hash='3fd85f55d0015339e99040fedb480d79c48f0a1acbc2301b7782e2bfcaa3658c'), <NodeRelationship.NEXT: '3'>: RelatedNodeInfo(node_id='31ab897b-b50d-4701-94ec-cf4c189205eb', node_type=<ObjectType.TEXT: '1'>, metadata={}, hash='96c9636a8b52db9ef9c0bc43b90e48728591159fabf7a910a378c3ce9c2c1d64'), <NodeRelationship.PARENT: '4'>: RelatedNodeInfo(node_id='ba28ee1a-39a4-4d2b-817b-740edfce76f5', node_type=<ObjectType.TEXT: '1'>, metadata={}, hash='98314ce0f3a5c32ecb1dc140537a07f2bc149091078deea709f34e1812e5e67d')}, text='When I was younger, I used to \\nexecute on the first idea I was excited about. Sometimes \\nthis worked out okay, but sometimes I ended up missing \\nan even better idea that might not have taken any more \\neffort to build. Once you understand a problem, you can \\nbrainstorm potential solutions more efficiently.', start_char_idx=1030, end_char_idx=1336, text_template='{metadata_str}\\n\\n{content}', metadata_template='{key}: {value}', metadata_seperator='\\n'),\n",
       " TextNode(id_='31ab897b-b50d-4701-94ec-cf4c189205eb', embedding=None, metadata={}, excluded_embed_metadata_keys=[], excluded_llm_metadata_keys=[], relationships={<NodeRelationship.SOURCE: '1'>: RelatedNodeInfo(node_id='ba28ee1a-39a4-4d2b-817b-740edfce76f5', node_type=<ObjectType.TEXT: '1'>, metadata={}, hash='98314ce0f3a5c32ecb1dc140537a07f2bc149091078deea709f34e1812e5e67d'), <NodeRelationship.PREVIOUS: '2'>: RelatedNodeInfo(node_id='13812221-f865-4515-ae98-6d9eb39e5de5', node_type=<ObjectType.TEXT: '1'>, metadata={}, hash='fe4a247e97ae6d9570a91f61ed62de58dc2999fc8a146289e6b8b264f64cd09d'), <NodeRelationship.NEXT: '3'>: RelatedNodeInfo(node_id='d9a2f893-1641-4571-99ae-3478f53558fb', node_type=<ObjectType.TEXT: '1'>, metadata={}, hash='51eeef780099846cdb021fed66f3038dd44d6aea474bd87b249e2599a9a90240'), <NodeRelationship.PARENT: '4'>: RelatedNodeInfo(node_id='ba28ee1a-39a4-4d2b-817b-740edfce76f5', node_type=<ObjectType.TEXT: '1'>, metadata={}, hash='98314ce0f3a5c32ecb1dc140537a07f2bc149091078deea709f34e1812e5e67d')}, text='Once you understand a problem, you can \\nbrainstorm potential solutions more efficiently. For instance, \\nto predict power generation from intermittent sources, we \\nmight consider using satellite imagery to map the locations \\nof wind turbines more accurately, using satellite imagery \\nto estimate the height and generation capacity of wind \\nturbines, or using weather data to better predict cloud cover \\nand thus solar irradiance. Sometimes there isn’t a good AI \\nsolution, and that’s okay too.Scoping Successful AI Projects CHAPTER 4\\nStep 1\\nStep 2', start_char_idx=1248, end_char_idx=1794, text_template='{metadata_str}\\n\\n{content}', metadata_template='{key}: {value}', metadata_seperator='\\n'),\n",
       " TextNode(id_='d9a2f893-1641-4571-99ae-3478f53558fb', embedding=None, metadata={}, excluded_embed_metadata_keys=[], excluded_llm_metadata_keys=[], relationships={<NodeRelationship.SOURCE: '1'>: RelatedNodeInfo(node_id='ba28ee1a-39a4-4d2b-817b-740edfce76f5', node_type=<ObjectType.TEXT: '1'>, metadata={}, hash='98314ce0f3a5c32ecb1dc140537a07f2bc149091078deea709f34e1812e5e67d'), <NodeRelationship.PREVIOUS: '2'>: RelatedNodeInfo(node_id='31ab897b-b50d-4701-94ec-cf4c189205eb', node_type=<ObjectType.TEXT: '1'>, metadata={}, hash='96c9636a8b52db9ef9c0bc43b90e48728591159fabf7a910a378c3ce9c2c1d64'), <NodeRelationship.PARENT: '4'>: RelatedNodeInfo(node_id='ba28ee1a-39a4-4d2b-817b-740edfce76f5', node_type=<ObjectType.TEXT: '1'>, metadata={}, hash='98314ce0f3a5c32ecb1dc140537a07f2bc149091078deea709f34e1812e5e67d')}, text='PAGE 16Determine milestones. Once you’ve deemed a project sufficiently \\nvaluable, the next step is to determine the metrics to aim for. This \\nincludes both machine learning metrics (such as accuracy) and \\nbusiness metrics (such as revenue). Machine learning teams are often \\nmost comfortable with metrics that a learning algorithm can optimize. \\nBut we may need to stretch outside our comfort zone to come up \\nwith business metrics, such as those related to user engagement, \\nrevenue, and so on.', start_char_idx=1797, end_char_idx=2292, text_template='{metadata_str}\\n\\n{content}', metadata_template='{key}: {value}', metadata_seperator='\\n'),\n",
       " TextNode(id_='07cc5c05-9e0e-43cf-a8cd-87bce8795236', embedding=None, metadata={}, excluded_embed_metadata_keys=[], excluded_llm_metadata_keys=[], relationships={<NodeRelationship.SOURCE: '1'>: RelatedNodeInfo(node_id='309b29e4-8ee0-4954-8117-b9646f05f795', node_type=<ObjectType.TEXT: '1'>, metadata={}, hash='4b0045e4377b0ee06a6fdef8b0eb0d04a975b57dc4e61130b24c4e7fc272a35d'), <NodeRelationship.NEXT: '3'>: RelatedNodeInfo(node_id='b69bdd59-e82f-4590-99ba-e8f4d7033c80', node_type=<ObjectType.TEXT: '1'>, metadata={}, hash='9635300351cc5e2220303f9ea3023927c65d38dd18212412dc023408f6836dd2'), <NodeRelationship.PARENT: '4'>: RelatedNodeInfo(node_id='309b29e4-8ee0-4954-8117-b9646f05f795', node_type=<ObjectType.TEXT: '1'>, metadata={}, hash='4b0045e4377b0ee06a6fdef8b0eb0d04a975b57dc4e61130b24c4e7fc272a35d')}, text='Unfortunately, not every business problem can be \\nreduced to optimizing test set accuracy! If you aren’t able to determine \\nreasonable milestones, it may be a sign that you need to learn more \\nabout the problem. A quick proof of concept can help supply the \\nmissing perspective.Assess the feasibility and value of potential solutions. You can determine \\nwhether an approach is technically feasible by looking at published work, \\nwhat competitors have done, or perhaps building a quick proof of concept \\nimplementation.', start_char_idx=0, end_char_idx=518, text_template='{metadata_str}\\n\\n{content}', metadata_template='{key}: {value}', metadata_seperator='\\n'),\n",
       " TextNode(id_='b69bdd59-e82f-4590-99ba-e8f4d7033c80', embedding=None, metadata={}, excluded_embed_metadata_keys=[], excluded_llm_metadata_keys=[], relationships={<NodeRelationship.SOURCE: '1'>: RelatedNodeInfo(node_id='309b29e4-8ee0-4954-8117-b9646f05f795', node_type=<ObjectType.TEXT: '1'>, metadata={}, hash='4b0045e4377b0ee06a6fdef8b0eb0d04a975b57dc4e61130b24c4e7fc272a35d'), <NodeRelationship.PREVIOUS: '2'>: RelatedNodeInfo(node_id='07cc5c05-9e0e-43cf-a8cd-87bce8795236', node_type=<ObjectType.TEXT: '1'>, metadata={}, hash='667194cbe757148765f188f5b254fe8ff58912a88813ea1f246e229ca9d2c115'), <NodeRelationship.NEXT: '3'>: RelatedNodeInfo(node_id='5f2cf8ad-8ba4-4d91-83e1-e4355fbbb180', node_type=<ObjectType.TEXT: '1'>, metadata={}, hash='4a2c5cd35977023fbd7fc9a5866b62903bbd4bfc380bfdb7982b8b833752cb5d'), <NodeRelationship.PARENT: '4'>: RelatedNodeInfo(node_id='309b29e4-8ee0-4954-8117-b9646f05f795', node_type=<ObjectType.TEXT: '1'>, metadata={}, hash='4b0045e4377b0ee06a6fdef8b0eb0d04a975b57dc4e61130b24c4e7fc272a35d')}, text='You can determine its value by consulting with domain \\nexperts (say, power-grid operators, who can advise on the utility of the \\npotential solutions mentioned above).\\nBudget for resources. Think through everything you’ll need to get the \\nproject done including data, personnel, time, and any integrations or \\nsupport you may need from other teams. For example, if you need funds \\nto purchase satellite imagery, make sure that’s in the budget.\\nWorking on projects is an iterative process.', start_char_idx=519, end_char_idx=1006, text_template='{metadata_str}\\n\\n{content}', metadata_template='{key}: {value}', metadata_seperator='\\n'),\n",
       " TextNode(id_='5f2cf8ad-8ba4-4d91-83e1-e4355fbbb180', embedding=None, metadata={}, excluded_embed_metadata_keys=[], excluded_llm_metadata_keys=[], relationships={<NodeRelationship.SOURCE: '1'>: RelatedNodeInfo(node_id='309b29e4-8ee0-4954-8117-b9646f05f795', node_type=<ObjectType.TEXT: '1'>, metadata={}, hash='4b0045e4377b0ee06a6fdef8b0eb0d04a975b57dc4e61130b24c4e7fc272a35d'), <NodeRelationship.PREVIOUS: '2'>: RelatedNodeInfo(node_id='b69bdd59-e82f-4590-99ba-e8f4d7033c80', node_type=<ObjectType.TEXT: '1'>, metadata={}, hash='9635300351cc5e2220303f9ea3023927c65d38dd18212412dc023408f6836dd2'), <NodeRelationship.NEXT: '3'>: RelatedNodeInfo(node_id='4694f602-735b-4275-9e43-33afbfd68a0f', node_type=<ObjectType.TEXT: '1'>, metadata={}, hash='c20cd8d2c8db4348f33db22827a3d57dc4ad9cc1685df0549715df365ee29e98'), <NodeRelationship.PARENT: '4'>: RelatedNodeInfo(node_id='309b29e4-8ee0-4954-8117-b9646f05f795', node_type=<ObjectType.TEXT: '1'>, metadata={}, hash='4b0045e4377b0ee06a6fdef8b0eb0d04a975b57dc4e61130b24c4e7fc272a35d')}, text='Working on projects is an iterative process. If, at any step, you find that the current direction is \\ninfeasible, return to an earlier step and proceed with your new understanding. Is there a domain \\nthat excites you where AI might make a difference? I hope these steps will guide you in exploring it \\nthrough project work — even if you don’t yet have deep expertise in that field.', start_char_idx=962, end_char_idx=1343, text_template='{metadata_str}\\n\\n{content}', metadata_template='{key}: {value}', metadata_seperator='\\n'),\n",
       " TextNode(id_='4694f602-735b-4275-9e43-33afbfd68a0f', embedding=None, metadata={}, excluded_embed_metadata_keys=[], excluded_llm_metadata_keys=[], relationships={<NodeRelationship.SOURCE: '1'>: RelatedNodeInfo(node_id='309b29e4-8ee0-4954-8117-b9646f05f795', node_type=<ObjectType.TEXT: '1'>, metadata={}, hash='4b0045e4377b0ee06a6fdef8b0eb0d04a975b57dc4e61130b24c4e7fc272a35d'), <NodeRelationship.PREVIOUS: '2'>: RelatedNodeInfo(node_id='5f2cf8ad-8ba4-4d91-83e1-e4355fbbb180', node_type=<ObjectType.TEXT: '1'>, metadata={}, hash='4a2c5cd35977023fbd7fc9a5866b62903bbd4bfc380bfdb7982b8b833752cb5d'), <NodeRelationship.NEXT: '3'>: RelatedNodeInfo(node_id='45b71f50-e8d0-447f-9f99-80ebe7e9d20b', node_type=<ObjectType.TEXT: '1'>, metadata={}, hash='2a7fb12ff3c2996636e0ec5f3b7770ffd100909e892ea73e98ca7efddb55b0a0'), <NodeRelationship.PARENT: '4'>: RelatedNodeInfo(node_id='309b29e4-8ee0-4954-8117-b9646f05f795', node_type=<ObjectType.TEXT: '1'>, metadata={}, hash='4b0045e4377b0ee06a6fdef8b0eb0d04a975b57dc4e61130b24c4e7fc272a35d')}, text='AI won’t solve every \\nproblem, but as a community, let’s look for ways to make a positive impact wherever we can.Scoping Successful AI Projects CHAPTER 4\\nStep 3\\nStep 4\\nStep 5\\n\\nPAGE 17Finding Projects that \\nComplement Your \\nCareer GoalsCHAPTER 5\\nPROJECTS\\n\\nPAGE 18It goes without saying that we should only work on projects that are responsible, ethical, and \\nbeneficial to people. But those limits leave a large variety to choose from. In the previous chapter, \\nI wrote about how to identify and scope AI projects.', start_char_idx=1344, end_char_idx=1857, text_template='{metadata_str}\\n\\n{content}', metadata_template='{key}: {value}', metadata_seperator='\\n'),\n",
       " TextNode(id_='45b71f50-e8d0-447f-9f99-80ebe7e9d20b', embedding=None, metadata={}, excluded_embed_metadata_keys=[], excluded_llm_metadata_keys=[], relationships={<NodeRelationship.SOURCE: '1'>: RelatedNodeInfo(node_id='309b29e4-8ee0-4954-8117-b9646f05f795', node_type=<ObjectType.TEXT: '1'>, metadata={}, hash='4b0045e4377b0ee06a6fdef8b0eb0d04a975b57dc4e61130b24c4e7fc272a35d'), <NodeRelationship.PREVIOUS: '2'>: RelatedNodeInfo(node_id='4694f602-735b-4275-9e43-33afbfd68a0f', node_type=<ObjectType.TEXT: '1'>, metadata={}, hash='c20cd8d2c8db4348f33db22827a3d57dc4ad9cc1685df0549715df365ee29e98'), <NodeRelationship.PARENT: '4'>: RelatedNodeInfo(node_id='309b29e4-8ee0-4954-8117-b9646f05f795', node_type=<ObjectType.TEXT: '1'>, metadata={}, hash='4b0045e4377b0ee06a6fdef8b0eb0d04a975b57dc4e61130b24c4e7fc272a35d')}, text='In the previous chapter, \\nI wrote about how to identify and scope AI projects. This chapter and the next have a slightly \\ndifferent emphasis: picking and executing projects with an eye toward career development.\\nA fruitful career will include many projects, hopefully growing in scope, complexity, and impact \\nover time. Thus, it is fine to start small. Use early projects to learn and gradually step up to \\nbigger projects as your skills grow.\\nWhen you’re starting out, don’t expect others to hand great ideas or resources to you on a platter.', start_char_idx=1779, end_char_idx=2323, text_template='{metadata_str}\\n\\n{content}', metadata_template='{key}: {value}', metadata_seperator='\\n'),\n",
       " TextNode(id_='74ac4111-5a03-4d19-8457-9c16c3783876', embedding=None, metadata={}, excluded_embed_metadata_keys=[], excluded_llm_metadata_keys=[], relationships={<NodeRelationship.SOURCE: '1'>: RelatedNodeInfo(node_id='5fa264d3-2a7f-4911-8d0f-70e519220f6e', node_type=<ObjectType.TEXT: '1'>, metadata={}, hash='d6790adaae5a7c3e5228dbf1b49fbecd08df8686dfa0e5430d0c62081d68d605'), <NodeRelationship.PARENT: '4'>: RelatedNodeInfo(node_id='5fa264d3-2a7f-4911-8d0f-70e519220f6e', node_type=<ObjectType.TEXT: '1'>, metadata={}, hash='d6790adaae5a7c3e5228dbf1b49fbecd08df8686dfa0e5430d0c62081d68d605')}, text='Many people start by working on small projects in their spare time. With initial successes — even \\nsmall ones — under your belt, your growing skills increase your ability to come up with better \\nideas, and it becomes easier to persuade others to help you step up to bigger projects.Finding Projects that Compliment Your Career Goals CHAPTER 5\\nJoin existing projects. If you find someone else with an idea, ask to join their project.', start_char_idx=0, end_char_idx=432, text_template='{metadata_str}\\n\\n{content}', metadata_template='{key}: {value}', metadata_seperator='\\n'),\n",
       " TextNode(id_='a3f96e57-f0ab-4ad6-a2b1-2810932d960a', embedding=None, metadata={}, excluded_embed_metadata_keys=[], excluded_llm_metadata_keys=[], relationships={<NodeRelationship.SOURCE: '1'>: RelatedNodeInfo(node_id='cf7b7040-37e8-434a-bea5-131dc5ee1c66', node_type=<ObjectType.TEXT: '1'>, metadata={}, hash='4b58698edfde4b6bf1c900cc32c13fd7cf68fae23a3551179b78c7b51707e1bf'), <NodeRelationship.NEXT: '3'>: RelatedNodeInfo(node_id='20374496-d43e-41aa-8b81-3f45b6f28c0c', node_type=<ObjectType.TEXT: '1'>, metadata={}, hash='83aff59e24bf440ade0a3339e1f36de1c215f0568165e14b08cc965541fdb0d3'), <NodeRelationship.PARENT: '4'>: RelatedNodeInfo(node_id='cf7b7040-37e8-434a-bea5-131dc5ee1c66', node_type=<ObjectType.TEXT: '1'>, metadata={}, hash='4b58698edfde4b6bf1c900cc32c13fd7cf68fae23a3551179b78c7b51707e1bf')}, text='If you find someone else with an idea, ask to join their project.\\nKeep reading and talking to people. I come up with new ideas whenever I spend a lot of \\ntime reading, taking courses, or talking with domain experts. I’m confident that you will, too.\\nFocus on an application area. Many researchers are trying to advance basic AI technology \\n— say, by inventing the next generation of transformers or further scaling up language \\nmodels — so, while this is an exciting direction, it is also very hard.', start_char_idx=0, end_char_idx=499, text_template='{metadata_str}\\n\\n{content}', metadata_template='{key}: {value}', metadata_seperator='\\n'),\n",
       " TextNode(id_='20374496-d43e-41aa-8b81-3f45b6f28c0c', embedding=None, metadata={}, excluded_embed_metadata_keys=[], excluded_llm_metadata_keys=[], relationships={<NodeRelationship.SOURCE: '1'>: RelatedNodeInfo(node_id='cf7b7040-37e8-434a-bea5-131dc5ee1c66', node_type=<ObjectType.TEXT: '1'>, metadata={}, hash='4b58698edfde4b6bf1c900cc32c13fd7cf68fae23a3551179b78c7b51707e1bf'), <NodeRelationship.PREVIOUS: '2'>: RelatedNodeInfo(node_id='a3f96e57-f0ab-4ad6-a2b1-2810932d960a', node_type=<ObjectType.TEXT: '1'>, metadata={}, hash='8fa07ac6cc9328921d103275ebe02e102762cb388950d1f492854c4622505ed3'), <NodeRelationship.NEXT: '3'>: RelatedNodeInfo(node_id='368abbc0-c9ec-4dac-b639-76b5c57dd1bf', node_type=<ObjectType.TEXT: '1'>, metadata={}, hash='bbec256e33fb5bf053c86cf3af885d66bd596a2ae484abfffb86b54afc3814d0'), <NodeRelationship.PARENT: '4'>: RelatedNodeInfo(node_id='cf7b7040-37e8-434a-bea5-131dc5ee1c66', node_type=<ObjectType.TEXT: '1'>, metadata={}, hash='4b58698edfde4b6bf1c900cc32c13fd7cf68fae23a3551179b78c7b51707e1bf')}, text='But the variety of \\napplications to which machine learning has not yet been applied is vast! I’m fortunate to \\nhave been able to apply neural networks to everything from autonomous helicopter flight to \\nonline advertising, partly because I jumped in when relatively few people were working on \\nthose applications. If your company or school cares about a particular application, explore \\nthe possibilities for machine learning. That can give you a first look at a potentially creative \\napplication — one where you can do unique work — that no one else has done yet.✓\\n✓\\n✓What if you don’t have any project ideas?', start_char_idx=500, end_char_idx=1110, text_template='{metadata_str}\\n\\n{content}', metadata_template='{key}: {value}', metadata_seperator='\\n'),\n",
       " TextNode(id_='368abbc0-c9ec-4dac-b639-76b5c57dd1bf', embedding=None, metadata={}, excluded_embed_metadata_keys=[], excluded_llm_metadata_keys=[], relationships={<NodeRelationship.SOURCE: '1'>: RelatedNodeInfo(node_id='cf7b7040-37e8-434a-bea5-131dc5ee1c66', node_type=<ObjectType.TEXT: '1'>, metadata={}, hash='4b58698edfde4b6bf1c900cc32c13fd7cf68fae23a3551179b78c7b51707e1bf'), <NodeRelationship.PREVIOUS: '2'>: RelatedNodeInfo(node_id='20374496-d43e-41aa-8b81-3f45b6f28c0c', node_type=<ObjectType.TEXT: '1'>, metadata={}, hash='83aff59e24bf440ade0a3339e1f36de1c215f0568165e14b08cc965541fdb0d3'), <NodeRelationship.NEXT: '3'>: RelatedNodeInfo(node_id='85159cd6-ec33-4f7d-b2c9-16bbb7de58d0', node_type=<ObjectType.TEXT: '1'>, metadata={}, hash='29b0551f279b8818d3d5f97239d3998fc0061dbbe7fbf91e3f079b23362d9751'), <NodeRelationship.PARENT: '4'>: RelatedNodeInfo(node_id='cf7b7040-37e8-434a-bea5-131dc5ee1c66', node_type=<ObjectType.TEXT: '1'>, metadata={}, hash='4b58698edfde4b6bf1c900cc32c13fd7cf68fae23a3551179b78c7b51707e1bf')}, text='Here are a few ways to generate them:\\n\\nPAGE 19Develop a side hustle. Even if you have a full-time job, a fun project that may or may not \\ndevelop into something bigger can stir the creative juices and strengthen bonds with \\ncollaborators. When I was a full-time professor, working on online education wasn’t part of \\nmy “job” (which was doing research and teaching classes). It was a fun hobby that I often \\nworked on out of passion for education.', start_char_idx=1111, end_char_idx=1558, text_template='{metadata_str}\\n\\n{content}', metadata_template='{key}: {value}', metadata_seperator='\\n'),\n",
       " TextNode(id_='85159cd6-ec33-4f7d-b2c9-16bbb7de58d0', embedding=None, metadata={}, excluded_embed_metadata_keys=[], excluded_llm_metadata_keys=[], relationships={<NodeRelationship.SOURCE: '1'>: RelatedNodeInfo(node_id='cf7b7040-37e8-434a-bea5-131dc5ee1c66', node_type=<ObjectType.TEXT: '1'>, metadata={}, hash='4b58698edfde4b6bf1c900cc32c13fd7cf68fae23a3551179b78c7b51707e1bf'), <NodeRelationship.PREVIOUS: '2'>: RelatedNodeInfo(node_id='368abbc0-c9ec-4dac-b639-76b5c57dd1bf', node_type=<ObjectType.TEXT: '1'>, metadata={}, hash='bbec256e33fb5bf053c86cf3af885d66bd596a2ae484abfffb86b54afc3814d0'), <NodeRelationship.NEXT: '3'>: RelatedNodeInfo(node_id='bc82378e-1f8a-4485-a717-6ce02d41f7a5', node_type=<ObjectType.TEXT: '1'>, metadata={}, hash='dc26c31c7c5639d900c0547721051fd8211ec29bb5ad2028dac07a0a007fb60c'), <NodeRelationship.PARENT: '4'>: RelatedNodeInfo(node_id='cf7b7040-37e8-434a-bea5-131dc5ee1c66', node_type=<ObjectType.TEXT: '1'>, metadata={}, hash='4b58698edfde4b6bf1c900cc32c13fd7cf68fae23a3551179b78c7b51707e1bf')}, text='It was a fun hobby that I often \\nworked on out of passion for education. My early experiences in recording videos at home \\nhelped me later in working on online education in a more substantive way. Silicon Valley \\nabounds with stories of startups that started as side projects. As long as it doesn’t create a \\nconflict with your employer, these projects can be a stepping stone to something significant.\\nWill the project help you grow technically? Ideally, it should be challenging enough to \\nstretch your skills but not so hard that you have little chance of success.', start_char_idx=1486, end_char_idx=2053, text_template='{metadata_str}\\n\\n{content}', metadata_template='{key}: {value}', metadata_seperator='\\n'),\n",
       " TextNode(id_='bc82378e-1f8a-4485-a717-6ce02d41f7a5', embedding=None, metadata={}, excluded_embed_metadata_keys=[], excluded_llm_metadata_keys=[], relationships={<NodeRelationship.SOURCE: '1'>: RelatedNodeInfo(node_id='cf7b7040-37e8-434a-bea5-131dc5ee1c66', node_type=<ObjectType.TEXT: '1'>, metadata={}, hash='4b58698edfde4b6bf1c900cc32c13fd7cf68fae23a3551179b78c7b51707e1bf'), <NodeRelationship.PREVIOUS: '2'>: RelatedNodeInfo(node_id='85159cd6-ec33-4f7d-b2c9-16bbb7de58d0', node_type=<ObjectType.TEXT: '1'>, metadata={}, hash='29b0551f279b8818d3d5f97239d3998fc0061dbbe7fbf91e3f079b23362d9751'), <NodeRelationship.PARENT: '4'>: RelatedNodeInfo(node_id='cf7b7040-37e8-434a-bea5-131dc5ee1c66', node_type=<ObjectType.TEXT: '1'>, metadata={}, hash='4b58698edfde4b6bf1c900cc32c13fd7cf68fae23a3551179b78c7b51707e1bf')}, text='This will put you \\non a path toward mastering ever-greater technical complexity.\\nDo you have good teammates to work with? If not, are there people you can discuss things \\nwith? We learn a lot from the people around us, and good collaborators will have a huge \\nimpact on your growth.', start_char_idx=2054, end_char_idx=2336, text_template='{metadata_str}\\n\\n{content}', metadata_template='{key}: {value}', metadata_seperator='\\n'),\n",
       " TextNode(id_='210b6193-296d-4d17-b0a5-69dbb88bffa9', embedding=None, metadata={}, excluded_embed_metadata_keys=[], excluded_llm_metadata_keys=[], relationships={<NodeRelationship.SOURCE: '1'>: RelatedNodeInfo(node_id='3649d508-4680-417c-9e94-dab8c0421232', node_type=<ObjectType.TEXT: '1'>, metadata={}, hash='34a2a7b0b563696b606b0bfbdd64588c08d29bb43794a74f473337dee137e700'), <NodeRelationship.NEXT: '3'>: RelatedNodeInfo(node_id='15df1f1e-d0aa-4450-bcac-58d4be76fdd5', node_type=<ObjectType.TEXT: '1'>, metadata={}, hash='a492a9d948027738cc1f1c38771d2f6d6d1844c51d5e971581d1cd4c3233459a'), <NodeRelationship.PARENT: '4'>: RelatedNodeInfo(node_id='3649d508-4680-417c-9e94-dab8c0421232', node_type=<ObjectType.TEXT: '1'>, metadata={}, hash='34a2a7b0b563696b606b0bfbdd64588c08d29bb43794a74f473337dee137e700')}, text='Can it be a stepping stone?  If the project is successful, will its technical complexity and/\\nor business impact make it a meaningful stepping stone to larger projects? If the project \\nis bigger than those you’ve worked on before, there’s a good chance it could be such a \\nstepping stone.✓\\n✓\\n✓\\n✓Given a few project ideas, which one should you jump into? \\nHere’s a quick checklist of factors to consider:\\nFinally, avoid analysis paralysis.', start_char_idx=0, end_char_idx=438, text_template='{metadata_str}\\n\\n{content}', metadata_template='{key}: {value}', metadata_seperator='\\n'),\n",
       " TextNode(id_='15df1f1e-d0aa-4450-bcac-58d4be76fdd5', embedding=None, metadata={}, excluded_embed_metadata_keys=[], excluded_llm_metadata_keys=[], relationships={<NodeRelationship.SOURCE: '1'>: RelatedNodeInfo(node_id='3649d508-4680-417c-9e94-dab8c0421232', node_type=<ObjectType.TEXT: '1'>, metadata={}, hash='34a2a7b0b563696b606b0bfbdd64588c08d29bb43794a74f473337dee137e700'), <NodeRelationship.PREVIOUS: '2'>: RelatedNodeInfo(node_id='210b6193-296d-4d17-b0a5-69dbb88bffa9', node_type=<ObjectType.TEXT: '1'>, metadata={}, hash='439cd15cff35a063a8f4e13307c177f72dd818bdb6e67ea1f40a6d9cef2eea54'), <NodeRelationship.NEXT: '3'>: RelatedNodeInfo(node_id='b925ce7e-3d9d-45a2-a442-101e42df6e09', node_type=<ObjectType.TEXT: '1'>, metadata={}, hash='c8d8005ec4ac9a57f7192566e19c4ef54f167e6994adf89721f6d9e6c348c09f'), <NodeRelationship.PARENT: '4'>: RelatedNodeInfo(node_id='3649d508-4680-417c-9e94-dab8c0421232', node_type=<ObjectType.TEXT: '1'>, metadata={}, hash='34a2a7b0b563696b606b0bfbdd64588c08d29bb43794a74f473337dee137e700')}, text=\"Here’s a quick checklist of factors to consider:\\nFinally, avoid analysis paralysis. It doesn’t make sense to spend a month deciding whether to \\nwork on a project that would take a week to complete. You'll work on multiple projects over \\nthe course of your career, so you’ll have ample opportunity to refine your thinking on what’s \\nworthwhile.\", start_char_idx=355, end_char_idx=698, text_template='{metadata_str}\\n\\n{content}', metadata_template='{key}: {value}', metadata_seperator='\\n'),\n",
       " TextNode(id_='b925ce7e-3d9d-45a2-a442-101e42df6e09', embedding=None, metadata={}, excluded_embed_metadata_keys=[], excluded_llm_metadata_keys=[], relationships={<NodeRelationship.SOURCE: '1'>: RelatedNodeInfo(node_id='3649d508-4680-417c-9e94-dab8c0421232', node_type=<ObjectType.TEXT: '1'>, metadata={}, hash='34a2a7b0b563696b606b0bfbdd64588c08d29bb43794a74f473337dee137e700'), <NodeRelationship.PREVIOUS: '2'>: RelatedNodeInfo(node_id='15df1f1e-d0aa-4450-bcac-58d4be76fdd5', node_type=<ObjectType.TEXT: '1'>, metadata={}, hash='a492a9d948027738cc1f1c38771d2f6d6d1844c51d5e971581d1cd4c3233459a'), <NodeRelationship.NEXT: '3'>: RelatedNodeInfo(node_id='71245152-02df-468b-ac0e-434197e4aefc', node_type=<ObjectType.TEXT: '1'>, metadata={}, hash='c7b3eb04f10823eec8736ccf3ea50df62d62434863de4694e7134ea4452d829b'), <NodeRelationship.PARENT: '4'>: RelatedNodeInfo(node_id='3649d508-4680-417c-9e94-dab8c0421232', node_type=<ObjectType.TEXT: '1'>, metadata={}, hash='34a2a7b0b563696b606b0bfbdd64588c08d29bb43794a74f473337dee137e700')}, text='Given the huge number of possible AI projects, rather than the conventional “ready, \\naim, fire” approach, you can accelerate your progress with “ready, fire, aim.”Finding Projects that Compliment Your Career Goals CHAPTER 5\\n\\nPAGE 20Working on projects requires making tough choices about what to build and how to go \\nabout it. Here are two distinct styles:\\nSay you’ve built a customer-service chatbot for retailers, and you think it could help restaurants, \\ntoo.', start_char_idx=699, end_char_idx=1161, text_template='{metadata_str}\\n\\n{content}', metadata_template='{key}: {value}', metadata_seperator='\\n'),\n",
       " TextNode(id_='71245152-02df-468b-ac0e-434197e4aefc', embedding=None, metadata={}, excluded_embed_metadata_keys=[], excluded_llm_metadata_keys=[], relationships={<NodeRelationship.SOURCE: '1'>: RelatedNodeInfo(node_id='3649d508-4680-417c-9e94-dab8c0421232', node_type=<ObjectType.TEXT: '1'>, metadata={}, hash='34a2a7b0b563696b606b0bfbdd64588c08d29bb43794a74f473337dee137e700'), <NodeRelationship.PREVIOUS: '2'>: RelatedNodeInfo(node_id='b925ce7e-3d9d-45a2-a442-101e42df6e09', node_type=<ObjectType.TEXT: '1'>, metadata={}, hash='c8d8005ec4ac9a57f7192566e19c4ef54f167e6994adf89721f6d9e6c348c09f'), <NodeRelationship.NEXT: '3'>: RelatedNodeInfo(node_id='c3e12c0f-b7c1-47e5-8899-1e9bdc611d93', node_type=<ObjectType.TEXT: '1'>, metadata={}, hash='4e1592268886d6f275be1def616d6ed6d54f1a97175b1f0cc9728a528aed1046'), <NodeRelationship.PARENT: '4'>: RelatedNodeInfo(node_id='3649d508-4680-417c-9e94-dab8c0421232', node_type=<ObjectType.TEXT: '1'>, metadata={}, hash='34a2a7b0b563696b606b0bfbdd64588c08d29bb43794a74f473337dee137e700')}, text='Should you take time to study the restaurant market before starting development, moving \\nslowly but cutting the risk of wasting time and resources? Or jump in right away, moving \\nquickly and accepting a higher risk of pivoting or failing?\\nBoth approaches have their advocates, and the best choice depends on the situation.\\nReady, Aim, Fire tends to be superior when the cost of execution is high and a study can shed \\nlight on how useful or valuable a project could be.', start_char_idx=1162, end_char_idx=1631, text_template='{metadata_str}\\n\\n{content}', metadata_template='{key}: {value}', metadata_seperator='\\n'),\n",
       " TextNode(id_='c3e12c0f-b7c1-47e5-8899-1e9bdc611d93', embedding=None, metadata={}, excluded_embed_metadata_keys=[], excluded_llm_metadata_keys=[], relationships={<NodeRelationship.SOURCE: '1'>: RelatedNodeInfo(node_id='3649d508-4680-417c-9e94-dab8c0421232', node_type=<ObjectType.TEXT: '1'>, metadata={}, hash='34a2a7b0b563696b606b0bfbdd64588c08d29bb43794a74f473337dee137e700'), <NodeRelationship.PREVIOUS: '2'>: RelatedNodeInfo(node_id='71245152-02df-468b-ac0e-434197e4aefc', node_type=<ObjectType.TEXT: '1'>, metadata={}, hash='c7b3eb04f10823eec8736ccf3ea50df62d62434863de4694e7134ea4452d829b'), <NodeRelationship.NEXT: '3'>: RelatedNodeInfo(node_id='749ba0d8-d960-4ba3-990c-eca7b6a9f63d', node_type=<ObjectType.TEXT: '1'>, metadata={}, hash='895869474f1bc32b5df5927967e7f5be626884342ddcded9f345ac1d6d3bf873'), <NodeRelationship.PARENT: '4'>: RelatedNodeInfo(node_id='3649d508-4680-417c-9e94-dab8c0421232', node_type=<ObjectType.TEXT: '1'>, metadata={}, hash='34a2a7b0b563696b606b0bfbdd64588c08d29bb43794a74f473337dee137e700')}, text='For example, if you can brainstorm a few \\nother use cases (restaurants, airlines, telcos, and so on) and evaluate these cases to identify \\nthe most promising one, it may be worth taking the extra time before committing to a direction.\\nReady, Fire, Aim tends to be better if you can execute at low cost and, in doing so, determine \\nwhether the direction is feasible and discover tweaks that will make it work.', start_char_idx=1632, end_char_idx=2040, text_template='{metadata_str}\\n\\n{content}', metadata_template='{key}: {value}', metadata_seperator='\\n'),\n",
       " TextNode(id_='749ba0d8-d960-4ba3-990c-eca7b6a9f63d', embedding=None, metadata={}, excluded_embed_metadata_keys=[], excluded_llm_metadata_keys=[], relationships={<NodeRelationship.SOURCE: '1'>: RelatedNodeInfo(node_id='3649d508-4680-417c-9e94-dab8c0421232', node_type=<ObjectType.TEXT: '1'>, metadata={}, hash='34a2a7b0b563696b606b0bfbdd64588c08d29bb43794a74f473337dee137e700'), <NodeRelationship.PREVIOUS: '2'>: RelatedNodeInfo(node_id='c3e12c0f-b7c1-47e5-8899-1e9bdc611d93', node_type=<ObjectType.TEXT: '1'>, metadata={}, hash='4e1592268886d6f275be1def616d6ed6d54f1a97175b1f0cc9728a528aed1046'), <NodeRelationship.PARENT: '4'>: RelatedNodeInfo(node_id='3649d508-4680-417c-9e94-dab8c0421232', node_type=<ObjectType.TEXT: '1'>, metadata={}, hash='34a2a7b0b563696b606b0bfbdd64588c08d29bb43794a74f473337dee137e700')}, text='For example, if \\nyou can build a prototype quickly to figure out if users want the product, and if canceling or \\npivoting after a small amount of work is acceptable, then it makes sense to consider jumping \\nin quickly.', start_char_idx=2041, end_char_idx=2259, text_template='{metadata_str}\\n\\n{content}', metadata_template='{key}: {value}', metadata_seperator='\\n'),\n",
       " TextNode(id_='ad282afa-1554-405f-a3e9-dd5875c9322f', embedding=None, metadata={}, excluded_embed_metadata_keys=[], excluded_llm_metadata_keys=[], relationships={<NodeRelationship.SOURCE: '1'>: RelatedNodeInfo(node_id='b2dd99be-4023-4aad-ab06-57ff07dbe323', node_type=<ObjectType.TEXT: '1'>, metadata={}, hash='cde815b5e9553cbd74df690c4396a98b85b2856a9015df3284a735ffae25f533'), <NodeRelationship.NEXT: '3'>: RelatedNodeInfo(node_id='489e877b-4825-41bd-bccf-e4a4525696ef', node_type=<ObjectType.TEXT: '1'>, metadata={}, hash='aa7b7e1565579ea39be1eaa0ba39e6c830d33321be8b700942b74d0c0782f132'), <NodeRelationship.PARENT: '4'>: RelatedNodeInfo(node_id='b2dd99be-4023-4aad-ab06-57ff07dbe323', node_type=<ObjectType.TEXT: '1'>, metadata={}, hash='cde815b5e9553cbd74df690c4396a98b85b2856a9015df3284a735ffae25f533')}, text='When taking a shot is inexpensive, it also makes sense to take many shots. In this \\ncase, the process is actually Ready, Fire, Aim, Fire, Aim, Fire, Aim, Fire. \\nAfter agreeing upon a project direction, when it comes to building a machine learning model \\nthat’s part of the product, I have a bias toward Ready, Fire, Aim. Building models is an iterative \\nprocess. For many applications, the cost of training and conducting error analysis is not \\nprohibitive.', start_char_idx=0, end_char_idx=457, text_template='{metadata_str}\\n\\n{content}', metadata_template='{key}: {value}', metadata_seperator='\\n'),\n",
       " TextNode(id_='489e877b-4825-41bd-bccf-e4a4525696ef', embedding=None, metadata={}, excluded_embed_metadata_keys=[], excluded_llm_metadata_keys=[], relationships={<NodeRelationship.SOURCE: '1'>: RelatedNodeInfo(node_id='b2dd99be-4023-4aad-ab06-57ff07dbe323', node_type=<ObjectType.TEXT: '1'>, metadata={}, hash='cde815b5e9553cbd74df690c4396a98b85b2856a9015df3284a735ffae25f533'), <NodeRelationship.PREVIOUS: '2'>: RelatedNodeInfo(node_id='ad282afa-1554-405f-a3e9-dd5875c9322f', node_type=<ObjectType.TEXT: '1'>, metadata={}, hash='6dd30659c792d523d5da60b706af9b4f9eaaac466219267254d27481391f594a'), <NodeRelationship.NEXT: '3'>: RelatedNodeInfo(node_id='388b0657-2dd3-4c64-8cab-455f9ff589dc', node_type=<ObjectType.TEXT: '1'>, metadata={}, hash='088edb1ecda26fbc3ae464b221a25bbc5cbb8bf3b4b6aa3e15edf2bf68f4deb3'), <NodeRelationship.PARENT: '4'>: RelatedNodeInfo(node_id='b2dd99be-4023-4aad-ab06-57ff07dbe323', node_type=<ObjectType.TEXT: '1'>, metadata={}, hash='cde815b5e9553cbd74df690c4396a98b85b2856a9015df3284a735ffae25f533')}, text='For many applications, the cost of training and conducting error analysis is not \\nprohibitive. Furthermore, it is very difficult to carry out a study that will shed light on the \\nappropriate model, data, and hyperparameters. So it makes sense to build an end-to-end \\nsystem quickly and revise it until it works well.', start_char_idx=363, end_char_idx=679, text_template='{metadata_str}\\n\\n{content}', metadata_template='{key}: {value}', metadata_seperator='\\n'),\n",
       " TextNode(id_='388b0657-2dd3-4c64-8cab-455f9ff589dc', embedding=None, metadata={}, excluded_embed_metadata_keys=[], excluded_llm_metadata_keys=[], relationships={<NodeRelationship.SOURCE: '1'>: RelatedNodeInfo(node_id='b2dd99be-4023-4aad-ab06-57ff07dbe323', node_type=<ObjectType.TEXT: '1'>, metadata={}, hash='cde815b5e9553cbd74df690c4396a98b85b2856a9015df3284a735ffae25f533'), <NodeRelationship.PREVIOUS: '2'>: RelatedNodeInfo(node_id='489e877b-4825-41bd-bccf-e4a4525696ef', node_type=<ObjectType.TEXT: '1'>, metadata={}, hash='aa7b7e1565579ea39be1eaa0ba39e6c830d33321be8b700942b74d0c0782f132'), <NodeRelationship.NEXT: '3'>: RelatedNodeInfo(node_id='78190080-d673-495c-81ac-57f85c0281dd', node_type=<ObjectType.TEXT: '1'>, metadata={}, hash='75569463e1f55fbfd7c6a1573e028b702d320d041129bfac7621f99270320dc9'), <NodeRelationship.PARENT: '4'>: RelatedNodeInfo(node_id='b2dd99be-4023-4aad-ab06-57ff07dbe323', node_type=<ObjectType.TEXT: '1'>, metadata={}, hash='cde815b5e9553cbd74df690c4396a98b85b2856a9015df3284a735ffae25f533')}, text='But when committing to a direction means making a costly investment or entering a one-\\nway door  (meaning a decision that’s hard to reverse), it’s often worth spending more time in \\nadvance to make sure it really is a good idea.Ready, Fire, Aim\\nReady, Aim, Fire: Plan carefully and carry out careful validation. Commit and \\nexecute only when you have a high degree of confidence in a direction.\\nReady, Fire, Aim: Jump into development and start executing.', start_char_idx=680, end_char_idx=1135, text_template='{metadata_str}\\n\\n{content}', metadata_template='{key}: {value}', metadata_seperator='\\n'),\n",
       " TextNode(id_='78190080-d673-495c-81ac-57f85c0281dd', embedding=None, metadata={}, excluded_embed_metadata_keys=[], excluded_llm_metadata_keys=[], relationships={<NodeRelationship.SOURCE: '1'>: RelatedNodeInfo(node_id='b2dd99be-4023-4aad-ab06-57ff07dbe323', node_type=<ObjectType.TEXT: '1'>, metadata={}, hash='cde815b5e9553cbd74df690c4396a98b85b2856a9015df3284a735ffae25f533'), <NodeRelationship.PREVIOUS: '2'>: RelatedNodeInfo(node_id='388b0657-2dd3-4c64-8cab-455f9ff589dc', node_type=<ObjectType.TEXT: '1'>, metadata={}, hash='088edb1ecda26fbc3ae464b221a25bbc5cbb8bf3b4b6aa3e15edf2bf68f4deb3'), <NodeRelationship.NEXT: '3'>: RelatedNodeInfo(node_id='ef6b5b5b-c653-462a-a083-50f03f7c1b79', node_type=<ObjectType.TEXT: '1'>, metadata={}, hash='de0c34e32ea2b9b26424e3cdadfd2fdc4ca2ab23653901537e58a1c6625b48d7'), <NodeRelationship.PARENT: '4'>: RelatedNodeInfo(node_id='b2dd99be-4023-4aad-ab06-57ff07dbe323', node_type=<ObjectType.TEXT: '1'>, metadata={}, hash='cde815b5e9553cbd74df690c4396a98b85b2856a9015df3284a735ffae25f533')}, text='Ready, Fire, Aim: Jump into development and start executing. This allows you to \\ndiscover problems quickly and pivot along the way if necessary.✓\\n✓\\n\\nPAGE 21Building a Portfolio of \\nProjects that Shows \\nSkill Progression CHAPTER 6\\nPROJECTS\\n\\nPAGE 22Over the course of a career, you’re likely to work on projects in succession, each growing in \\nscope and complexity. For example:\\nThe first few projects might be narrowly scoped \\nhomework assignments with predetermined right \\nanswers. These are often great learning experiences!', start_char_idx=1075, end_char_idx=1600, text_template='{metadata_str}\\n\\n{content}', metadata_template='{key}: {value}', metadata_seperator='\\n'),\n",
       " TextNode(id_='ef6b5b5b-c653-462a-a083-50f03f7c1b79', embedding=None, metadata={}, excluded_embed_metadata_keys=[], excluded_llm_metadata_keys=[], relationships={<NodeRelationship.SOURCE: '1'>: RelatedNodeInfo(node_id='b2dd99be-4023-4aad-ab06-57ff07dbe323', node_type=<ObjectType.TEXT: '1'>, metadata={}, hash='cde815b5e9553cbd74df690c4396a98b85b2856a9015df3284a735ffae25f533'), <NodeRelationship.PREVIOUS: '2'>: RelatedNodeInfo(node_id='78190080-d673-495c-81ac-57f85c0281dd', node_type=<ObjectType.TEXT: '1'>, metadata={}, hash='75569463e1f55fbfd7c6a1573e028b702d320d041129bfac7621f99270320dc9'), <NodeRelationship.PARENT: '4'>: RelatedNodeInfo(node_id='b2dd99be-4023-4aad-ab06-57ff07dbe323', node_type=<ObjectType.TEXT: '1'>, metadata={}, hash='cde815b5e9553cbd74df690c4396a98b85b2856a9015df3284a735ffae25f533')}, text='These are often great learning experiences!\\nEventually, you will gain enough skill to build projects in \\nwhich others see more tangible value. This opens the door \\nto more resources. For example, rather than developing \\nmachine learning systems in your spare time, it might \\nbecome part of your job, and you might gain access to more \\nequipment, compute time, labeling budget, or head count.You might go on to work on small-scale projects either alone or with friends.', start_char_idx=1557, end_char_idx=2025, text_template='{metadata_str}\\n\\n{content}', metadata_template='{key}: {value}', metadata_seperator='\\n'),\n",
       " TextNode(id_='e942f7c0-2add-4047-a034-144cca5fc964', embedding=None, metadata={}, excluded_embed_metadata_keys=[], excluded_llm_metadata_keys=[], relationships={<NodeRelationship.SOURCE: '1'>: RelatedNodeInfo(node_id='90dc8133-b25e-45f2-8da8-df47de75ab95', node_type=<ObjectType.TEXT: '1'>, metadata={}, hash='000667d782fb549a3fe0446b30f5510de245f0f4926fe090956c576176eceb8d'), <NodeRelationship.NEXT: '3'>: RelatedNodeInfo(node_id='af36d6ca-b9b6-4c6b-92f2-1578e34ad51e', node_type=<ObjectType.TEXT: '1'>, metadata={}, hash='75d7159d19b77eda2a5b5f03a70f9c07d8d7e14d5b87ded15f99f749781cd1d0'), <NodeRelationship.PARENT: '4'>: RelatedNodeInfo(node_id='90dc8133-b25e-45f2-8da8-df47de75ab95', node_type=<ObjectType.TEXT: '1'>, metadata={}, hash='000667d782fb549a3fe0446b30f5510de245f0f4926fe090956c576176eceb8d')}, text='For instance, you might re-implement a known algorithm, apply machine \\nlearning to a hobby (such as predicting whether your favorite sports team \\nwill win), or build a small but useful system at work in your spare time (such \\nas a machine learning-based script that helps a colleague automate some of \\ntheir work). Participating in competitions such as those organized by Kaggle \\nis also one way to gain experience.\\nSuccesses build on each other, opening the door to \\nmore technical growth, more resources, and increasingly \\nsignificant project opportunities.1. Class projects:\\n3. Creating value2.', start_char_idx=0, end_char_idx=597, text_template='{metadata_str}\\n\\n{content}', metadata_template='{key}: {value}', metadata_seperator='\\n'),\n",
       " TextNode(id_='af36d6ca-b9b6-4c6b-92f2-1578e34ad51e', embedding=None, metadata={}, excluded_embed_metadata_keys=[], excluded_llm_metadata_keys=[], relationships={<NodeRelationship.SOURCE: '1'>: RelatedNodeInfo(node_id='90dc8133-b25e-45f2-8da8-df47de75ab95', node_type=<ObjectType.TEXT: '1'>, metadata={}, hash='000667d782fb549a3fe0446b30f5510de245f0f4926fe090956c576176eceb8d'), <NodeRelationship.PREVIOUS: '2'>: RelatedNodeInfo(node_id='e942f7c0-2add-4047-a034-144cca5fc964', node_type=<ObjectType.TEXT: '1'>, metadata={}, hash='66d15f7fc1e4d18a71dcb181af697cb6a95af38e49bf6dcd8e53e610c15135c1'), <NodeRelationship.NEXT: '3'>: RelatedNodeInfo(node_id='a1b5c53a-b851-4b29-9188-d647ac81ee80', node_type=<ObjectType.TEXT: '1'>, metadata={}, hash='92de0c3f7263df0cb4c4a5c957ee1a63c0c2341e6b5b81515a4158d7f1743ea2'), <NodeRelationship.PARENT: '4'>: RelatedNodeInfo(node_id='90dc8133-b25e-45f2-8da8-df47de75ab95', node_type=<ObjectType.TEXT: '1'>, metadata={}, hash='000667d782fb549a3fe0446b30f5510de245f0f4926fe090956c576176eceb8d')}, text='Class projects:\\n3. Creating value2. Personal projects\\n4. Rising scope and complexityBuilding a Portfolio of Projects That Shows Skill Progression CHAPTER 6\\n\\nPAGE 23Each project is only one step on a longer journey, hopefully one that has a positive impact. In addition:\\nDon’t worry about starting too small. One of my first machine learning research projects involved \\ntraining a neural network to see how well it could mimic the sin(x) function. It wasn’t very useful, but \\nwas a great learning experience that enabled me to move on to bigger projects.', start_char_idx=562, end_char_idx=1115, text_template='{metadata_str}\\n\\n{content}', metadata_template='{key}: {value}', metadata_seperator='\\n'),\n",
       " TextNode(id_='a1b5c53a-b851-4b29-9188-d647ac81ee80', embedding=None, metadata={}, excluded_embed_metadata_keys=[], excluded_llm_metadata_keys=[], relationships={<NodeRelationship.SOURCE: '1'>: RelatedNodeInfo(node_id='90dc8133-b25e-45f2-8da8-df47de75ab95', node_type=<ObjectType.TEXT: '1'>, metadata={}, hash='000667d782fb549a3fe0446b30f5510de245f0f4926fe090956c576176eceb8d'), <NodeRelationship.PREVIOUS: '2'>: RelatedNodeInfo(node_id='af36d6ca-b9b6-4c6b-92f2-1578e34ad51e', node_type=<ObjectType.TEXT: '1'>, metadata={}, hash='75d7159d19b77eda2a5b5f03a70f9c07d8d7e14d5b87ded15f99f749781cd1d0'), <NodeRelationship.NEXT: '3'>: RelatedNodeInfo(node_id='472adfd6-aa48-4f75-bb10-8934e1cfb96a', node_type=<ObjectType.TEXT: '1'>, metadata={}, hash='9e917086936fa2834feab416cac8604ed1aa24b996563450f7ef762dc44fd519'), <NodeRelationship.PARENT: '4'>: RelatedNodeInfo(node_id='90dc8133-b25e-45f2-8da8-df47de75ab95', node_type=<ObjectType.TEXT: '1'>, metadata={}, hash='000667d782fb549a3fe0446b30f5510de245f0f4926fe090956c576176eceb8d')}, text='Building a portfolio of projects, especially one \\nthat shows progress over time from simple to \\ncomplex undertakings, will be a big help when \\nit comes to looking for a job.Communication is key.  You need to be able to explain your thinking if you want others to see \\nthe value in your work and trust you with resources that you can invest in larger projects. To get \\na project started, communicating the value of what you hope to build will help bring colleagues, \\nmentors, and managers onboard — and help them point out flaws in your reasoning.', start_char_idx=1116, end_char_idx=1662, text_template='{metadata_str}\\n\\n{content}', metadata_template='{key}: {value}', metadata_seperator='\\n'),\n",
       " TextNode(id_='472adfd6-aa48-4f75-bb10-8934e1cfb96a', embedding=None, metadata={}, excluded_embed_metadata_keys=[], excluded_llm_metadata_keys=[], relationships={<NodeRelationship.SOURCE: '1'>: RelatedNodeInfo(node_id='90dc8133-b25e-45f2-8da8-df47de75ab95', node_type=<ObjectType.TEXT: '1'>, metadata={}, hash='000667d782fb549a3fe0446b30f5510de245f0f4926fe090956c576176eceb8d'), <NodeRelationship.PREVIOUS: '2'>: RelatedNodeInfo(node_id='a1b5c53a-b851-4b29-9188-d647ac81ee80', node_type=<ObjectType.TEXT: '1'>, metadata={}, hash='92de0c3f7263df0cb4c4a5c957ee1a63c0c2341e6b5b81515a4158d7f1743ea2'), <NodeRelationship.PARENT: '4'>: RelatedNodeInfo(node_id='90dc8133-b25e-45f2-8da8-df47de75ab95', node_type=<ObjectType.TEXT: '1'>, metadata={}, hash='000667d782fb549a3fe0446b30f5510de245f0f4926fe090956c576176eceb8d')}, text='After you’ve \\nfinished, the ability to explain clearly what you accomplished will help convince others to open the \\ndoor to larger projects.\\nLeadership isn’t just for managers.  When you reach the point of working on larger AI projects that \\nrequire teamwork, your ability to lead projects will become more important, whether or not you are \\nin a formal position of leadership.', start_char_idx=1663, end_char_idx=2040, text_template='{metadata_str}\\n\\n{content}', metadata_template='{key}: {value}', metadata_seperator='\\n'),\n",
       " TextNode(id_='8f58eccf-7de4-412f-947c-bc8d018dbc02', embedding=None, metadata={}, excluded_embed_metadata_keys=[], excluded_llm_metadata_keys=[], relationships={<NodeRelationship.SOURCE: '1'>: RelatedNodeInfo(node_id='e7970447-69c3-4bd1-b562-8f3b47de633e', node_type=<ObjectType.TEXT: '1'>, metadata={}, hash='5f1120cd9bf6a6d9596183d6c16f4cc893e31e95b4b3b57b9ce407f5afa8d76a'), <NodeRelationship.NEXT: '3'>: RelatedNodeInfo(node_id='c90b26a2-ffc5-43b7-ada3-7ef15eb6a7a4', node_type=<ObjectType.TEXT: '1'>, metadata={}, hash='2737bd0ae48fe1a20a22e52aa1af82dbccf7785dcc61ae944f2125e9c25c5e5b'), <NodeRelationship.PARENT: '4'>: RelatedNodeInfo(node_id='e7970447-69c3-4bd1-b562-8f3b47de633e', node_type=<ObjectType.TEXT: '1'>, metadata={}, hash='5f1120cd9bf6a6d9596183d6c16f4cc893e31e95b4b3b57b9ce407f5afa8d76a')}, text='Many of my friends have successfully pursued a technical rather \\nthan managerial career, and their ability to help steer a project by applying deep technical insights \\n— for example, when to invest in a new technical architecture or collect more data of a certain type \\n— allowed them to grow as leaders and also helped significantly improve the project.Building a Portfolio of Projects That Shows Skill Progression CHAPTER 6\\n\\nPAGE 24A Simple Framework \\nfor Starting Your AI \\nJob SearchCHAPTER 7\\nJOBS\\n\\nPAGE 25Finding a job has a few predictable steps that include selecting the companies to which you \\nwant to apply, preparing for interviews,', start_char_idx=0, end_char_idx=642, text_template='{metadata_str}\\n\\n{content}', metadata_template='{key}: {value}', metadata_seperator='\\n'),\n",
       " TextNode(id_='c90b26a2-ffc5-43b7-ada3-7ef15eb6a7a4', embedding=None, metadata={}, excluded_embed_metadata_keys=[], excluded_llm_metadata_keys=[], relationships={<NodeRelationship.SOURCE: '1'>: RelatedNodeInfo(node_id='e7970447-69c3-4bd1-b562-8f3b47de633e', node_type=<ObjectType.TEXT: '1'>, metadata={}, hash='5f1120cd9bf6a6d9596183d6c16f4cc893e31e95b4b3b57b9ce407f5afa8d76a'), <NodeRelationship.PREVIOUS: '2'>: RelatedNodeInfo(node_id='8f58eccf-7de4-412f-947c-bc8d018dbc02', node_type=<ObjectType.TEXT: '1'>, metadata={}, hash='87a4e166687d3ae0028c285757a1cabaf80ab79dd9000f4ff07201056a663704'), <NodeRelationship.PARENT: '4'>: RelatedNodeInfo(node_id='e7970447-69c3-4bd1-b562-8f3b47de633e', node_type=<ObjectType.TEXT: '1'>, metadata={}, hash='5f1120cd9bf6a6d9596183d6c16f4cc893e31e95b4b3b57b9ce407f5afa8d76a')}, text='preparing for interviews, and finally picking a role and negotiating a salary and \\nbenefits.', start_char_idx=617, end_char_idx=709, text_template='{metadata_str}\\n\\n{content}', metadata_template='{key}: {value}', metadata_seperator='\\n'),\n",
       " TextNode(id_='125abf1c-a442-46b6-8086-8fa3cdc0d58f', embedding=None, metadata={}, excluded_embed_metadata_keys=[], excluded_llm_metadata_keys=[], relationships={<NodeRelationship.SOURCE: '1'>: RelatedNodeInfo(node_id='543cd05e-973a-4fdc-8525-c5d933e913f2', node_type=<ObjectType.TEXT: '1'>, metadata={}, hash='ed772637fefd249eafed43e295b791c231d408c1311bba4ee3ddcda8e25406eb'), <NodeRelationship.NEXT: '3'>: RelatedNodeInfo(node_id='f7f53e2e-1eee-4553-a0e4-c156787b7298', node_type=<ObjectType.TEXT: '1'>, metadata={}, hash='0a666baa47ade18f9c7a74970a92916f1db08c60c496e7878c5b5a8aa4fc6e8d'), <NodeRelationship.PARENT: '4'>: RelatedNodeInfo(node_id='543cd05e-973a-4fdc-8525-c5d933e913f2', node_type=<ObjectType.TEXT: '1'>, metadata={}, hash='ed772637fefd249eafed43e295b791c231d408c1311bba4ee3ddcda8e25406eb')}, text='In this chapter, I’d like to focus on a framework that’s useful for many job seekers in \\nAI, especially those who are entering AI from a different field.\\nA product manager at a tech startup who becomes a data scientist at the same company (or a \\ndifferent one) has switched roles. A marketer at a manufacturing firm who becomes a marketer \\nin a tech company has switched industries. An analyst in a financial services company who \\nbecomes a machine learning engineer in a tech company has switched both roles and industries.', start_char_idx=0, end_char_idx=524, text_template='{metadata_str}\\n\\n{content}', metadata_template='{key}: {value}', metadata_seperator='\\n'),\n",
       " TextNode(id_='f7f53e2e-1eee-4553-a0e4-c156787b7298', embedding=None, metadata={}, excluded_embed_metadata_keys=[], excluded_llm_metadata_keys=[], relationships={<NodeRelationship.SOURCE: '1'>: RelatedNodeInfo(node_id='543cd05e-973a-4fdc-8525-c5d933e913f2', node_type=<ObjectType.TEXT: '1'>, metadata={}, hash='ed772637fefd249eafed43e295b791c231d408c1311bba4ee3ddcda8e25406eb'), <NodeRelationship.PREVIOUS: '2'>: RelatedNodeInfo(node_id='125abf1c-a442-46b6-8086-8fa3cdc0d58f', node_type=<ObjectType.TEXT: '1'>, metadata={}, hash='51a4284b6ffb94d1d3ee6e3697048ea69ae7f8ced90aab42b07890ad5574de38'), <NodeRelationship.NEXT: '3'>: RelatedNodeInfo(node_id='738b4a64-23be-49cf-ae34-ab954161d7c8', node_type=<ObjectType.TEXT: '1'>, metadata={}, hash='c7203ef4f798f399b67c1309322aca15d472e79f3b0d9f863b1758d72f70746c'), <NodeRelationship.PARENT: '4'>: RelatedNodeInfo(node_id='543cd05e-973a-4fdc-8525-c5d933e913f2', node_type=<ObjectType.TEXT: '1'>, metadata={}, hash='ed772637fefd249eafed43e295b791c231d408c1311bba4ee3ddcda8e25406eb')}, text='If you’re looking for your first job in AI, you’ll probably find switching either roles or industries \\neasier than doing both at the same time. Let’s say you’re the analyst working in financial services:If you’re considering your next job, ask yourself:\\nJob \\nSearchAre you switching roles? For example, if you’re a software engineer, \\nuniversity student, or physicist who’s looking to become a machine learning \\nengineer, that’s a role switch.\\nAre you switching industries?', start_char_idx=525, end_char_idx=998, text_template='{metadata_str}\\n\\n{content}', metadata_template='{key}: {value}', metadata_seperator='\\n'),\n",
       " TextNode(id_='738b4a64-23be-49cf-ae34-ab954161d7c8', embedding=None, metadata={}, excluded_embed_metadata_keys=[], excluded_llm_metadata_keys=[], relationships={<NodeRelationship.SOURCE: '1'>: RelatedNodeInfo(node_id='543cd05e-973a-4fdc-8525-c5d933e913f2', node_type=<ObjectType.TEXT: '1'>, metadata={}, hash='ed772637fefd249eafed43e295b791c231d408c1311bba4ee3ddcda8e25406eb'), <NodeRelationship.PREVIOUS: '2'>: RelatedNodeInfo(node_id='f7f53e2e-1eee-4553-a0e4-c156787b7298', node_type=<ObjectType.TEXT: '1'>, metadata={}, hash='0a666baa47ade18f9c7a74970a92916f1db08c60c496e7878c5b5a8aa4fc6e8d'), <NodeRelationship.NEXT: '3'>: RelatedNodeInfo(node_id='fd41f554-2d47-4d71-abd2-9f339a08e130', node_type=<ObjectType.TEXT: '1'>, metadata={}, hash='9bbdb98f9b4eb1ab77bcb30f16d3132f8bfed81ed7d32f8a1f60b0d27956111e'), <NodeRelationship.PARENT: '4'>: RelatedNodeInfo(node_id='543cd05e-973a-4fdc-8525-c5d933e913f2', node_type=<ObjectType.TEXT: '1'>, metadata={}, hash='ed772637fefd249eafed43e295b791c231d408c1311bba4ee3ddcda8e25406eb')}, text='Are you switching industries? For example, if you work for a healthcare \\ncompany, financial services company, or a government agency and want \\nto work for a software company, that’s a switch in industries.✓\\n✓\\nIf you find a data science or machine learning job in financial services, you can continue \\nto use your domain-specific knowledge while gaining knowledge and expertise in AI. After \\nworking in this role for a while, you’ll be better positioned to switch to a tech company (if \\nthat’s still your goal).', start_char_idx=969, end_char_idx=1479, text_template='{metadata_str}\\n\\n{content}', metadata_template='{key}: {value}', metadata_seperator='\\n'),\n",
       " TextNode(id_='fd41f554-2d47-4d71-abd2-9f339a08e130', embedding=None, metadata={}, excluded_embed_metadata_keys=[], excluded_llm_metadata_keys=[], relationships={<NodeRelationship.SOURCE: '1'>: RelatedNodeInfo(node_id='543cd05e-973a-4fdc-8525-c5d933e913f2', node_type=<ObjectType.TEXT: '1'>, metadata={}, hash='ed772637fefd249eafed43e295b791c231d408c1311bba4ee3ddcda8e25406eb'), <NodeRelationship.PREVIOUS: '2'>: RelatedNodeInfo(node_id='738b4a64-23be-49cf-ae34-ab954161d7c8', node_type=<ObjectType.TEXT: '1'>, metadata={}, hash='c7203ef4f798f399b67c1309322aca15d472e79f3b0d9f863b1758d72f70746c'), <NodeRelationship.NEXT: '3'>: RelatedNodeInfo(node_id='48d5d8c5-6d61-475a-8307-23e09af9b875', node_type=<ObjectType.TEXT: '1'>, metadata={}, hash='f6ea2e120a0c9149178c5590e8d286eeac91849220e5b09a3168d7f233b7633d'), <NodeRelationship.PARENT: '4'>: RelatedNodeInfo(node_id='543cd05e-973a-4fdc-8525-c5d933e913f2', node_type=<ObjectType.TEXT: '1'>, metadata={}, hash='ed772637fefd249eafed43e295b791c231d408c1311bba4ee3ddcda8e25406eb')}, text='Alternatively, if you become an analyst in a tech company, you can continue to use your \\nskills as an analyst but apply them to a different industry.', start_char_idx=1480, end_char_idx=1629, text_template='{metadata_str}\\n\\n{content}', metadata_template='{key}: {value}', metadata_seperator='\\n'),\n",
       " TextNode(id_='48d5d8c5-6d61-475a-8307-23e09af9b875', embedding=None, metadata={}, excluded_embed_metadata_keys=[], excluded_llm_metadata_keys=[], relationships={<NodeRelationship.SOURCE: '1'>: RelatedNodeInfo(node_id='543cd05e-973a-4fdc-8525-c5d933e913f2', node_type=<ObjectType.TEXT: '1'>, metadata={}, hash='ed772637fefd249eafed43e295b791c231d408c1311bba4ee3ddcda8e25406eb'), <NodeRelationship.PREVIOUS: '2'>: RelatedNodeInfo(node_id='fd41f554-2d47-4d71-abd2-9f339a08e130', node_type=<ObjectType.TEXT: '1'>, metadata={}, hash='9bbdb98f9b4eb1ab77bcb30f16d3132f8bfed81ed7d32f8a1f60b0d27956111e'), <NodeRelationship.NEXT: '3'>: RelatedNodeInfo(node_id='dd620adc-f4d6-42f4-a177-9e31c2b72e47', node_type=<ObjectType.TEXT: '1'>, metadata={}, hash='1c388a6560b10c948a477a93fe0d8f8732c287204bb8b58d25b72a79aebfc404'), <NodeRelationship.PARENT: '4'>: RelatedNodeInfo(node_id='543cd05e-973a-4fdc-8525-c5d933e913f2', node_type=<ObjectType.TEXT: '1'>, metadata={}, hash='ed772637fefd249eafed43e295b791c231d408c1311bba4ee3ddcda8e25406eb')}, text='Being part of a tech company also \\nmakes it much easier to learn from colleagues about practical challenges of AI, key skills to \\nbe successful in AI, and so on.✓\\n✓A Simple Framework for Starting You AI Job Search CHAPTER 7\\nTECHFINANCIAL \\nSERVICESRole & Industry SwitchRole Switch\\nIndustry SwitchANALYSTMACHINE LEARNING \\nENGINEER\\n\\nPAGE 26If you’re considering a role switch, a startup can be an easier place to do it than a big company.', start_char_idx=1630, end_char_idx=2066, text_template='{metadata_str}\\n\\n{content}', metadata_template='{key}: {value}', metadata_seperator='\\n'),\n",
       " TextNode(id_='dd620adc-f4d6-42f4-a177-9e31c2b72e47', embedding=None, metadata={}, excluded_embed_metadata_keys=[], excluded_llm_metadata_keys=[], relationships={<NodeRelationship.SOURCE: '1'>: RelatedNodeInfo(node_id='543cd05e-973a-4fdc-8525-c5d933e913f2', node_type=<ObjectType.TEXT: '1'>, metadata={}, hash='ed772637fefd249eafed43e295b791c231d408c1311bba4ee3ddcda8e25406eb'), <NodeRelationship.PREVIOUS: '2'>: RelatedNodeInfo(node_id='48d5d8c5-6d61-475a-8307-23e09af9b875', node_type=<ObjectType.TEXT: '1'>, metadata={}, hash='f6ea2e120a0c9149178c5590e8d286eeac91849220e5b09a3168d7f233b7633d'), <NodeRelationship.PARENT: '4'>: RelatedNodeInfo(node_id='543cd05e-973a-4fdc-8525-c5d933e913f2', node_type=<ObjectType.TEXT: '1'>, metadata={}, hash='ed772637fefd249eafed43e295b791c231d408c1311bba4ee3ddcda8e25406eb')}, text='While there are exceptions, startups usually don’t have enough people to do all the desired \\nwork. If you’re able to help with AI tasks — even if it’s not your official job — your work is likely \\nto be appreciated.', start_char_idx=2068, end_char_idx=2282, text_template='{metadata_str}\\n\\n{content}', metadata_template='{key}: {value}', metadata_seperator='\\n'),\n",
       " TextNode(id_='a042944f-072f-46ec-a915-9c331ed117f0', embedding=None, metadata={}, excluded_embed_metadata_keys=[], excluded_llm_metadata_keys=[], relationships={<NodeRelationship.SOURCE: '1'>: RelatedNodeInfo(node_id='e022fd1a-6ae3-4f9f-8031-8496e7edb669', node_type=<ObjectType.TEXT: '1'>, metadata={}, hash='1b1666b1135f61eafb8b02f4a04c933640da12484d22e05aff7b0c0548f0cca3'), <NodeRelationship.NEXT: '3'>: RelatedNodeInfo(node_id='efce50d2-9764-4ae4-8e08-1eaa8de2844e', node_type=<ObjectType.TEXT: '1'>, metadata={}, hash='697d44b374bbbae7a6345095a8b1d5d0a9bb8c46d524bac374139d6919f25d51'), <NodeRelationship.PARENT: '4'>: RelatedNodeInfo(node_id='e022fd1a-6ae3-4f9f-8031-8496e7edb669', node_type=<ObjectType.TEXT: '1'>, metadata={}, hash='1b1666b1135f61eafb8b02f4a04c933640da12484d22e05aff7b0c0548f0cca3')}, text='This lays the groundwork for a possible role switch without needing to leave \\nthe company. In contrast, in a big company, a rigid reward system is more likely to reward you \\nfor doing your job well (and your manager for supporting you in doing the job for which you were \\nhired), but it’s not as likely to reward contributions outside your job’s scope.\\nAfter working for a while in your desired role and industry (for example, a machine learning \\nengineer in a tech company), you’ll have a good sense of the requirements for that role in that \\nindustry at a more senior level.', start_char_idx=0, end_char_idx=576, text_template='{metadata_str}\\n\\n{content}', metadata_template='{key}: {value}', metadata_seperator='\\n'),\n",
       " TextNode(id_='efce50d2-9764-4ae4-8e08-1eaa8de2844e', embedding=None, metadata={}, excluded_embed_metadata_keys=[], excluded_llm_metadata_keys=[], relationships={<NodeRelationship.SOURCE: '1'>: RelatedNodeInfo(node_id='e022fd1a-6ae3-4f9f-8031-8496e7edb669', node_type=<ObjectType.TEXT: '1'>, metadata={}, hash='1b1666b1135f61eafb8b02f4a04c933640da12484d22e05aff7b0c0548f0cca3'), <NodeRelationship.PREVIOUS: '2'>: RelatedNodeInfo(node_id='a042944f-072f-46ec-a915-9c331ed117f0', node_type=<ObjectType.TEXT: '1'>, metadata={}, hash='223c2ebe291098765cc4fd8bd604ad4bfae6b806adbb1572ae52ebb907bd3290'), <NodeRelationship.NEXT: '3'>: RelatedNodeInfo(node_id='d08df748-bb47-4aae-93d2-169688114167', node_type=<ObjectType.TEXT: '1'>, metadata={}, hash='88ed21a610c7a06412768bdf419f989ef16d0e1649d454f96656349be45b7508'), <NodeRelationship.PARENT: '4'>: RelatedNodeInfo(node_id='e022fd1a-6ae3-4f9f-8031-8496e7edb669', node_type=<ObjectType.TEXT: '1'>, metadata={}, hash='1b1666b1135f61eafb8b02f4a04c933640da12484d22e05aff7b0c0548f0cca3')}, text='You’ll also have a network within that industry to help you along. \\nSo future job searches — if you choose to stick with the role and industry — likely will be easier.\\nWhen changing jobs, you’re taking a step into the unknown, particularly if you’re switching either \\nroles or industries. One of the most underused tools for becoming more familiar with a new role \\nand/or industry is the informational interview. I’ll share more about that in the next chapter.', start_char_idx=577, end_char_idx=1037, text_template='{metadata_str}\\n\\n{content}', metadata_template='{key}: {value}', metadata_seperator='\\n'),\n",
       " TextNode(id_='d08df748-bb47-4aae-93d2-169688114167', embedding=None, metadata={}, excluded_embed_metadata_keys=[], excluded_llm_metadata_keys=[], relationships={<NodeRelationship.SOURCE: '1'>: RelatedNodeInfo(node_id='e022fd1a-6ae3-4f9f-8031-8496e7edb669', node_type=<ObjectType.TEXT: '1'>, metadata={}, hash='1b1666b1135f61eafb8b02f4a04c933640da12484d22e05aff7b0c0548f0cca3'), <NodeRelationship.PREVIOUS: '2'>: RelatedNodeInfo(node_id='efce50d2-9764-4ae4-8e08-1eaa8de2844e', node_type=<ObjectType.TEXT: '1'>, metadata={}, hash='697d44b374bbbae7a6345095a8b1d5d0a9bb8c46d524bac374139d6919f25d51'), <NodeRelationship.NEXT: '3'>: RelatedNodeInfo(node_id='1bdc4282-b509-4850-a94e-c3a8e3793bd3', node_type=<ObjectType.TEXT: '1'>, metadata={}, hash='dbc7c74fe7536d29e6cc4ef6ff722022fe332b4417f9327316ce6f87e6ee5551'), <NodeRelationship.PARENT: '4'>: RelatedNodeInfo(node_id='e022fd1a-6ae3-4f9f-8031-8496e7edb669', node_type=<ObjectType.TEXT: '1'>, metadata={}, hash='1b1666b1135f61eafb8b02f4a04c933640da12484d22e05aff7b0c0548f0cca3')}, text='I’ll share more about that in the next chapter.\\nI’m grateful to Salwa Nur Muhammad, CEO of FourthBrain (a DeepLearning.AI affiliate), for providing \\nsome of the ideas presented in this chapter.\\n\\n\\nPAGE 27There’s a lot we don’t know about the future: When will we cure Alzheimer’s disease? Who will \\nwin the next election? Or, in a business context, how many customers will we have next year?\\nWith so many changes going on in the world, many people are feeling stressed about the \\nfuture, especially when it comes to finding a job.', start_char_idx=990, end_char_idx=1519, text_template='{metadata_str}\\n\\n{content}', metadata_template='{key}: {value}', metadata_seperator='\\n'),\n",
       " TextNode(id_='1bdc4282-b509-4850-a94e-c3a8e3793bd3', embedding=None, metadata={}, excluded_embed_metadata_keys=[], excluded_llm_metadata_keys=[], relationships={<NodeRelationship.SOURCE: '1'>: RelatedNodeInfo(node_id='e022fd1a-6ae3-4f9f-8031-8496e7edb669', node_type=<ObjectType.TEXT: '1'>, metadata={}, hash='1b1666b1135f61eafb8b02f4a04c933640da12484d22e05aff7b0c0548f0cca3'), <NodeRelationship.PREVIOUS: '2'>: RelatedNodeInfo(node_id='d08df748-bb47-4aae-93d2-169688114167', node_type=<ObjectType.TEXT: '1'>, metadata={}, hash='88ed21a610c7a06412768bdf419f989ef16d0e1649d454f96656349be45b7508'), <NodeRelationship.NEXT: '3'>: RelatedNodeInfo(node_id='92d8db79-f6af-4201-b1f4-b2b7b000a7f9', node_type=<ObjectType.TEXT: '1'>, metadata={}, hash='cd7c67b4d64d8ec0939108120d1bac03404f14891d9a624db1002d2e2cb5280d'), <NodeRelationship.PARENT: '4'>: RelatedNodeInfo(node_id='e022fd1a-6ae3-4f9f-8031-8496e7edb669', node_type=<ObjectType.TEXT: '1'>, metadata={}, hash='1b1666b1135f61eafb8b02f4a04c933640da12484d22e05aff7b0c0548f0cca3')}, text='I have a practice that helps me regain a sense \\nof control. Faced with uncertainty, I try to:\\nFor example, during the Covid-19 pandemic back in March 2020, I did this scenario planning \\nexercise. I imagined quick (three months), medium (one year), and slow (two years) recoveries \\nfrom Covid-19 and made plans for managing each case. These plans have helped me prioritize \\nwhere I can.\\nThe same method can apply to personal life, too.', start_char_idx=1520, end_char_idx=1954, text_template='{metadata_str}\\n\\n{content}', metadata_template='{key}: {value}', metadata_seperator='\\n'),\n",
       " TextNode(id_='92d8db79-f6af-4201-b1f4-b2b7b000a7f9', embedding=None, metadata={}, excluded_embed_metadata_keys=[], excluded_llm_metadata_keys=[], relationships={<NodeRelationship.SOURCE: '1'>: RelatedNodeInfo(node_id='e022fd1a-6ae3-4f9f-8031-8496e7edb669', node_type=<ObjectType.TEXT: '1'>, metadata={}, hash='1b1666b1135f61eafb8b02f4a04c933640da12484d22e05aff7b0c0548f0cca3'), <NodeRelationship.PREVIOUS: '2'>: RelatedNodeInfo(node_id='1bdc4282-b509-4850-a94e-c3a8e3793bd3', node_type=<ObjectType.TEXT: '1'>, metadata={}, hash='dbc7c74fe7536d29e6cc4ef6ff722022fe332b4417f9327316ce6f87e6ee5551'), <NodeRelationship.PARENT: '4'>: RelatedNodeInfo(node_id='e022fd1a-6ae3-4f9f-8031-8496e7edb669', node_type=<ObjectType.TEXT: '1'>, metadata={}, hash='1b1666b1135f61eafb8b02f4a04c933640da12484d22e05aff7b0c0548f0cca3')}, text='The same method can apply to personal life, too. If you’re not sure you’ll pass an exam, get a \\njob offer, or be granted a visa — all of which can be stressful — you can write out what you’d \\ndo in each of the likely scenarios. Thinking through the possibilities and following through on \\nplans can help you navigate the future effectively no matter what it brings.', start_char_idx=1906, end_char_idx=2271, text_template='{metadata_str}\\n\\n{content}', metadata_template='{key}: {value}', metadata_seperator='\\n'),\n",
       " TextNode(id_='ef7b4369-e439-4326-9875-dc666ae373a0', embedding=None, metadata={}, excluded_embed_metadata_keys=[], excluded_llm_metadata_keys=[], relationships={<NodeRelationship.SOURCE: '1'>: RelatedNodeInfo(node_id='73a1f997-9649-45bb-afa1-6e2c604c6c1c', node_type=<ObjectType.TEXT: '1'>, metadata={}, hash='e4d9d24444efb46ce9b083a72cf4d0b078b7f8f3edc29cf5917f1f296301057f'), <NodeRelationship.NEXT: '3'>: RelatedNodeInfo(node_id='a9dc5d17-fe3b-41a4-b717-5384fd2446c5', node_type=<ObjectType.TEXT: '1'>, metadata={}, hash='a4f9ffc28a88ba463e5433fb51ae62961a782ae99bb49b14bb936c5b0330aab9'), <NodeRelationship.PARENT: '4'>: RelatedNodeInfo(node_id='73a1f997-9649-45bb-afa1-6e2c604c6c1c', node_type=<ObjectType.TEXT: '1'>, metadata={}, hash='e4d9d24444efb46ce9b083a72cf4d0b078b7f8f3edc29cf5917f1f296301057f')}, text='Bonus: With training in AI and statistics, you can calculate a probability for each scenario. \\nI’m a fan of the Superforecasting methodology, in which the judgments of many experts are \\nsynthesized into a probability estimate. Overcoming Uncertainty\\nMake a list of plausible scenarios, \\nacknowledging that I don’t know \\nwhich will come to pass.Create a plan of action \\nfor each scenario.', start_char_idx=0, end_char_idx=387, text_template='{metadata_str}\\n\\n{content}', metadata_template='{key}: {value}', metadata_seperator='\\n'),\n",
       " TextNode(id_='a9dc5d17-fe3b-41a4-b717-5384fd2446c5', embedding=None, metadata={}, excluded_embed_metadata_keys=[], excluded_llm_metadata_keys=[], relationships={<NodeRelationship.SOURCE: '1'>: RelatedNodeInfo(node_id='73a1f997-9649-45bb-afa1-6e2c604c6c1c', node_type=<ObjectType.TEXT: '1'>, metadata={}, hash='e4d9d24444efb46ce9b083a72cf4d0b078b7f8f3edc29cf5917f1f296301057f'), <NodeRelationship.PREVIOUS: '2'>: RelatedNodeInfo(node_id='ef7b4369-e439-4326-9875-dc666ae373a0', node_type=<ObjectType.TEXT: '1'>, metadata={}, hash='9189be46d89fde283b9515ed9c60f3405a72f05dd9ecc3b139d726dea776987b'), <NodeRelationship.NEXT: '3'>: RelatedNodeInfo(node_id='0c6b3530-f23f-43a5-bc2a-135a1e5a822b', node_type=<ObjectType.TEXT: '1'>, metadata={}, hash='c6957264f56d75a2c2f541b2231281bb0557d7c1888b95363b031f04944df520'), <NodeRelationship.PARENT: '4'>: RelatedNodeInfo(node_id='73a1f997-9649-45bb-afa1-6e2c604c6c1c', node_type=<ObjectType.TEXT: '1'>, metadata={}, hash='e4d9d24444efb46ce9b083a72cf4d0b078b7f8f3edc29cf5917f1f296301057f')}, text='Start executing actions \\nthat seem reasonable.Review scenarios and plans \\nperiodically as the future \\ncomes into focus.1 2\\n3 4\\n\\nPAGE 28Using Informational \\nInterviews to Find \\nthe Right JobCHAPTER 8\\nJOBS\\n\\nPAGE 29If you’re preparing to switch roles (say, taking a job as a machine learning engineer for the first \\ntime) or industries (say, working in an AI tech company for the first time), there’s a lot about \\nyour target job that you probably don’t know. A technique known as informational interviewing \\nis a great way to learn.', start_char_idx=388, end_char_idx=918, text_template='{metadata_str}\\n\\n{content}', metadata_template='{key}: {value}', metadata_seperator='\\n'),\n",
       " TextNode(id_='0c6b3530-f23f-43a5-bc2a-135a1e5a822b', embedding=None, metadata={}, excluded_embed_metadata_keys=[], excluded_llm_metadata_keys=[], relationships={<NodeRelationship.SOURCE: '1'>: RelatedNodeInfo(node_id='73a1f997-9649-45bb-afa1-6e2c604c6c1c', node_type=<ObjectType.TEXT: '1'>, metadata={}, hash='e4d9d24444efb46ce9b083a72cf4d0b078b7f8f3edc29cf5917f1f296301057f'), <NodeRelationship.PREVIOUS: '2'>: RelatedNodeInfo(node_id='a9dc5d17-fe3b-41a4-b717-5384fd2446c5', node_type=<ObjectType.TEXT: '1'>, metadata={}, hash='a4f9ffc28a88ba463e5433fb51ae62961a782ae99bb49b14bb936c5b0330aab9'), <NodeRelationship.NEXT: '3'>: RelatedNodeInfo(node_id='4c2fd68a-c22f-4cfa-95aa-34d5aebfb67a', node_type=<ObjectType.TEXT: '1'>, metadata={}, hash='35bd005404df7493e74f4538c40ecee4b13468b089f407bfaa103921488ca7fb'), <NodeRelationship.PARENT: '4'>: RelatedNodeInfo(node_id='73a1f997-9649-45bb-afa1-6e2c604c6c1c', node_type=<ObjectType.TEXT: '1'>, metadata={}, hash='e4d9d24444efb46ce9b083a72cf4d0b078b7f8f3edc29cf5917f1f296301057f')}, text='A technique known as informational interviewing \\nis a great way to learn.\\nAn informational interview involves finding someone in a company or role you’d like to know \\nmore about and informally interviewing them about their work. Such conversations are separate \\nfrom searching for a job. In fact, it’s helpful to interview people who hold positions that align \\nwith your interests well before you’re ready to kick off a job search.\\nPrepare for informational interviews by researching the interviewee and company in advance, \\nso you can arrive with thoughtful questions. You might ask:Informational interviews are particularly relevant to AI.', start_char_idx=845, end_char_idx=1486, text_template='{metadata_str}\\n\\n{content}', metadata_template='{key}: {value}', metadata_seperator='\\n'),\n",
       " TextNode(id_='4c2fd68a-c22f-4cfa-95aa-34d5aebfb67a', embedding=None, metadata={}, excluded_embed_metadata_keys=[], excluded_llm_metadata_keys=[], relationships={<NodeRelationship.SOURCE: '1'>: RelatedNodeInfo(node_id='73a1f997-9649-45bb-afa1-6e2c604c6c1c', node_type=<ObjectType.TEXT: '1'>, metadata={}, hash='e4d9d24444efb46ce9b083a72cf4d0b078b7f8f3edc29cf5917f1f296301057f'), <NodeRelationship.PREVIOUS: '2'>: RelatedNodeInfo(node_id='0c6b3530-f23f-43a5-bc2a-135a1e5a822b', node_type=<ObjectType.TEXT: '1'>, metadata={}, hash='c6957264f56d75a2c2f541b2231281bb0557d7c1888b95363b031f04944df520'), <NodeRelationship.NEXT: '3'>: RelatedNodeInfo(node_id='ad3eccf0-4657-4f1c-8ba4-b68313848fd8', node_type=<ObjectType.TEXT: '1'>, metadata={}, hash='0b69eb1e83d4e77238c672fe7d50ead18f0936850e4ff3b4f6e85b95f5139ff5'), <NodeRelationship.PARENT: '4'>: RelatedNodeInfo(node_id='73a1f997-9649-45bb-afa1-6e2c604c6c1c', node_type=<ObjectType.TEXT: '1'>, metadata={}, hash='e4d9d24444efb46ce9b083a72cf4d0b078b7f8f3edc29cf5917f1f296301057f')}, text='You might ask:Informational interviews are particularly relevant to AI. Because the field is evolving, many \\ncompanies use job titles in inconsistent ways. In one company, data scientists might be \\nexpected mainly to analyze business data and present conclusions on a slide deck. In \\nanother, they might write and maintain production code. An informational interview can help \\nyou sort out what the AI people in a particular company actually do.\\nWith the rapid expansion of opportunities in AI, many people will be taking on an AI job for \\nthe first time.', start_char_idx=1415, end_char_idx=1970, text_template='{metadata_str}\\n\\n{content}', metadata_template='{key}: {value}', metadata_seperator='\\n'),\n",
       " TextNode(id_='ad3eccf0-4657-4f1c-8ba4-b68313848fd8', embedding=None, metadata={}, excluded_embed_metadata_keys=[], excluded_llm_metadata_keys=[], relationships={<NodeRelationship.SOURCE: '1'>: RelatedNodeInfo(node_id='73a1f997-9649-45bb-afa1-6e2c604c6c1c', node_type=<ObjectType.TEXT: '1'>, metadata={}, hash='e4d9d24444efb46ce9b083a72cf4d0b078b7f8f3edc29cf5917f1f296301057f'), <NodeRelationship.PREVIOUS: '2'>: RelatedNodeInfo(node_id='4c2fd68a-c22f-4cfa-95aa-34d5aebfb67a', node_type=<ObjectType.TEXT: '1'>, metadata={}, hash='35bd005404df7493e74f4538c40ecee4b13468b089f407bfaa103921488ca7fb'), <NodeRelationship.PARENT: '4'>: RelatedNodeInfo(node_id='73a1f997-9649-45bb-afa1-6e2c604c6c1c', node_type=<ObjectType.TEXT: '1'>, metadata={}, hash='e4d9d24444efb46ce9b083a72cf4d0b078b7f8f3edc29cf5917f1f296301057f')}, text='In this case, an informational interview can be invaluable for learning what \\nhappens and what skills are needed to do the job well. For example, you can learn what \\nalgorithms, deployment processes, and software stacks a particular company uses.', start_char_idx=1971, end_char_idx=2217, text_template='{metadata_str}\\n\\n{content}', metadata_template='{key}: {value}', metadata_seperator='\\n'),\n",
       " TextNode(id_='cc24d386-b234-4870-9805-3a8e971e8771', embedding=None, metadata={}, excluded_embed_metadata_keys=[], excluded_llm_metadata_keys=[], relationships={<NodeRelationship.SOURCE: '1'>: RelatedNodeInfo(node_id='f700b318-a6dc-43af-818e-cf4dc5e54e3b', node_type=<ObjectType.TEXT: '1'>, metadata={}, hash='1e851f1be1eb1fc10790b3466f365a8d46d2316e8fcfe667bc01ece7c652e8fc'), <NodeRelationship.NEXT: '3'>: RelatedNodeInfo(node_id='4283e17a-7aae-44c1-9dac-8bb4ce0c2898', node_type=<ObjectType.TEXT: '1'>, metadata={}, hash='82a43644b190a4b3f77e458188a30a8387f74885eefb024d829f4e079f66f01d'), <NodeRelationship.PARENT: '4'>: RelatedNodeInfo(node_id='f700b318-a6dc-43af-818e-cf4dc5e54e3b', node_type=<ObjectType.TEXT: '1'>, metadata={}, hash='1e851f1be1eb1fc10790b3466f365a8d46d2316e8fcfe667bc01ece7c652e8fc')}, text='You \\nmay be surprised — if you’re not already familiar with the data-centric AI movement — to \\nlearn how much time most machine learning engineers spend iteratively cleaning datasets.✓\\n✓\\nWhat do you do in a typical week or day?\\nWhat are the most important tasks in this role?\\nWhat skills are most important for success?\\nHow does your team work together to accomplish its goals?\\nWhat is the hiring process?', start_char_idx=0, end_char_idx=405, text_template='{metadata_str}\\n\\n{content}', metadata_template='{key}: {value}', metadata_seperator='\\n'),\n",
       " TextNode(id_='4283e17a-7aae-44c1-9dac-8bb4ce0c2898', embedding=None, metadata={}, excluded_embed_metadata_keys=[], excluded_llm_metadata_keys=[], relationships={<NodeRelationship.SOURCE: '1'>: RelatedNodeInfo(node_id='f700b318-a6dc-43af-818e-cf4dc5e54e3b', node_type=<ObjectType.TEXT: '1'>, metadata={}, hash='1e851f1be1eb1fc10790b3466f365a8d46d2316e8fcfe667bc01ece7c652e8fc'), <NodeRelationship.PREVIOUS: '2'>: RelatedNodeInfo(node_id='cc24d386-b234-4870-9805-3a8e971e8771', node_type=<ObjectType.TEXT: '1'>, metadata={}, hash='1c4b5d3a7f4b0e75d8eabd60b8fae525d2be5eca1bbb12abf4a3cf7826200fea'), <NodeRelationship.NEXT: '3'>: RelatedNodeInfo(node_id='d5dcc112-0d5d-45eb-b0d1-e3525ced947d', node_type=<ObjectType.TEXT: '1'>, metadata={}, hash='27fdeaebc4e86e9e541925cabb2fc20cb20bc4df04656b808e2da804f9c3c79d'), <NodeRelationship.PARENT: '4'>: RelatedNodeInfo(node_id='f700b318-a6dc-43af-818e-cf4dc5e54e3b', node_type=<ObjectType.TEXT: '1'>, metadata={}, hash='1e851f1be1eb1fc10790b3466f365a8d46d2316e8fcfe667bc01ece7c652e8fc')}, text='How does your team work together to accomplish its goals?\\nWhat is the hiring process?\\nConsidering candidates who stood out in the past, what enabled them to shine?✓\\n✓\\n✓\\n✓\\n✓\\n✓Using Informational Interviews to Find the Right Job CHAPTER 8\\n\\nPAGE 30Finding someone to interview isn’t always easy, but many people who are in senior positions today \\nreceived help when they were new from those who had entered the field ahead of them, and many \\nare eager to pay it forward.', start_char_idx=320, end_char_idx=787, text_template='{metadata_str}\\n\\n{content}', metadata_template='{key}: {value}', metadata_seperator='\\n'),\n",
       " TextNode(id_='d5dcc112-0d5d-45eb-b0d1-e3525ced947d', embedding=None, metadata={}, excluded_embed_metadata_keys=[], excluded_llm_metadata_keys=[], relationships={<NodeRelationship.SOURCE: '1'>: RelatedNodeInfo(node_id='f700b318-a6dc-43af-818e-cf4dc5e54e3b', node_type=<ObjectType.TEXT: '1'>, metadata={}, hash='1e851f1be1eb1fc10790b3466f365a8d46d2316e8fcfe667bc01ece7c652e8fc'), <NodeRelationship.PREVIOUS: '2'>: RelatedNodeInfo(node_id='4283e17a-7aae-44c1-9dac-8bb4ce0c2898', node_type=<ObjectType.TEXT: '1'>, metadata={}, hash='82a43644b190a4b3f77e458188a30a8387f74885eefb024d829f4e079f66f01d'), <NodeRelationship.NEXT: '3'>: RelatedNodeInfo(node_id='b083e94d-4ebf-4a81-b1aa-3988fd2c75cc', node_type=<ObjectType.TEXT: '1'>, metadata={}, hash='15bb3b3494e916f8ebb22a2ac000a79c7d3d1b954b48206d0238b2051a04678e'), <NodeRelationship.PARENT: '4'>: RelatedNodeInfo(node_id='f700b318-a6dc-43af-818e-cf4dc5e54e3b', node_type=<ObjectType.TEXT: '1'>, metadata={}, hash='1e851f1be1eb1fc10790b3466f365a8d46d2316e8fcfe667bc01ece7c652e8fc')}, text='If you can reach out to someone who’s already in your network — \\nperhaps a friend who made the transition ahead of you or someone who attended the same school \\nas you — that’s great! Meetups such as Pie & AI can also help you build your network.\\nFinally, be polite and professional, and thank the people you’ve interviewed. And when you get \\na chance, please pay it forward as well and help someone coming up after you.', start_char_idx=788, end_char_idx=1207, text_template='{metadata_str}\\n\\n{content}', metadata_template='{key}: {value}', metadata_seperator='\\n'),\n",
       " TextNode(id_='b083e94d-4ebf-4a81-b1aa-3988fd2c75cc', embedding=None, metadata={}, excluded_embed_metadata_keys=[], excluded_llm_metadata_keys=[], relationships={<NodeRelationship.SOURCE: '1'>: RelatedNodeInfo(node_id='f700b318-a6dc-43af-818e-cf4dc5e54e3b', node_type=<ObjectType.TEXT: '1'>, metadata={}, hash='1e851f1be1eb1fc10790b3466f365a8d46d2316e8fcfe667bc01ece7c652e8fc'), <NodeRelationship.PREVIOUS: '2'>: RelatedNodeInfo(node_id='d5dcc112-0d5d-45eb-b0d1-e3525ced947d', node_type=<ObjectType.TEXT: '1'>, metadata={}, hash='27fdeaebc4e86e9e541925cabb2fc20cb20bc4df04656b808e2da804f9c3c79d'), <NodeRelationship.PARENT: '4'>: RelatedNodeInfo(node_id='f700b318-a6dc-43af-818e-cf4dc5e54e3b', node_type=<ObjectType.TEXT: '1'>, metadata={}, hash='1e851f1be1eb1fc10790b3466f365a8d46d2316e8fcfe667bc01ece7c652e8fc')}, text='If you receive \\na request for an informational interview from someone in the DeepLearning.AI community, \\nI hope you’ll lean in to help them take a step up! If you’re interested in learning more about \\ninformational interviews, I recommend this article from the UC Berkeley Career Center.\\nI’ve mentioned a few times the importance of your network and community. People you’ve \\nmet, beyond providing valuable information, can also play an invaluable role by referring you to \\npotential employers. Using Informational Interviews to Find the Right Job CHAPTER 8', start_char_idx=1208, end_char_idx=1765, text_template='{metadata_str}\\n\\n{content}', metadata_template='{key}: {value}', metadata_seperator='\\n'),\n",
       " TextNode(id_='1fbcb7ac-781e-408d-b2b3-443da2979fb1', embedding=None, metadata={}, excluded_embed_metadata_keys=[], excluded_llm_metadata_keys=[], relationships={<NodeRelationship.SOURCE: '1'>: RelatedNodeInfo(node_id='2a300a90-d5dd-4958-b866-41317ef4b581', node_type=<ObjectType.TEXT: '1'>, metadata={}, hash='28e3c60b4db3717d4b2700e0d233800d610b4fc2c4d9fa7280ed57c0ca64c94b'), <NodeRelationship.NEXT: '3'>: RelatedNodeInfo(node_id='879b2a7f-c9a0-4d8f-b4c7-2157ad52943c', node_type=<ObjectType.TEXT: '1'>, metadata={}, hash='a90a3585adbd44d987f1060e702fe98a7b211af495b17fa6972bc98551c18674'), <NodeRelationship.PARENT: '4'>: RelatedNodeInfo(node_id='2a300a90-d5dd-4958-b866-41317ef4b581', node_type=<ObjectType.TEXT: '1'>, metadata={}, hash='28e3c60b4db3717d4b2700e0d233800d610b4fc2c4d9fa7280ed57c0ca64c94b')}, text='PAGE 31Finding the Right \\nAI Job for YouCHAPTER 9\\nJOBS\\n\\nPAGE 32In this chapter, I’d like to \\ndiscuss some fine points \\nof finding a job.\\nThe typical job search follows a fairly predictable path.\\nAlthough the process may be familiar, every job search is different. Here are some tips to increase \\nthe odds you’ll find a position that supports your thriving career and enables you to keep growing.Research roles and companies online or by talking to friends.\\nOptionally, arrange informal informational interviews with people in companies that appeal to you.', start_char_idx=0, end_char_idx=555, text_template='{metadata_str}\\n\\n{content}', metadata_template='{key}: {value}', metadata_seperator='\\n'),\n",
       " TextNode(id_='879b2a7f-c9a0-4d8f-b4c7-2157ad52943c', embedding=None, metadata={}, excluded_embed_metadata_keys=[], excluded_llm_metadata_keys=[], relationships={<NodeRelationship.SOURCE: '1'>: RelatedNodeInfo(node_id='2a300a90-d5dd-4958-b866-41317ef4b581', node_type=<ObjectType.TEXT: '1'>, metadata={}, hash='28e3c60b4db3717d4b2700e0d233800d610b4fc2c4d9fa7280ed57c0ca64c94b'), <NodeRelationship.PREVIOUS: '2'>: RelatedNodeInfo(node_id='1fbcb7ac-781e-408d-b2b3-443da2979fb1', node_type=<ObjectType.TEXT: '1'>, metadata={}, hash='406eea923b1348693b4f8cee0168cb3adbb3cab596a3e0d6395b90be2c41c172'), <NodeRelationship.NEXT: '3'>: RelatedNodeInfo(node_id='5c23adf8-7f9b-42f3-bffe-1ff85daa7fc4', node_type=<ObjectType.TEXT: '1'>, metadata={}, hash='fa450d00ab6832cc571695e11bf246d6bc4b5abb20ec7537cb4512ccef77acfe'), <NodeRelationship.PARENT: '4'>: RelatedNodeInfo(node_id='2a300a90-d5dd-4958-b866-41317ef4b581', node_type=<ObjectType.TEXT: '1'>, metadata={}, hash='28e3c60b4db3717d4b2700e0d233800d610b4fc2c4d9fa7280ed57c0ca64c94b')}, text='Optionally, arrange informal informational interviews with people in companies that appeal to you.\\nEither apply directly or, if you can, get a referral from someone on the inside.\\nInterview with companies that give you an invitation.\\nReceive one or more offers and pick one. Or, if you don’t receive an offer, ask for feedback \\nfrom the interviewers, human resources staff, online discussion boards, or anyone in your \\nnetwork who can help you plot your next move.✓\\n✓\\n✓\\n✓\\n✓\\nPay attention to the fundamentals.', start_char_idx=457, end_char_idx=965, text_template='{metadata_str}\\n\\n{content}', metadata_template='{key}: {value}', metadata_seperator='\\n'),\n",
       " TextNode(id_='5c23adf8-7f9b-42f3-bffe-1ff85daa7fc4', embedding=None, metadata={}, excluded_embed_metadata_keys=[], excluded_llm_metadata_keys=[], relationships={<NodeRelationship.SOURCE: '1'>: RelatedNodeInfo(node_id='2a300a90-d5dd-4958-b866-41317ef4b581', node_type=<ObjectType.TEXT: '1'>, metadata={}, hash='28e3c60b4db3717d4b2700e0d233800d610b4fc2c4d9fa7280ed57c0ca64c94b'), <NodeRelationship.PREVIOUS: '2'>: RelatedNodeInfo(node_id='879b2a7f-c9a0-4d8f-b4c7-2157ad52943c', node_type=<ObjectType.TEXT: '1'>, metadata={}, hash='a90a3585adbd44d987f1060e702fe98a7b211af495b17fa6972bc98551c18674'), <NodeRelationship.NEXT: '3'>: RelatedNodeInfo(node_id='184f7786-3a24-4ceb-8b84-7be9e9a586fc', node_type=<ObjectType.TEXT: '1'>, metadata={}, hash='4e8c28b026ee26d8f4132567234f6d21f393d3abf548a79ab499c4a640a49eb4'), <NodeRelationship.PARENT: '4'>: RelatedNodeInfo(node_id='2a300a90-d5dd-4958-b866-41317ef4b581', node_type=<ObjectType.TEXT: '1'>, metadata={}, hash='28e3c60b4db3717d4b2700e0d233800d610b4fc2c4d9fa7280ed57c0ca64c94b')}, text='A compelling resume, portfolio of technical projects, and \\na strong interview performance will unlock doors. Even if you have a referral from someone in a \\ncompany, a resume and portfolio will be your first contact with many people who don’t already \\nknow about you. Update your resume and make sure it clearly presents your education and \\nexperience relevant to the role you want. Customize your communications with each company \\nto explain why you’re a good fit. Before an interview, ask the recruiter what to expect.', start_char_idx=967, end_char_idx=1486, text_template='{metadata_str}\\n\\n{content}', metadata_template='{key}: {value}', metadata_seperator='\\n'),\n",
       " TextNode(id_='184f7786-3a24-4ceb-8b84-7be9e9a586fc', embedding=None, metadata={}, excluded_embed_metadata_keys=[], excluded_llm_metadata_keys=[], relationships={<NodeRelationship.SOURCE: '1'>: RelatedNodeInfo(node_id='2a300a90-d5dd-4958-b866-41317ef4b581', node_type=<ObjectType.TEXT: '1'>, metadata={}, hash='28e3c60b4db3717d4b2700e0d233800d610b4fc2c4d9fa7280ed57c0ca64c94b'), <NodeRelationship.PREVIOUS: '2'>: RelatedNodeInfo(node_id='5c23adf8-7f9b-42f3-bffe-1ff85daa7fc4', node_type=<ObjectType.TEXT: '1'>, metadata={}, hash='fa450d00ab6832cc571695e11bf246d6bc4b5abb20ec7537cb4512ccef77acfe'), <NodeRelationship.NEXT: '3'>: RelatedNodeInfo(node_id='525730ec-3356-4913-aae4-aebc0f86d722', node_type=<ObjectType.TEXT: '1'>, metadata={}, hash='d0ca2241401a6521b05ab9d0f1b95ff43d40f4c046aeeba7e9afaac8ed35cfe1'), <NodeRelationship.PARENT: '4'>: RelatedNodeInfo(node_id='2a300a90-d5dd-4958-b866-41317ef4b581', node_type=<ObjectType.TEXT: '1'>, metadata={}, hash='28e3c60b4db3717d4b2700e0d233800d610b4fc2c4d9fa7280ed57c0ca64c94b')}, text='Before an interview, ask the recruiter what to expect. Take time \\nto review and practice answers to common interview questions, brush up key skills, and study \\ntechnical materials to make sure they are fresh in your mind. Afterward, take notes to help you \\nremember what was said.\\nProceed respectfully and responsibly. Approach interviews and offer negotiations with a win-\\nwin mindset. Outrage spreads faster than reasonableness on social media, so a story about \\nhow an employer underpaid someone gets amplified, whereas stories about how an employer \\ntreated someone fairly do not.', start_char_idx=1432, end_char_idx=2016, text_template='{metadata_str}\\n\\n{content}', metadata_template='{key}: {value}', metadata_seperator='\\n'),\n",
       " TextNode(id_='525730ec-3356-4913-aae4-aebc0f86d722', embedding=None, metadata={}, excluded_embed_metadata_keys=[], excluded_llm_metadata_keys=[], relationships={<NodeRelationship.SOURCE: '1'>: RelatedNodeInfo(node_id='2a300a90-d5dd-4958-b866-41317ef4b581', node_type=<ObjectType.TEXT: '1'>, metadata={}, hash='28e3c60b4db3717d4b2700e0d233800d610b4fc2c4d9fa7280ed57c0ca64c94b'), <NodeRelationship.PREVIOUS: '2'>: RelatedNodeInfo(node_id='184f7786-3a24-4ceb-8b84-7be9e9a586fc', node_type=<ObjectType.TEXT: '1'>, metadata={}, hash='4e8c28b026ee26d8f4132567234f6d21f393d3abf548a79ab499c4a640a49eb4'), <NodeRelationship.PARENT: '4'>: RelatedNodeInfo(node_id='2a300a90-d5dd-4958-b866-41317ef4b581', node_type=<ObjectType.TEXT: '1'>, metadata={}, hash='28e3c60b4db3717d4b2700e0d233800d610b4fc2c4d9fa7280ed57c0ca64c94b')}, text='The vast majority of employers are ethical and fair, so don’t let \\nstories about the small fraction of mistreated individuals sway your approach. If you’re leaving \\na job, exit gracefully.', start_char_idx=2017, end_char_idx=2205, text_template='{metadata_str}\\n\\n{content}', metadata_template='{key}: {value}', metadata_seperator='\\n'),\n",
       " TextNode(id_='e8b6ee7f-eb75-4032-a7a2-d93c97b58406', embedding=None, metadata={}, excluded_embed_metadata_keys=[], excluded_llm_metadata_keys=[], relationships={<NodeRelationship.SOURCE: '1'>: RelatedNodeInfo(node_id='4bc40d6c-dac1-4c6b-ba3d-6f30b5639023', node_type=<ObjectType.TEXT: '1'>, metadata={}, hash='6ac7c5d43dcc08c7643c5ff2584576dcca8194fd70bde7be35b15f3581e5c6de'), <NodeRelationship.NEXT: '3'>: RelatedNodeInfo(node_id='679accf5-405e-4367-991b-b8e9214cba7e', node_type=<ObjectType.TEXT: '1'>, metadata={}, hash='f838d35f941f64ffd151dd913801f95e092f6a0b74f647ce720d1bed2c88b178'), <NodeRelationship.PARENT: '4'>: RelatedNodeInfo(node_id='4bc40d6c-dac1-4c6b-ba3d-6f30b5639023', node_type=<ObjectType.TEXT: '1'>, metadata={}, hash='6ac7c5d43dcc08c7643c5ff2584576dcca8194fd70bde7be35b15f3581e5c6de')}, text='If you’re leaving \\na job, exit gracefully. Give your employer ample notice, give your full effort through your last \\nhour on the job, transition unfinished business as best you can, and leave in a way that honors \\nthe responsibilities you were entrusted with.Finding the Right AI Job For You CHAPTER 9\\n\\nPAGE 33Choose who to work with. It’s tempting to take a position because of the projects you’ll work \\non. But the teammates you’ll work with are at least equally important. We’re influenced by \\npeople around us, so your colleagues will make a big difference.', start_char_idx=0, end_char_idx=561, text_template='{metadata_str}\\n\\n{content}', metadata_template='{key}: {value}', metadata_seperator='\\n'),\n",
       " TextNode(id_='679accf5-405e-4367-991b-b8e9214cba7e', embedding=None, metadata={}, excluded_embed_metadata_keys=[], excluded_llm_metadata_keys=[], relationships={<NodeRelationship.SOURCE: '1'>: RelatedNodeInfo(node_id='4bc40d6c-dac1-4c6b-ba3d-6f30b5639023', node_type=<ObjectType.TEXT: '1'>, metadata={}, hash='6ac7c5d43dcc08c7643c5ff2584576dcca8194fd70bde7be35b15f3581e5c6de'), <NodeRelationship.PREVIOUS: '2'>: RelatedNodeInfo(node_id='e8b6ee7f-eb75-4032-a7a2-d93c97b58406', node_type=<ObjectType.TEXT: '1'>, metadata={}, hash='e526d096f9bf10f7af3210ca00ad4c8308094fc4668d1d20dcea7950b221d227'), <NodeRelationship.NEXT: '3'>: RelatedNodeInfo(node_id='a34c6e48-e307-452f-bbbb-b67819886b7c', node_type=<ObjectType.TEXT: '1'>, metadata={}, hash='b7d6d330bf663a0bc378a5dcc8feef01be7c265e1450ded4693b873ade16137c'), <NodeRelationship.PARENT: '4'>: RelatedNodeInfo(node_id='4bc40d6c-dac1-4c6b-ba3d-6f30b5639023', node_type=<ObjectType.TEXT: '1'>, metadata={}, hash='6ac7c5d43dcc08c7643c5ff2584576dcca8194fd70bde7be35b15f3581e5c6de')}, text='We’re influenced by \\npeople around us, so your colleagues will make a big difference. For example, if your friends \\nsmoke, the odds increase that you, too, will smoke. I don’t know of a study that shows this, \\nbut I’m pretty sure that if most of your colleagues work hard, learn continuously, and build AI \\nto benefit all people, you’re likely to do the same. (By the way, some large companies won’t \\ntell you who your teammates will be until you’ve accepted an offer.', start_char_idx=476, end_char_idx=944, text_template='{metadata_str}\\n\\n{content}', metadata_template='{key}: {value}', metadata_seperator='\\n'),\n",
       " TextNode(id_='a34c6e48-e307-452f-bbbb-b67819886b7c', embedding=None, metadata={}, excluded_embed_metadata_keys=[], excluded_llm_metadata_keys=[], relationships={<NodeRelationship.SOURCE: '1'>: RelatedNodeInfo(node_id='4bc40d6c-dac1-4c6b-ba3d-6f30b5639023', node_type=<ObjectType.TEXT: '1'>, metadata={}, hash='6ac7c5d43dcc08c7643c5ff2584576dcca8194fd70bde7be35b15f3581e5c6de'), <NodeRelationship.PREVIOUS: '2'>: RelatedNodeInfo(node_id='679accf5-405e-4367-991b-b8e9214cba7e', node_type=<ObjectType.TEXT: '1'>, metadata={}, hash='f838d35f941f64ffd151dd913801f95e092f6a0b74f647ce720d1bed2c88b178'), <NodeRelationship.NEXT: '3'>: RelatedNodeInfo(node_id='d8e2910c-c759-44b0-b014-78c32c8b6512', node_type=<ObjectType.TEXT: '1'>, metadata={}, hash='85db7a98306d053359b38628e9c1734f0a42c3bca19a5e0f736f15b066b0950e'), <NodeRelationship.PARENT: '4'>: RelatedNodeInfo(node_id='4bc40d6c-dac1-4c6b-ba3d-6f30b5639023', node_type=<ObjectType.TEXT: '1'>, metadata={}, hash='6ac7c5d43dcc08c7643c5ff2584576dcca8194fd70bde7be35b15f3581e5c6de')}, text='In this case, be persistent \\nand keep pushing to identify and speak with potential teammates. Strict policies may make it \\nimpossible to accommodate you, but in my mind, that increases the risk of accepting the offer, \\nas it increases the odds you’ll end up with a manager or teammates who aren’t a good fit.)\\nGet help from your community. Most of us go job hunting only a small number of times in our \\ncareers, so few of us get much practice at doing it well. Collectively, though, people in your \\nimmediate community probably have a lot of experience.', start_char_idx=945, end_char_idx=1498, text_template='{metadata_str}\\n\\n{content}', metadata_template='{key}: {value}', metadata_seperator='\\n'),\n",
       " TextNode(id_='d8e2910c-c759-44b0-b014-78c32c8b6512', embedding=None, metadata={}, excluded_embed_metadata_keys=[], excluded_llm_metadata_keys=[], relationships={<NodeRelationship.SOURCE: '1'>: RelatedNodeInfo(node_id='4bc40d6c-dac1-4c6b-ba3d-6f30b5639023', node_type=<ObjectType.TEXT: '1'>, metadata={}, hash='6ac7c5d43dcc08c7643c5ff2584576dcca8194fd70bde7be35b15f3581e5c6de'), <NodeRelationship.PREVIOUS: '2'>: RelatedNodeInfo(node_id='a34c6e48-e307-452f-bbbb-b67819886b7c', node_type=<ObjectType.TEXT: '1'>, metadata={}, hash='b7d6d330bf663a0bc378a5dcc8feef01be7c265e1450ded4693b873ade16137c'), <NodeRelationship.NEXT: '3'>: RelatedNodeInfo(node_id='b1e4edc7-51fc-4189-8473-0c22387dedc5', node_type=<ObjectType.TEXT: '1'>, metadata={}, hash='68181ce386264d5b36b65f3fa13e9c685a3329164136c37cf4c7c62ba3d524e3'), <NodeRelationship.PARENT: '4'>: RelatedNodeInfo(node_id='4bc40d6c-dac1-4c6b-ba3d-6f30b5639023', node_type=<ObjectType.TEXT: '1'>, metadata={}, hash='6ac7c5d43dcc08c7643c5ff2584576dcca8194fd70bde7be35b15f3581e5c6de')}, text='Collectively, though, people in your \\nimmediate community probably have a lot of experience. Don’t be shy about calling on them. \\nFriends and associates can provide advice, share inside knowledge, and refer you to others \\nwho may help. I got a lot of help from supportive friends and mentors when I applied for my \\nfirst faculty position, and many of the tips they gave me were very helpful.\\nI know that the job-search process can be intimidating. Instead of viewing it as a great leap, \\nconsider an incremental approach. Start by identifying possible roles and conducting a handful \\nof informational interviews.', start_char_idx=1406, end_char_idx=2018, text_template='{metadata_str}\\n\\n{content}', metadata_template='{key}: {value}', metadata_seperator='\\n'),\n",
       " TextNode(id_='b1e4edc7-51fc-4189-8473-0c22387dedc5', embedding=None, metadata={}, excluded_embed_metadata_keys=[], excluded_llm_metadata_keys=[], relationships={<NodeRelationship.SOURCE: '1'>: RelatedNodeInfo(node_id='4bc40d6c-dac1-4c6b-ba3d-6f30b5639023', node_type=<ObjectType.TEXT: '1'>, metadata={}, hash='6ac7c5d43dcc08c7643c5ff2584576dcca8194fd70bde7be35b15f3581e5c6de'), <NodeRelationship.PREVIOUS: '2'>: RelatedNodeInfo(node_id='d8e2910c-c759-44b0-b014-78c32c8b6512', node_type=<ObjectType.TEXT: '1'>, metadata={}, hash='85db7a98306d053359b38628e9c1734f0a42c3bca19a5e0f736f15b066b0950e'), <NodeRelationship.PARENT: '4'>: RelatedNodeInfo(node_id='4bc40d6c-dac1-4c6b-ba3d-6f30b5639023', node_type=<ObjectType.TEXT: '1'>, metadata={}, hash='6ac7c5d43dcc08c7643c5ff2584576dcca8194fd70bde7be35b15f3581e5c6de')}, text='Start by identifying possible roles and conducting a handful \\nof informational interviews. If these conversations tell you that you have more learning to do \\nbefore you’re ready to apply, that’s great! At least you have a clear path forward.', start_char_idx=1928, end_char_idx=2169, text_template='{metadata_str}\\n\\n{content}', metadata_template='{key}: {value}', metadata_seperator='\\n'),\n",
       " TextNode(id_='2e6d118d-8570-44ea-99bf-73c5fa90fdad', embedding=None, metadata={}, excluded_embed_metadata_keys=[], excluded_llm_metadata_keys=[], relationships={<NodeRelationship.SOURCE: '1'>: RelatedNodeInfo(node_id='d57e18cd-1c72-477a-8a3e-ec98881d2c58', node_type=<ObjectType.TEXT: '1'>, metadata={}, hash='49a2304e59a4b1c1670ad7e0fd2052307bb762708c99a88ec1875a00882941a1'), <NodeRelationship.NEXT: '3'>: RelatedNodeInfo(node_id='ac27a7fc-1518-4b9c-883f-5542d3051dfe', node_type=<ObjectType.TEXT: '1'>, metadata={}, hash='7c9d727d08e666b95fff22b2b34ce0f618d5edf703c3fe42c62baee43ac922de'), <NodeRelationship.PARENT: '4'>: RelatedNodeInfo(node_id='d57e18cd-1c72-477a-8a3e-ec98881d2c58', node_type=<ObjectType.TEXT: '1'>, metadata={}, hash='49a2304e59a4b1c1670ad7e0fd2052307bb762708c99a88ec1875a00882941a1')}, text='At least you have a clear path forward. The most \\nimportant part of any journey is to take the first step, and that step can be a small one.Finding the Right AI Job For You CHAPTER 9\\n\\nPAGE 34Keys to Building a \\nCareer in AICHAPTER 10\\nJOBS\\n\\nPAGE 35Keys to Building a Career in AI CHAPTER 10\\nThe path to career success in AI is more complex than what I can  cover in one short eBook. \\nHopefully the previous chapters will give you momentum to move forward.', start_char_idx=0, end_char_idx=454, text_template='{metadata_str}\\n\\n{content}', metadata_template='{key}: {value}', metadata_seperator='\\n'),\n",
       " TextNode(id_='ac27a7fc-1518-4b9c-883f-5542d3051dfe', embedding=None, metadata={}, excluded_embed_metadata_keys=[], excluded_llm_metadata_keys=[], relationships={<NodeRelationship.SOURCE: '1'>: RelatedNodeInfo(node_id='d57e18cd-1c72-477a-8a3e-ec98881d2c58', node_type=<ObjectType.TEXT: '1'>, metadata={}, hash='49a2304e59a4b1c1670ad7e0fd2052307bb762708c99a88ec1875a00882941a1'), <NodeRelationship.PREVIOUS: '2'>: RelatedNodeInfo(node_id='2e6d118d-8570-44ea-99bf-73c5fa90fdad', node_type=<ObjectType.TEXT: '1'>, metadata={}, hash='78b762125454ad95dd3d1f42fe5822ac3f6990365b242c984841d349d5337849'), <NodeRelationship.NEXT: '3'>: RelatedNodeInfo(node_id='5fce1fea-5ea9-4f33-9418-fb0abc927a31', node_type=<ObjectType.TEXT: '1'>, metadata={}, hash='5c6381298fd9768deb3b78514d2cb1c789f8bb6df390ce488e9855b50a96506b'), <NodeRelationship.PARENT: '4'>: RelatedNodeInfo(node_id='d57e18cd-1c72-477a-8a3e-ec98881d2c58', node_type=<ObjectType.TEXT: '1'>, metadata={}, hash='49a2304e59a4b1c1670ad7e0fd2052307bb762708c99a88ec1875a00882941a1')}, text='Hopefully the previous chapters will give you momentum to move forward. \\nHere are additional things to think about as you plot your path to success: \\nWhen we tackle large projects, we succeed better by \\nworking in teams than individually. The ability to collaborate \\nwith, influence, and be influenced by others is critical. \\nThus, interpersonal and communication skills really matter. \\n(I used to be a pretty bad communicator, by the way.)1. Teamwork:\\nI hate networking!', start_char_idx=383, end_char_idx=854, text_template='{metadata_str}\\n\\n{content}', metadata_template='{key}: {value}', metadata_seperator='\\n'),\n",
       " TextNode(id_='5fce1fea-5ea9-4f33-9418-fb0abc927a31', embedding=None, metadata={}, excluded_embed_metadata_keys=[], excluded_llm_metadata_keys=[], relationships={<NodeRelationship.SOURCE: '1'>: RelatedNodeInfo(node_id='d57e18cd-1c72-477a-8a3e-ec98881d2c58', node_type=<ObjectType.TEXT: '1'>, metadata={}, hash='49a2304e59a4b1c1670ad7e0fd2052307bb762708c99a88ec1875a00882941a1'), <NodeRelationship.PREVIOUS: '2'>: RelatedNodeInfo(node_id='ac27a7fc-1518-4b9c-883f-5542d3051dfe', node_type=<ObjectType.TEXT: '1'>, metadata={}, hash='7c9d727d08e666b95fff22b2b34ce0f618d5edf703c3fe42c62baee43ac922de'), <NodeRelationship.NEXT: '3'>: RelatedNodeInfo(node_id='0525534f-7c4c-4cff-a095-f9af60b8b2da', node_type=<ObjectType.TEXT: '1'>, metadata={}, hash='ccd64a2f7aa3997cf549b90d8b31ed0a388bf68370f9685438c00c1df8c85cd3'), <NodeRelationship.PARENT: '4'>: RelatedNodeInfo(node_id='d57e18cd-1c72-477a-8a3e-ec98881d2c58', node_type=<ObjectType.TEXT: '1'>, metadata={}, hash='49a2304e59a4b1c1670ad7e0fd2052307bb762708c99a88ec1875a00882941a1')}, text='Teamwork:\\nI hate networking! As an introvert, having to go to a party \\nto smile and shake as many hands as possible is an activity \\nthat borders on horrific. I’d much rather stay home and read \\na book. Nonetheless, I’m fortunate to have found many \\ngenuine friends in AI; people I would gladly go to bat for \\nand who I count on as well. No person is an island, and \\nhaving a strong professional network can help propel you \\nforward in the moments when you need help or advice.', start_char_idx=826, end_char_idx=1302, text_template='{metadata_str}\\n\\n{content}', metadata_template='{key}: {value}', metadata_seperator='\\n'),\n",
       " TextNode(id_='0525534f-7c4c-4cff-a095-f9af60b8b2da', embedding=None, metadata={}, excluded_embed_metadata_keys=[], excluded_llm_metadata_keys=[], relationships={<NodeRelationship.SOURCE: '1'>: RelatedNodeInfo(node_id='d57e18cd-1c72-477a-8a3e-ec98881d2c58', node_type=<ObjectType.TEXT: '1'>, metadata={}, hash='49a2304e59a4b1c1670ad7e0fd2052307bb762708c99a88ec1875a00882941a1'), <NodeRelationship.PREVIOUS: '2'>: RelatedNodeInfo(node_id='5fce1fea-5ea9-4f33-9418-fb0abc927a31', node_type=<ObjectType.TEXT: '1'>, metadata={}, hash='5c6381298fd9768deb3b78514d2cb1c789f8bb6df390ce488e9855b50a96506b'), <NodeRelationship.PARENT: '4'>: RelatedNodeInfo(node_id='d57e18cd-1c72-477a-8a3e-ec98881d2c58', node_type=<ObjectType.TEXT: '1'>, metadata={}, hash='49a2304e59a4b1c1670ad7e0fd2052307bb762708c99a88ec1875a00882941a1')}, text='In \\nlieu of networking, I’ve found it more helpful to think about \\nbuilding up a community. So instead of trying to build up \\nmy personal network, I focus instead on building up the \\ncommunities that I’m part of. This has the side effect of \\nhelping me meet more people and make friends as well. 2. Networking:', start_char_idx=1303, end_char_idx=1613, text_template='{metadata_str}\\n\\n{content}', metadata_template='{key}: {value}', metadata_seperator='\\n'),\n",
       " TextNode(id_='d37ee012-8913-4d73-96c0-c18693ffe38d', embedding=None, metadata={}, excluded_embed_metadata_keys=[], excluded_llm_metadata_keys=[], relationships={<NodeRelationship.SOURCE: '1'>: RelatedNodeInfo(node_id='c4b95135-8336-4f63-909c-65858c462936', node_type=<ObjectType.TEXT: '1'>, metadata={}, hash='2db3c2c25dfba280151503c32cbe488705ca8f5545d99ff03bb035b122b668a6'), <NodeRelationship.NEXT: '3'>: RelatedNodeInfo(node_id='c5e4ad44-f677-44ae-8b56-1e95f4a2321c', node_type=<ObjectType.TEXT: '1'>, metadata={}, hash='9af763423ceeb943315f17a997daf5b41c7f9be32079bf322a61d6dd7cb082fe'), <NodeRelationship.PARENT: '4'>: RelatedNodeInfo(node_id='c4b95135-8336-4f63-909c-65858c462936', node_type=<ObjectType.TEXT: '1'>, metadata={}, hash='2db3c2c25dfba280151503c32cbe488705ca8f5545d99ff03bb035b122b668a6')}, text='2. Networking:\\n\\n\\nPAGE 36Keys to Building a Career in AI CHAPTER 10\\nOf all the steps in building a career, this \\none tends to receive the most attention. \\nUnfortunately, there is a lot of bad advice \\nabout this on the internet. (For example, many \\narticles urge taking an adversarial attitude \\ntoward potential employers, which I don’t think \\nis helpful.) Although it may seem like finding a \\njob is the ultimate goal, it’s just one small step \\nin the long journey of a career.3.', start_char_idx=0, end_char_idx=478, text_template='{metadata_str}\\n\\n{content}', metadata_template='{key}: {value}', metadata_seperator='\\n'),\n",
       " TextNode(id_='c5e4ad44-f677-44ae-8b56-1e95f4a2321c', embedding=None, metadata={}, excluded_embed_metadata_keys=[], excluded_llm_metadata_keys=[], relationships={<NodeRelationship.SOURCE: '1'>: RelatedNodeInfo(node_id='c4b95135-8336-4f63-909c-65858c462936', node_type=<ObjectType.TEXT: '1'>, metadata={}, hash='2db3c2c25dfba280151503c32cbe488705ca8f5545d99ff03bb035b122b668a6'), <NodeRelationship.PREVIOUS: '2'>: RelatedNodeInfo(node_id='d37ee012-8913-4d73-96c0-c18693ffe38d', node_type=<ObjectType.TEXT: '1'>, metadata={}, hash='6c6a706675766886928e4f38f646a27e301c61dd7d1a27b068474c89718598c2'), <NodeRelationship.PARENT: '4'>: RelatedNodeInfo(node_id='c4b95135-8336-4f63-909c-65858c462936', node_type=<ObjectType.TEXT: '1'>, metadata={}, hash='2db3c2c25dfba280151503c32cbe488705ca8f5545d99ff03bb035b122b668a6')}, text='Job search\\nFew people will know whether you spend \\nyour weekends learning, or binge watching \\nTV — but they will notice the difference over \\ntime. Many successful people develop good \\nhabits in eating, exercise, sleep, personal \\nrelationships, work, learning, and self-care. \\nSuch habits help them move forward while \\nstaying healthy.4. Personal discipline\\nI find that people  who aim to lift others during \\nevery step of their own journey often achieve \\nbetter outcomes for themselves. How can we \\nhelp others even as we build an exciting career \\nfor ourselves?5. Altruism', start_char_idx=479, end_char_idx=1052, text_template='{metadata_str}\\n\\n{content}', metadata_template='{key}: {value}', metadata_seperator='\\n'),\n",
       " TextNode(id_='3fefbc9a-63d4-4c04-bfcd-e5ab059c687b', embedding=None, metadata={}, excluded_embed_metadata_keys=[], excluded_llm_metadata_keys=[], relationships={<NodeRelationship.SOURCE: '1'>: RelatedNodeInfo(node_id='0fc2e03b-129b-4c80-80e6-10695965bff0', node_type=<ObjectType.TEXT: '1'>, metadata={}, hash='f356f6eaae4d935a1e35f233bac4c0a015d8a6a332041f6f3efc68133951fec4'), <NodeRelationship.NEXT: '3'>: RelatedNodeInfo(node_id='97ac89ca-16d4-4c34-8a9d-1296ce0f3e45', node_type=<ObjectType.TEXT: '1'>, metadata={}, hash='fca444b39c88f8f287edbe069e18fc04fe1921f802eca342ab7db4c550531931'), <NodeRelationship.PARENT: '4'>: RelatedNodeInfo(node_id='0fc2e03b-129b-4c80-80e6-10695965bff0', node_type=<ObjectType.TEXT: '1'>, metadata={}, hash='f356f6eaae4d935a1e35f233bac4c0a015d8a6a332041f6f3efc68133951fec4')}, text='PAGE 37Overcoming Imposter \\nSyndromeCHAPTER 11\\n\\nPAGE 38Before we dive into the final chapter of this book, I’d like to address the serious matter of \\nnewcomers to AI sometimes experiencing imposter syndrome, where someone — regardless \\nof their success in the field — wonders if they’re a fraud and really belong in the AI community. \\nI want to make sure this doesn’t discourage you or anyone else from growing in AI.\\nAn estimated 70 percent of people experience some form of imposter syndrome at some point.', start_char_idx=0, end_char_idx=508, text_template='{metadata_str}\\n\\n{content}', metadata_template='{key}: {value}', metadata_seperator='\\n'),\n",
       " TextNode(id_='97ac89ca-16d4-4c34-8a9d-1296ce0f3e45', embedding=None, metadata={}, excluded_embed_metadata_keys=[], excluded_llm_metadata_keys=[], relationships={<NodeRelationship.SOURCE: '1'>: RelatedNodeInfo(node_id='0fc2e03b-129b-4c80-80e6-10695965bff0', node_type=<ObjectType.TEXT: '1'>, metadata={}, hash='f356f6eaae4d935a1e35f233bac4c0a015d8a6a332041f6f3efc68133951fec4'), <NodeRelationship.PREVIOUS: '2'>: RelatedNodeInfo(node_id='3fefbc9a-63d4-4c04-bfcd-e5ab059c687b', node_type=<ObjectType.TEXT: '1'>, metadata={}, hash='d70f74b9266bbed35b1a9cf468ea093bdf120ebfab980ab18ef9fa397b1df78a'), <NodeRelationship.NEXT: '3'>: RelatedNodeInfo(node_id='cb075bd6-07db-4d8f-b98c-1b84b87f42d1', node_type=<ObjectType.TEXT: '1'>, metadata={}, hash='2c39d8d720758403726a55963d8e5db37fcaeb42aced7a5ff4e67b2158741785'), <NodeRelationship.PARENT: '4'>: RelatedNodeInfo(node_id='0fc2e03b-129b-4c80-80e6-10695965bff0', node_type=<ObjectType.TEXT: '1'>, metadata={}, hash='f356f6eaae4d935a1e35f233bac4c0a015d8a6a332041f6f3efc68133951fec4')}, text='An estimated 70 percent of people experience some form of imposter syndrome at some point. \\nMany talented people have spoken publicly about this experience, including former Facebook \\nCOO Sheryl Sandberg, U.S. first lady Michelle Obama, actor Tom Hanks, and Atlassian co-CEO \\nMike Cannon-Brookes. It happens in our community even among accomplished people. If you’ve \\nnever experienced this yourself, that’s great! I hope you’ll join me in encouraging and welcoming \\neveryone who wants to join our community.', start_char_idx=418, end_char_idx=926, text_template='{metadata_str}\\n\\n{content}', metadata_template='{key}: {value}', metadata_seperator='\\n'),\n",
       " TextNode(id_='cb075bd6-07db-4d8f-b98c-1b84b87f42d1', embedding=None, metadata={}, excluded_embed_metadata_keys=[], excluded_llm_metadata_keys=[], relationships={<NodeRelationship.SOURCE: '1'>: RelatedNodeInfo(node_id='0fc2e03b-129b-4c80-80e6-10695965bff0', node_type=<ObjectType.TEXT: '1'>, metadata={}, hash='f356f6eaae4d935a1e35f233bac4c0a015d8a6a332041f6f3efc68133951fec4'), <NodeRelationship.PREVIOUS: '2'>: RelatedNodeInfo(node_id='97ac89ca-16d4-4c34-8a9d-1296ce0f3e45', node_type=<ObjectType.TEXT: '1'>, metadata={}, hash='fca444b39c88f8f287edbe069e18fc04fe1921f802eca342ab7db4c550531931'), <NodeRelationship.NEXT: '3'>: RelatedNodeInfo(node_id='2bdb2a9f-ac0f-474b-9fae-e171163c654d', node_type=<ObjectType.TEXT: '1'>, metadata={}, hash='c7d04f3d02c8dcd054d7d582c09645e75995c590112e6349d24774fef36cd381'), <NodeRelationship.PARENT: '4'>: RelatedNodeInfo(node_id='0fc2e03b-129b-4c80-80e6-10695965bff0', node_type=<ObjectType.TEXT: '1'>, metadata={}, hash='f356f6eaae4d935a1e35f233bac4c0a015d8a6a332041f6f3efc68133951fec4')}, text='I hope you’ll join me in encouraging and welcoming \\neveryone who wants to join our community.\\nAI is technically complex, and it has its fair share of smart and highly capable people. But it is \\neasy to forget that to become good at anything, the first step is to suck at it. If you’ve succeeded \\nat sucking at AI — congratulations, you’re on your way!\\nI once struggled to understand the math behind linear regression. I was mystified when \\nlogistic regression performed strangely on my data, and it took me days to find a bug in my \\nimplementation of a basic neural network.', start_char_idx=833, end_char_idx=1407, text_template='{metadata_str}\\n\\n{content}', metadata_template='{key}: {value}', metadata_seperator='\\n'),\n",
       " TextNode(id_='2bdb2a9f-ac0f-474b-9fae-e171163c654d', embedding=None, metadata={}, excluded_embed_metadata_keys=[], excluded_llm_metadata_keys=[], relationships={<NodeRelationship.SOURCE: '1'>: RelatedNodeInfo(node_id='0fc2e03b-129b-4c80-80e6-10695965bff0', node_type=<ObjectType.TEXT: '1'>, metadata={}, hash='f356f6eaae4d935a1e35f233bac4c0a015d8a6a332041f6f3efc68133951fec4'), <NodeRelationship.PREVIOUS: '2'>: RelatedNodeInfo(node_id='cb075bd6-07db-4d8f-b98c-1b84b87f42d1', node_type=<ObjectType.TEXT: '1'>, metadata={}, hash='2c39d8d720758403726a55963d8e5db37fcaeb42aced7a5ff4e67b2158741785'), <NodeRelationship.NEXT: '3'>: RelatedNodeInfo(node_id='e39c6928-4d5c-44b0-8b92-7de3ae7158a5', node_type=<ObjectType.TEXT: '1'>, metadata={}, hash='86f85ac14cee5dc527023cb77d4a8481d59558fc95b3b68d181a39812648caa7'), <NodeRelationship.PARENT: '4'>: RelatedNodeInfo(node_id='0fc2e03b-129b-4c80-80e6-10695965bff0', node_type=<ObjectType.TEXT: '1'>, metadata={}, hash='f356f6eaae4d935a1e35f233bac4c0a015d8a6a332041f6f3efc68133951fec4')}, text='Today, I still find many research papers challenging \\nto read, and I recently made an obvious mistake while tuning a neural network hyperparameter \\n(that fortunately a fellow engineer caught and fixed).\\nSo if you, too, find parts of AI challenging, it’s okay. We’ve all been there. I guarantee that everyone \\nwho has published a seminal AI paper struggled with similar technical challenges at some point.Let me be clear: If you want to be part of the AI \\ncommunity, then I welcome you with open arms.', start_char_idx=1408, end_char_idx=1908, text_template='{metadata_str}\\n\\n{content}', metadata_template='{key}: {value}', metadata_seperator='\\n'),\n",
       " TextNode(id_='e39c6928-4d5c-44b0-8b92-7de3ae7158a5', embedding=None, metadata={}, excluded_embed_metadata_keys=[], excluded_llm_metadata_keys=[], relationships={<NodeRelationship.SOURCE: '1'>: RelatedNodeInfo(node_id='0fc2e03b-129b-4c80-80e6-10695965bff0', node_type=<ObjectType.TEXT: '1'>, metadata={}, hash='f356f6eaae4d935a1e35f233bac4c0a015d8a6a332041f6f3efc68133951fec4'), <NodeRelationship.PREVIOUS: '2'>: RelatedNodeInfo(node_id='2bdb2a9f-ac0f-474b-9fae-e171163c654d', node_type=<ObjectType.TEXT: '1'>, metadata={}, hash='c7d04f3d02c8dcd054d7d582c09645e75995c590112e6349d24774fef36cd381'), <NodeRelationship.PARENT: '4'>: RelatedNodeInfo(node_id='0fc2e03b-129b-4c80-80e6-10695965bff0', node_type=<ObjectType.TEXT: '1'>, metadata={}, hash='f356f6eaae4d935a1e35f233bac4c0a015d8a6a332041f6f3efc68133951fec4')}, text='If you want to join us, you fully belong with us!Overcoming Imposter Syndrome\\n\\nPAGE 39My three-year-old daughter (who can barely count to 12) regularly tries to teach things to my \\none-year-old son. No matter how far along you are — if you’re at least as knowledgeable as a \\nthree-year-old — you can encourage and lift up others behind you.', start_char_idx=1910, end_char_idx=2250, text_template='{metadata_str}\\n\\n{content}', metadata_template='{key}: {value}', metadata_seperator='\\n'),\n",
       " TextNode(id_='8103384c-b799-462d-85b6-5403841f7709', embedding=None, metadata={}, excluded_embed_metadata_keys=[], excluded_llm_metadata_keys=[], relationships={<NodeRelationship.SOURCE: '1'>: RelatedNodeInfo(node_id='16ee196b-3585-445a-a00e-57b5fc19ab7c', node_type=<ObjectType.TEXT: '1'>, metadata={}, hash='89ee510c7ef38fd13086b7d1cb90067b1ceeff07832cf24a130f4586097142f7'), <NodeRelationship.NEXT: '3'>: RelatedNodeInfo(node_id='b723ee2d-17c8-4878-8b31-371fc6f71413', node_type=<ObjectType.TEXT: '1'>, metadata={}, hash='f81babc0bc9ed70867a7d37c407ac2077400a65388d3744688ccbd7a23a5872e'), <NodeRelationship.PARENT: '4'>: RelatedNodeInfo(node_id='16ee196b-3585-445a-a00e-57b5fc19ab7c', node_type=<ObjectType.TEXT: '1'>, metadata={}, hash='89ee510c7ef38fd13086b7d1cb90067b1ceeff07832cf24a130f4586097142f7')}, text='Doing so will help you, too, \\nas others behind you will recognize your expertise and also encourage you to keep developing. \\nWhen you invite others to join the AI community, which I hope you will do, it also reduces any \\ndoubts that you are already one of us.\\nAI is such an important part of our world that I would like everyone who wants to be part of it \\nto feel at home as a member of our community. Let’s work together to make it happen.Here are some things that can help.\\nDo you have supportive mentors or peers?', start_char_idx=0, end_char_idx=517, text_template='{metadata_str}\\n\\n{content}', metadata_template='{key}: {value}', metadata_seperator='\\n'),\n",
       " TextNode(id_='b723ee2d-17c8-4878-8b31-371fc6f71413', embedding=None, metadata={}, excluded_embed_metadata_keys=[], excluded_llm_metadata_keys=[], relationships={<NodeRelationship.SOURCE: '1'>: RelatedNodeInfo(node_id='16ee196b-3585-445a-a00e-57b5fc19ab7c', node_type=<ObjectType.TEXT: '1'>, metadata={}, hash='89ee510c7ef38fd13086b7d1cb90067b1ceeff07832cf24a130f4586097142f7'), <NodeRelationship.PREVIOUS: '2'>: RelatedNodeInfo(node_id='8103384c-b799-462d-85b6-5403841f7709', node_type=<ObjectType.TEXT: '1'>, metadata={}, hash='3e1fbbc2bfa747336bfcf28a7b47553a7d65bac8461324b6ec26d568365898de'), <NodeRelationship.NEXT: '3'>: RelatedNodeInfo(node_id='6c51ba75-18b3-4390-8489-75a786d973bc', node_type=<ObjectType.TEXT: '1'>, metadata={}, hash='a02dfd5c0ceee97b3c3b44a6c8fc5c66e1dfb6991f9dcaa229c0791c112ba594'), <NodeRelationship.PARENT: '4'>: RelatedNodeInfo(node_id='16ee196b-3585-445a-a00e-57b5fc19ab7c', node_type=<ObjectType.TEXT: '1'>, metadata={}, hash='89ee510c7ef38fd13086b7d1cb90067b1ceeff07832cf24a130f4586097142f7')}, text='Do you have supportive mentors or peers? If you don’t yet, attend Pie & AI or other events, \\nuse discussion boards, and work on finding some. If your mentors or manager don’t support \\nyour growth, find ones who do. I’m also working on how to grow a supportive AI community \\nand hope to make finding and giving support easier for everyone.\\nNo one is an expert at everything. Recognize what you do well.', start_char_idx=477, end_char_idx=878, text_template='{metadata_str}\\n\\n{content}', metadata_template='{key}: {value}', metadata_seperator='\\n'),\n",
       " TextNode(id_='6c51ba75-18b3-4390-8489-75a786d973bc', embedding=None, metadata={}, excluded_embed_metadata_keys=[], excluded_llm_metadata_keys=[], relationships={<NodeRelationship.SOURCE: '1'>: RelatedNodeInfo(node_id='16ee196b-3585-445a-a00e-57b5fc19ab7c', node_type=<ObjectType.TEXT: '1'>, metadata={}, hash='89ee510c7ef38fd13086b7d1cb90067b1ceeff07832cf24a130f4586097142f7'), <NodeRelationship.PREVIOUS: '2'>: RelatedNodeInfo(node_id='b723ee2d-17c8-4878-8b31-371fc6f71413', node_type=<ObjectType.TEXT: '1'>, metadata={}, hash='f81babc0bc9ed70867a7d37c407ac2077400a65388d3744688ccbd7a23a5872e'), <NodeRelationship.NEXT: '3'>: RelatedNodeInfo(node_id='cf78b2f0-06b1-4255-a3fe-05f336bcad37', node_type=<ObjectType.TEXT: '1'>, metadata={}, hash='44c1cfb27b8a65d3beff1ef592b3d7a7f89e879203383d7c0ef1fa035e70e7f0'), <NodeRelationship.PARENT: '4'>: RelatedNodeInfo(node_id='16ee196b-3585-445a-a00e-57b5fc19ab7c', node_type=<ObjectType.TEXT: '1'>, metadata={}, hash='89ee510c7ef38fd13086b7d1cb90067b1ceeff07832cf24a130f4586097142f7')}, text='No one is an expert at everything. Recognize what you do well. If what you do well is \\nunderstand and explain to your friends one-tenth of the articles in The Batch,  then you’re \\non your way! Let’s work on getting you to understand two-tenths of the articles.✓\\n✓\\nOvercoming Imposter Syndrome\\n\\nPAGE 40Make Every Day CountFinal Thoughts\\nEvery year on my birthday, I get to thinking about the days behind and those \\nthat may lie ahead.', start_char_idx=816, end_char_idx=1249, text_template='{metadata_str}\\n\\n{content}', metadata_template='{key}: {value}', metadata_seperator='\\n'),\n",
       " TextNode(id_='cf78b2f0-06b1-4255-a3fe-05f336bcad37', embedding=None, metadata={}, excluded_embed_metadata_keys=[], excluded_llm_metadata_keys=[], relationships={<NodeRelationship.SOURCE: '1'>: RelatedNodeInfo(node_id='16ee196b-3585-445a-a00e-57b5fc19ab7c', node_type=<ObjectType.TEXT: '1'>, metadata={}, hash='89ee510c7ef38fd13086b7d1cb90067b1ceeff07832cf24a130f4586097142f7'), <NodeRelationship.PREVIOUS: '2'>: RelatedNodeInfo(node_id='6c51ba75-18b3-4390-8489-75a786d973bc', node_type=<ObjectType.TEXT: '1'>, metadata={}, hash='a02dfd5c0ceee97b3c3b44a6c8fc5c66e1dfb6991f9dcaa229c0791c112ba594'), <NodeRelationship.NEXT: '3'>: RelatedNodeInfo(node_id='54b04642-efa8-4427-94e8-2c1c046f52ee', node_type=<ObjectType.TEXT: '1'>, metadata={}, hash='a06c10e8374795632953eb1a6c6ddc37c9cb6284420a3c3249307bca1d28b41e'), <NodeRelationship.PARENT: '4'>: RelatedNodeInfo(node_id='16ee196b-3585-445a-a00e-57b5fc19ab7c', node_type=<ObjectType.TEXT: '1'>, metadata={}, hash='89ee510c7ef38fd13086b7d1cb90067b1ceeff07832cf24a130f4586097142f7')}, text='When I ask friends, many choose a number in the hundreds of \\nthousands. (Many others can’t resist calculating the answer, \\nto my annoyance!)\\nWhen I was a grad student, I remember plugging my statistics \\ninto a mortality calculator to figure out my life expectancy. \\nThe calculator said I could expect to live a total of 27,649 \\ndays. It struck me how small this number is. I printed it in a \\nlarge font and pasted it on my office wall as a daily reminder.', start_char_idx=1250, end_char_idx=1705, text_template='{metadata_str}\\n\\n{content}', metadata_template='{key}: {value}', metadata_seperator='\\n'),\n",
       " TextNode(id_='54b04642-efa8-4427-94e8-2c1c046f52ee', embedding=None, metadata={}, excluded_embed_metadata_keys=[], excluded_llm_metadata_keys=[], relationships={<NodeRelationship.SOURCE: '1'>: RelatedNodeInfo(node_id='16ee196b-3585-445a-a00e-57b5fc19ab7c', node_type=<ObjectType.TEXT: '1'>, metadata={}, hash='89ee510c7ef38fd13086b7d1cb90067b1ceeff07832cf24a130f4586097142f7'), <NodeRelationship.PREVIOUS: '2'>: RelatedNodeInfo(node_id='cf78b2f0-06b1-4255-a3fe-05f336bcad37', node_type=<ObjectType.TEXT: '1'>, metadata={}, hash='44c1cfb27b8a65d3beff1ef592b3d7a7f89e879203383d7c0ef1fa035e70e7f0'), <NodeRelationship.PARENT: '4'>: RelatedNodeInfo(node_id='16ee196b-3585-445a-a00e-57b5fc19ab7c', node_type=<ObjectType.TEXT: '1'>, metadata={}, hash='89ee510c7ef38fd13086b7d1cb90067b1ceeff07832cf24a130f4586097142f7')}, text='That’s all the days we have to spend with loved ones, learn, \\nbuild for the future, and help others. Whatever you’re doing \\ntoday, is it worth 1/30,000 of your life?How many days is a \\ntypical human lifespan?Maybe you’re good at math; I’m sure you’ll be able to answer the following question \\nvia a quick calculation. But let me ask you a question, and please answer from \\nyour gut, without calculating.', start_char_idx=1706, end_char_idx=2109, text_template='{metadata_str}\\n\\n{content}', metadata_template='{key}: {value}', metadata_seperator='\\n'),\n",
       " TextNode(id_='9ad42bd8-57fa-40fa-9bb7-6b33958bfcd7', embedding=None, metadata={}, excluded_embed_metadata_keys=[], excluded_llm_metadata_keys=[], relationships={<NodeRelationship.SOURCE: '1'>: RelatedNodeInfo(node_id='a8aa7133-04b1-44be-8c07-ac409520538c', node_type=<ObjectType.TEXT: '1'>, metadata={}, hash='fce09aed174242d81af409d6b1ce334a5c5deedfeae4d9895292729324cbeb89'), <NodeRelationship.PARENT: '4'>: RelatedNodeInfo(node_id='a8aa7133-04b1-44be-8c07-ac409520538c', node_type=<ObjectType.TEXT: '1'>, metadata={}, hash='fce09aed174242d81af409d6b1ce334a5c5deedfeae4d9895292729324cbeb89')}, text='But let me ask you a question, and please answer from \\nyour gut, without calculating.\\n20,000 days 100,000 days\\n1 million days 5 million days\\n\\nPAGE 41', start_char_idx=0, end_char_idx=149, text_template='{metadata_str}\\n\\n{content}', metadata_template='{key}: {value}', metadata_seperator='\\n')]"
      ]
     },
     "execution_count": 16,
     "metadata": {},
     "output_type": "execute_result"
    }
   ],
   "source": [
    "nodes = node_parser.get_nodes_from_documents([document])\n",
    "nodes"
   ]
  },
  {
   "cell_type": "code",
   "execution_count": 11,
   "metadata": {},
   "outputs": [
    {
     "name": "stdout",
     "output_type": "stream",
     "text": [
      "But this became less important as numerical linear algebra libraries matured.\n",
      "Deep learning is still an emerging technology, so when you train a neural network and the \n",
      "optimization algorithm struggles to converge, understanding the math behind gradient \n",
      "descent, momentum, and the Adam  optimization algorithm will help you make better decisions. \n",
      "Similarly, if your neural network does something funny — say, it makes bad predictions on \n",
      "images of a certain resolution, but not others — understanding the math behind neural network \n",
      "architectures puts you in a better position to figure out what to do.\n",
      "Of course, I also encourage learning driven by curiosity.\n"
     ]
    }
   ],
   "source": [
    "from llama_index.core.node_parser import get_leaf_nodes\n",
    "\n",
    "leaf_nodes = get_leaf_nodes(nodes)\n",
    "print(leaf_nodes[30].text)"
   ]
  },
  {
   "cell_type": "code",
   "execution_count": 12,
   "metadata": {},
   "outputs": [
    {
     "name": "stdout",
     "output_type": "stream",
     "text": [
      "PAGE 12Should You \n",
      "Learn Math to \n",
      "Get a Job in AI? CHAPTER 3\n",
      "LEARNING\n",
      "\n",
      "PAGE 13Should you Learn Math to Get a Job in AI? CHAPTER 3\n",
      "Is math a foundational skill for AI? It’s always nice to know more math! But there’s so much to \n",
      "learn that, realistically, it’s necessary to prioritize. Here’s how you might go about strengthening \n",
      "your math background.\n",
      "To figure out what’s important to know, I find it useful to ask what you need to know to make \n",
      "the decisions required for the work you want to do. At DeepLearning.AI, we frequently ask, \n",
      "“What does someone need to know to accomplish their goals?” The goal might be building a \n",
      "machine learning model, architecting a system, or passing a job interview.\n",
      "Understanding the math behind algorithms you use is often helpful, since it enables you to \n",
      "debug them. But the depth of knowledge that’s useful changes over time. As machine learning \n",
      "techniques mature and become more reliable and turnkey, they require less debugging, and a \n",
      "shallower understanding of the math involved may be sufficient to make them work.\n",
      "For instance, in an earlier era of machine learning, linear algebra libraries for solving linear \n",
      "systems of equations (for linear regression) were immature. I had to understand how these \n",
      "libraries worked so I could choose among different libraries and avoid numerical roundoff \n",
      "pitfalls. But this became less important as numerical linear algebra libraries matured.\n",
      "Deep learning is still an emerging technology, so when you train a neural network and the \n",
      "optimization algorithm struggles to converge, understanding the math behind gradient \n",
      "descent, momentum, and the Adam  optimization algorithm will help you make better decisions. \n",
      "Similarly, if your neural network does something funny — say, it makes bad predictions on \n",
      "images of a certain resolution, but not others — understanding the math behind neural network \n",
      "architectures puts you in a better position to figure out what to do.\n",
      "Of course, I also encourage learning driven by curiosity. If something interests you, go ahead \n",
      "and learn it regardless of how useful it might turn out to be!  Maybe this will lead to a creative \n",
      "spark or technical breakthrough.How much math do you need to know to be a machine learning engineer?\n"
     ]
    }
   ],
   "source": [
    "nodes_by_id = {node.node_id: node for node in nodes}\n",
    "parent_node = nodes_by_id[leaf_nodes[30].parent_node.node_id]\n",
    "print(parent_node.text)"
   ]
  },
  {
   "cell_type": "markdown",
   "metadata": {},
   "source": [
    "### Building the index"
   ]
  },
  {
   "cell_type": "code",
   "execution_count": 14,
   "metadata": {},
   "outputs": [],
   "source": [
    "from llama_index.llms.openai import OpenAI\n",
    "\n",
    "llm = OpenAI(model=\"gpt-3.5-turbo\", temperature=0.1)"
   ]
  },
  {
   "cell_type": "code",
   "execution_count": 15,
   "metadata": {},
   "outputs": [],
   "source": [
    "from llama_index.core import ServiceContext\n",
    "\n",
    "auto_merging = ServiceContext.from_defaults(\n",
    "    llm=llm,\n",
    "    embed_model=\"local:BAAI/bge-small-en-v1.5\",\n",
    "    node_parser=node_parser\n",
    ")"
   ]
  },
  {
   "cell_type": "code",
   "execution_count": 17,
   "metadata": {},
   "outputs": [],
   "source": [
    "from llama_index.core import VectorStoreIndex,StorageContext\n",
    "\n",
    "storage_context = StorageContext.from_defaults()\n",
    "storage_context.docstore.add_documents(nodes)\n",
    "\n",
    "automerging_index = VectorStoreIndex(\n",
    "    leaf_nodes,storage_context=storage_context,service_context=auto_merging\n",
    ")\n",
    "automerging_index.storage_context.persist(persist_dir=\"./merging_index\")"
   ]
  },
  {
   "cell_type": "markdown",
   "metadata": {},
   "source": [
    "### Defining Retriever and Query Engine"
   ]
  },
  {
   "cell_type": "code",
   "execution_count": 18,
   "metadata": {},
   "outputs": [],
   "source": [
    "from llama_index.core.indices.postprocessor import SentenceTransformerRerank\n",
    "from llama_index.core.retrievers import AutoMergingRetriever\n",
    "from llama_index.core.query_engine import RetrieverQueryEngine\n",
    "\n",
    "automerging_retriever = automerging_index.as_retriever(\n",
    "    similarity_top_k = 12 \n",
    ")\n",
    "\n",
    "retriever = AutoMergingRetriever(\n",
    "    automerging_retriever,\n",
    "    automerging_index.storage_context,\n",
    "    verbose=True\n",
    ")"
   ]
  },
  {
   "cell_type": "code",
   "execution_count": 21,
   "metadata": {},
   "outputs": [],
   "source": [
    "rerank = SentenceTransformerRerank(top_n=6,model=\"BAAI/bge-reranker-base\")\n",
    "\n",
    "auto_merging_engine = RetrieverQueryEngine.from_args(\n",
    "    automerging_retriever,\n",
    "    node_postprocessors=[rerank]\n",
    ")"
   ]
  },
  {
   "cell_type": "code",
   "execution_count": 22,
   "metadata": {},
   "outputs": [],
   "source": [
    "auto_merging_response = auto_merging_engine.query(\n",
    "    'What is the importance of networking in AI?'\n",
    ")"
   ]
  },
  {
   "cell_type": "code",
   "execution_count": 23,
   "metadata": {},
   "outputs": [
    {
     "data": {
      "text/markdown": [
       "**`Final Response:`** Networking in AI is crucial as it allows individuals to build a strong professional community that can provide valuable information, support, and opportunities. By connecting with others in the field, individuals can receive guidance, advice, and potential referrals to employers. Additionally, networking helps individuals stay updated on industry trends, collaborate on projects, and develop new ideas through interactions with peers and mentors. Ultimately, having a robust network in AI can propel individuals forward in their careers and provide a sense of belonging within the community."
      ],
      "text/plain": [
       "<IPython.core.display.Markdown object>"
      ]
     },
     "metadata": {},
     "output_type": "display_data"
    }
   ],
   "source": [
    "from llama_index.core.response.notebook_utils import display_response\n",
    "\n",
    "display_response(auto_merging_response)"
   ]
  },
  {
   "cell_type": "markdown",
   "metadata": {},
   "source": [
    "### Putting all together from the above"
   ]
  },
  {
   "cell_type": "code",
   "execution_count": 39,
   "metadata": {},
   "outputs": [],
   "source": [
    "import os\n",
    "\n",
    "from llama_index.core import (\n",
    "    ServiceContext,\n",
    "    StorageContext,\n",
    "    VectorStoreIndex,\n",
    "    load_index_from_storage,\n",
    ")\n",
    "from llama_index.core.node_parser import HierarchicalNodeParser\n",
    "from llama_index.core.node_parser import get_leaf_nodes\n",
    "from llama_index.core import StorageContext, load_index_from_storage\n",
    "from llama_index.core.retrievers import AutoMergingRetriever\n",
    "from llama_index.core.indices.postprocessor import SentenceTransformerRerank\n",
    "from llama_index.core.query_engine import RetrieverQueryEngine\n",
    "\n",
    "\n",
    "def build_automerging_index(\n",
    "    documents,\n",
    "    llm,\n",
    "    embed_model=\"local:BAAI/bge-small-en-v1.5\",\n",
    "    save_dir=\"merging_index\",\n",
    "    chunk_sizes=None,\n",
    "):\n",
    "    chunk_sizes = chunk_sizes or [2048, 512, 128]\n",
    "    node_parser = HierarchicalNodeParser.from_defaults(chunk_sizes=chunk_sizes)\n",
    "    nodes = node_parser.get_nodes_from_documents(documents)\n",
    "    leaf_nodes = get_leaf_nodes(nodes)\n",
    "    merging_context = ServiceContext.from_defaults(\n",
    "        llm=llm,\n",
    "        embed_model=embed_model,\n",
    "    )\n",
    "    storage_context = StorageContext.from_defaults()\n",
    "    storage_context.docstore.add_documents(nodes)\n",
    "\n",
    "    if not os.path.exists(save_dir):\n",
    "        automerging_index = VectorStoreIndex(\n",
    "            leaf_nodes, storage_context=storage_context, service_context=merging_context\n",
    "        )\n",
    "        automerging_index.storage_context.persist(persist_dir=save_dir)\n",
    "    else:\n",
    "        automerging_index = load_index_from_storage(\n",
    "            StorageContext.from_defaults(persist_dir=save_dir),\n",
    "            service_context=merging_context,\n",
    "        )\n",
    "    return automerging_index\n",
    "\n",
    "\n",
    "def get_automerging_query_engine(\n",
    "    automerging_index,\n",
    "    similarity_top_k=12,\n",
    "    rerank_top_n=6,\n",
    "):\n",
    "    base_retriever = automerging_index.as_retriever(similarity_top_k=similarity_top_k)\n",
    "    retriever = AutoMergingRetriever(\n",
    "        base_retriever, automerging_index.storage_context, verbose=True\n",
    "    )\n",
    "    rerank = SentenceTransformerRerank(\n",
    "        top_n=rerank_top_n, model=\"BAAI/bge-reranker-base\"\n",
    "    )\n",
    "    auto_merging_engine = RetrieverQueryEngine.from_args(\n",
    "        retriever, node_postprocessors=[rerank]\n",
    "    )\n",
    "    return auto_merging_engine"
   ]
  },
  {
   "cell_type": "code",
   "execution_count": 41,
   "metadata": {},
   "outputs": [],
   "source": [
    "from llama_index.llms.openai import OpenAI\n",
    "\n",
    "index = build_automerging_index(\n",
    "    [document],\n",
    "    llm=OpenAI(model=\"gpt-3.5-turbo\", temperature=0.1),\n",
    "    save_dir=\"./merging_index1\",\n",
    ")"
   ]
  },
  {
   "cell_type": "code",
   "execution_count": 42,
   "metadata": {},
   "outputs": [],
   "source": [
    "query_engine = get_automerging_query_engine(index, similarity_top_k=6)"
   ]
  },
  {
   "cell_type": "markdown",
   "metadata": {},
   "source": [
    "### Trulens Evaluation"
   ]
  },
  {
   "cell_type": "code",
   "execution_count": 43,
   "metadata": {},
   "outputs": [],
   "source": [
    "from trulens_eval import Tru\n",
    "Tru().reset_database()"
   ]
  },
  {
   "cell_type": "markdown",
   "metadata": {},
   "source": [
    "#### Two Layers"
   ]
  },
  {
   "cell_type": "code",
   "execution_count": 44,
   "metadata": {},
   "outputs": [],
   "source": [
    "auto_merging_index_0 = build_automerging_index(\n",
    "    documents,\n",
    "    llm = OpenAI(model=\"gpt-3.5-turbo\", temperature=0.1),\n",
    "    embed_model=\"local:BAAI/bge-small-en-v1.5\",\n",
    "    save_dir=\"merging_index_0\",\n",
    "    chunk_sizes=[1024,512],\n",
    ")"
   ]
  },
  {
   "cell_type": "code",
   "execution_count": 45,
   "metadata": {},
   "outputs": [],
   "source": [
    "auto_merging_engine_0 = get_automerging_query_engine(\n",
    "    auto_merging_index_0,\n",
    "    similarity_top_k=12,\n",
    "    rerank_top_n=6,\n",
    ")"
   ]
  },
  {
   "cell_type": "code",
   "execution_count": 46,
   "metadata": {},
   "outputs": [],
   "source": [
    "from utils import get_prebuilt_trulens_recorder\n",
    "\n",
    "tru_recorder = get_prebuilt_trulens_recorder(\n",
    "    auto_merging_engine_0,\n",
    "    app_id='app_0'\n",
    ")"
   ]
  },
  {
   "cell_type": "code",
   "execution_count": 47,
   "metadata": {},
   "outputs": [],
   "source": [
    "eval_questions = []\n",
    "with open('eval_questions.txt', 'r') as file:\n",
    "    for line in file:\n",
    "        # Remove newline character and convert to integer\n",
    "        item = line.strip()\n",
    "        eval_questions.append(item)"
   ]
  },
  {
   "cell_type": "code",
   "execution_count": 48,
   "metadata": {},
   "outputs": [],
   "source": [
    "def run_evals(eval_questions,tru_recorder,query_engine):\n",
    "    for question in eval_questions:\n",
    "        with tru_recorder as recording:\n",
    "            response = query_engine.query(question)"
   ]
  },
  {
   "cell_type": "code",
   "execution_count": 50,
   "metadata": {},
   "outputs": [
    {
     "name": "stdout",
     "output_type": "stream",
     "text": [
      "> Merging 1 nodes into parent node.\n",
      "> Parent node id: deacff93-daa6-4c73-a116-a62d1594b736.\n",
      "> Parent node text: PAGE 3Table of \n",
      "ContentsIntroduction: Coding AI is the New Literacy.\n",
      "Chapter 1: Three Steps to Ca...\n",
      "\n",
      "> Merging 1 nodes into parent node.\n",
      "> Parent node id: bbb327c7-712a-4d3a-9131-a5e732a02f88.\n",
      "> Parent node text: PAGE 6The rapid rise of AI has led to a rapid rise in AI jobs, and many people are building excit...\n",
      "\n",
      "> Merging 1 nodes into parent node.\n",
      "> Parent node id: 1a969296-bb63-4f30-ac76-fab64b2d7668.\n",
      "> Parent node text: PAGE 36Keys to Building a Career in AI CHAPTER 10\n",
      "Of all the steps in building a career, this \n",
      "on...\n",
      "\n",
      "> Merging 1 nodes into parent node.\n",
      "> Parent node id: 9d877ad2-cf77-4da2-8ce1-6512fdba588d.\n",
      "> Parent node text: PAGE 35Keys to Building a Career in AI CHAPTER 10\n",
      "The path to career success in AI is more comple...\n",
      "\n",
      "> Merging 1 nodes into parent node.\n",
      "> Parent node id: 02f31bb8-48d9-4968-ad7f-f463b0784fd1.\n",
      "> Parent node text: PAGE 15One of the most important skills of an AI architect is the ability to identify ideas that ...\n",
      "\n",
      "> Merging 1 nodes into parent node.\n",
      "> Parent node id: a35ad641-d9e8-4af4-9b49-ae5cfab9f918.\n",
      "> Parent node text: PAGE 18It goes without saying that we should only work on projects that are responsible, ethical,...\n",
      "\n",
      "> Merging 1 nodes into parent node.\n",
      "> Parent node id: a8df7d8c-9e61-4b1b-8ac6-a2b6de545cc9.\n",
      "> Parent node text: PAGE 23Each project is only one step on a longer journey, hopefully one that has a positive impac...\n",
      "\n",
      "> Merging 1 nodes into parent node.\n",
      "> Parent node id: b3f1f136-3d6c-4f9a-bbb9-1fd5e5baffc8.\n",
      "> Parent node text: PAGE 7These phases apply in a wide \n",
      "range of professions, but AI \n",
      "involves unique elements.\n",
      "For e...\n",
      "\n",
      "> Merging 1 nodes into parent node.\n",
      "> Parent node id: 5aea48b9-a5ff-41fc-9459-c6a7d4c3cfa5.\n",
      "> Parent node text: PAGE 13Should you Learn Math to Get a Job in AI? CHAPTER 3\n",
      "Is math a foundational skill for AI? I...\n",
      "\n",
      "> Merging 1 nodes into parent node.\n",
      "> Parent node id: 8cbcdfdb-199e-42df-8fea-7266193918ee.\n",
      "> Parent node text: PAGE 10This is a lot to learn!\n",
      "Even after you master everything on this list, I hope you’ll keep ...\n",
      "\n",
      "> Merging 1 nodes into parent node.\n",
      "> Parent node id: 79f9fd6c-30b0-47df-91d5-55199e17ec40.\n",
      "> Parent node text: PAGE 22Over the course of a career, you’re likely to work on projects in succession, each growing...\n",
      "\n"
     ]
    },
    {
     "name": "stderr",
     "output_type": "stream",
     "text": [
      "[nltk_data] Downloading package punkt to\n",
      "[nltk_data]     C:\\Users\\swati\\AppData\\Roaming\\nltk_data...\n",
      "[nltk_data]   Package punkt is already up-to-date!\n"
     ]
    },
    {
     "data": {
      "application/vnd.jupyter.widget-view+json": {
       "model_id": "d311034ce63e4eaaa2444cd25ed9a320",
       "version_major": 2,
       "version_minor": 0
      },
      "text/plain": [
       "Groundedness per statement in source:   0%|          | 0/1 [00:00<?, ?it/s]"
      ]
     },
     "metadata": {},
     "output_type": "display_data"
    },
    {
     "name": "stdout",
     "output_type": "stream",
     "text": [
      "> Merging 1 nodes into parent node.\n",
      "> Parent node id: 9d877ad2-cf77-4da2-8ce1-6512fdba588d.\n",
      "> Parent node text: PAGE 35Keys to Building a Career in AI CHAPTER 10\n",
      "The path to career success in AI is more comple...\n",
      "\n",
      "> Merging 1 nodes into parent node.\n",
      "> Parent node id: 28b489f3-4497-4d32-a00a-ee5c135b240a.\n",
      "> Parent node text: PAGE 16Determine milestones. Once you’ve deemed a project sufficiently \n",
      "valuable, the next step i...\n",
      "\n",
      "> Merging 1 nodes into parent node.\n",
      "> Parent node id: 3981748e-f0d0-48b0-9bd5-73d4f93f57f8.\n",
      "> Parent node text: PAGE 33Choose who to work with. It’s tempting to take a position because of the projects you’ll w...\n",
      "\n",
      "> Merging 1 nodes into parent node.\n",
      "> Parent node id: 79f9fd6c-30b0-47df-91d5-55199e17ec40.\n",
      "> Parent node text: PAGE 22Over the course of a career, you’re likely to work on projects in succession, each growing...\n",
      "\n",
      "> Merging 1 nodes into parent node.\n",
      "> Parent node id: 915940ef-b0fc-404d-89b1-48ba3b5ba250.\n",
      "> Parent node text: PAGE 38Before we dive into the final chapter of this book, I’d like to address the serious matter...\n",
      "\n",
      "> Merging 1 nodes into parent node.\n",
      "> Parent node id: a8df7d8c-9e61-4b1b-8ac6-a2b6de545cc9.\n",
      "> Parent node text: PAGE 23Each project is only one step on a longer journey, hopefully one that has a positive impac...\n",
      "\n",
      "> Merging 1 nodes into parent node.\n",
      "> Parent node id: 02f31bb8-48d9-4968-ad7f-f463b0784fd1.\n",
      "> Parent node text: PAGE 15One of the most important skills of an AI architect is the ability to identify ideas that ...\n",
      "\n",
      "> Merging 1 nodes into parent node.\n",
      "> Parent node id: a35ad641-d9e8-4af4-9b49-ae5cfab9f918.\n",
      "> Parent node text: PAGE 18It goes without saying that we should only work on projects that are responsible, ethical,...\n",
      "\n",
      "> Merging 1 nodes into parent node.\n",
      "> Parent node id: 2ae1a782-7343-478d-9779-9f1a64e995d2.\n",
      "> Parent node text: PAGE 39My three-year-old daughter (who can barely count to 12) regularly tries to teach things to...\n",
      "\n",
      "> Merging 1 nodes into parent node.\n",
      "> Parent node id: deacff93-daa6-4c73-a116-a62d1594b736.\n",
      "> Parent node text: PAGE 3Table of \n",
      "ContentsIntroduction: Coding AI is the New Literacy.\n",
      "Chapter 1: Three Steps to Ca...\n",
      "\n",
      "> Merging 1 nodes into parent node.\n",
      "> Parent node id: b3f1f136-3d6c-4f9a-bbb9-1fd5e5baffc8.\n",
      "> Parent node text: PAGE 7These phases apply in a wide \n",
      "range of professions, but AI \n",
      "involves unique elements.\n",
      "For e...\n",
      "\n",
      "> Merging 1 nodes into parent node.\n",
      "> Parent node id: 90256311-066e-4a9f-b848-a051dc413a1c.\n",
      "> Parent node text: PAGE 4Coding AI Is the New Literacy\n",
      "Today we take it for granted that many people know how to rea...\n",
      "\n"
     ]
    },
    {
     "name": "stderr",
     "output_type": "stream",
     "text": [
      "[nltk_data] Downloading package punkt to\n",
      "[nltk_data]     C:\\Users\\swati\\AppData\\Roaming\\nltk_data...\n",
      "[nltk_data]   Package punkt is already up-to-date!\n"
     ]
    },
    {
     "data": {
      "application/vnd.jupyter.widget-view+json": {
       "model_id": "de9a0b5a7dd847d58b2ea53c3b48db0f",
       "version_major": 2,
       "version_minor": 0
      },
      "text/plain": [
       "Groundedness per statement in source:   0%|          | 0/4 [00:00<?, ?it/s]"
      ]
     },
     "metadata": {},
     "output_type": "display_data"
    },
    {
     "name": "stdout",
     "output_type": "stream",
     "text": [
      "> Merging 1 nodes into parent node.\n",
      "> Parent node id: 9d877ad2-cf77-4da2-8ce1-6512fdba588d.\n",
      "> Parent node text: PAGE 35Keys to Building a Career in AI CHAPTER 10\n",
      "The path to career success in AI is more comple...\n",
      "\n",
      "> Merging 1 nodes into parent node.\n",
      "> Parent node id: 5aea48b9-a5ff-41fc-9459-c6a7d4c3cfa5.\n",
      "> Parent node text: PAGE 13Should you Learn Math to Get a Job in AI? CHAPTER 3\n",
      "Is math a foundational skill for AI? I...\n",
      "\n",
      "> Merging 1 nodes into parent node.\n",
      "> Parent node id: 90256311-066e-4a9f-b848-a051dc413a1c.\n",
      "> Parent node text: PAGE 4Coding AI Is the New Literacy\n",
      "Today we take it for granted that many people know how to rea...\n",
      "\n",
      "> Merging 1 nodes into parent node.\n",
      "> Parent node id: a8df7d8c-9e61-4b1b-8ac6-a2b6de545cc9.\n",
      "> Parent node text: PAGE 23Each project is only one step on a longer journey, hopefully one that has a positive impac...\n",
      "\n",
      "> Merging 1 nodes into parent node.\n",
      "> Parent node id: 3d357350-40e7-4f32-8cd4-1207ccf6b2b0.\n",
      "> Parent node text: PAGE 26If you’re considering a role switch, a startup can be an easier place to do it than a big ...\n",
      "\n",
      "> Merging 1 nodes into parent node.\n",
      "> Parent node id: a35ad641-d9e8-4af4-9b49-ae5cfab9f918.\n",
      "> Parent node text: PAGE 18It goes without saying that we should only work on projects that are responsible, ethical,...\n",
      "\n",
      "> Merging 1 nodes into parent node.\n",
      "> Parent node id: 3981748e-f0d0-48b0-9bd5-73d4f93f57f8.\n",
      "> Parent node text: PAGE 33Choose who to work with. It’s tempting to take a position because of the projects you’ll w...\n",
      "\n",
      "> Merging 1 nodes into parent node.\n",
      "> Parent node id: 02f31bb8-48d9-4968-ad7f-f463b0784fd1.\n",
      "> Parent node text: PAGE 15One of the most important skills of an AI architect is the ability to identify ideas that ...\n",
      "\n",
      "> Merging 1 nodes into parent node.\n",
      "> Parent node id: 79f9fd6c-30b0-47df-91d5-55199e17ec40.\n",
      "> Parent node text: PAGE 22Over the course of a career, you’re likely to work on projects in succession, each growing...\n",
      "\n",
      "> Merging 1 nodes into parent node.\n",
      "> Parent node id: 8cbcdfdb-199e-42df-8fea-7266193918ee.\n",
      "> Parent node text: PAGE 10This is a lot to learn!\n",
      "Even after you master everything on this list, I hope you’ll keep ...\n",
      "\n",
      "> Merging 1 nodes into parent node.\n",
      "> Parent node id: b40f553d-28c5-4b90-81b6-1dc971fa7a95.\n",
      "> Parent node text: PAGE 30Finding someone to interview isn’t always easy, but many people who are in senior position...\n",
      "\n"
     ]
    },
    {
     "name": "stderr",
     "output_type": "stream",
     "text": [
      "[nltk_data] Downloading package punkt to\n",
      "[nltk_data]     C:\\Users\\swati\\AppData\\Roaming\\nltk_data...\n",
      "[nltk_data]   Package punkt is already up-to-date!\n"
     ]
    },
    {
     "data": {
      "application/vnd.jupyter.widget-view+json": {
       "model_id": "665ff5e295a342f1996cc95a2cf4b8b9",
       "version_major": 2,
       "version_minor": 0
      },
      "text/plain": [
       "Groundedness per statement in source:   0%|          | 0/3 [00:00<?, ?it/s]"
      ]
     },
     "metadata": {},
     "output_type": "display_data"
    },
    {
     "name": "stdout",
     "output_type": "stream",
     "text": [
      "> Merging 1 nodes into parent node.\n",
      "> Parent node id: 1a969296-bb63-4f30-ac76-fab64b2d7668.\n",
      "> Parent node text: PAGE 36Keys to Building a Career in AI CHAPTER 10\n",
      "Of all the steps in building a career, this \n",
      "on...\n",
      "\n",
      "> Merging 1 nodes into parent node.\n",
      "> Parent node id: a4acad49-9acd-423f-b3af-e8c3a954fa9e.\n",
      "> Parent node text: PAGE 11\n",
      "The Best Way to Build \n",
      "a New Habit\n",
      "One of my favorite books is BJ Fogg’s, Tiny Habits: Th...\n",
      "\n",
      "> Merging 2 nodes into parent node.\n",
      "> Parent node id: 165ec297-01e9-470d-92f2-1e7d00d3eee9.\n",
      "> Parent node text: PAGE 32In this chapter, I’d like to \n",
      "discuss some fine points \n",
      "of finding a job.\n",
      "The typical job ...\n",
      "\n",
      "> Merging 1 nodes into parent node.\n",
      "> Parent node id: 9d877ad2-cf77-4da2-8ce1-6512fdba588d.\n",
      "> Parent node text: PAGE 35Keys to Building a Career in AI CHAPTER 10\n",
      "The path to career success in AI is more comple...\n",
      "\n",
      "> Merging 1 nodes into parent node.\n",
      "> Parent node id: 79f9fd6c-30b0-47df-91d5-55199e17ec40.\n",
      "> Parent node text: PAGE 22Over the course of a career, you’re likely to work on projects in succession, each growing...\n",
      "\n",
      "> Merging 1 nodes into parent node.\n",
      "> Parent node id: deacff93-daa6-4c73-a116-a62d1594b736.\n",
      "> Parent node text: PAGE 3Table of \n",
      "ContentsIntroduction: Coding AI is the New Literacy.\n",
      "Chapter 1: Three Steps to Ca...\n",
      "\n",
      "> Merging 1 nodes into parent node.\n",
      "> Parent node id: 8e29648b-4771-4ea7-81e6-b211191dada1.\n",
      "> Parent node text: PAGE 19Develop a side hustle. Even if you have a full-time job, a fun project that may or may not...\n",
      "\n",
      "> Merging 1 nodes into parent node.\n",
      "> Parent node id: 3981748e-f0d0-48b0-9bd5-73d4f93f57f8.\n",
      "> Parent node text: PAGE 33Choose who to work with. It’s tempting to take a position because of the projects you’ll w...\n",
      "\n",
      "> Merging 1 nodes into parent node.\n",
      "> Parent node id: bbb327c7-712a-4d3a-9131-a5e732a02f88.\n",
      "> Parent node text: PAGE 6The rapid rise of AI has led to a rapid rise in AI jobs, and many people are building excit...\n",
      "\n",
      "> Merging 1 nodes into parent node.\n",
      "> Parent node id: a35ad641-d9e8-4af4-9b49-ae5cfab9f918.\n",
      "> Parent node text: PAGE 18It goes without saying that we should only work on projects that are responsible, ethical,...\n",
      "\n",
      "> Merging 1 nodes into parent node.\n",
      "> Parent node id: 2ae1a782-7343-478d-9779-9f1a64e995d2.\n",
      "> Parent node text: PAGE 39My three-year-old daughter (who can barely count to 12) regularly tries to teach things to...\n",
      "\n"
     ]
    },
    {
     "name": "stderr",
     "output_type": "stream",
     "text": [
      "[nltk_data] Downloading package punkt to\n",
      "[nltk_data]     C:\\Users\\swati\\AppData\\Roaming\\nltk_data...\n",
      "[nltk_data]   Package punkt is already up-to-date!\n"
     ]
    },
    {
     "data": {
      "application/vnd.jupyter.widget-view+json": {
       "model_id": "f0a66996eccb4c6499c3bb07ad4d0de8",
       "version_major": 2,
       "version_minor": 0
      },
      "text/plain": [
       "Groundedness per statement in source:   0%|          | 0/2 [00:00<?, ?it/s]"
      ]
     },
     "metadata": {},
     "output_type": "display_data"
    },
    {
     "name": "stdout",
     "output_type": "stream",
     "text": [
      "> Merging 1 nodes into parent node.\n",
      "> Parent node id: 1a969296-bb63-4f30-ac76-fab64b2d7668.\n",
      "> Parent node text: PAGE 36Keys to Building a Career in AI CHAPTER 10\n",
      "Of all the steps in building a career, this \n",
      "on...\n",
      "\n",
      "> Merging 1 nodes into parent node.\n",
      "> Parent node id: 2ae1a782-7343-478d-9779-9f1a64e995d2.\n",
      "> Parent node text: PAGE 39My three-year-old daughter (who can barely count to 12) regularly tries to teach things to...\n",
      "\n",
      "> Merging 1 nodes into parent node.\n",
      "> Parent node id: 3981748e-f0d0-48b0-9bd5-73d4f93f57f8.\n",
      "> Parent node text: PAGE 33Choose who to work with. It’s tempting to take a position because of the projects you’ll w...\n",
      "\n",
      "> Merging 1 nodes into parent node.\n",
      "> Parent node id: 79f9fd6c-30b0-47df-91d5-55199e17ec40.\n",
      "> Parent node text: PAGE 22Over the course of a career, you’re likely to work on projects in succession, each growing...\n",
      "\n",
      "> Merging 1 nodes into parent node.\n",
      "> Parent node id: b40f553d-28c5-4b90-81b6-1dc971fa7a95.\n",
      "> Parent node text: PAGE 30Finding someone to interview isn’t always easy, but many people who are in senior position...\n",
      "\n",
      "> Merging 1 nodes into parent node.\n",
      "> Parent node id: 8e29648b-4771-4ea7-81e6-b211191dada1.\n",
      "> Parent node text: PAGE 19Develop a side hustle. Even if you have a full-time job, a fun project that may or may not...\n",
      "\n",
      "> Merging 1 nodes into parent node.\n",
      "> Parent node id: 9d877ad2-cf77-4da2-8ce1-6512fdba588d.\n",
      "> Parent node text: PAGE 35Keys to Building a Career in AI CHAPTER 10\n",
      "The path to career success in AI is more comple...\n",
      "\n",
      "> Merging 1 nodes into parent node.\n",
      "> Parent node id: 3d357350-40e7-4f32-8cd4-1207ccf6b2b0.\n",
      "> Parent node text: PAGE 26If you’re considering a role switch, a startup can be an easier place to do it than a big ...\n",
      "\n",
      "> Merging 1 nodes into parent node.\n",
      "> Parent node id: a8df7d8c-9e61-4b1b-8ac6-a2b6de545cc9.\n",
      "> Parent node text: PAGE 23Each project is only one step on a longer journey, hopefully one that has a positive impac...\n",
      "\n",
      "> Merging 1 nodes into parent node.\n",
      "> Parent node id: a35ad641-d9e8-4af4-9b49-ae5cfab9f918.\n",
      "> Parent node text: PAGE 18It goes without saying that we should only work on projects that are responsible, ethical,...\n",
      "\n",
      "> Merging 1 nodes into parent node.\n",
      "> Parent node id: bbb327c7-712a-4d3a-9131-a5e732a02f88.\n",
      "> Parent node text: PAGE 6The rapid rise of AI has led to a rapid rise in AI jobs, and many people are building excit...\n",
      "\n"
     ]
    },
    {
     "name": "stderr",
     "output_type": "stream",
     "text": [
      "[nltk_data] Downloading package punkt to\n",
      "[nltk_data]     C:\\Users\\swati\\AppData\\Roaming\\nltk_data...\n",
      "[nltk_data]   Package punkt is already up-to-date!\n"
     ]
    },
    {
     "data": {
      "application/vnd.jupyter.widget-view+json": {
       "model_id": "90dbe80846f942b28b61573734dfb19e",
       "version_major": 2,
       "version_minor": 0
      },
      "text/plain": [
       "Groundedness per statement in source:   0%|          | 0/4 [00:00<?, ?it/s]"
      ]
     },
     "metadata": {},
     "output_type": "display_data"
    },
    {
     "name": "stdout",
     "output_type": "stream",
     "text": [
      "> Merging 1 nodes into parent node.\n",
      "> Parent node id: 915940ef-b0fc-404d-89b1-48ba3b5ba250.\n",
      "> Parent node text: PAGE 38Before we dive into the final chapter of this book, I’d like to address the serious matter...\n",
      "\n",
      "> Merging 1 nodes into parent node.\n",
      "> Parent node id: 96381d4f-e9b9-4fb2-b3f7-b6d409928ab9.\n",
      "> Parent node text: PAGE 37Overcoming Imposter \n",
      "SyndromeCHAPTER 11\n",
      "\n",
      "> Merging 1 nodes into parent node.\n",
      "> Parent node id: deacff93-daa6-4c73-a116-a62d1594b736.\n",
      "> Parent node text: PAGE 3Table of \n",
      "ContentsIntroduction: Coding AI is the New Literacy.\n",
      "Chapter 1: Three Steps to Ca...\n",
      "\n",
      "> Merging 1 nodes into parent node.\n",
      "> Parent node id: 2ae1a782-7343-478d-9779-9f1a64e995d2.\n",
      "> Parent node text: PAGE 39My three-year-old daughter (who can barely count to 12) regularly tries to teach things to...\n",
      "\n",
      "> Merging 1 nodes into parent node.\n",
      "> Parent node id: 5aea48b9-a5ff-41fc-9459-c6a7d4c3cfa5.\n",
      "> Parent node text: PAGE 13Should you Learn Math to Get a Job in AI? CHAPTER 3\n",
      "Is math a foundational skill for AI? I...\n",
      "\n",
      "> Merging 1 nodes into parent node.\n",
      "> Parent node id: b3f1f136-3d6c-4f9a-bbb9-1fd5e5baffc8.\n",
      "> Parent node text: PAGE 7These phases apply in a wide \n",
      "range of professions, but AI \n",
      "involves unique elements.\n",
      "For e...\n",
      "\n",
      "> Merging 1 nodes into parent node.\n",
      "> Parent node id: 9d877ad2-cf77-4da2-8ce1-6512fdba588d.\n",
      "> Parent node text: PAGE 35Keys to Building a Career in AI CHAPTER 10\n",
      "The path to career success in AI is more comple...\n",
      "\n",
      "> Merging 1 nodes into parent node.\n",
      "> Parent node id: 90256311-066e-4a9f-b848-a051dc413a1c.\n",
      "> Parent node text: PAGE 4Coding AI Is the New Literacy\n",
      "Today we take it for granted that many people know how to rea...\n",
      "\n",
      "> Merging 1 nodes into parent node.\n",
      "> Parent node id: 3981748e-f0d0-48b0-9bd5-73d4f93f57f8.\n",
      "> Parent node text: PAGE 33Choose who to work with. It’s tempting to take a position because of the projects you’ll w...\n",
      "\n",
      "> Merging 1 nodes into parent node.\n",
      "> Parent node id: 946c6d5d-50be-40ba-8e0c-39df1c47da21.\n",
      "> Parent node text: PAGE 8Learning Technical \n",
      "Skills for a Promising \n",
      "AI CareerCHAPTER 2\n",
      "LEARNING\n",
      "\n",
      "> Merging 1 nodes into parent node.\n",
      "> Parent node id: 2459d269-c418-4a6d-b401-a990cb57a8f6.\n",
      "> Parent node text: PAGE 2\"AI is the new \n",
      "electricity. It will \n",
      "transform and improve \n",
      "all areas of human life.\"\n",
      "Andr...\n",
      "\n",
      "> Merging 1 nodes into parent node.\n",
      "> Parent node id: 1a969296-bb63-4f30-ac76-fab64b2d7668.\n",
      "> Parent node text: PAGE 36Keys to Building a Career in AI CHAPTER 10\n",
      "Of all the steps in building a career, this \n",
      "on...\n",
      "\n"
     ]
    },
    {
     "name": "stderr",
     "output_type": "stream",
     "text": [
      "[nltk_data] Downloading package punkt to\n",
      "[nltk_data]     C:\\Users\\swati\\AppData\\Roaming\\nltk_data...\n",
      "[nltk_data]   Package punkt is already up-to-date!\n"
     ]
    },
    {
     "data": {
      "application/vnd.jupyter.widget-view+json": {
       "model_id": "58d140173e6749cb9747f7392662f814",
       "version_major": 2,
       "version_minor": 0
      },
      "text/plain": [
       "Groundedness per statement in source:   0%|          | 0/4 [00:00<?, ?it/s]"
      ]
     },
     "metadata": {},
     "output_type": "display_data"
    },
    {
     "name": "stdout",
     "output_type": "stream",
     "text": [
      "> Merging 1 nodes into parent node.\n",
      "> Parent node id: 915940ef-b0fc-404d-89b1-48ba3b5ba250.\n",
      "> Parent node text: PAGE 38Before we dive into the final chapter of this book, I’d like to address the serious matter...\n",
      "\n",
      "> Merging 1 nodes into parent node.\n",
      "> Parent node id: 96381d4f-e9b9-4fb2-b3f7-b6d409928ab9.\n",
      "> Parent node text: PAGE 37Overcoming Imposter \n",
      "SyndromeCHAPTER 11\n",
      "\n",
      "> Merging 1 nodes into parent node.\n",
      "> Parent node id: 2ae1a782-7343-478d-9779-9f1a64e995d2.\n",
      "> Parent node text: PAGE 39My three-year-old daughter (who can barely count to 12) regularly tries to teach things to...\n",
      "\n",
      "> Merging 1 nodes into parent node.\n",
      "> Parent node id: deacff93-daa6-4c73-a116-a62d1594b736.\n",
      "> Parent node text: PAGE 3Table of \n",
      "ContentsIntroduction: Coding AI is the New Literacy.\n",
      "Chapter 1: Three Steps to Ca...\n",
      "\n",
      "> Merging 1 nodes into parent node.\n",
      "> Parent node id: b40f553d-28c5-4b90-81b6-1dc971fa7a95.\n",
      "> Parent node text: PAGE 30Finding someone to interview isn’t always easy, but many people who are in senior position...\n",
      "\n",
      "> Merging 1 nodes into parent node.\n",
      "> Parent node id: a2bf2a6c-8079-4aef-adc0-7d479f2b0903.\n",
      "> Parent node text: PAGE 27There’s a lot we don’t know about the future: When will we cure Alzheimer’s disease? Who w...\n",
      "\n",
      "> Merging 1 nodes into parent node.\n",
      "> Parent node id: 3981748e-f0d0-48b0-9bd5-73d4f93f57f8.\n",
      "> Parent node text: PAGE 33Choose who to work with. It’s tempting to take a position because of the projects you’ll w...\n",
      "\n",
      "> Merging 1 nodes into parent node.\n",
      "> Parent node id: 1a969296-bb63-4f30-ac76-fab64b2d7668.\n",
      "> Parent node text: PAGE 36Keys to Building a Career in AI CHAPTER 10\n",
      "Of all the steps in building a career, this \n",
      "on...\n",
      "\n",
      "> Merging 1 nodes into parent node.\n",
      "> Parent node id: 8e29648b-4771-4ea7-81e6-b211191dada1.\n",
      "> Parent node text: PAGE 19Develop a side hustle. Even if you have a full-time job, a fun project that may or may not...\n",
      "\n",
      "> Merging 1 nodes into parent node.\n",
      "> Parent node id: 9d877ad2-cf77-4da2-8ce1-6512fdba588d.\n",
      "> Parent node text: PAGE 35Keys to Building a Career in AI CHAPTER 10\n",
      "The path to career success in AI is more comple...\n",
      "\n",
      "> Merging 1 nodes into parent node.\n",
      "> Parent node id: bbb327c7-712a-4d3a-9131-a5e732a02f88.\n",
      "> Parent node text: PAGE 6The rapid rise of AI has led to a rapid rise in AI jobs, and many people are building excit...\n",
      "\n",
      "> Merging 1 nodes into parent node.\n",
      "> Parent node id: 5aea48b9-a5ff-41fc-9459-c6a7d4c3cfa5.\n",
      "> Parent node text: PAGE 13Should you Learn Math to Get a Job in AI? CHAPTER 3\n",
      "Is math a foundational skill for AI? I...\n",
      "\n"
     ]
    },
    {
     "name": "stderr",
     "output_type": "stream",
     "text": [
      "[nltk_data] Downloading package punkt to\n",
      "[nltk_data]     C:\\Users\\swati\\AppData\\Roaming\\nltk_data...\n",
      "[nltk_data]   Package punkt is already up-to-date!\n"
     ]
    },
    {
     "data": {
      "application/vnd.jupyter.widget-view+json": {
       "model_id": "3ed0f63d80a64c8d9d1cfafc60e3af89",
       "version_major": 2,
       "version_minor": 0
      },
      "text/plain": [
       "Groundedness per statement in source:   0%|          | 0/1 [00:00<?, ?it/s]"
      ]
     },
     "metadata": {},
     "output_type": "display_data"
    },
    {
     "name": "stdout",
     "output_type": "stream",
     "text": [
      "> Merging 1 nodes into parent node.\n",
      "> Parent node id: deacff93-daa6-4c73-a116-a62d1594b736.\n",
      "> Parent node text: PAGE 3Table of \n",
      "ContentsIntroduction: Coding AI is the New Literacy.\n",
      "Chapter 1: Three Steps to Ca...\n",
      "\n",
      "> Merging 1 nodes into parent node.\n",
      "> Parent node id: a35ad641-d9e8-4af4-9b49-ae5cfab9f918.\n",
      "> Parent node text: PAGE 18It goes without saying that we should only work on projects that are responsible, ethical,...\n",
      "\n",
      "> Merging 1 nodes into parent node.\n",
      "> Parent node id: 5aea48b9-a5ff-41fc-9459-c6a7d4c3cfa5.\n",
      "> Parent node text: PAGE 13Should you Learn Math to Get a Job in AI? CHAPTER 3\n",
      "Is math a foundational skill for AI? I...\n",
      "\n",
      "> Merging 1 nodes into parent node.\n",
      "> Parent node id: bbb327c7-712a-4d3a-9131-a5e732a02f88.\n",
      "> Parent node text: PAGE 6The rapid rise of AI has led to a rapid rise in AI jobs, and many people are building excit...\n",
      "\n",
      "> Merging 1 nodes into parent node.\n",
      "> Parent node id: 02f31bb8-48d9-4968-ad7f-f463b0784fd1.\n",
      "> Parent node text: PAGE 15One of the most important skills of an AI architect is the ability to identify ideas that ...\n",
      "\n",
      "> Merging 1 nodes into parent node.\n",
      "> Parent node id: a8df7d8c-9e61-4b1b-8ac6-a2b6de545cc9.\n",
      "> Parent node text: PAGE 23Each project is only one step on a longer journey, hopefully one that has a positive impac...\n",
      "\n",
      "> Merging 1 nodes into parent node.\n",
      "> Parent node id: 2ae1a782-7343-478d-9779-9f1a64e995d2.\n",
      "> Parent node text: PAGE 39My three-year-old daughter (who can barely count to 12) regularly tries to teach things to...\n",
      "\n",
      "> Merging 1 nodes into parent node.\n",
      "> Parent node id: 8cbcdfdb-199e-42df-8fea-7266193918ee.\n",
      "> Parent node text: PAGE 10This is a lot to learn!\n",
      "Even after you master everything on this list, I hope you’ll keep ...\n",
      "\n",
      "> Merging 1 nodes into parent node.\n",
      "> Parent node id: 28b489f3-4497-4d32-a00a-ee5c135b240a.\n",
      "> Parent node text: PAGE 16Determine milestones. Once you’ve deemed a project sufficiently \n",
      "valuable, the next step i...\n",
      "\n",
      "> Merging 1 nodes into parent node.\n",
      "> Parent node id: 9d877ad2-cf77-4da2-8ce1-6512fdba588d.\n",
      "> Parent node text: PAGE 35Keys to Building a Career in AI CHAPTER 10\n",
      "The path to career success in AI is more comple...\n",
      "\n",
      "> Merging 1 nodes into parent node.\n",
      "> Parent node id: 946c6d5d-50be-40ba-8e0c-39df1c47da21.\n",
      "> Parent node text: PAGE 8Learning Technical \n",
      "Skills for a Promising \n",
      "AI CareerCHAPTER 2\n",
      "LEARNING\n",
      "\n"
     ]
    },
    {
     "name": "stderr",
     "output_type": "stream",
     "text": [
      "[nltk_data] Downloading package punkt to\n",
      "[nltk_data]     C:\\Users\\swati\\AppData\\Roaming\\nltk_data...\n",
      "[nltk_data]   Package punkt is already up-to-date!\n"
     ]
    },
    {
     "data": {
      "application/vnd.jupyter.widget-view+json": {
       "model_id": "d7a4ac3ba053475791c1270a238b3bb2",
       "version_major": 2,
       "version_minor": 0
      },
      "text/plain": [
       "Groundedness per statement in source:   0%|          | 0/1 [00:00<?, ?it/s]"
      ]
     },
     "metadata": {},
     "output_type": "display_data"
    },
    {
     "name": "stdout",
     "output_type": "stream",
     "text": [
      "> Merging 1 nodes into parent node.\n",
      "> Parent node id: 02f31bb8-48d9-4968-ad7f-f463b0784fd1.\n",
      "> Parent node text: PAGE 15One of the most important skills of an AI architect is the ability to identify ideas that ...\n",
      "\n",
      "> Merging 1 nodes into parent node.\n",
      "> Parent node id: 28b489f3-4497-4d32-a00a-ee5c135b240a.\n",
      "> Parent node text: PAGE 16Determine milestones. Once you’ve deemed a project sufficiently \n",
      "valuable, the next step i...\n",
      "\n",
      "> Merging 1 nodes into parent node.\n",
      "> Parent node id: 915940ef-b0fc-404d-89b1-48ba3b5ba250.\n",
      "> Parent node text: PAGE 38Before we dive into the final chapter of this book, I’d like to address the serious matter...\n",
      "\n",
      "> Merging 1 nodes into parent node.\n",
      "> Parent node id: b3f1f136-3d6c-4f9a-bbb9-1fd5e5baffc8.\n",
      "> Parent node text: PAGE 7These phases apply in a wide \n",
      "range of professions, but AI \n",
      "involves unique elements.\n",
      "For e...\n",
      "\n",
      "> Merging 1 nodes into parent node.\n",
      "> Parent node id: a35ad641-d9e8-4af4-9b49-ae5cfab9f918.\n",
      "> Parent node text: PAGE 18It goes without saying that we should only work on projects that are responsible, ethical,...\n",
      "\n",
      "> Merging 1 nodes into parent node.\n",
      "> Parent node id: 5aea48b9-a5ff-41fc-9459-c6a7d4c3cfa5.\n",
      "> Parent node text: PAGE 13Should you Learn Math to Get a Job in AI? CHAPTER 3\n",
      "Is math a foundational skill for AI? I...\n",
      "\n",
      "> Merging 1 nodes into parent node.\n",
      "> Parent node id: deacff93-daa6-4c73-a116-a62d1594b736.\n",
      "> Parent node text: PAGE 3Table of \n",
      "ContentsIntroduction: Coding AI is the New Literacy.\n",
      "Chapter 1: Three Steps to Ca...\n",
      "\n",
      "> Merging 2 nodes into parent node.\n",
      "> Parent node id: 7ff4efae-7df2-4c27-8cf9-5c47be77d1ce.\n",
      "> Parent node text: PAGE 9In the previous chapter, I introduced three key steps for building a career in AI: learning...\n",
      "\n",
      "> Merging 1 nodes into parent node.\n",
      "> Parent node id: 8cbcdfdb-199e-42df-8fea-7266193918ee.\n",
      "> Parent node text: PAGE 10This is a lot to learn!\n",
      "Even after you master everything on this list, I hope you’ll keep ...\n",
      "\n",
      "> Merging 1 nodes into parent node.\n",
      "> Parent node id: 79f9fd6c-30b0-47df-91d5-55199e17ec40.\n",
      "> Parent node text: PAGE 22Over the course of a career, you’re likely to work on projects in succession, each growing...\n",
      "\n",
      "> Merging 1 nodes into parent node.\n",
      "> Parent node id: 90256311-066e-4a9f-b848-a051dc413a1c.\n",
      "> Parent node text: PAGE 4Coding AI Is the New Literacy\n",
      "Today we take it for granted that many people know how to rea...\n",
      "\n"
     ]
    },
    {
     "name": "stderr",
     "output_type": "stream",
     "text": [
      "[nltk_data] Downloading package punkt to\n",
      "[nltk_data]     C:\\Users\\swati\\AppData\\Roaming\\nltk_data...\n",
      "[nltk_data]   Package punkt is already up-to-date!\n"
     ]
    },
    {
     "data": {
      "application/vnd.jupyter.widget-view+json": {
       "model_id": "c1809db351614ee1b8348ffb4c394d87",
       "version_major": 2,
       "version_minor": 0
      },
      "text/plain": [
       "Groundedness per statement in source:   0%|          | 0/1 [00:00<?, ?it/s]"
      ]
     },
     "metadata": {},
     "output_type": "display_data"
    },
    {
     "name": "stdout",
     "output_type": "stream",
     "text": [
      "> Merging 1 nodes into parent node.\n",
      "> Parent node id: 915940ef-b0fc-404d-89b1-48ba3b5ba250.\n",
      "> Parent node text: PAGE 38Before we dive into the final chapter of this book, I’d like to address the serious matter...\n",
      "\n",
      "> Merging 1 nodes into parent node.\n",
      "> Parent node id: 5aea48b9-a5ff-41fc-9459-c6a7d4c3cfa5.\n",
      "> Parent node text: PAGE 13Should you Learn Math to Get a Job in AI? CHAPTER 3\n",
      "Is math a foundational skill for AI? I...\n",
      "\n",
      "> Merging 1 nodes into parent node.\n",
      "> Parent node id: b3f1f136-3d6c-4f9a-bbb9-1fd5e5baffc8.\n",
      "> Parent node text: PAGE 7These phases apply in a wide \n",
      "range of professions, but AI \n",
      "involves unique elements.\n",
      "For e...\n",
      "\n",
      "> Merging 1 nodes into parent node.\n",
      "> Parent node id: a35ad641-d9e8-4af4-9b49-ae5cfab9f918.\n",
      "> Parent node text: PAGE 18It goes without saying that we should only work on projects that are responsible, ethical,...\n",
      "\n",
      "> Merging 1 nodes into parent node.\n",
      "> Parent node id: 8cbcdfdb-199e-42df-8fea-7266193918ee.\n",
      "> Parent node text: PAGE 10This is a lot to learn!\n",
      "Even after you master everything on this list, I hope you’ll keep ...\n",
      "\n",
      "> Merging 1 nodes into parent node.\n",
      "> Parent node id: 28b489f3-4497-4d32-a00a-ee5c135b240a.\n",
      "> Parent node text: PAGE 16Determine milestones. Once you’ve deemed a project sufficiently \n",
      "valuable, the next step i...\n",
      "\n",
      "> Merging 1 nodes into parent node.\n",
      "> Parent node id: 02f31bb8-48d9-4968-ad7f-f463b0784fd1.\n",
      "> Parent node text: PAGE 15One of the most important skills of an AI architect is the ability to identify ideas that ...\n",
      "\n",
      "> Merging 1 nodes into parent node.\n",
      "> Parent node id: a8df7d8c-9e61-4b1b-8ac6-a2b6de545cc9.\n",
      "> Parent node text: PAGE 23Each project is only one step on a longer journey, hopefully one that has a positive impac...\n",
      "\n",
      "> Merging 1 nodes into parent node.\n",
      "> Parent node id: deacff93-daa6-4c73-a116-a62d1594b736.\n",
      "> Parent node text: PAGE 3Table of \n",
      "ContentsIntroduction: Coding AI is the New Literacy.\n",
      "Chapter 1: Three Steps to Ca...\n",
      "\n",
      "> Merging 1 nodes into parent node.\n",
      "> Parent node id: 79f9fd6c-30b0-47df-91d5-55199e17ec40.\n",
      "> Parent node text: PAGE 22Over the course of a career, you’re likely to work on projects in succession, each growing...\n",
      "\n"
     ]
    },
    {
     "name": "stderr",
     "output_type": "stream",
     "text": [
      "[nltk_data] Downloading package punkt to\n",
      "[nltk_data]     C:\\Users\\swati\\AppData\\Roaming\\nltk_data...\n",
      "[nltk_data]   Package punkt is already up-to-date!\n"
     ]
    },
    {
     "data": {
      "application/vnd.jupyter.widget-view+json": {
       "model_id": "24e6f7cdc40f4e76bf08d326d792f351",
       "version_major": 2,
       "version_minor": 0
      },
      "text/plain": [
       "Groundedness per statement in source:   0%|          | 0/1 [00:00<?, ?it/s]"
      ]
     },
     "metadata": {},
     "output_type": "display_data"
    }
   ],
   "source": [
    "run_evals(eval_questions, tru_recorder, auto_merging_engine_0)"
   ]
  },
  {
   "cell_type": "code",
   "execution_count": 51,
   "metadata": {},
   "outputs": [
    {
     "data": {
      "text/html": [
       "<div>\n",
       "<style scoped>\n",
       "    .dataframe tbody tr th:only-of-type {\n",
       "        vertical-align: middle;\n",
       "    }\n",
       "\n",
       "    .dataframe tbody tr th {\n",
       "        vertical-align: top;\n",
       "    }\n",
       "\n",
       "    .dataframe thead th {\n",
       "        text-align: right;\n",
       "    }\n",
       "</style>\n",
       "<table border=\"1\" class=\"dataframe\">\n",
       "  <thead>\n",
       "    <tr style=\"text-align: right;\">\n",
       "      <th></th>\n",
       "      <th>Groundedness</th>\n",
       "      <th>Context Relevance</th>\n",
       "      <th>Answer Relevance</th>\n",
       "      <th>latency</th>\n",
       "      <th>total_cost</th>\n",
       "    </tr>\n",
       "    <tr>\n",
       "      <th>app_id</th>\n",
       "      <th></th>\n",
       "      <th></th>\n",
       "      <th></th>\n",
       "      <th></th>\n",
       "      <th></th>\n",
       "    </tr>\n",
       "  </thead>\n",
       "  <tbody>\n",
       "    <tr>\n",
       "      <th>app_0</th>\n",
       "      <td>0.927083</td>\n",
       "      <td>0.381667</td>\n",
       "      <td>0.89</td>\n",
       "      <td>11.8</td>\n",
       "      <td>0.003578</td>\n",
       "    </tr>\n",
       "  </tbody>\n",
       "</table>\n",
       "</div>"
      ],
      "text/plain": [
       "        Groundedness  Context Relevance  Answer Relevance  latency  total_cost\n",
       "app_id                                                                        \n",
       "app_0       0.927083           0.381667              0.89     11.8    0.003578"
      ]
     },
     "execution_count": 51,
     "metadata": {},
     "output_type": "execute_result"
    }
   ],
   "source": [
    "Tru().get_leaderboard(app_ids=[])"
   ]
  },
  {
   "cell_type": "markdown",
   "metadata": {},
   "source": [
    "#### Three Layers"
   ]
  },
  {
   "cell_type": "code",
   "execution_count": 57,
   "metadata": {},
   "outputs": [],
   "source": [
    "auto_merging_index_1 = build_automerging_index(\n",
    "    documents,\n",
    "    llm=OpenAI(model=\"gpt-3.5-turbo\", temperature=0.1),\n",
    "    embed_model=\"local:BAAI/bge-small-en-v1.5\",\n",
    "    save_dir=\"merging_index_1\",\n",
    "    chunk_sizes=[2048,512,128],\n",
    ")"
   ]
  },
  {
   "cell_type": "code",
   "execution_count": 58,
   "metadata": {},
   "outputs": [],
   "source": [
    "auto_merging_engine_1 = get_automerging_query_engine(\n",
    "    auto_merging_index_1,\n",
    "    similarity_top_k=12,\n",
    "    rerank_top_n=6,\n",
    ")"
   ]
  },
  {
   "cell_type": "code",
   "execution_count": 59,
   "metadata": {},
   "outputs": [],
   "source": [
    "tru_recorder = get_prebuilt_trulens_recorder(\n",
    "    auto_merging_engine_1,\n",
    "    app_id ='app_1'\n",
    ")"
   ]
  },
  {
   "cell_type": "code",
   "execution_count": 60,
   "metadata": {},
   "outputs": [
    {
     "name": "stdout",
     "output_type": "stream",
     "text": [
      "> Merging 2 nodes into parent node.\n",
      "> Parent node id: 34090762-68bb-4404-906a-354e560f5645.\n",
      "> Parent node text: PAGE 3Table of \n",
      "ContentsIntroduction: Coding AI is the New Literacy.\n",
      "Chapter 1: Three Steps to Ca...\n",
      "\n",
      "> Merging 1 nodes into parent node.\n",
      "> Parent node id: 1194edeb-5d9c-4305-8b2a-85395370abd3.\n",
      "> Parent node text: PAGE 3Table of \n",
      "ContentsIntroduction: Coding AI is the New Literacy.\n",
      "Chapter 1: Three Steps to Ca...\n",
      "\n"
     ]
    },
    {
     "data": {
      "application/vnd.jupyter.widget-view+json": {
       "model_id": "16db17290b62449db987f8fbefda41d4",
       "version_major": 2,
       "version_minor": 0
      },
      "text/plain": [
       "Groundedness per statement in source:   0%|          | 0/2 [00:00<?, ?it/s]"
      ]
     },
     "metadata": {},
     "output_type": "display_data"
    },
    {
     "data": {
      "application/vnd.jupyter.widget-view+json": {
       "model_id": "f5b9b84483f4457aba1835fbfa2b6ac0",
       "version_major": 2,
       "version_minor": 0
      },
      "text/plain": [
       "Groundedness per statement in source:   0%|          | 0/3 [00:00<?, ?it/s]"
      ]
     },
     "metadata": {},
     "output_type": "display_data"
    },
    {
     "name": "stdout",
     "output_type": "stream",
     "text": [
      "> Merging 3 nodes into parent node.\n",
      "> Parent node id: b44bd146-80ef-4669-a8d8-64be4475c99f.\n",
      "> Parent node text: PAGE 35Keys to Building a Career in AI CHAPTER 10\n",
      "The path to career success in AI is more comple...\n",
      "\n",
      "> Merging 1 nodes into parent node.\n",
      "> Parent node id: f0f67e46-1533-40bf-b848-939cf5a74ddb.\n",
      "> Parent node text: PAGE 35Keys to Building a Career in AI CHAPTER 10\n",
      "The path to career success in AI is more comple...\n",
      "\n"
     ]
    },
    {
     "data": {
      "application/vnd.jupyter.widget-view+json": {
       "model_id": "3b6531fcbc6f4146a38365a34a6f9330",
       "version_major": 2,
       "version_minor": 0
      },
      "text/plain": [
       "Groundedness per statement in source:   0%|          | 0/4 [00:00<?, ?it/s]"
      ]
     },
     "metadata": {},
     "output_type": "display_data"
    },
    {
     "name": "stdout",
     "output_type": "stream",
     "text": [
      "> Merging 2 nodes into parent node.\n",
      "> Parent node id: cbebd817-09e9-49b2-84d8-798d21e34f8b.\n",
      "> Parent node text: PAGE 36Keys to Building a Career in AI CHAPTER 10\n",
      "Of all the steps in building a career, this \n",
      "on...\n",
      "\n",
      "> Merging 2 nodes into parent node.\n",
      "> Parent node id: c883ec49-002f-4e48-9870-d9a74c3fd446.\n",
      "> Parent node text: PAGE 11\n",
      "The Best Way to Build \n",
      "a New Habit\n",
      "One of my favorite books is BJ Fogg’s, Tiny Habits: Th...\n",
      "\n",
      "> Merging 1 nodes into parent node.\n",
      "> Parent node id: b3c1e2f5-3948-4a08-8807-242493f3997d.\n",
      "> Parent node text: PAGE 36Keys to Building a Career in AI CHAPTER 10\n",
      "Of all the steps in building a career, this \n",
      "on...\n",
      "\n",
      "> Merging 1 nodes into parent node.\n",
      "> Parent node id: 412c7a1b-4eed-4950-8d81-029e631b5c8e.\n",
      "> Parent node text: PAGE 11\n",
      "The Best Way to Build \n",
      "a New Habit\n",
      "One of my favorite books is BJ Fogg’s, Tiny Habits: Th...\n",
      "\n"
     ]
    },
    {
     "data": {
      "application/vnd.jupyter.widget-view+json": {
       "model_id": "0993c6b462254f98ae78c794a34c2eff",
       "version_major": 2,
       "version_minor": 0
      },
      "text/plain": [
       "Groundedness per statement in source:   0%|          | 0/2 [00:00<?, ?it/s]"
      ]
     },
     "metadata": {},
     "output_type": "display_data"
    },
    {
     "name": "stdout",
     "output_type": "stream",
     "text": [
      "> Merging 2 nodes into parent node.\n",
      "> Parent node id: 1aeef16a-8d51-4030-9a94-00f2a321607c.\n",
      "> Parent node text: PAGE 30Finding someone to interview isn’t always easy, but many people who are in senior position...\n",
      "\n",
      "> Merging 1 nodes into parent node.\n",
      "> Parent node id: 2f90a9b0-920d-43ea-ade6-902d7cc9ee7e.\n",
      "> Parent node text: PAGE 30Finding someone to interview isn’t always easy, but many people who are in senior position...\n",
      "\n"
     ]
    },
    {
     "data": {
      "application/vnd.jupyter.widget-view+json": {
       "model_id": "26468a7ec00942cc97d1c33ed13f2c4f",
       "version_major": 2,
       "version_minor": 0
      },
      "text/plain": [
       "Groundedness per statement in source:   0%|          | 0/2 [00:00<?, ?it/s]"
      ]
     },
     "metadata": {},
     "output_type": "display_data"
    },
    {
     "name": "stdout",
     "output_type": "stream",
     "text": [
      "> Merging 5 nodes into parent node.\n",
      "> Parent node id: cc59cd85-d66e-45c5-a163-055d9fdc83bd.\n",
      "> Parent node text: PAGE 38Before we dive into the final chapter of this book, I’d like to address the serious matter...\n",
      "\n",
      "> Merging 1 nodes into parent node.\n",
      "> Parent node id: 74d9e735-77e4-473a-a257-f394cc0c7814.\n",
      "> Parent node text: PAGE 37Overcoming Imposter \n",
      "SyndromeCHAPTER 11\n",
      "\n",
      "> Merging 3 nodes into parent node.\n",
      "> Parent node id: 898b19bf-1814-426c-8bf7-4034793722df.\n",
      "> Parent node text: PAGE 39My three-year-old daughter (who can barely count to 12) regularly tries to teach things to...\n",
      "\n",
      "> Merging 1 nodes into parent node.\n",
      "> Parent node id: 31cd681f-9491-411c-a0d5-71b1b46696a6.\n",
      "> Parent node text: PAGE 38Before we dive into the final chapter of this book, I’d like to address the serious matter...\n",
      "\n",
      "> Merging 1 nodes into parent node.\n",
      "> Parent node id: 44e7e753-0f59-4ac7-8f4a-b3fb98af7aac.\n",
      "> Parent node text: PAGE 37Overcoming Imposter \n",
      "SyndromeCHAPTER 11\n",
      "\n",
      "> Merging 1 nodes into parent node.\n",
      "> Parent node id: cec5920b-4382-4b9c-aeec-81ff77804d3e.\n",
      "> Parent node text: PAGE 39My three-year-old daughter (who can barely count to 12) regularly tries to teach things to...\n",
      "\n"
     ]
    },
    {
     "data": {
      "application/vnd.jupyter.widget-view+json": {
       "model_id": "a4a0cc30e148416d91e5c8c10cc923a1",
       "version_major": 2,
       "version_minor": 0
      },
      "text/plain": [
       "Groundedness per statement in source:   0%|          | 0/4 [00:00<?, ?it/s]"
      ]
     },
     "metadata": {},
     "output_type": "display_data"
    },
    {
     "name": "stdout",
     "output_type": "stream",
     "text": [
      "> Merging 3 nodes into parent node.\n",
      "> Parent node id: cc59cd85-d66e-45c5-a163-055d9fdc83bd.\n",
      "> Parent node text: PAGE 38Before we dive into the final chapter of this book, I’d like to address the serious matter...\n",
      "\n",
      "> Merging 1 nodes into parent node.\n",
      "> Parent node id: 74d9e735-77e4-473a-a257-f394cc0c7814.\n",
      "> Parent node text: PAGE 37Overcoming Imposter \n",
      "SyndromeCHAPTER 11\n",
      "\n",
      "> Merging 3 nodes into parent node.\n",
      "> Parent node id: 898b19bf-1814-426c-8bf7-4034793722df.\n",
      "> Parent node text: PAGE 39My three-year-old daughter (who can barely count to 12) regularly tries to teach things to...\n",
      "\n",
      "> Merging 1 nodes into parent node.\n",
      "> Parent node id: 31cd681f-9491-411c-a0d5-71b1b46696a6.\n",
      "> Parent node text: PAGE 38Before we dive into the final chapter of this book, I’d like to address the serious matter...\n",
      "\n",
      "> Merging 1 nodes into parent node.\n",
      "> Parent node id: 44e7e753-0f59-4ac7-8f4a-b3fb98af7aac.\n",
      "> Parent node text: PAGE 37Overcoming Imposter \n",
      "SyndromeCHAPTER 11\n",
      "\n",
      "> Merging 1 nodes into parent node.\n",
      "> Parent node id: cec5920b-4382-4b9c-aeec-81ff77804d3e.\n",
      "> Parent node text: PAGE 39My three-year-old daughter (who can barely count to 12) regularly tries to teach things to...\n",
      "\n"
     ]
    },
    {
     "data": {
      "application/vnd.jupyter.widget-view+json": {
       "model_id": "aaefcf5b3c794c8cb140ff00f5002b8a",
       "version_major": 2,
       "version_minor": 0
      },
      "text/plain": [
       "Groundedness per statement in source:   0%|          | 0/1 [00:00<?, ?it/s]"
      ]
     },
     "metadata": {},
     "output_type": "display_data"
    },
    {
     "data": {
      "application/vnd.jupyter.widget-view+json": {
       "model_id": "74f4efe4749b47069c5576e967719bc3",
       "version_major": 2,
       "version_minor": 0
      },
      "text/plain": [
       "Groundedness per statement in source:   0%|          | 0/1 [00:00<?, ?it/s]"
      ]
     },
     "metadata": {},
     "output_type": "display_data"
    },
    {
     "data": {
      "application/vnd.jupyter.widget-view+json": {
       "model_id": "b207da78eb2946858899b7628c416cda",
       "version_major": 2,
       "version_minor": 0
      },
      "text/plain": [
       "Groundedness per statement in source:   0%|          | 0/1 [00:00<?, ?it/s]"
      ]
     },
     "metadata": {},
     "output_type": "display_data"
    },
    {
     "name": "stdout",
     "output_type": "stream",
     "text": [
      "> Merging 3 nodes into parent node.\n",
      "> Parent node id: cc59cd85-d66e-45c5-a163-055d9fdc83bd.\n",
      "> Parent node text: PAGE 38Before we dive into the final chapter of this book, I’d like to address the serious matter...\n",
      "\n",
      "> Merging 1 nodes into parent node.\n",
      "> Parent node id: 31cd681f-9491-411c-a0d5-71b1b46696a6.\n",
      "> Parent node text: PAGE 38Before we dive into the final chapter of this book, I’d like to address the serious matter...\n",
      "\n"
     ]
    },
    {
     "data": {
      "application/vnd.jupyter.widget-view+json": {
       "model_id": "5deb3c0ce08943fea6ad5535e8cb89a8",
       "version_major": 2,
       "version_minor": 0
      },
      "text/plain": [
       "Groundedness per statement in source:   0%|          | 0/1 [00:00<?, ?it/s]"
      ]
     },
     "metadata": {},
     "output_type": "display_data"
    }
   ],
   "source": [
    "run_evals(eval_questions, tru_recorder, auto_merging_engine_1)"
   ]
  },
  {
   "cell_type": "code",
   "execution_count": 61,
   "metadata": {},
   "outputs": [
    {
     "data": {
      "text/html": [
       "<div>\n",
       "<style scoped>\n",
       "    .dataframe tbody tr th:only-of-type {\n",
       "        vertical-align: middle;\n",
       "    }\n",
       "\n",
       "    .dataframe tbody tr th {\n",
       "        vertical-align: top;\n",
       "    }\n",
       "\n",
       "    .dataframe thead th {\n",
       "        text-align: right;\n",
       "    }\n",
       "</style>\n",
       "<table border=\"1\" class=\"dataframe\">\n",
       "  <thead>\n",
       "    <tr style=\"text-align: right;\">\n",
       "      <th></th>\n",
       "      <th>Groundedness</th>\n",
       "      <th>Context Relevance</th>\n",
       "      <th>Answer Relevance</th>\n",
       "      <th>latency</th>\n",
       "      <th>total_cost</th>\n",
       "    </tr>\n",
       "    <tr>\n",
       "      <th>app_id</th>\n",
       "      <th></th>\n",
       "      <th></th>\n",
       "      <th></th>\n",
       "      <th></th>\n",
       "      <th></th>\n",
       "    </tr>\n",
       "  </thead>\n",
       "  <tbody>\n",
       "    <tr>\n",
       "      <th>app_0</th>\n",
       "      <td>0.927083</td>\n",
       "      <td>0.381667</td>\n",
       "      <td>0.890</td>\n",
       "      <td>11.8</td>\n",
       "      <td>0.003578</td>\n",
       "    </tr>\n",
       "    <tr>\n",
       "      <th>app_1</th>\n",
       "      <td>0.819444</td>\n",
       "      <td>0.428333</td>\n",
       "      <td>0.885</td>\n",
       "      <td>9.3</td>\n",
       "      <td>0.001568</td>\n",
       "    </tr>\n",
       "  </tbody>\n",
       "</table>\n",
       "</div>"
      ],
      "text/plain": [
       "        Groundedness  Context Relevance  Answer Relevance  latency  total_cost\n",
       "app_id                                                                        \n",
       "app_0       0.927083           0.381667             0.890     11.8    0.003578\n",
       "app_1       0.819444           0.428333             0.885      9.3    0.001568"
      ]
     },
     "execution_count": 61,
     "metadata": {},
     "output_type": "execute_result"
    }
   ],
   "source": [
    "from trulens_eval import Tru\n",
    "\n",
    "Tru().get_leaderboard(app_ids=[])"
   ]
  },
  {
   "cell_type": "code",
   "execution_count": 62,
   "metadata": {},
   "outputs": [
    {
     "name": "stdout",
     "output_type": "stream",
     "text": [
      "Starting dashboard ...\n",
      "Config file already exists. Skipping writing process.\n",
      "Credentials file already exists. Skipping writing process.\n"
     ]
    },
    {
     "data": {
      "application/vnd.jupyter.widget-view+json": {
       "model_id": "0cf05bfa667c42e790bac9df57545e2d",
       "version_major": 2,
       "version_minor": 0
      },
      "text/plain": [
       "Accordion(children=(VBox(children=(VBox(children=(Label(value='STDOUT'), Output())), VBox(children=(Label(valu…"
      ]
     },
     "metadata": {},
     "output_type": "display_data"
    },
    {
     "name": "stdout",
     "output_type": "stream",
     "text": [
      "Dashboard started at http://192.168.0.103:8501 .\n"
     ]
    },
    {
     "data": {
      "text/plain": [
       "<Popen: returncode: None args: ['streamlit', 'run', '--server.headless=True'...>"
      ]
     },
     "execution_count": 62,
     "metadata": {},
     "output_type": "execute_result"
    }
   ],
   "source": [
    "Tru().run_dashboard()"
   ]
  }
 ],
 "metadata": {
  "kernelspec": {
   "display_name": "Rag",
   "language": "python",
   "name": "python3"
  },
  "language_info": {
   "codemirror_mode": {
    "name": "ipython",
    "version": 3
   },
   "file_extension": ".py",
   "mimetype": "text/x-python",
   "name": "python",
   "nbconvert_exporter": "python",
   "pygments_lexer": "ipython3",
   "version": "3.9.19"
  }
 },
 "nbformat": 4,
 "nbformat_minor": 2
}
